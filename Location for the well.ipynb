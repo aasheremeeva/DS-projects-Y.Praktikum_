{
 "cells": [
  {
   "cell_type": "markdown",
   "metadata": {},
   "source": [
    "# Location for the well"
   ]
  },
  {
   "cell_type": "markdown",
   "metadata": {},
   "source": [
    "## Introduction"
   ]
  },
  {
   "cell_type": "markdown",
   "metadata": {},
   "source": [
    "The mining company needs to decide where to drill a new well.\n",
    "\n",
    "Oil samples were provided in three regions: in each 10,000 fields, where the quality of oil and the volume of its reserves were measured. \n",
    "\n",
    "* During the exploration of the region, 500 points are explored, from which 200 best ones are selected for development using machine learning.\n",
    "* The budget for the development of wells in the region is 10 billion dollars.\n",
    "* At current prices, one barrel of raw materials brings 450 dollars of income. The income from each unit of the product is 450 thousand dollars, since the volume is indicated in thousands of barrels.\n",
    "* After the risk assessment, it is necessary to leave only those regions in which the probability of losses is less than 2.5%. Among them, the region with the highest average profit is chosen."
   ]
  },
  {
   "cell_type": "markdown",
   "metadata": {},
   "source": [
    "**Project objective**"
   ]
  },
  {
   "cell_type": "markdown",
   "metadata": {},
   "source": [
    "Build a machine learning model that will help determine the region where mining will bring the greatest profit."
   ]
  },
  {
   "cell_type": "markdown",
   "metadata": {},
   "source": [
    "**Data description**"
   ]
  },
  {
   "cell_type": "markdown",
   "metadata": {},
   "source": [
    "* `/datasets/geo_data_0.csv.` – data for region 1;\n",
    "* `/datasets/geo_data_1.csv.` – data for region 2;\n",
    "* `/datasets/geo_data_2.csv.` – data for region 3;\n",
    "* `id` — unique well ID;\n",
    "* `f0`, `f1`, `f2` — three characteristics of the points;\n",
    "* `product` — the volume of reserves in the well (thousand barrels)."
   ]
  },
  {
   "cell_type": "markdown",
   "metadata": {},
   "source": [
    "**Table of content**"
   ]
  },
  {
   "cell_type": "markdown",
   "metadata": {},
   "source": [
    "1. Data research and preprocession\n",
    "2. Model training and validation\n",
    "3. Preparation for profit calculation\n",
    "4. Calculation of profit and risks \n",
    "5. Conclusion"
   ]
  },
  {
   "cell_type": "markdown",
   "metadata": {},
   "source": [
    "## Data research and preprocession"
   ]
  },
  {
   "cell_type": "markdown",
   "metadata": {},
   "source": [
    "Uploading all the necessary libraries:"
   ]
  },
  {
   "cell_type": "code",
   "execution_count": 1,
   "metadata": {},
   "outputs": [],
   "source": [
    "import pandas as pd\n",
    "import numpy as np\n",
    "import matplotlib.pyplot as plt\n",
    "from IPython.display import display\n",
    "import seaborn as sns\n",
    "from sklearn.model_selection import train_test_split\n",
    "from sklearn.preprocessing import StandardScaler\n",
    "from sklearn.metrics import mean_squared_error\n",
    "import math\n",
    "import matplotlib.pyplot as plt\n",
    "import seaborn as sns \n",
    "\n",
    "from sklearn.linear_model import LinearRegression"
   ]
  },
  {
   "cell_type": "markdown",
   "metadata": {},
   "source": [
    "Uploading all three datasets:"
   ]
  },
  {
   "cell_type": "code",
   "execution_count": 5,
   "metadata": {},
   "outputs": [],
   "source": [
    "geo_data_0 = pd.read_csv('/Users/aasheremeeva/Desktop/All DS Projects/location for the well/geo_data_0.csv')\n",
    "geo_data_1 = pd.read_csv('/Users/aasheremeeva/Desktop/All DS Projects/location for the well/geo_data_1.csv')\n",
    "geo_data_2 = pd.read_csv('/Users/aasheremeeva/Desktop/All DS Projects/location for the well/geo_data_2.csv')"
   ]
  },
  {
   "cell_type": "markdown",
   "metadata": {},
   "source": [
    "### Data type"
   ]
  },
  {
   "cell_type": "markdown",
   "metadata": {},
   "source": [
    "Getting general information about analyzed data:"
   ]
  },
  {
   "cell_type": "code",
   "execution_count": 6,
   "metadata": {},
   "outputs": [],
   "source": [
    "def general(data):\n",
    "    print(data)\n",
    "    data.head(15)\n",
    "    print(data[['f0','f1','f2']].hist())"
   ]
  },
  {
   "cell_type": "code",
   "execution_count": 7,
   "metadata": {},
   "outputs": [
    {
     "name": "stdout",
     "output_type": "stream",
     "text": [
      "          id        f0        f1        f2     product\n",
      "0      txEyH  0.705745 -0.497823  1.221170  105.280062\n",
      "1      2acmU  1.334711 -0.340164  4.365080   73.037750\n",
      "2      409Wp  1.022732  0.151990  1.419926   85.265647\n",
      "3      iJLyR -0.032172  0.139033  2.978566  168.620776\n",
      "4      Xdl7t  1.988431  0.155413  4.751769  154.036647\n",
      "...      ...       ...       ...       ...         ...\n",
      "99995  DLsed  0.971957  0.370953  6.075346  110.744026\n",
      "99996  QKivN  1.392429 -0.382606  1.273912  122.346843\n",
      "99997  3rnvd  1.029585  0.018787 -1.348308   64.375443\n",
      "99998  7kl59  0.998163 -0.528582  1.583869   74.040764\n",
      "99999  1CWhH  1.764754 -0.266417  5.722849  149.633246\n",
      "\n",
      "[100000 rows x 5 columns]\n",
      "[[<Axes: title={'center': 'f0'}> <Axes: title={'center': 'f1'}>]\n",
      " [<Axes: title={'center': 'f2'}> <Axes: >]]\n"
     ]
    },
    {
     "data": {
      "image/png": "[encoded data removed]",
      "text/plain": [
       "<Figure size 640x480 with 4 Axes>"
      ]
     },
     "metadata": {},
     "output_type": "display_data"
    }
   ],
   "source": [
    "#region_1\n",
    "general(geo_data_0)"
   ]
  },
  {
   "cell_type": "code",
   "execution_count": 8,
   "metadata": {},
   "outputs": [
    {
     "name": "stdout",
     "output_type": "stream",
     "text": [
      "          id         f0         f1        f2     product\n",
      "0      kBEdx -15.001348  -8.276000 -0.005876    3.179103\n",
      "1      62mP7  14.272088  -3.475083  0.999183   26.953261\n",
      "2      vyE1P   6.263187  -5.948386  5.001160  134.766305\n",
      "3      KcrkZ -13.081196 -11.506057  4.999415  137.945408\n",
      "4      AHL4O  12.702195  -8.147433  5.004363  134.766305\n",
      "...      ...        ...        ...       ...         ...\n",
      "99995  QywKC   9.535637  -6.878139  1.998296   53.906522\n",
      "99996  ptvty -10.160631 -12.558096  5.005581  137.945408\n",
      "99997  09gWa  -7.378891  -3.084104  4.998651  137.945408\n",
      "99998  rqwUm   0.665714  -6.152593  1.000146   30.132364\n",
      "99999  relB0  -3.426139  -7.794274 -0.003299    3.179103\n",
      "\n",
      "[100000 rows x 5 columns]\n",
      "[[<Axes: title={'center': 'f0'}> <Axes: title={'center': 'f1'}>]\n",
      " [<Axes: title={'center': 'f2'}> <Axes: >]]\n"
     ]
    },
    {
     "data": {
      "image/png": "[encoded data removed]",
      "text/plain": [
       "<Figure size 640x480 with 4 Axes>"
      ]
     },
     "metadata": {},
     "output_type": "display_data"
    }
   ],
   "source": [
    "#region_2\n",
    "general(geo_data_1)"
   ]
  },
  {
   "cell_type": "code",
   "execution_count": 9,
   "metadata": {},
   "outputs": [
    {
     "name": "stdout",
     "output_type": "stream",
     "text": [
      "          id        f0        f1        f2     product\n",
      "0      fwXo0 -1.146987  0.963328 -0.828965   27.758673\n",
      "1      WJtFt  0.262778  0.269839 -2.530187   56.069697\n",
      "2      ovLUW  0.194587  0.289035 -5.586433   62.871910\n",
      "3      q6cA6  2.236060 -0.553760  0.930038  114.572842\n",
      "4      WPMUX -0.515993  1.716266  5.899011  149.600746\n",
      "...      ...       ...       ...       ...         ...\n",
      "99995  4GxBu -1.777037  1.125220  6.263374  172.327046\n",
      "99996  YKFjq -1.261523 -0.894828  2.524545  138.748846\n",
      "99997  tKPY3 -1.199934 -2.957637  5.219411  157.080080\n",
      "99998  nmxp2 -2.419896  2.417221 -5.548444   51.795253\n",
      "99999  V9kWn -2.551421 -2.025625  6.090891  102.775767\n",
      "\n",
      "[100000 rows x 5 columns]\n",
      "[[<Axes: title={'center': 'f0'}> <Axes: title={'center': 'f1'}>]\n",
      " [<Axes: title={'center': 'f2'}> <Axes: >]]\n"
     ]
    },
    {
     "data": {
      "image/png": "[encoded data removed]",
      "text/plain": [
       "<Figure size 640x480 with 4 Axes>"
      ]
     },
     "metadata": {},
     "output_type": "display_data"
    }
   ],
   "source": [
    "#region_3\n",
    "general(geo_data_2)"
   ]
  },
  {
   "cell_type": "markdown",
   "metadata": {},
   "source": [
    "All the variables have relevant types of data."
   ]
  },
  {
   "cell_type": "markdown",
   "metadata": {},
   "source": [
    "### Missing data"
   ]
  },
  {
   "cell_type": "markdown",
   "metadata": {},
   "source": [
    "Checking the data for missing variables:"
   ]
  },
  {
   "cell_type": "code",
   "execution_count": 10,
   "metadata": {},
   "outputs": [
    {
     "name": "stdout",
     "output_type": "stream",
     "text": [
      "Region 1:\n",
      "id         0\n",
      "f0         0\n",
      "f1         0\n",
      "f2         0\n",
      "product    0\n",
      "dtype: int64\n",
      "\n",
      "Region 2:\n",
      "id         0\n",
      "f0         0\n",
      "f1         0\n",
      "f2         0\n",
      "product    0\n",
      "dtype: int64\n",
      "\n",
      "Region 3:\n",
      "id         0\n",
      "f0         0\n",
      "f1         0\n",
      "f2         0\n",
      "product    0\n",
      "dtype: int64\n"
     ]
    }
   ],
   "source": [
    "print('Region 1:')\n",
    "print(geo_data_0.isna().sum())\n",
    "print()\n",
    "print('Region 2:')\n",
    "print(geo_data_1.isna().sum())\n",
    "print()\n",
    "print('Region 3:')\n",
    "print(geo_data_2.isna().sum())"
   ]
  },
  {
   "cell_type": "markdown",
   "metadata": {},
   "source": [
    "### Dublicates"
   ]
  },
  {
   "cell_type": "markdown",
   "metadata": {},
   "source": [
    "There are no missing values in the data. \n",
    "Checking them for dublicates:"
   ]
  },
  {
   "cell_type": "code",
   "execution_count": 11,
   "metadata": {},
   "outputs": [
    {
     "name": "stdout",
     "output_type": "stream",
     "text": [
      "Region 1: 0\n",
      "Region 2: 0\n",
      "Region 3: 0\n"
     ]
    }
   ],
   "source": [
    "print('Region 1:', geo_data_0.duplicated().sum())\n",
    "print('Region 2:', geo_data_1.duplicated().sum())\n",
    "print('Region 3:', geo_data_2.duplicated().sum())"
   ]
  },
  {
   "cell_type": "markdown",
   "metadata": {},
   "source": [
    "There are no dublicates in the data."
   ]
  },
  {
   "cell_type": "markdown",
   "metadata": {},
   "source": [
    "Checking the number of zero variables in the dependent variable:"
   ]
  },
  {
   "cell_type": "code",
   "execution_count": 12,
   "metadata": {},
   "outputs": [],
   "source": [
    "def zeroes_check(data):\n",
    "    zeroes_total = data[data['product'] == 0]['product'].count()\n",
    "    return zeroes_total"
   ]
  },
  {
   "cell_type": "code",
   "execution_count": 13,
   "metadata": {},
   "outputs": [
    {
     "name": "stdout",
     "output_type": "stream",
     "text": [
      "# of zero values in region 1: 1\n",
      "# of zero values in region 2: 8235\n",
      "# of zero values in region 3: 1\n"
     ]
    }
   ],
   "source": [
    "print('# of zero values in region 1:',zeroes_check(geo_data_0))\n",
    "print('# of zero values in region 2:',zeroes_check(geo_data_1))\n",
    "print('# of zero values in region 3:',zeroes_check(geo_data_2))"
   ]
  },
  {
   "cell_type": "code",
   "execution_count": 14,
   "metadata": {},
   "outputs": [
    {
     "name": "stdout",
     "output_type": "stream",
     "text": [
      "        id         f0         f1        f2  product\n",
      "11   OXyvW  16.320755  -0.562946 -0.001783      0.0\n",
      "13   igmai   6.695604  -0.749449 -0.007630      0.0\n",
      "62   Qjy5w  21.418478  -5.134490 -0.002836      0.0\n",
      "63   G6WCj   6.822701   3.104979 -0.000723      0.0\n",
      "77   MzQhL   6.750150 -11.893512 -0.001601      0.0\n",
      "81   gdvra  -3.246882  -7.979657  0.009027      0.0\n",
      "82   VHp5v  15.363643  -6.456659  0.004302      0.0\n",
      "83   dm9rM  13.494965  -0.543358  0.001352      0.0\n",
      "127  6az0U  13.951600  -5.077510 -0.005232      0.0\n",
      "128  iDXiz   6.820803   5.220184 -0.007179      0.0\n",
      "\n",
      "Share of zero values: 0.08\n"
     ]
    }
   ],
   "source": [
    "print(geo_data_1[geo_data_1['product'] == 0].head(10))\n",
    "print()\n",
    "zeroes_share = (zeroes_check(geo_data_1) / len(geo_data_1['product'])).round(2)\n",
    "print('Share of zero values:', zeroes_share)"
   ]
  },
  {
   "cell_type": "markdown",
   "metadata": {},
   "source": [
    "There are more than 8k zero values of the product parameter, but their share is 0.08. We will keep this in mind when further working with the data."
   ]
  },
  {
   "cell_type": "markdown",
   "metadata": {},
   "source": [
    "### Correlation"
   ]
  },
  {
   "cell_type": "markdown",
   "metadata": {},
   "source": [
    "Checking the data for any correlation in the raw data:"
   ]
  },
  {
   "cell_type": "code",
   "execution_count": 15,
   "metadata": {},
   "outputs": [],
   "source": [
    "def cor_check(data):\n",
    "    correl = data.corr()\n",
    "    df_plot = sns.heatmap(correl, annot=True)\n",
    "    \n",
    "    print(correl)\n",
    "    print(df_plot)"
   ]
  },
  {
   "cell_type": "code",
   "execution_count": 16,
   "metadata": {},
   "outputs": [
    {
     "name": "stdout",
     "output_type": "stream",
     "text": [
      "               f0        f1        f2   product\n",
      "f0       1.000000 -0.440723 -0.003153  0.143536\n",
      "f1      -0.440723  1.000000  0.001724 -0.192356\n",
      "f2      -0.003153  0.001724  1.000000  0.483663\n",
      "product  0.143536 -0.192356  0.483663  1.000000\n",
      "Axes(0.125,0.11;0.62x0.77)\n"
     ]
    },
    {
     "name": "stderr",
     "output_type": "stream",
     "text": [
      "/var/folders/s9/2dhk92k53t10g5010dcth9r80000gn/T/ipykernel_90450/1169630245.py:2: FutureWarning: The default value of numeric_only in DataFrame.corr is deprecated. In a future version, it will default to False. Select only valid columns or specify the value of numeric_only to silence this warning.\n",
      "  correl = data.corr()\n"
     ]
    },
    {
     "data": {
      "image/png": "[encoded data removed]",
      "text/plain": [
       "<Figure size 640x480 with 2 Axes>"
      ]
     },
     "metadata": {},
     "output_type": "display_data"
    }
   ],
   "source": [
    "cor_check(geo_data_0)"
   ]
  },
  {
   "cell_type": "code",
   "execution_count": 17,
   "metadata": {},
   "outputs": [
    {
     "name": "stdout",
     "output_type": "stream",
     "text": [
      "               f0        f1        f2   product\n",
      "f0       1.000000  0.182287 -0.001777 -0.030491\n",
      "f1       0.182287  1.000000 -0.002595 -0.010155\n",
      "f2      -0.001777 -0.002595  1.000000  0.999397\n",
      "product -0.030491 -0.010155  0.999397  1.000000\n",
      "Axes(0.125,0.11;0.62x0.77)\n"
     ]
    },
    {
     "name": "stderr",
     "output_type": "stream",
     "text": [
      "/var/folders/s9/2dhk92k53t10g5010dcth9r80000gn/T/ipykernel_90450/1169630245.py:2: FutureWarning: The default value of numeric_only in DataFrame.corr is deprecated. In a future version, it will default to False. Select only valid columns or specify the value of numeric_only to silence this warning.\n",
      "  correl = data.corr()\n"
     ]
    },
    {
     "data": {
      "image/png": "[encoded data removed]",
      "text/plain": [
       "<Figure size 640x480 with 2 Axes>"
      ]
     },
     "metadata": {},
     "output_type": "display_data"
    }
   ],
   "source": [
    "cor_check(geo_data_1)"
   ]
  },
  {
   "cell_type": "code",
   "execution_count": 18,
   "metadata": {},
   "outputs": [
    {
     "name": "stdout",
     "output_type": "stream",
     "text": [
      "               f0        f1        f2   product\n",
      "f0       1.000000  0.000528 -0.000448 -0.001987\n",
      "f1       0.000528  1.000000  0.000779 -0.001012\n",
      "f2      -0.000448  0.000779  1.000000  0.445871\n",
      "product -0.001987 -0.001012  0.445871  1.000000\n",
      "Axes(0.125,0.11;0.62x0.77)\n"
     ]
    },
    {
     "name": "stderr",
     "output_type": "stream",
     "text": [
      "/var/folders/s9/2dhk92k53t10g5010dcth9r80000gn/T/ipykernel_90450/1169630245.py:2: FutureWarning: The default value of numeric_only in DataFrame.corr is deprecated. In a future version, it will default to False. Select only valid columns or specify the value of numeric_only to silence this warning.\n",
      "  correl = data.corr()\n"
     ]
    },
    {
     "data": {
      "image/png": "[encoded data removed]",
      "text/plain": [
       "<Figure size 640x480 with 2 Axes>"
      ]
     },
     "metadata": {},
     "output_type": "display_data"
    }
   ],
   "source": [
    "cor_check(geo_data_2)"
   ]
  },
  {
   "cell_type": "markdown",
   "metadata": {},
   "source": [
    "There are no any significant correlation among dependent and indepentent variables."
   ]
  },
  {
   "cell_type": "markdown",
   "metadata": {},
   "source": [
    "### Conclusion"
   ]
  },
  {
   "cell_type": "markdown",
   "metadata": {},
   "source": [
    "The data in all three datasets are checked for relevant data types, there are no omissions and obvious duplicates in the data, we can safely start building models."
   ]
  },
  {
   "cell_type": "markdown",
   "metadata": {},
   "source": [
    "## Model training and validation"
   ]
  },
  {
   "cell_type": "markdown",
   "metadata": {},
   "source": [
    "### Samples preparation"
   ]
  },
  {
   "cell_type": "markdown",
   "metadata": {},
   "source": [
    "Dividing each dataset into features and predicted parameters before training the model:"
   ]
  },
  {
   "cell_type": "code",
   "execution_count": 19,
   "metadata": {},
   "outputs": [],
   "source": [
    "#region_1\n",
    "X_0 = geo_data_0.drop(['product'],axis=1)\n",
    "y_0 = geo_data_0['product']\n",
    "\n",
    "#region_2\n",
    "X_1 = geo_data_1.drop(['product'],axis=1)\n",
    "y_1 = geo_data_1['product']\n",
    "\n",
    "#region_3\n",
    "X_2 = geo_data_2.drop(['product'],axis=1)\n",
    "y_2 = geo_data_2['product']"
   ]
  },
  {
   "cell_type": "markdown",
   "metadata": {},
   "source": [
    "Splitting the data into training and validation samples in the proportion of 75 vs 25."
   ]
  },
  {
   "cell_type": "code",
   "execution_count": 20,
   "metadata": {},
   "outputs": [
    {
     "name": "stdout",
     "output_type": "stream",
     "text": [
      "(75000, 4)\n",
      "(25000, 4)\n",
      "(75000,)\n",
      "(25000,)\n",
      "\n",
      "(75000, 4)\n",
      "(25000, 4)\n",
      "(75000,)\n",
      "(25000,)\n",
      "\n",
      "(75000, 4)\n",
      "(25000, 4)\n",
      "(75000,)\n",
      "(25000,)\n"
     ]
    }
   ],
   "source": [
    "#region_1\n",
    "X_0_train, X_0_valid, y_0_train, y_0_valid = train_test_split(X_0, y_0, test_size=0.25, shuffle = True, random_state = 42)\n",
    "\n",
    "print(X_0_train.shape)\n",
    "print(X_0_valid.shape)\n",
    "\n",
    "print(y_0_train.shape)\n",
    "print(y_0_valid.shape)\n",
    "\n",
    "print()\n",
    "#region_2\n",
    "X_1_train, X_1_valid, y_1_train, y_1_valid = train_test_split(X_1, y_1, test_size=0.25, shuffle = True, random_state = 42)\n",
    "\n",
    "print(X_1_train.shape)\n",
    "print(X_1_valid.shape)\n",
    "\n",
    "print(y_1_train.shape)\n",
    "print(y_1_valid.shape)\n",
    "\n",
    "print()\n",
    "#region_3\n",
    "X_2_train, X_2_valid, y_2_train, y_2_valid = train_test_split(X_2, y_2, test_size=0.25, shuffle = True, random_state = 42)\n",
    "\n",
    "print(X_1_train.shape)\n",
    "print(X_1_valid.shape)\n",
    "\n",
    "print(y_1_train.shape)\n",
    "print(y_1_valid.shape)"
   ]
  },
  {
   "cell_type": "markdown",
   "metadata": {},
   "source": [
    "### Variables standartization"
   ]
  },
  {
   "cell_type": "code",
   "execution_count": 26,
   "metadata": {},
   "outputs": [],
   "source": [
    "# def standartization(data_train, data_valid):\n",
    "#     parameters=['f0', 'f1', 'f2']\n",
    "#     scaler = StandardScaler()\n",
    "#     scaler.fit(data_train[parameters])\n",
    "    \n",
    "#     data_train[parameters]=scaler.transform(data_train[parameters])\n",
    "#     data_train_scaled=pd.DataFrame(data_train[parameters], columns = parameters, index = data_train.index)\n",
    "    \n",
    "#     data_valid[parameters]=scaler.transform(data_valid[parameters])\n",
    "#     data_valid_scaled = pd.DataFrame(data_valid[parameters], columns = parameters, index = data_valid.index)\n",
    "\n",
    "#     print(data_train_scaled)\n",
    "#     print(data_valid_scaled)\n",
    "    \n",
    "#     data_train_scaled\n",
    "#     data_valid_scaled"
   ]
  },
  {
   "cell_type": "code",
   "execution_count": 31,
   "metadata": {},
   "outputs": [
    {
     "name": "stdout",
     "output_type": "stream",
     "text": [
      "             f0        f1        f2\n",
      "98980  1.274786 -0.799739 -0.396677\n",
      "69824 -1.600689  0.234678 -2.169283\n",
      "9928  -0.323791  1.436297  1.495425\n",
      "75599  0.439038  0.830679  0.185881\n",
      "95621 -1.652805  0.761012  0.111734\n",
      "...         ...       ...       ...\n",
      "6265   1.291452 -0.712129  0.135573\n",
      "54886  1.355542 -0.882161 -1.134411\n",
      "76820  0.549229 -1.591632  0.119090\n",
      "860    0.175176 -1.459344  1.429524\n",
      "15795  1.029803 -1.420625 -0.149459\n",
      "\n",
      "[75000 rows x 3 columns]\n",
      "             f0        f1        f2\n",
      "75721  0.113830 -1.605391 -0.119836\n",
      "80184  0.274030 -1.417818 -1.187407\n",
      "19864  1.057896 -1.560307  0.371855\n",
      "76699  1.238466 -0.971658  0.090665\n",
      "92991  0.480343 -0.450600  0.027088\n",
      "...         ...       ...       ...\n",
      "21271  0.291949 -1.515226  0.030842\n",
      "34014 -0.644370  0.528145 -0.552783\n",
      "81355  0.107509 -1.342572 -0.934248\n",
      "65720 -0.345986  0.403163 -0.311768\n",
      "11627 -0.856089  1.513279  0.667150\n",
      "\n",
      "[25000 rows x 3 columns]\n"
     ]
    }
   ],
   "source": [
    "#region_1\n",
    "parameters=['f0', 'f1', 'f2']\n",
    "scaler = StandardScaler()\n",
    "scaler.fit(X_0_train[parameters])\n",
    "\n",
    "X_0_train[parameters]=scaler.transform(X_0_train[parameters])\n",
    "X_0_train_scaled = pd.DataFrame(X_0_train[parameters], columns = parameters, index = X_0_train.index)\n",
    "\n",
    "X_0_valid[parameters]=scaler.transform(X_0_valid[parameters])\n",
    "X_0_valid_scaled = pd.DataFrame(X_0_valid[parameters], columns = parameters, index = X_0_valid.index)\n",
    "\n",
    "print(X_0_train_scaled)\n",
    "print(X_0_valid_scaled)"
   ]
  },
  {
   "cell_type": "code",
   "execution_count": 32,
   "metadata": {},
   "outputs": [
    {
     "name": "stdout",
     "output_type": "stream",
     "text": [
      "             f0        f1        f2\n",
      "98980  0.911229  0.063780 -0.291331\n",
      "69824  1.640885  1.320793  1.463778\n",
      "9928  -0.303818  0.859595  0.297952\n",
      "75599  1.250304 -0.332629 -0.290244\n",
      "95621 -0.678630 -0.629111 -0.877242\n",
      "...         ...       ...       ...\n",
      "6265  -1.140795 -1.002097 -0.879911\n",
      "54886  0.152004  0.240185  0.885308\n",
      "76820  1.148086  1.645749 -0.879260\n",
      "860   -0.372035 -0.273312 -1.460326\n",
      "15795  0.950361  0.148686  1.464975\n",
      "\n",
      "[75000 rows x 3 columns]\n",
      "             f0        f1        f2\n",
      "75721  0.552191  0.955717 -1.463414\n",
      "80184  1.710676  1.469288 -0.295155\n",
      "19864  0.660832  1.089057  1.464310\n",
      "76699 -0.152665  0.864785  0.882843\n",
      "92991  1.363467 -0.733052 -1.463970\n",
      "...         ...       ...       ...\n",
      "21271  0.782380  0.776593  0.884183\n",
      "34014  1.726224 -0.651563 -0.284975\n",
      "81355  1.511249 -0.161641 -0.875658\n",
      "65720 -0.279964 -0.128495  0.883991\n",
      "11627  0.810205  0.395430  1.474231\n",
      "\n",
      "[25000 rows x 3 columns]\n"
     ]
    }
   ],
   "source": [
    "#region_2\n",
    "parameters_1=['f0', 'f1', 'f2']\n",
    "scaler = StandardScaler()\n",
    "scaler.fit(X_1_train[parameters_1])\n",
    "\n",
    "X_1_train[parameters_1]=scaler.transform(X_1_train[parameters_1])\n",
    "X_1_train_scaled = pd.DataFrame(X_1_train[parameters_1], columns = parameters_1, index = X_1_train.index)\n",
    "\n",
    "X_1_valid[parameters_1]=scaler.transform(X_1_valid[parameters_1])\n",
    "X_1_valid_scaled = pd.DataFrame(X_1_valid[parameters_1], columns = parameters_1, index = X_1_valid.index)\n",
    "\n",
    "print(X_1_train_scaled)\n",
    "print(X_1_valid_scaled)"
   ]
  },
  {
   "cell_type": "code",
   "execution_count": 33,
   "metadata": {},
   "outputs": [
    {
     "name": "stdout",
     "output_type": "stream",
     "text": [
      "             f0        f1        f2\n",
      "98980 -0.343864 -1.338311  0.817572\n",
      "69824 -0.400431  0.993613 -1.102974\n",
      "9928   1.004849 -0.923485 -0.576264\n",
      "75599 -0.784031  0.571573  0.914886\n",
      "95621  0.619771  0.681588 -0.429467\n",
      "...         ...       ...       ...\n",
      "6265  -1.065848  0.001242 -0.453401\n",
      "54886  0.044436  0.624649  0.362074\n",
      "76820 -1.321785  0.869697 -1.022513\n",
      "860   -0.836921 -1.246740  0.239293\n",
      "15795  0.796969  1.396468  0.998500\n",
      "\n",
      "[75000 rows x 3 columns]\n",
      "             f0        f1        f2\n",
      "75721  1.218275 -0.966868  0.175298\n",
      "80184  0.423146  0.434841  0.336007\n",
      "19864 -1.453162  0.490760 -2.136247\n",
      "76699 -1.177130 -0.876338  0.739322\n",
      "92991  1.583978  0.828733 -1.114918\n",
      "...         ...       ...       ...\n",
      "21271 -0.886762  0.213996  0.384785\n",
      "34014  0.796624  0.677797 -0.069224\n",
      "81355  1.675453  0.487626 -1.530632\n",
      "65720  0.542924 -0.819551 -0.556756\n",
      "11627  0.585518 -0.920905 -0.416771\n",
      "\n",
      "[25000 rows x 3 columns]\n"
     ]
    }
   ],
   "source": [
    "#region_3\n",
    "parameters_2 = ['f0', 'f1', 'f2']\n",
    "scaler = StandardScaler()\n",
    "scaler.fit(X_2_train[parameters_2])\n",
    "\n",
    "X_2_train[parameters_2]=scaler.transform(X_2_train[parameters_2])\n",
    "X_2_train_scaled = pd.DataFrame(X_2_train[parameters_2], columns = parameters_2, index = X_2_train.index)\n",
    "\n",
    "X_2_valid[parameters_2]=scaler.transform(X_2_valid[parameters_2])\n",
    "X_2_valid_scaled = pd.DataFrame(X_2_valid[parameters_2], columns = parameters_2, index = X_2_valid.index)\n",
    "\n",
    "print(X_2_train_scaled)\n",
    "print(X_2_valid_scaled)"
   ]
  },
  {
   "cell_type": "markdown",
   "metadata": {},
   "source": [
    "<div class=\"alert alert-info\">\n",
    "<font size=\"4\">🍕<b> Комментарий ревьюера</b></font>\n",
    "    <br /> \n",
    "    <font size=\"3\", color = \"black\">\n",
    "<br /> \n",
    "Стоит оформлять код в виде функций. Весь проект по сути - проделывание одних и тех же операций с разными датасетами. Сейчас их 3, а в реальном проекте может быть 50 и вообще сколько угодно. Оформление повторяющихся кусков кода в виде функции в принципе является следствием важного принципа разработки: DRY (don't repeat yourself). И делает код намного более легко поддерживаемым: если в обработке данных что-то поменялось, то это надо в коде поменять один раз, а не столько, сколько датасетов.<br>\n",
    "\n",
    "Аналогично с логикой почему повторяющийся код стоит оформлять в функции, константные значения, которые повторяются в коде в нескольких местах, такие как random state или test size, стоит заносить в переменные. Представь ты сделал работу по анализу 50 регионов, а потом заказчик попросил поменять размер теста с 0.25 на 0.3, решив, что оценка на 0.25 недостаточно точная. Менять число в 50 местах кода - куда хуже, чем в начале кода поменять TEST_SIZE = 0.25 на TEST_SIZE = 0.3. Код становится намного легче поддерживать, говоря профессиональным языком."
   ]
  },
  {
   "cell_type": "markdown",
   "metadata": {},
   "source": [
    "### Training the model"
   ]
  },
  {
   "cell_type": "markdown",
   "metadata": {},
   "source": [
    "Linear model:"
   ]
  },
  {
   "cell_type": "code",
   "execution_count": 34,
   "metadata": {},
   "outputs": [
    {
     "name": "stdout",
     "output_type": "stream",
     "text": [
      "Root Mean Square Error:\n",
      "37.75660035026169\n",
      "\n",
      "Average stock of predicted raw materials in region 1:\n",
      "92.4\n"
     ]
    }
   ],
   "source": [
    "#region_1\n",
    "model_0 = LinearRegression()\n",
    "model_0.fit(X_0_train_scaled, y_0_train)\n",
    "predicted_valid_0 = model_0.predict(X_0_valid_scaled)\n",
    "\n",
    "MSE_0 = mean_squared_error(y_0_valid, predicted_valid_0)\n",
    " \n",
    "RMSE_0 = math.sqrt(MSE_0)\n",
    "\n",
    "print(\"Root Mean Square Error:\")\n",
    "print(RMSE_0)\n",
    "print()\n",
    "print(\"Average stock of predicted raw materials in region 1:\")\n",
    "print(predicted_valid_0.mean().round(2))"
   ]
  },
  {
   "cell_type": "code",
   "execution_count": 35,
   "metadata": {},
   "outputs": [
    {
     "name": "stdout",
     "output_type": "stream",
     "text": [
      "Root Mean Square Error:\n",
      "0.8902801001028847\n",
      "\n",
      "Average stock of predicted raw materials in region 2:\n",
      "68.71\n"
     ]
    }
   ],
   "source": [
    "#region_2\n",
    "model_1 = LinearRegression()\n",
    "model_1.fit(X_1_train_scaled, y_1_train)\n",
    "predicted_valid_1 = model_1.predict(X_1_valid_scaled)\n",
    "\n",
    "MSE_1 = mean_squared_error(y_1_valid, predicted_valid_1)\n",
    " \n",
    "RMSE_1 = math.sqrt(MSE_1)\n",
    "\n",
    "print(\"Root Mean Square Error:\")\n",
    "print(RMSE_1)\n",
    "print()\n",
    "print(\"Average stock of predicted raw materials in region 2:\")\n",
    "print(predicted_valid_1.mean().round(2))"
   ]
  },
  {
   "cell_type": "code",
   "execution_count": 36,
   "metadata": {},
   "outputs": [
    {
     "name": "stdout",
     "output_type": "stream",
     "text": [
      "Root Mean Square Error:\n",
      "40.14587231134218\n",
      "\n",
      "Average stock of predicted raw materials in region 3:\n",
      "94.77\n"
     ]
    }
   ],
   "source": [
    "#region_3\n",
    "model_2 = LinearRegression()\n",
    "model_2.fit(X_2_train_scaled, y_2_train)\n",
    "predicted_valid_2 = model_2.predict(X_2_valid_scaled)\n",
    "\n",
    "MSE_2 = mean_squared_error(y_2_valid, predicted_valid_2)\n",
    " \n",
    "RMSE_2 = math.sqrt(MSE_2)\n",
    "\n",
    "print(\"Root Mean Square Error:\")\n",
    "print(RMSE_2)\n",
    "print()\n",
    "print(\"Average stock of predicted raw materials in region 3:\")\n",
    "print(predicted_valid_2.mean().round(2))"
   ]
  },
  {
   "cell_type": "markdown",
   "metadata": {},
   "source": [
    "### Conclusion"
   ]
  },
  {
   "cell_type": "markdown",
   "metadata": {},
   "source": [
    "As a result of constructing three linear models, the smallest RMSE is observed for the second region (0.89). The second and third places were occupied by the first and third regions, respectively. \n",
    "At the same time, the smallest average stock of predicted raw materials is observed for 2 regions, which casts doubt on its leadership. Final decisions will be made based on subsequent calculations of profits and risks using the Bootstrap method."
   ]
  },
  {
   "cell_type": "markdown",
   "metadata": {},
   "source": [
    "## Calculation of profit and risks"
   ]
  },
  {
   "cell_type": "markdown",
   "metadata": {},
   "source": [
    "### Variables and break-even point"
   ]
  },
  {
   "cell_type": "markdown",
   "metadata": {},
   "source": [
    "Creating the necessary constant variables based on the available inputs in the condition:"
   ]
  },
  {
   "cell_type": "code",
   "execution_count": 37,
   "metadata": {},
   "outputs": [],
   "source": [
    "budget = 10e9\n",
    "income_per_product = 450e3"
   ]
  },
  {
   "cell_type": "markdown",
   "metadata": {},
   "source": [
    "To calculate the break-even point, it is necessary to divide the existing budget by income per unit of product."
   ]
  },
  {
   "cell_type": "code",
   "execution_count": 38,
   "metadata": {},
   "outputs": [
    {
     "name": "stdout",
     "output_type": "stream",
     "text": [
      "22222.22\n"
     ]
    }
   ],
   "source": [
    "breakeven_point = budget / income_per_product\n",
    "print(round(breakeven_point,2))"
   ]
  },
  {
   "cell_type": "markdown",
   "metadata": {},
   "source": [
    "22222.22 thousand barrels are needed for the break-even development of a new well."
   ]
  },
  {
   "cell_type": "code",
   "execution_count": 39,
   "metadata": {},
   "outputs": [
    {
     "name": "stdout",
     "output_type": "stream",
     "text": [
      "111.11\n"
     ]
    }
   ],
   "source": [
    "print(round(breakeven_point/200,2))"
   ]
  },
  {
   "cell_type": "markdown",
   "metadata": {},
   "source": [
    "At the same time, the average volume of oil per 1 well in the break-even state is 111.11."
   ]
  },
  {
   "cell_type": "markdown",
   "metadata": {},
   "source": [
    "Estimation of the average volume of raw material reserves per 1 well in each region and comparing it with the break-even point:"
   ]
  },
  {
   "cell_type": "code",
   "execution_count": 40,
   "metadata": {},
   "outputs": [
    {
     "name": "stdout",
     "output_type": "stream",
     "text": [
      "Average volume of raw materials stocks in region 1: 92.5\n",
      "Average volume of raw materials stocks in region 2: 68.83\n",
      "Average volume of raw materials stocks in region 3: 95.0\n"
     ]
    }
   ],
   "source": [
    "average_product_0 = geo_data_0['product'].mean()\n",
    "average_product_1 = geo_data_1['product'].mean()\n",
    "average_product_2 = geo_data_2['product'].mean()\n",
    "\n",
    "print(\"Average volume of raw materials stocks in region 1:\",average_product_0.round(2))\n",
    "print(\"Average volume of raw materials stocks in region 2:\",average_product_1.round(2))\n",
    "print(\"Average volume of raw materials stocks in region 3:\",average_product_2.round(2))"
   ]
  },
  {
   "cell_type": "markdown",
   "metadata": {},
   "source": [
    "As a result, the average volume of reserves in all regions is lower than at the break-even point."
   ]
  },
  {
   "cell_type": "markdown",
   "metadata": {},
   "source": [
    "### Combining data"
   ]
  },
  {
   "cell_type": "markdown",
   "metadata": {},
   "source": [
    "For further calculations, separate variables are needed with real and predicted values in separate variables for each region:"
   ]
  },
  {
   "cell_type": "code",
   "execution_count": 41,
   "metadata": {},
   "outputs": [
    {
     "name": "stdout",
     "output_type": "stream",
     "text": [
      "       true_product  predicted_product\n",
      "75721    122.073350         101.901017\n",
      "80184     48.738540          78.217774\n",
      "19864    131.338088         115.266901\n",
      "76699     88.327757         105.618618\n",
      "92991     36.959266          97.980185\n",
      "...             ...                ...\n",
      "21271    148.821520         105.076959\n",
      "34014    123.454003          74.768176\n",
      "81355     91.945213          82.544397\n",
      "65720    149.295563          81.826689\n",
      "11627     57.244039          93.121062\n",
      "\n",
      "[25000 rows x 2 columns]\n",
      "       true_product  predicted_product\n",
      "75721      0.000000           0.844738\n",
      "80184     53.906522          52.921612\n",
      "19864    134.766305         135.110385\n",
      "76699    107.813044         109.494863\n",
      "92991      0.000000          -0.047292\n",
      "...             ...                ...\n",
      "21271    107.813044         108.351600\n",
      "34014     53.906522          53.604049\n",
      "81355     26.953261          26.708734\n",
      "65720    110.992147         109.823087\n",
      "11627    134.766305         135.448780\n",
      "\n",
      "[25000 rows x 2 columns]\n",
      "       true_product  predicted_product\n",
      "75721    117.441301          98.301916\n",
      "80184     47.841249         101.592461\n",
      "19864     45.883483          52.449099\n",
      "76699    139.014608         109.922127\n",
      "92991     84.004276          72.411847\n",
      "...             ...                ...\n",
      "21271     40.797226         102.764169\n",
      "34014     87.144239          93.431823\n",
      "81355     52.039812          64.098390\n",
      "65720    136.961454          83.764135\n",
      "11627    109.173206          86.558644\n",
      "\n",
      "[25000 rows x 2 columns]\n"
     ]
    }
   ],
   "source": [
    "#region_1\n",
    "data_0 = {'true_product' : y_0_valid,\n",
    "            'predicted_product' : predicted_valid_0}\n",
    "data_0 = pd.DataFrame(data_0, columns = ['true_product', 'predicted_product'])\n",
    "print(data_0)\n",
    "\n",
    "#region_2\n",
    "data_1 = {'true_product' : y_1_valid,\n",
    "            'predicted_product' : predicted_valid_1}\n",
    "data_1 = pd.DataFrame(data_1, columns = ['true_product', 'predicted_product'])\n",
    "print(data_1)\n",
    "\n",
    "#region_3\n",
    "data_2= {'true_product' : y_2_valid,\n",
    "            'predicted_product' : predicted_valid_2}\n",
    "data_2 = pd.DataFrame(data_2, columns = ['true_product', 'predicted_product'])\n",
    "print(data_2)"
   ]
  },
  {
   "cell_type": "markdown",
   "metadata": {},
   "source": [
    "### Profit function"
   ]
  },
  {
   "cell_type": "markdown",
   "metadata": {},
   "source": [
    "Building a function for calculating profit:"
   ]
  },
  {
   "cell_type": "code",
   "execution_count": 42,
   "metadata": {},
   "outputs": [],
   "source": [
    "def profit_1(data):\n",
    "    data_sorted = data.sort_values(by=['predicted_product'],ascending=False)\n",
    "    top_target_walls = data_sorted['true_product'][:200]\n",
    "    profit = top_target_walls.sum()*income_per_product - budget\n",
    "    return profit"
   ]
  },
  {
   "cell_type": "markdown",
   "metadata": {},
   "source": [
    "Testing the functionality of the function: total profit for each region calculation:"
   ]
  },
  {
   "cell_type": "code",
   "execution_count": 43,
   "metadata": {},
   "outputs": [
    {
     "name": "stdout",
     "output_type": "stream",
     "text": [
      "Суммарная прибыль региона 1:\n",
      "3359141114.462179\n",
      "\n",
      "Суммарная прибыль региона 2:\n",
      "2415086696.681511\n",
      "\n",
      "Суммарная прибыль региона 3:\n",
      "2598571759.374111\n"
     ]
    }
   ],
   "source": [
    "#region_1\n",
    "print('Суммарная прибыль региона 1:')\n",
    "print(profit_1(data_0))\n",
    "print()\n",
    "#region_2\n",
    "print('Суммарная прибыль региона 2:')\n",
    "print(profit_1(data_1))\n",
    "print()\n",
    "#region_3\n",
    "print('Суммарная прибыль региона 3:')\n",
    "print(profit_1(data_2))"
   ]
  },
  {
   "cell_type": "markdown",
   "metadata": {},
   "source": [
    "### Conclusion"
   ]
  },
  {
   "cell_type": "markdown",
   "metadata": {},
   "source": [
    "The break-even point was calculated, a separate function for calculating profit was created.\n",
    "\n",
    "At this stage, the break-even point is still higher than the stock of raw materials in each of the wells."
   ]
  },
  {
   "cell_type": "markdown",
   "metadata": {},
   "source": [
    "## Profit & risks calculation"
   ]
  },
  {
   "cell_type": "code",
   "execution_count": 44,
   "metadata": {},
   "outputs": [],
   "source": [
    "state = np.random.RandomState(42)\n",
    "\n",
    "def bootstrap_1(data):\n",
    "    profit_final = []\n",
    "    for i in range(1000):\n",
    "        data_sample = data.sample(n=500, replace=True, random_state = state)\n",
    "        profit_f = profit_1(data_sample)\n",
    "        profit_final.append(profit_f)\n",
    "    \n",
    "    profit_final = pd.Series(profit_final)\n",
    "    \n",
    "    lower = profit_final.quantile(0.025)\n",
    "    upper = profit_final.quantile(0.975)\n",
    "    \n",
    "    profit_average = profit_final.mean()\n",
    "    \n",
    "    risk = profit_final[profit_final < 0].count() / profit_final.count()\n",
    "    \n",
    "    print('Average profit by region:', profit_average.round(2))\n",
    "    print(f'95% confidence interval: [{(lower.round(2))}, {(upper.round(2))}]')\n",
    "    print('Risk percentage:{:.2%}'.format(risk))\n",
    "    \n",
    "    print(profit_final.hist())\n",
    "   "
   ]
  },
  {
   "cell_type": "code",
   "execution_count": 45,
   "metadata": {},
   "outputs": [
    {
     "name": "stdout",
     "output_type": "stream",
     "text": [
      "Average profit by region: 399575478.05\n",
      "95% confidence interval: [-110467895.33, 897460327.72]\n",
      "Risk percentage:6.00%\n",
      "Axes(0.125,0.11;0.775x0.77)\n"
     ]
    },
    {
     "data": {
      "image/png": "[encoded data removed]",
      "text/plain": [
       "<Figure size 640x480 with 1 Axes>"
      ]
     },
     "metadata": {},
     "output_type": "display_data"
    }
   ],
   "source": [
    "#region_1\n",
    "bootstrap_1(data_0)"
   ]
  },
  {
   "cell_type": "code",
   "execution_count": 46,
   "metadata": {},
   "outputs": [
    {
     "name": "stdout",
     "output_type": "stream",
     "text": [
      "Average profit by region: 452576594.29\n",
      "95% confidence interval: [52309409.8, 830146313.26]\n",
      "Risk percentage:0.90%\n",
      "Axes(0.125,0.11;0.775x0.77)\n"
     ]
    },
    {
     "data": {
      "image/png": "[encoded data removed]",
      "text/plain": [
       "<Figure size 640x480 with 1 Axes>"
      ]
     },
     "metadata": {},
     "output_type": "display_data"
    }
   ],
   "source": [
    "#region_2\n",
    "bootstrap_1(data_1)"
   ]
  },
  {
   "cell_type": "code",
   "execution_count": 47,
   "metadata": {},
   "outputs": [
    {
     "name": "stdout",
     "output_type": "stream",
     "text": [
      "Average profit by region: 378705903.66\n",
      "95% confidence interval: [-127779434.99, 907923483.22]\n",
      "Risk percentage:7.50%\n",
      "Axes(0.125,0.11;0.775x0.77)\n"
     ]
    },
    {
     "data": {
      "image/png": "[encoded data removed]",
      "text/plain": [
       "<Figure size 640x480 with 1 Axes>"
      ]
     },
     "metadata": {},
     "output_type": "display_data"
    }
   ],
   "source": [
    "#region_3\n",
    "bootstrap_1(data_2)"
   ]
  },
  {
   "cell_type": "markdown",
   "metadata": {},
   "source": [
    "## Conclusion"
   ]
  },
  {
   "cell_type": "markdown",
   "metadata": {},
   "source": [
    "As a result of the conducted research, the following steps were performed: \n",
    "\n",
    "- Data study and its preparation for further model building\n",
    "- Three linear models were built for each region and RMSE calculated.\n",
    "- A function has been written to calculate profits in each region. \n",
    "- The bootstrap method calculated the average profit, confidence interval and percentage of risk. \n",
    "\n",
    "Based on the results obtained, we see that as a result, the lowest percentage of risk and the highest average profit are observed for the second region, which indicates the need to abandon consideration of the first and third regions at this stage."
   ]
  }
 ],
 "metadata": {
  "ExecuteTimeLog": [
   {
    "duration": 1596,
    "start_time": "2023-01-11T17:27:12.513Z"
   },
   {
    "duration": 4,
    "start_time": "2023-01-11T17:27:15.684Z"
   },
   {
    "duration": 4,
    "start_time": "2023-01-11T17:27:33.622Z"
   },
   {
    "duration": 4,
    "start_time": "2023-01-11T17:27:37.378Z"
   },
   {
    "duration": 6,
    "start_time": "2023-01-11T17:27:55.849Z"
   },
   {
    "duration": 662,
    "start_time": "2023-01-11T17:31:42.480Z"
   },
   {
    "duration": 4,
    "start_time": "2023-01-11T17:35:49.543Z"
   },
   {
    "duration": 116,
    "start_time": "2023-01-11T17:37:17.377Z"
   },
   {
    "duration": 17,
    "start_time": "2023-01-11T17:41:57.929Z"
   },
   {
    "duration": 23,
    "start_time": "2023-01-11T17:42:21.511Z"
   },
   {
    "duration": 24,
    "start_time": "2023-01-11T17:42:53.595Z"
   },
   {
    "duration": 19,
    "start_time": "2023-01-11T17:43:10.276Z"
   },
   {
    "duration": 24,
    "start_time": "2023-01-11T17:43:53.192Z"
   },
   {
    "duration": 32,
    "start_time": "2023-01-11T17:47:14.866Z"
   },
   {
    "duration": 19,
    "start_time": "2023-01-11T17:47:23.860Z"
   },
   {
    "duration": 21,
    "start_time": "2023-01-11T17:47:55.958Z"
   },
   {
    "duration": 20,
    "start_time": "2023-01-11T17:47:56.206Z"
   },
   {
    "duration": 21,
    "start_time": "2023-01-11T17:48:00.436Z"
   },
   {
    "duration": 21,
    "start_time": "2023-01-11T17:48:10.760Z"
   },
   {
    "duration": 129,
    "start_time": "2023-01-11T18:08:08.040Z"
   },
   {
    "duration": 22,
    "start_time": "2023-01-11T18:10:42.338Z"
   },
   {
    "duration": 20,
    "start_time": "2023-01-11T18:10:46.369Z"
   },
   {
    "duration": 23,
    "start_time": "2023-01-11T18:10:49.139Z"
   },
   {
    "duration": 119,
    "start_time": "2023-01-11T18:11:28.133Z"
   },
   {
    "duration": 45,
    "start_time": "2023-01-11T18:11:37.507Z"
   },
   {
    "duration": 114,
    "start_time": "2023-01-11T18:11:44.163Z"
   },
   {
    "duration": 10,
    "start_time": "2023-01-11T18:12:20.165Z"
   },
   {
    "duration": 14,
    "start_time": "2023-01-11T18:12:42.587Z"
   },
   {
    "duration": 11,
    "start_time": "2023-01-11T18:12:44.602Z"
   },
   {
    "duration": 89,
    "start_time": "2023-01-11T18:13:53.818Z"
   },
   {
    "duration": 16,
    "start_time": "2023-01-11T19:53:41.743Z"
   },
   {
    "duration": 14,
    "start_time": "2023-01-11T20:12:50.595Z"
   },
   {
    "duration": 17,
    "start_time": "2023-01-11T20:12:55.197Z"
   },
   {
    "duration": 55,
    "start_time": "2023-01-11T20:12:56.623Z"
   },
   {
    "duration": 42,
    "start_time": "2023-01-11T20:13:34.414Z"
   },
   {
    "duration": 44,
    "start_time": "2023-01-11T20:15:31.994Z"
   },
   {
    "duration": 60,
    "start_time": "2023-01-11T20:17:47.287Z"
   },
   {
    "duration": 76,
    "start_time": "2023-01-11T20:17:52.548Z"
   },
   {
    "duration": 1512,
    "start_time": "2023-01-18T13:12:50.742Z"
   },
   {
    "duration": 1940,
    "start_time": "2023-01-18T13:12:53.369Z"
   },
   {
    "duration": 35,
    "start_time": "2023-01-18T13:12:57.559Z"
   },
   {
    "duration": 31,
    "start_time": "2023-01-18T13:13:01.247Z"
   },
   {
    "duration": 40,
    "start_time": "2023-01-18T13:13:04.657Z"
   },
   {
    "duration": 25,
    "start_time": "2023-01-18T13:13:08.324Z"
   },
   {
    "duration": 153,
    "start_time": "2023-01-18T13:13:19.380Z"
   },
   {
    "duration": 16,
    "start_time": "2023-01-18T13:17:26.845Z"
   },
   {
    "duration": 103,
    "start_time": "2023-01-18T13:21:06.654Z"
   },
   {
    "duration": 17,
    "start_time": "2023-01-18T13:21:59.709Z"
   },
   {
    "duration": 4,
    "start_time": "2023-01-18T13:56:15.429Z"
   },
   {
    "duration": 77,
    "start_time": "2023-01-18T13:56:25.715Z"
   },
   {
    "duration": 10,
    "start_time": "2023-01-18T13:59:29.094Z"
   },
   {
    "duration": 4,
    "start_time": "2023-01-18T13:59:55.060Z"
   },
   {
    "duration": 19,
    "start_time": "2023-01-18T14:00:00.296Z"
   },
   {
    "duration": 92,
    "start_time": "2023-01-18T14:00:11.514Z"
   },
   {
    "duration": 70,
    "start_time": "2023-01-18T14:09:01.173Z"
   },
   {
    "duration": 79,
    "start_time": "2023-01-18T14:12:48.702Z"
   },
   {
    "duration": 73,
    "start_time": "2023-01-18T14:14:33.972Z"
   },
   {
    "duration": 47,
    "start_time": "2023-01-19T17:46:49.756Z"
   },
   {
    "duration": 6,
    "start_time": "2023-01-19T17:47:08.476Z"
   },
   {
    "duration": 1661,
    "start_time": "2023-01-19T17:47:13.663Z"
   },
   {
    "duration": 1540,
    "start_time": "2023-01-19T17:47:17.025Z"
   },
   {
    "duration": 29,
    "start_time": "2023-01-19T17:47:24.084Z"
   },
   {
    "duration": 22,
    "start_time": "2023-01-19T17:47:27.476Z"
   },
   {
    "duration": 30,
    "start_time": "2023-01-19T17:47:29.982Z"
   },
   {
    "duration": 21,
    "start_time": "2023-01-19T17:47:32.580Z"
   },
   {
    "duration": 184,
    "start_time": "2023-01-19T17:47:34.963Z"
   },
   {
    "duration": 17,
    "start_time": "2023-01-19T17:47:37.097Z"
   },
   {
    "duration": 80,
    "start_time": "2023-01-19T17:47:39.422Z"
   },
   {
    "duration": 68,
    "start_time": "2023-01-19T17:47:41.905Z"
   },
   {
    "duration": 91,
    "start_time": "2023-01-19T17:47:45.519Z"
   },
   {
    "duration": 73,
    "start_time": "2023-01-19T17:47:48.720Z"
   },
   {
    "duration": 90,
    "start_time": "2023-01-19T17:47:52.721Z"
   },
   {
    "duration": 9,
    "start_time": "2023-01-19T17:50:20.276Z"
   },
   {
    "duration": 15,
    "start_time": "2023-01-19T17:55:55.209Z"
   },
   {
    "duration": 16,
    "start_time": "2023-01-19T17:55:56.656Z"
   },
   {
    "duration": 17,
    "start_time": "2023-01-19T17:56:03.308Z"
   },
   {
    "duration": 27,
    "start_time": "2023-01-19T17:56:31.489Z"
   },
   {
    "duration": 89,
    "start_time": "2023-01-21T16:18:30.311Z"
   },
   {
    "duration": 2119,
    "start_time": "2023-01-21T16:18:36.117Z"
   },
   {
    "duration": 1724,
    "start_time": "2023-01-21T16:18:39.654Z"
   },
   {
    "duration": 57,
    "start_time": "2023-01-21T16:18:42.172Z"
   },
   {
    "duration": 54,
    "start_time": "2023-01-21T16:18:46.278Z"
   },
   {
    "duration": 49,
    "start_time": "2023-01-21T16:18:50.076Z"
   },
   {
    "duration": 42,
    "start_time": "2023-01-21T16:18:53.132Z"
   },
   {
    "duration": 203,
    "start_time": "2023-01-21T16:18:56.146Z"
   },
   {
    "duration": 24,
    "start_time": "2023-01-21T16:18:58.012Z"
   },
   {
    "duration": 141,
    "start_time": "2023-01-21T16:19:00.377Z"
   },
   {
    "duration": 130,
    "start_time": "2023-01-21T16:19:03.827Z"
   },
   {
    "duration": 114,
    "start_time": "2023-01-21T16:19:06.619Z"
   },
   {
    "duration": 126,
    "start_time": "2023-01-21T16:19:15.435Z"
   },
   {
    "duration": 96,
    "start_time": "2023-01-21T16:19:18.836Z"
   },
   {
    "duration": 258,
    "start_time": "2023-01-21T16:21:21.806Z"
   },
   {
    "duration": 28,
    "start_time": "2023-01-21T16:21:44.736Z"
   },
   {
    "duration": 23,
    "start_time": "2023-01-21T16:21:55.569Z"
   },
   {
    "duration": 19,
    "start_time": "2023-01-21T16:33:29.221Z"
   },
   {
    "duration": 23,
    "start_time": "2023-01-21T16:52:43.345Z"
   },
   {
    "duration": 25,
    "start_time": "2023-01-21T16:52:47.657Z"
   },
   {
    "duration": 65,
    "start_time": "2023-01-21T17:00:59.031Z"
   },
   {
    "duration": 8,
    "start_time": "2023-01-21T17:01:33.652Z"
   },
   {
    "duration": 181,
    "start_time": "2023-01-21T17:01:41.647Z"
   },
   {
    "duration": 72,
    "start_time": "2023-01-21T17:02:45.085Z"
   },
   {
    "duration": 88,
    "start_time": "2023-01-21T17:03:29.335Z"
   },
   {
    "duration": 48,
    "start_time": "2023-01-21T17:15:45.653Z"
   },
   {
    "duration": 35,
    "start_time": "2023-01-21T17:15:54.000Z"
   },
   {
    "duration": 23,
    "start_time": "2023-01-21T17:16:40.137Z"
   },
   {
    "duration": 26,
    "start_time": "2023-01-21T17:16:59.639Z"
   },
   {
    "duration": 19,
    "start_time": "2023-01-21T17:17:05.332Z"
   },
   {
    "duration": 35,
    "start_time": "2023-01-21T17:17:08.617Z"
   },
   {
    "duration": 20,
    "start_time": "2023-01-21T17:17:12.033Z"
   },
   {
    "duration": 17,
    "start_time": "2023-01-21T17:17:50.827Z"
   },
   {
    "duration": 42,
    "start_time": "2023-01-21T17:18:10.179Z"
   },
   {
    "duration": 1507,
    "start_time": "2023-01-22T19:35:44.029Z"
   },
   {
    "duration": 1661,
    "start_time": "2023-01-22T19:35:45.947Z"
   },
   {
    "duration": 27,
    "start_time": "2023-01-22T19:35:48.545Z"
   },
   {
    "duration": 30,
    "start_time": "2023-01-22T19:35:54.411Z"
   },
   {
    "duration": 29,
    "start_time": "2023-01-22T19:35:57.028Z"
   },
   {
    "duration": 22,
    "start_time": "2023-01-22T19:35:59.457Z"
   },
   {
    "duration": 19,
    "start_time": "2023-01-22T19:36:02.030Z"
   },
   {
    "duration": 130,
    "start_time": "2023-01-22T19:36:04.654Z"
   },
   {
    "duration": 19,
    "start_time": "2023-01-22T19:36:06.246Z"
   },
   {
    "duration": 59,
    "start_time": "2023-01-22T19:36:08.071Z"
   },
   {
    "duration": 69,
    "start_time": "2023-01-22T19:36:10.440Z"
   },
   {
    "duration": 68,
    "start_time": "2023-01-22T19:36:13.083Z"
   },
   {
    "duration": 66,
    "start_time": "2023-01-22T19:36:15.458Z"
   },
   {
    "duration": 4,
    "start_time": "2023-01-22T19:36:17.881Z"
   },
   {
    "duration": 24,
    "start_time": "2023-01-22T19:36:20.222Z"
   },
   {
    "duration": 17,
    "start_time": "2023-01-22T19:36:22.128Z"
   },
   {
    "duration": 17,
    "start_time": "2023-01-22T19:36:24.965Z"
   },
   {
    "duration": 3,
    "start_time": "2023-01-22T19:40:08.082Z"
   },
   {
    "duration": 3,
    "start_time": "2023-01-22T19:40:12.893Z"
   },
   {
    "duration": 3,
    "start_time": "2023-01-22T19:40:17.969Z"
   },
   {
    "duration": 3,
    "start_time": "2023-01-22T19:55:01.410Z"
   },
   {
    "duration": 3,
    "start_time": "2023-01-22T19:55:07.638Z"
   },
   {
    "duration": 3,
    "start_time": "2023-01-22T19:55:11.124Z"
   },
   {
    "duration": 3,
    "start_time": "2023-01-22T19:59:53.906Z"
   },
   {
    "duration": 115,
    "start_time": "2023-01-22T20:00:00.827Z"
   },
   {
    "duration": 4,
    "start_time": "2023-01-22T20:00:14.232Z"
   },
   {
    "duration": 1998,
    "start_time": "2023-01-25T21:25:18.048Z"
   },
   {
    "duration": 1245,
    "start_time": "2023-01-25T21:25:22.237Z"
   },
   {
    "duration": 36,
    "start_time": "2023-01-25T21:25:24.680Z"
   },
   {
    "duration": 26,
    "start_time": "2023-01-25T21:25:27.000Z"
   },
   {
    "duration": 26,
    "start_time": "2023-01-25T21:25:29.256Z"
   },
   {
    "duration": 23,
    "start_time": "2023-01-25T21:25:31.864Z"
   },
   {
    "duration": 144,
    "start_time": "2023-01-25T21:25:34.078Z"
   },
   {
    "duration": 119,
    "start_time": "2023-01-25T21:26:18.434Z"
   },
   {
    "duration": 14,
    "start_time": "2023-01-25T21:26:27.196Z"
   },
   {
    "duration": 151,
    "start_time": "2023-01-25T21:26:30.770Z"
   },
   {
    "duration": 14,
    "start_time": "2023-01-25T21:26:32.266Z"
   },
   {
    "duration": 69,
    "start_time": "2023-01-25T21:26:33.584Z"
   },
   {
    "duration": 81,
    "start_time": "2023-01-25T21:26:35.852Z"
   },
   {
    "duration": 82,
    "start_time": "2023-01-25T21:26:38.388Z"
   },
   {
    "duration": 87,
    "start_time": "2023-01-25T21:26:43.445Z"
   },
   {
    "duration": 24,
    "start_time": "2023-01-25T21:26:46.957Z"
   },
   {
    "duration": 20,
    "start_time": "2023-01-25T21:26:49.449Z"
   },
   {
    "duration": 21,
    "start_time": "2023-01-25T21:28:29.466Z"
   },
   {
    "duration": 30,
    "start_time": "2023-01-25T21:28:32.102Z"
   },
   {
    "duration": 2,
    "start_time": "2023-01-25T21:30:56.681Z"
   },
   {
    "duration": 4,
    "start_time": "2023-01-25T21:30:59.801Z"
   },
   {
    "duration": 16,
    "start_time": "2023-01-25T21:31:38.016Z"
   },
   {
    "duration": 7,
    "start_time": "2023-01-25T21:32:03.121Z"
   },
   {
    "duration": 7,
    "start_time": "2023-01-25T21:33:10.833Z"
   },
   {
    "duration": 9,
    "start_time": "2023-01-25T21:33:18.096Z"
   },
   {
    "duration": 10,
    "start_time": "2023-01-25T21:33:24.401Z"
   },
   {
    "duration": 4,
    "start_time": "2023-01-25T22:00:09.065Z"
   },
   {
    "duration": 12,
    "start_time": "2023-01-25T22:06:06.265Z"
   },
   {
    "duration": 11,
    "start_time": "2023-01-25T22:06:11.112Z"
   },
   {
    "duration": 3,
    "start_time": "2023-01-25T22:06:17.242Z"
   },
   {
    "duration": 52,
    "start_time": "2023-01-25T22:13:12.795Z"
   },
   {
    "duration": 56,
    "start_time": "2023-01-25T22:49:15.032Z"
   },
   {
    "duration": 3,
    "start_time": "2023-01-25T22:49:31.623Z"
   },
   {
    "duration": 14,
    "start_time": "2023-01-25T22:55:47.983Z"
   },
   {
    "duration": 19,
    "start_time": "2023-01-25T23:01:17.297Z"
   },
   {
    "duration": 4,
    "start_time": "2023-01-25T23:01:50.218Z"
   },
   {
    "duration": 10,
    "start_time": "2023-01-25T23:03:21.912Z"
   },
   {
    "duration": 1638,
    "start_time": "2023-01-28T10:45:16.136Z"
   },
   {
    "duration": 4,
    "start_time": "2023-01-28T10:45:30.752Z"
   },
   {
    "duration": 1573,
    "start_time": "2023-01-28T10:45:30.757Z"
   },
   {
    "duration": 27,
    "start_time": "2023-01-28T10:45:32.333Z"
   },
   {
    "duration": 21,
    "start_time": "2023-01-28T10:45:32.362Z"
   },
   {
    "duration": 34,
    "start_time": "2023-01-28T10:45:32.392Z"
   },
   {
    "duration": 20,
    "start_time": "2023-01-28T10:45:32.429Z"
   },
   {
    "duration": 180,
    "start_time": "2023-01-28T10:45:32.450Z"
   },
   {
    "duration": 14,
    "start_time": "2023-01-28T10:45:32.632Z"
   },
   {
    "duration": 68,
    "start_time": "2023-01-28T10:45:32.648Z"
   },
   {
    "duration": 101,
    "start_time": "2023-01-28T10:45:32.718Z"
   },
   {
    "duration": 99,
    "start_time": "2023-01-28T10:45:32.820Z"
   },
   {
    "duration": 91,
    "start_time": "2023-01-28T10:45:32.921Z"
   },
   {
    "duration": 3,
    "start_time": "2023-01-28T10:45:33.014Z"
   },
   {
    "duration": 85,
    "start_time": "2023-01-28T10:45:33.020Z"
   },
   {
    "duration": 128,
    "start_time": "2023-01-28T10:45:33.107Z"
   },
   {
    "duration": 72,
    "start_time": "2023-01-28T10:45:33.237Z"
   },
   {
    "duration": 8,
    "start_time": "2023-01-28T10:45:33.392Z"
   },
   {
    "duration": 96,
    "start_time": "2023-01-28T10:45:33.402Z"
   },
   {
    "duration": 7,
    "start_time": "2023-01-28T10:45:33.500Z"
   },
   {
    "duration": 13,
    "start_time": "2023-01-28T10:45:33.509Z"
   },
   {
    "duration": 106,
    "start_time": "2023-01-28T13:16:48.475Z"
   },
   {
    "duration": 11,
    "start_time": "2023-01-28T13:16:55.913Z"
   },
   {
    "duration": 5,
    "start_time": "2023-01-28T13:17:10.702Z"
   },
   {
    "duration": 9,
    "start_time": "2023-01-28T13:21:33.174Z"
   },
   {
    "duration": 3,
    "start_time": "2023-01-28T13:21:42.894Z"
   },
   {
    "duration": 8,
    "start_time": "2023-01-28T13:22:02.814Z"
   },
   {
    "duration": 4,
    "start_time": "2023-01-28T13:22:26.180Z"
   },
   {
    "duration": 5,
    "start_time": "2023-01-28T13:22:32.498Z"
   },
   {
    "duration": 9,
    "start_time": "2023-01-28T13:22:39.121Z"
   },
   {
    "duration": 10,
    "start_time": "2023-01-28T13:22:43.049Z"
   },
   {
    "duration": 3,
    "start_time": "2023-01-28T13:24:15.587Z"
   },
   {
    "duration": 5,
    "start_time": "2023-01-28T13:24:21.021Z"
   },
   {
    "duration": 11,
    "start_time": "2023-01-28T13:25:11.554Z"
   },
   {
    "duration": 3,
    "start_time": "2023-01-28T13:26:00.111Z"
   },
   {
    "duration": 4,
    "start_time": "2023-01-28T13:26:03.588Z"
   },
   {
    "duration": 8,
    "start_time": "2023-01-28T13:26:14.076Z"
   },
   {
    "duration": 32,
    "start_time": "2023-01-28T13:26:58.166Z"
   },
   {
    "duration": 3,
    "start_time": "2023-01-28T13:27:04.406Z"
   },
   {
    "duration": 10,
    "start_time": "2023-01-28T13:27:11.935Z"
   },
   {
    "duration": 1442,
    "start_time": "2023-01-28T13:27:34.926Z"
   },
   {
    "duration": 366,
    "start_time": "2023-01-28T13:27:36.370Z"
   },
   {
    "duration": 25,
    "start_time": "2023-01-28T13:27:36.738Z"
   },
   {
    "duration": 37,
    "start_time": "2023-01-28T13:27:36.765Z"
   },
   {
    "duration": 21,
    "start_time": "2023-01-28T13:27:36.804Z"
   },
   {
    "duration": 20,
    "start_time": "2023-01-28T13:27:36.827Z"
   },
   {
    "duration": 158,
    "start_time": "2023-01-28T13:27:36.848Z"
   },
   {
    "duration": 14,
    "start_time": "2023-01-28T13:27:37.008Z"
   },
   {
    "duration": 74,
    "start_time": "2023-01-28T13:27:37.023Z"
   },
   {
    "duration": 69,
    "start_time": "2023-01-28T13:27:37.099Z"
   },
   {
    "duration": 89,
    "start_time": "2023-01-28T13:27:37.169Z"
   },
   {
    "duration": 76,
    "start_time": "2023-01-28T13:27:37.259Z"
   },
   {
    "duration": 3,
    "start_time": "2023-01-28T13:27:37.337Z"
   },
   {
    "duration": 53,
    "start_time": "2023-01-28T13:27:37.341Z"
   },
   {
    "duration": 108,
    "start_time": "2023-01-28T13:27:37.396Z"
   },
   {
    "duration": 192,
    "start_time": "2023-01-28T13:27:37.507Z"
   },
   {
    "duration": 98,
    "start_time": "2023-01-28T13:27:37.700Z"
   },
   {
    "duration": 6,
    "start_time": "2023-01-28T13:27:37.800Z"
   },
   {
    "duration": 84,
    "start_time": "2023-01-28T13:27:37.808Z"
   },
   {
    "duration": 7,
    "start_time": "2023-01-28T13:27:37.894Z"
   },
   {
    "duration": 3,
    "start_time": "2023-01-28T13:27:55.429Z"
   },
   {
    "duration": 4,
    "start_time": "2023-01-28T13:28:01.890Z"
   },
   {
    "duration": 4,
    "start_time": "2023-01-28T13:28:11.009Z"
   },
   {
    "duration": 116,
    "start_time": "2023-01-28T13:28:14.846Z"
   },
   {
    "duration": 11,
    "start_time": "2023-01-28T13:30:18.790Z"
   },
   {
    "duration": 9,
    "start_time": "2023-01-28T13:30:24.679Z"
   },
   {
    "duration": 4,
    "start_time": "2023-01-28T13:30:35.742Z"
   },
   {
    "duration": 3,
    "start_time": "2023-01-28T13:30:42.185Z"
   },
   {
    "duration": 54,
    "start_time": "2023-01-28T13:31:59.043Z"
   },
   {
    "duration": 20,
    "start_time": "2023-01-28T13:32:36.464Z"
   },
   {
    "duration": 1432,
    "start_time": "2023-01-28T13:34:16.030Z"
   },
   {
    "duration": 375,
    "start_time": "2023-01-28T13:34:17.464Z"
   },
   {
    "duration": 26,
    "start_time": "2023-01-28T13:34:17.841Z"
   },
   {
    "duration": 31,
    "start_time": "2023-01-28T13:34:17.869Z"
   },
   {
    "duration": 21,
    "start_time": "2023-01-28T13:34:17.902Z"
   },
   {
    "duration": 18,
    "start_time": "2023-01-28T13:34:17.924Z"
   },
   {
    "duration": 164,
    "start_time": "2023-01-28T13:34:17.944Z"
   },
   {
    "duration": 13,
    "start_time": "2023-01-28T13:34:18.109Z"
   },
   {
    "duration": 68,
    "start_time": "2023-01-28T13:34:18.124Z"
   },
   {
    "duration": 70,
    "start_time": "2023-01-28T13:34:18.194Z"
   },
   {
    "duration": 91,
    "start_time": "2023-01-28T13:34:18.266Z"
   },
   {
    "duration": 89,
    "start_time": "2023-01-28T13:34:18.359Z"
   },
   {
    "duration": 3,
    "start_time": "2023-01-28T13:34:18.450Z"
   },
   {
    "duration": 40,
    "start_time": "2023-01-28T13:34:18.457Z"
   },
   {
    "duration": 195,
    "start_time": "2023-01-28T13:34:18.498Z"
   },
   {
    "duration": 118,
    "start_time": "2023-01-28T13:34:18.695Z"
   },
   {
    "duration": 2,
    "start_time": "2023-01-28T13:34:18.893Z"
   },
   {
    "duration": 101,
    "start_time": "2023-01-28T13:34:18.897Z"
   },
   {
    "duration": 6,
    "start_time": "2023-01-28T13:34:19.000Z"
   },
   {
    "duration": 10,
    "start_time": "2023-01-28T13:34:19.008Z"
   },
   {
    "duration": 2,
    "start_time": "2023-01-28T13:41:54.756Z"
   },
   {
    "duration": 5,
    "start_time": "2023-01-28T13:42:04.839Z"
   },
   {
    "duration": 10,
    "start_time": "2023-01-28T13:42:58.783Z"
   },
   {
    "duration": 19,
    "start_time": "2023-01-28T13:44:03.639Z"
   },
   {
    "duration": 112,
    "start_time": "2023-01-28T13:44:51.497Z"
   },
   {
    "duration": 3,
    "start_time": "2023-01-28T13:44:57.233Z"
   },
   {
    "duration": 10,
    "start_time": "2023-01-28T13:44:59.156Z"
   },
   {
    "duration": 11,
    "start_time": "2023-01-28T13:47:04.138Z"
   },
   {
    "duration": 21,
    "start_time": "2023-01-28T13:47:36.527Z"
   },
   {
    "duration": 22,
    "start_time": "2023-01-28T13:47:49.304Z"
   },
   {
    "duration": 16,
    "start_time": "2023-01-28T13:48:00.851Z"
   },
   {
    "duration": 16,
    "start_time": "2023-01-28T13:48:11.380Z"
   },
   {
    "duration": 18,
    "start_time": "2023-01-28T13:48:14.740Z"
   },
   {
    "duration": 19,
    "start_time": "2023-01-28T13:48:21.113Z"
   },
   {
    "duration": 20,
    "start_time": "2023-01-28T13:50:59.877Z"
   },
   {
    "duration": 20,
    "start_time": "2023-01-28T13:51:07.030Z"
   },
   {
    "duration": 7,
    "start_time": "2023-01-28T14:28:47.593Z"
   },
   {
    "duration": 17,
    "start_time": "2023-01-28T14:29:43.105Z"
   },
   {
    "duration": 5,
    "start_time": "2023-01-28T14:30:06.974Z"
   },
   {
    "duration": 14,
    "start_time": "2023-01-28T14:30:08.786Z"
   },
   {
    "duration": 7,
    "start_time": "2023-01-28T14:32:30.679Z"
   },
   {
    "duration": 6,
    "start_time": "2023-01-28T14:33:15.956Z"
   },
   {
    "duration": 4431,
    "start_time": "2023-01-28T14:33:17.842Z"
   },
   {
    "duration": 5,
    "start_time": "2023-01-28T14:33:32.181Z"
   },
   {
    "duration": 4373,
    "start_time": "2023-01-28T14:33:33.646Z"
   },
   {
    "duration": 9,
    "start_time": "2023-01-28T14:33:46.822Z"
   },
   {
    "duration": 4397,
    "start_time": "2023-01-28T14:33:48.747Z"
   },
   {
    "duration": 5,
    "start_time": "2023-01-28T14:34:19.035Z"
   },
   {
    "duration": 4692,
    "start_time": "2023-01-28T14:34:22.203Z"
   },
   {
    "duration": 6,
    "start_time": "2023-01-28T14:35:05.048Z"
   },
   {
    "duration": 4279,
    "start_time": "2023-01-28T14:35:06.753Z"
   },
   {
    "duration": 5,
    "start_time": "2023-01-28T14:35:16.934Z"
   },
   {
    "duration": 4404,
    "start_time": "2023-01-28T14:35:19.576Z"
   },
   {
    "duration": 6,
    "start_time": "2023-01-28T14:36:57.441Z"
   },
   {
    "duration": 4229,
    "start_time": "2023-01-28T14:36:59.124Z"
   },
   {
    "duration": 5,
    "start_time": "2023-01-28T14:39:25.481Z"
   },
   {
    "duration": 19,
    "start_time": "2023-01-28T14:39:27.392Z"
   },
   {
    "duration": 6,
    "start_time": "2023-01-28T14:41:34.850Z"
   },
   {
    "duration": 1354,
    "start_time": "2023-01-28T14:41:37.917Z"
   },
   {
    "duration": 6,
    "start_time": "2023-01-28T14:42:15.858Z"
   },
   {
    "duration": 1329,
    "start_time": "2023-01-28T14:42:17.733Z"
   },
   {
    "duration": 6,
    "start_time": "2023-01-28T14:42:29.668Z"
   },
   {
    "duration": 1342,
    "start_time": "2023-01-28T14:42:31.606Z"
   },
   {
    "duration": 1292,
    "start_time": "2023-01-28T14:43:07.235Z"
   },
   {
    "duration": 13,
    "start_time": "2023-01-28T14:46:47.262Z"
   },
   {
    "duration": 5,
    "start_time": "2023-01-28T14:47:01.669Z"
   },
   {
    "duration": 1456,
    "start_time": "2023-01-28T14:47:03.794Z"
   },
   {
    "duration": 6,
    "start_time": "2023-01-28T14:47:15.445Z"
   },
   {
    "duration": 1449,
    "start_time": "2023-01-28T14:47:17.719Z"
   },
   {
    "duration": 1348,
    "start_time": "2023-01-28T14:47:27.872Z"
   },
   {
    "duration": 6,
    "start_time": "2023-01-28T14:48:21.202Z"
   },
   {
    "duration": 13,
    "start_time": "2023-01-28T14:48:28.895Z"
   },
   {
    "duration": 5,
    "start_time": "2023-01-28T14:48:47.428Z"
   },
   {
    "duration": 12,
    "start_time": "2023-01-28T14:48:49.751Z"
   },
   {
    "duration": 5,
    "start_time": "2023-01-28T14:48:58.636Z"
   },
   {
    "duration": 16,
    "start_time": "2023-01-28T14:49:00.092Z"
   },
   {
    "duration": 6,
    "start_time": "2023-01-28T14:49:18.834Z"
   },
   {
    "duration": 930,
    "start_time": "2023-01-28T14:49:20.570Z"
   },
   {
    "duration": 6,
    "start_time": "2023-01-28T14:50:35.044Z"
   },
   {
    "duration": 950,
    "start_time": "2023-01-28T14:50:36.900Z"
   },
   {
    "duration": 5,
    "start_time": "2023-01-28T14:51:56.557Z"
   },
   {
    "duration": 1413,
    "start_time": "2023-01-28T14:51:58.772Z"
   },
   {
    "duration": 5,
    "start_time": "2023-01-28T14:52:38.972Z"
   },
   {
    "duration": 1310,
    "start_time": "2023-01-28T14:52:41.373Z"
   },
   {
    "duration": 7,
    "start_time": "2023-01-28T14:52:56.099Z"
   },
   {
    "duration": 6,
    "start_time": "2023-01-28T14:52:59.401Z"
   },
   {
    "duration": 1372,
    "start_time": "2023-01-28T14:53:00.934Z"
   },
   {
    "duration": 1351,
    "start_time": "2023-01-28T14:56:44.332Z"
   },
   {
    "duration": 1445,
    "start_time": "2023-01-28T14:56:55.393Z"
   },
   {
    "duration": 5,
    "start_time": "2023-01-28T14:57:06.216Z"
   },
   {
    "duration": 1400,
    "start_time": "2023-01-28T14:57:08.730Z"
   },
   {
    "duration": 6,
    "start_time": "2023-01-28T14:57:17.211Z"
   },
   {
    "duration": 1344,
    "start_time": "2023-01-28T14:57:18.426Z"
   },
   {
    "duration": 1379,
    "start_time": "2023-01-28T14:57:21.404Z"
   },
   {
    "duration": 1362,
    "start_time": "2023-01-28T14:57:23.949Z"
   },
   {
    "duration": 6,
    "start_time": "2023-01-28T14:58:26.759Z"
   },
   {
    "duration": 1284,
    "start_time": "2023-01-28T14:58:28.375Z"
   },
   {
    "duration": 1420,
    "start_time": "2023-01-28T14:58:32.973Z"
   },
   {
    "duration": 1501,
    "start_time": "2023-01-28T14:58:35.774Z"
   },
   {
    "duration": 117,
    "start_time": "2023-01-28T15:00:16.431Z"
   },
   {
    "duration": 21,
    "start_time": "2023-01-28T15:00:30.591Z"
   },
   {
    "duration": 74,
    "start_time": "2023-01-28T15:01:14.272Z"
   },
   {
    "duration": 22,
    "start_time": "2023-01-28T15:01:22.786Z"
   },
   {
    "duration": 155,
    "start_time": "2023-01-28T15:01:27.584Z"
   },
   {
    "duration": 2,
    "start_time": "2023-01-28T15:14:05.840Z"
   },
   {
    "duration": 4,
    "start_time": "2023-01-28T15:14:11.206Z"
   },
   {
    "duration": 3,
    "start_time": "2023-01-28T15:14:14.438Z"
   },
   {
    "duration": 10,
    "start_time": "2023-01-28T15:14:21.886Z"
   },
   {
    "duration": 79,
    "start_time": "2023-01-29T10:25:35.141Z"
   },
   {
    "duration": 1862,
    "start_time": "2023-01-29T10:25:39.852Z"
   },
   {
    "duration": 1135,
    "start_time": "2023-01-29T10:25:41.716Z"
   },
   {
    "duration": 41,
    "start_time": "2023-01-29T10:25:42.853Z"
   },
   {
    "duration": 41,
    "start_time": "2023-01-29T10:25:42.897Z"
   },
   {
    "duration": 49,
    "start_time": "2023-01-29T10:25:42.940Z"
   },
   {
    "duration": 28,
    "start_time": "2023-01-29T10:25:42.991Z"
   },
   {
    "duration": 213,
    "start_time": "2023-01-29T10:25:43.021Z"
   },
   {
    "duration": 15,
    "start_time": "2023-01-29T10:25:43.240Z"
   },
   {
    "duration": 85,
    "start_time": "2023-01-29T10:25:43.257Z"
   },
   {
    "duration": 129,
    "start_time": "2023-01-29T10:25:43.345Z"
   },
   {
    "duration": 118,
    "start_time": "2023-01-29T10:25:43.476Z"
   },
   {
    "duration": 101,
    "start_time": "2023-01-29T10:25:43.597Z"
   },
   {
    "duration": 55,
    "start_time": "2023-01-29T10:25:43.700Z"
   },
   {
    "duration": 192,
    "start_time": "2023-01-29T10:25:43.759Z"
   },
   {
    "duration": 134,
    "start_time": "2023-01-29T10:25:43.956Z"
   },
   {
    "duration": 103,
    "start_time": "2023-01-29T10:25:44.141Z"
   },
   {
    "duration": 29,
    "start_time": "2023-01-29T10:25:44.246Z"
   },
   {
    "duration": 16,
    "start_time": "2023-01-29T10:25:44.278Z"
   },
   {
    "duration": 10,
    "start_time": "2023-01-29T10:25:44.296Z"
   },
   {
    "duration": 23,
    "start_time": "2023-01-29T10:25:44.308Z"
   },
   {
    "duration": 7,
    "start_time": "2023-01-29T10:25:44.333Z"
   },
   {
    "duration": 38,
    "start_time": "2023-01-29T10:25:44.342Z"
   },
   {
    "duration": 9,
    "start_time": "2023-01-29T10:25:44.382Z"
   },
   {
    "duration": 20,
    "start_time": "2023-01-29T10:25:44.393Z"
   },
   {
    "duration": 1615,
    "start_time": "2023-01-29T10:25:44.414Z"
   },
   {
    "duration": 1464,
    "start_time": "2023-01-29T10:25:46.030Z"
   },
   {
    "duration": 1479,
    "start_time": "2023-01-29T10:25:47.496Z"
   },
   {
    "duration": 54,
    "start_time": "2023-01-29T11:45:40.236Z"
   },
   {
    "duration": 1894,
    "start_time": "2023-01-29T11:45:49.057Z"
   },
   {
    "duration": 1105,
    "start_time": "2023-01-29T11:45:50.953Z"
   },
   {
    "duration": 40,
    "start_time": "2023-01-29T11:45:52.060Z"
   },
   {
    "duration": 30,
    "start_time": "2023-01-29T11:45:52.103Z"
   },
   {
    "duration": 23,
    "start_time": "2023-01-29T11:45:52.135Z"
   },
   {
    "duration": 52,
    "start_time": "2023-01-29T11:45:52.159Z"
   },
   {
    "duration": 176,
    "start_time": "2023-01-29T11:45:52.214Z"
   },
   {
    "duration": 23,
    "start_time": "2023-01-29T11:45:52.393Z"
   },
   {
    "duration": 78,
    "start_time": "2023-01-29T11:45:52.418Z"
   },
   {
    "duration": 102,
    "start_time": "2023-01-29T11:45:52.499Z"
   },
   {
    "duration": 113,
    "start_time": "2023-01-29T11:45:52.603Z"
   },
   {
    "duration": 104,
    "start_time": "2023-01-29T11:45:52.718Z"
   },
   {
    "duration": 23,
    "start_time": "2023-01-29T11:45:54.558Z"
   },
   {
    "duration": 25,
    "start_time": "2023-01-29T11:45:57.634Z"
   },
   {
    "duration": 18,
    "start_time": "2023-01-29T11:46:00.999Z"
   },
   {
    "duration": 18,
    "start_time": "2023-01-29T11:46:09.137Z"
   },
   {
    "duration": 87,
    "start_time": "2023-01-29T11:46:14.696Z"
   },
   {
    "duration": 101,
    "start_time": "2023-01-29T11:46:25.329Z"
   },
   {
    "duration": 4,
    "start_time": "2023-01-29T11:46:29.038Z"
   },
   {
    "duration": 458,
    "start_time": "2023-01-29T11:46:29.044Z"
   },
   {
    "duration": 31,
    "start_time": "2023-01-29T11:46:29.504Z"
   },
   {
    "duration": 25,
    "start_time": "2023-01-29T11:46:29.538Z"
   },
   {
    "duration": 59,
    "start_time": "2023-01-29T11:46:29.565Z"
   },
   {
    "duration": 29,
    "start_time": "2023-01-29T11:46:29.626Z"
   },
   {
    "duration": 243,
    "start_time": "2023-01-29T11:46:29.657Z"
   },
   {
    "duration": 20,
    "start_time": "2023-01-29T11:46:29.903Z"
   },
   {
    "duration": 138,
    "start_time": "2023-01-29T11:46:29.925Z"
   },
   {
    "duration": 97,
    "start_time": "2023-01-29T11:46:30.065Z"
   },
   {
    "duration": 113,
    "start_time": "2023-01-29T11:46:30.164Z"
   },
   {
    "duration": 97,
    "start_time": "2023-01-29T11:46:30.279Z"
   },
   {
    "duration": 25,
    "start_time": "2023-01-29T11:46:30.380Z"
   },
   {
    "duration": 202,
    "start_time": "2023-01-29T11:46:30.414Z"
   },
   {
    "duration": 209,
    "start_time": "2023-01-29T11:46:30.619Z"
   },
   {
    "duration": 194,
    "start_time": "2023-01-29T11:46:30.830Z"
   },
   {
    "duration": 4,
    "start_time": "2023-01-29T11:46:32.556Z"
   },
   {
    "duration": 5,
    "start_time": "2023-01-29T11:46:44.604Z"
   },
   {
    "duration": 7,
    "start_time": "2023-01-29T11:47:01.974Z"
   },
   {
    "duration": 6,
    "start_time": "2023-01-29T11:47:07.822Z"
   },
   {
    "duration": 20,
    "start_time": "2023-01-29T11:49:28.458Z"
   },
   {
    "duration": 12,
    "start_time": "2023-01-29T11:49:35.828Z"
   },
   {
    "duration": 4,
    "start_time": "2023-01-29T11:49:39.509Z"
   },
   {
    "duration": 25,
    "start_time": "2023-01-29T11:49:40.637Z"
   },
   {
    "duration": 7,
    "start_time": "2023-01-29T11:49:49.860Z"
   },
   {
    "duration": 3,
    "start_time": "2023-01-29T12:02:59.165Z"
   },
   {
    "duration": 4,
    "start_time": "2023-01-29T12:13:55.117Z"
   },
   {
    "duration": 6,
    "start_time": "2023-01-29T12:22:41.332Z"
   },
   {
    "duration": 896,
    "start_time": "2023-01-29T12:22:57.624Z"
   },
   {
    "duration": 6,
    "start_time": "2023-01-29T12:23:25.665Z"
   },
   {
    "duration": 9031,
    "start_time": "2023-01-29T12:23:29.725Z"
   },
   {
    "duration": 4,
    "start_time": "2023-01-29T12:31:43.240Z"
   },
   {
    "duration": 7,
    "start_time": "2023-01-29T12:31:49.508Z"
   },
   {
    "duration": 821,
    "start_time": "2023-01-29T12:31:52.775Z"
   },
   {
    "duration": 3,
    "start_time": "2023-01-29T12:50:12.838Z"
   },
   {
    "duration": 3,
    "start_time": "2023-01-29T12:51:04.403Z"
   },
   {
    "duration": 3,
    "start_time": "2023-01-29T12:51:08.249Z"
   },
   {
    "duration": 16,
    "start_time": "2023-01-29T12:52:22.638Z"
   },
   {
    "duration": 6,
    "start_time": "2023-01-29T12:54:51.734Z"
   },
   {
    "duration": 7,
    "start_time": "2023-01-29T12:55:07.867Z"
   },
   {
    "duration": 727,
    "start_time": "2023-01-29T12:55:34.590Z"
   },
   {
    "duration": 711,
    "start_time": "2023-01-29T12:55:37.830Z"
   },
   {
    "duration": 710,
    "start_time": "2023-01-29T12:55:41.447Z"
   },
   {
    "duration": 6,
    "start_time": "2023-01-29T13:02:58.066Z"
   },
   {
    "duration": 1503,
    "start_time": "2023-01-29T13:03:02.242Z"
   },
   {
    "duration": 5,
    "start_time": "2023-01-29T13:03:30.152Z"
   },
   {
    "duration": 978,
    "start_time": "2023-01-29T13:03:33.539Z"
   },
   {
    "duration": 6,
    "start_time": "2023-01-29T13:04:27.747Z"
   },
   {
    "duration": 919,
    "start_time": "2023-01-29T13:04:31.596Z"
   },
   {
    "duration": 896,
    "start_time": "2023-01-29T13:04:37.443Z"
   },
   {
    "duration": 981,
    "start_time": "2023-01-29T13:04:40.982Z"
   },
   {
    "duration": 4,
    "start_time": "2023-01-29T13:07:09.941Z"
   },
   {
    "duration": 5,
    "start_time": "2023-01-29T13:07:16.465Z"
   },
   {
    "duration": 1005,
    "start_time": "2023-01-29T13:07:20.740Z"
   },
   {
    "duration": 6,
    "start_time": "2023-01-29T13:07:37.638Z"
   },
   {
    "duration": 923,
    "start_time": "2023-01-29T13:07:41.273Z"
   },
   {
    "duration": 6,
    "start_time": "2023-01-29T13:07:50.636Z"
   },
   {
    "duration": 1009,
    "start_time": "2023-01-29T13:07:53.827Z"
   },
   {
    "duration": 6,
    "start_time": "2023-01-29T13:08:18.437Z"
   },
   {
    "duration": 979,
    "start_time": "2023-01-29T13:08:21.394Z"
   },
   {
    "duration": 6,
    "start_time": "2023-01-29T13:14:37.025Z"
   },
   {
    "duration": 877,
    "start_time": "2023-01-29T13:14:40.659Z"
   },
   {
    "duration": 12,
    "start_time": "2023-01-29T13:14:51.595Z"
   },
   {
    "duration": 891,
    "start_time": "2023-01-29T13:14:54.320Z"
   },
   {
    "duration": 929,
    "start_time": "2023-01-29T13:15:02.946Z"
   },
   {
    "duration": 46,
    "start_time": "2023-01-29T13:15:55.522Z"
   },
   {
    "duration": 6,
    "start_time": "2023-01-29T13:15:59.742Z"
   },
   {
    "duration": 922,
    "start_time": "2023-01-29T13:16:02.999Z"
   },
   {
    "duration": 6,
    "start_time": "2023-01-29T13:16:28.814Z"
   },
   {
    "duration": 1040,
    "start_time": "2023-01-29T13:16:31.883Z"
   },
   {
    "duration": 6,
    "start_time": "2023-01-29T13:29:53.548Z"
   },
   {
    "duration": 769,
    "start_time": "2023-01-29T13:29:56.804Z"
   },
   {
    "duration": 8,
    "start_time": "2023-01-29T13:30:08.502Z"
   },
   {
    "duration": 968,
    "start_time": "2023-01-29T13:30:11.730Z"
   },
   {
    "duration": 1029,
    "start_time": "2023-01-29T13:30:15.632Z"
   },
   {
    "duration": 1042,
    "start_time": "2023-01-29T13:30:19.802Z"
   },
   {
    "duration": 4,
    "start_time": "2023-01-29T13:37:47.538Z"
   },
   {
    "duration": 4,
    "start_time": "2023-01-29T13:43:30.378Z"
   },
   {
    "duration": 333,
    "start_time": "2023-01-29T13:43:42.742Z"
   },
   {
    "duration": 3,
    "start_time": "2023-01-29T13:44:02.778Z"
   },
   {
    "duration": 328,
    "start_time": "2023-01-29T13:44:04.161Z"
   },
   {
    "duration": 7,
    "start_time": "2023-01-29T13:45:01.507Z"
   },
   {
    "duration": 340,
    "start_time": "2023-01-29T13:45:03.234Z"
   },
   {
    "duration": 413,
    "start_time": "2023-01-29T13:45:26.352Z"
   },
   {
    "duration": 311,
    "start_time": "2023-01-29T13:45:33.008Z"
   },
   {
    "duration": 424,
    "start_time": "2023-01-29T13:46:03.554Z"
   },
   {
    "duration": 540,
    "start_time": "2023-01-29T13:46:14.109Z"
   },
   {
    "duration": 436,
    "start_time": "2023-01-29T13:46:20.009Z"
   },
   {
    "duration": 455,
    "start_time": "2023-01-29T13:46:37.483Z"
   },
   {
    "duration": 509,
    "start_time": "2023-01-29T13:46:44.957Z"
   },
   {
    "duration": 926,
    "start_time": "2023-01-29T13:46:58.059Z"
   },
   {
    "duration": 467,
    "start_time": "2023-01-29T13:47:11.165Z"
   },
   {
    "duration": 424,
    "start_time": "2023-01-29T13:47:19.310Z"
   },
   {
    "duration": 489,
    "start_time": "2023-01-29T13:47:27.553Z"
   },
   {
    "duration": 914,
    "start_time": "2023-01-29T13:47:44.812Z"
   },
   {
    "duration": 481,
    "start_time": "2023-01-29T13:47:56.212Z"
   },
   {
    "duration": 350,
    "start_time": "2023-01-29T13:48:06.189Z"
   },
   {
    "duration": 362,
    "start_time": "2023-01-29T13:48:11.313Z"
   },
   {
    "duration": 4,
    "start_time": "2023-01-29T14:04:32.056Z"
   },
   {
    "duration": 9,
    "start_time": "2023-01-29T14:04:33.500Z"
   },
   {
    "duration": 3,
    "start_time": "2023-01-29T14:05:27.844Z"
   },
   {
    "duration": 6,
    "start_time": "2023-01-29T14:05:29.001Z"
   },
   {
    "duration": 9,
    "start_time": "2023-01-29T14:06:27.236Z"
   },
   {
    "duration": 8,
    "start_time": "2023-01-29T14:07:17.736Z"
   },
   {
    "duration": 12,
    "start_time": "2023-01-29T14:07:22.773Z"
   },
   {
    "duration": 22,
    "start_time": "2023-01-29T14:07:26.295Z"
   },
   {
    "duration": 17,
    "start_time": "2023-01-29T14:09:00.152Z"
   },
   {
    "duration": 9,
    "start_time": "2023-01-29T14:09:05.436Z"
   },
   {
    "duration": 9,
    "start_time": "2023-01-29T14:09:15.261Z"
   },
   {
    "duration": 16,
    "start_time": "2023-01-29T14:09:30.628Z"
   },
   {
    "duration": 13,
    "start_time": "2023-01-29T14:09:49.343Z"
   },
   {
    "duration": 13,
    "start_time": "2023-01-29T14:09:54.965Z"
   },
   {
    "duration": 18,
    "start_time": "2023-01-29T14:10:07.477Z"
   }
  ],
  "kernelspec": {
   "display_name": "Python 3 (ipykernel)",
   "language": "python",
   "name": "python3"
  },
  "language_info": {
   "codemirror_mode": {
    "name": "ipython",
    "version": 3
   },
   "file_extension": ".py",
   "mimetype": "text/x-python",
   "name": "python",
   "nbconvert_exporter": "python",
   "pygments_lexer": "ipython3",
   "version": "3.10.9"
  },
  "toc": {
   "base_numbering": 1,
   "nav_menu": {},
   "number_sections": true,
   "sideBar": true,
   "skip_h1_title": true,
   "title_cell": "Table of Contents",
   "title_sidebar": "Contents",
   "toc_cell": false,
   "toc_position": {
    "height": "calc(100% - 180px)",
    "left": "10px",
    "top": "150px",
    "width": "310px"
   },
   "toc_section_display": true,
   "toc_window_display": true
  }
 },
 "nbformat": 4,
 "nbformat_minor": 2
}
