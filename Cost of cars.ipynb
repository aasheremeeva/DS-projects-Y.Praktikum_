{
 "cells": [
  {
   "cell_type": "markdown",
   "metadata": {},
   "source": [
    "# Determining the cost of cars"
   ]
  },
  {
   "cell_type": "markdown",
   "metadata": {},
   "source": [
    "The used car sales service is developing an application to attract new customers. In this app, users will be able to quickly find out the market value of their car. There is historical data, including technical specifications, configurations, and prices of cars. \n",
    "\n",
    "**Project objective**\n",
    "Your task is to build a model for determining the car's value.\n",
    "\n",
    "The client values:\n",
    "* Prediction accuracy\n",
    "* Prediction speed\n",
    "* Training time.\n",
    "\n",
    "**Data description**\n",
    "\n",
    "*Features*\n",
    "* `DateCrawled` — date of downloading the questionnaire from the database\n",
    "* `VehicleType` — type of car body\n",
    "* `RegistrationYear` — the year of registration of the car\n",
    "* `Gearbox` — type of gearbox\n",
    "* `Power` — power (hp)\n",
    "* `Model` — car model\n",
    "* `Kilometer` — mileage (km)\n",
    "* `RegistrationMonth` — month of car registration\n",
    "* `FuelType` — fuel type\n",
    "* `Brand` — car brand\n",
    "* `Repaired` — was the car under repair or not\n",
    "* `DateCreated` — date of creation of the questionnaire\n",
    "* `NumberOfPictures` — the number of photos of the car\n",
    "* `PostalCode` — postal code of the questionnaire owner (user)\n",
    "* `lastSeen` — the date of the user's last activity\n",
    "\n",
    "*Target attribute*\n",
    "* `Price` — price (Euro)"
   ]
  },
  {
   "cell_type": "markdown",
   "metadata": {},
   "source": [
    "**Content of Table**\n",
    "1. Data preparation \\\n",
    "1.1 General analysis \\\n",
    "1.2 Processing of omissions \\\n",
    "1.3 Removing anomalies \n"
   ]
  },
  {
   "cell_type": "markdown",
   "metadata": {},
   "source": [
    "Loading all the necessary libraries:"
   ]
  },
  {
   "cell_type": "code",
   "execution_count": 1,
   "metadata": {},
   "outputs": [],
   "source": [
    "import pandas as pd\n",
    "import numpy as np\n",
    "import matplotlib.pyplot as plt\n",
    "from IPython.display import display\n",
    "import seaborn as sns\n",
    "from datetime import date\n",
    "from sklearn.model_selection import train_test_split\n",
    "from sklearn.metrics import mean_squared_error\n",
    "from sklearn.linear_model import LinearRegression\n",
    "from sklearn.model_selection import cross_val_score\n",
    "import lightgbm\n",
    "from lightgbm import LGBMRegressor\n",
    "from sklearn.model_selection import GridSearchCV\n",
    "import catboost\n",
    "from catboost import CatBoostRegressor\n",
    "from sklearn.preprocessing import OrdinalEncoder\n",
    "from sklearn.preprocessing import OneHotEncoder\n",
    "from sklearn.preprocessing import StandardScaler\n",
    "import lightgbm as lgbm"
   ]
  },
  {
   "cell_type": "markdown",
   "metadata": {},
   "source": [
    "## Data preparation"
   ]
  },
  {
   "cell_type": "code",
   "execution_count": 2,
   "metadata": {},
   "outputs": [],
   "source": [
    "data = pd.read_csv('/Users/aasheremeeva/Desktop/All DS Projects/cost of cars/autos.csv')"
   ]
  },
  {
   "cell_type": "markdown",
   "metadata": {},
   "source": [
    "### General analysis"
   ]
  },
  {
   "cell_type": "code",
   "execution_count": 3,
   "metadata": {},
   "outputs": [],
   "source": [
    "def general_analysis(data):\n",
    "    print(data.info())\n",
    "    print('__________________________________________________________________________________________________________')\n",
    "    print(display(data.head(10)))\n",
    "    print('__________________________________________________________________________________________________________')\n",
    "    print(display(data[['Price','Power','Kilometer']].describe()))\n",
    "    print('__________________________________________________________________________________________________________')\n",
    "    print('# of missing values:')\n",
    "    print(data.isna().sum())\n",
    "    print('__________________________________________________________________________________________________________')\n",
    "    print('# of dublicates:')\n",
    "    print(data.duplicated().sum())\n",
    "    print('__________________________________________________________________________________________________________')"
   ]
  },
  {
   "cell_type": "code",
   "execution_count": 4,
   "metadata": {},
   "outputs": [
    {
     "name": "stdout",
     "output_type": "stream",
     "text": [
      "<class 'pandas.core.frame.DataFrame'>\n",
      "RangeIndex: 354369 entries, 0 to 354368\n",
      "Data columns (total 16 columns):\n",
      " #   Column             Non-Null Count   Dtype \n",
      "---  ------             --------------   ----- \n",
      " 0   DateCrawled        354369 non-null  object\n",
      " 1   Price              354369 non-null  int64 \n",
      " 2   VehicleType        316879 non-null  object\n",
      " 3   RegistrationYear   354369 non-null  int64 \n",
      " 4   Gearbox            334536 non-null  object\n",
      " 5   Power              354369 non-null  int64 \n",
      " 6   Model              334664 non-null  object\n",
      " 7   Kilometer          354369 non-null  int64 \n",
      " 8   RegistrationMonth  354369 non-null  int64 \n",
      " 9   FuelType           321474 non-null  object\n",
      " 10  Brand              354369 non-null  object\n",
      " 11  Repaired           283215 non-null  object\n",
      " 12  DateCreated        354369 non-null  object\n",
      " 13  NumberOfPictures   354369 non-null  int64 \n",
      " 14  PostalCode         354369 non-null  int64 \n",
      " 15  LastSeen           354369 non-null  object\n",
      "dtypes: int64(7), object(9)\n",
      "memory usage: 43.3+ MB\n",
      "None\n",
      "__________________________________________________________________________________________________________\n"
     ]
    },
    {
     "data": {
      "text/html": [
       "<div>\n",
       "<style scoped>\n",
       "    .dataframe tbody tr th:only-of-type {\n",
       "        vertical-align: middle;\n",
       "    }\n",
       "\n",
       "    .dataframe tbody tr th {\n",
       "        vertical-align: top;\n",
       "    }\n",
       "\n",
       "    .dataframe thead th {\n",
       "        text-align: right;\n",
       "    }\n",
       "</style>\n",
       "<table border=\"1\" class=\"dataframe\">\n",
       "  <thead>\n",
       "    <tr style=\"text-align: right;\">\n",
       "      <th></th>\n",
       "      <th>DateCrawled</th>\n",
       "      <th>Price</th>\n",
       "      <th>VehicleType</th>\n",
       "      <th>RegistrationYear</th>\n",
       "      <th>Gearbox</th>\n",
       "      <th>Power</th>\n",
       "      <th>Model</th>\n",
       "      <th>Kilometer</th>\n",
       "      <th>RegistrationMonth</th>\n",
       "      <th>FuelType</th>\n",
       "      <th>Brand</th>\n",
       "      <th>Repaired</th>\n",
       "      <th>DateCreated</th>\n",
       "      <th>NumberOfPictures</th>\n",
       "      <th>PostalCode</th>\n",
       "      <th>LastSeen</th>\n",
       "    </tr>\n",
       "  </thead>\n",
       "  <tbody>\n",
       "    <tr>\n",
       "      <th>0</th>\n",
       "      <td>2016-03-24 11:52:17</td>\n",
       "      <td>480</td>\n",
       "      <td>NaN</td>\n",
       "      <td>1993</td>\n",
       "      <td>manual</td>\n",
       "      <td>0</td>\n",
       "      <td>golf</td>\n",
       "      <td>150000</td>\n",
       "      <td>0</td>\n",
       "      <td>petrol</td>\n",
       "      <td>volkswagen</td>\n",
       "      <td>NaN</td>\n",
       "      <td>2016-03-24 00:00:00</td>\n",
       "      <td>0</td>\n",
       "      <td>70435</td>\n",
       "      <td>2016-04-07 03:16:57</td>\n",
       "    </tr>\n",
       "    <tr>\n",
       "      <th>1</th>\n",
       "      <td>2016-03-24 10:58:45</td>\n",
       "      <td>18300</td>\n",
       "      <td>coupe</td>\n",
       "      <td>2011</td>\n",
       "      <td>manual</td>\n",
       "      <td>190</td>\n",
       "      <td>NaN</td>\n",
       "      <td>125000</td>\n",
       "      <td>5</td>\n",
       "      <td>gasoline</td>\n",
       "      <td>audi</td>\n",
       "      <td>yes</td>\n",
       "      <td>2016-03-24 00:00:00</td>\n",
       "      <td>0</td>\n",
       "      <td>66954</td>\n",
       "      <td>2016-04-07 01:46:50</td>\n",
       "    </tr>\n",
       "    <tr>\n",
       "      <th>2</th>\n",
       "      <td>2016-03-14 12:52:21</td>\n",
       "      <td>9800</td>\n",
       "      <td>suv</td>\n",
       "      <td>2004</td>\n",
       "      <td>auto</td>\n",
       "      <td>163</td>\n",
       "      <td>grand</td>\n",
       "      <td>125000</td>\n",
       "      <td>8</td>\n",
       "      <td>gasoline</td>\n",
       "      <td>jeep</td>\n",
       "      <td>NaN</td>\n",
       "      <td>2016-03-14 00:00:00</td>\n",
       "      <td>0</td>\n",
       "      <td>90480</td>\n",
       "      <td>2016-04-05 12:47:46</td>\n",
       "    </tr>\n",
       "    <tr>\n",
       "      <th>3</th>\n",
       "      <td>2016-03-17 16:54:04</td>\n",
       "      <td>1500</td>\n",
       "      <td>small</td>\n",
       "      <td>2001</td>\n",
       "      <td>manual</td>\n",
       "      <td>75</td>\n",
       "      <td>golf</td>\n",
       "      <td>150000</td>\n",
       "      <td>6</td>\n",
       "      <td>petrol</td>\n",
       "      <td>volkswagen</td>\n",
       "      <td>no</td>\n",
       "      <td>2016-03-17 00:00:00</td>\n",
       "      <td>0</td>\n",
       "      <td>91074</td>\n",
       "      <td>2016-03-17 17:40:17</td>\n",
       "    </tr>\n",
       "    <tr>\n",
       "      <th>4</th>\n",
       "      <td>2016-03-31 17:25:20</td>\n",
       "      <td>3600</td>\n",
       "      <td>small</td>\n",
       "      <td>2008</td>\n",
       "      <td>manual</td>\n",
       "      <td>69</td>\n",
       "      <td>fabia</td>\n",
       "      <td>90000</td>\n",
       "      <td>7</td>\n",
       "      <td>gasoline</td>\n",
       "      <td>skoda</td>\n",
       "      <td>no</td>\n",
       "      <td>2016-03-31 00:00:00</td>\n",
       "      <td>0</td>\n",
       "      <td>60437</td>\n",
       "      <td>2016-04-06 10:17:21</td>\n",
       "    </tr>\n",
       "    <tr>\n",
       "      <th>5</th>\n",
       "      <td>2016-04-04 17:36:23</td>\n",
       "      <td>650</td>\n",
       "      <td>sedan</td>\n",
       "      <td>1995</td>\n",
       "      <td>manual</td>\n",
       "      <td>102</td>\n",
       "      <td>3er</td>\n",
       "      <td>150000</td>\n",
       "      <td>10</td>\n",
       "      <td>petrol</td>\n",
       "      <td>bmw</td>\n",
       "      <td>yes</td>\n",
       "      <td>2016-04-04 00:00:00</td>\n",
       "      <td>0</td>\n",
       "      <td>33775</td>\n",
       "      <td>2016-04-06 19:17:07</td>\n",
       "    </tr>\n",
       "    <tr>\n",
       "      <th>6</th>\n",
       "      <td>2016-04-01 20:48:51</td>\n",
       "      <td>2200</td>\n",
       "      <td>convertible</td>\n",
       "      <td>2004</td>\n",
       "      <td>manual</td>\n",
       "      <td>109</td>\n",
       "      <td>2_reihe</td>\n",
       "      <td>150000</td>\n",
       "      <td>8</td>\n",
       "      <td>petrol</td>\n",
       "      <td>peugeot</td>\n",
       "      <td>no</td>\n",
       "      <td>2016-04-01 00:00:00</td>\n",
       "      <td>0</td>\n",
       "      <td>67112</td>\n",
       "      <td>2016-04-05 18:18:39</td>\n",
       "    </tr>\n",
       "    <tr>\n",
       "      <th>7</th>\n",
       "      <td>2016-03-21 18:54:38</td>\n",
       "      <td>0</td>\n",
       "      <td>sedan</td>\n",
       "      <td>1980</td>\n",
       "      <td>manual</td>\n",
       "      <td>50</td>\n",
       "      <td>other</td>\n",
       "      <td>40000</td>\n",
       "      <td>7</td>\n",
       "      <td>petrol</td>\n",
       "      <td>volkswagen</td>\n",
       "      <td>no</td>\n",
       "      <td>2016-03-21 00:00:00</td>\n",
       "      <td>0</td>\n",
       "      <td>19348</td>\n",
       "      <td>2016-03-25 16:47:58</td>\n",
       "    </tr>\n",
       "    <tr>\n",
       "      <th>8</th>\n",
       "      <td>2016-04-04 23:42:13</td>\n",
       "      <td>14500</td>\n",
       "      <td>bus</td>\n",
       "      <td>2014</td>\n",
       "      <td>manual</td>\n",
       "      <td>125</td>\n",
       "      <td>c_max</td>\n",
       "      <td>30000</td>\n",
       "      <td>8</td>\n",
       "      <td>petrol</td>\n",
       "      <td>ford</td>\n",
       "      <td>NaN</td>\n",
       "      <td>2016-04-04 00:00:00</td>\n",
       "      <td>0</td>\n",
       "      <td>94505</td>\n",
       "      <td>2016-04-04 23:42:13</td>\n",
       "    </tr>\n",
       "    <tr>\n",
       "      <th>9</th>\n",
       "      <td>2016-03-17 10:53:50</td>\n",
       "      <td>999</td>\n",
       "      <td>small</td>\n",
       "      <td>1998</td>\n",
       "      <td>manual</td>\n",
       "      <td>101</td>\n",
       "      <td>golf</td>\n",
       "      <td>150000</td>\n",
       "      <td>0</td>\n",
       "      <td>NaN</td>\n",
       "      <td>volkswagen</td>\n",
       "      <td>NaN</td>\n",
       "      <td>2016-03-17 00:00:00</td>\n",
       "      <td>0</td>\n",
       "      <td>27472</td>\n",
       "      <td>2016-03-31 17:17:06</td>\n",
       "    </tr>\n",
       "  </tbody>\n",
       "</table>\n",
       "</div>"
      ],
      "text/plain": [
       "           DateCrawled  Price  VehicleType  RegistrationYear Gearbox  Power  \\\n",
       "0  2016-03-24 11:52:17    480          NaN              1993  manual      0   \n",
       "1  2016-03-24 10:58:45  18300        coupe              2011  manual    190   \n",
       "2  2016-03-14 12:52:21   9800          suv              2004    auto    163   \n",
       "3  2016-03-17 16:54:04   1500        small              2001  manual     75   \n",
       "4  2016-03-31 17:25:20   3600        small              2008  manual     69   \n",
       "5  2016-04-04 17:36:23    650        sedan              1995  manual    102   \n",
       "6  2016-04-01 20:48:51   2200  convertible              2004  manual    109   \n",
       "7  2016-03-21 18:54:38      0        sedan              1980  manual     50   \n",
       "8  2016-04-04 23:42:13  14500          bus              2014  manual    125   \n",
       "9  2016-03-17 10:53:50    999        small              1998  manual    101   \n",
       "\n",
       "     Model  Kilometer  RegistrationMonth  FuelType       Brand Repaired  \\\n",
       "0     golf     150000                  0    petrol  volkswagen      NaN   \n",
       "1      NaN     125000                  5  gasoline        audi      yes   \n",
       "2    grand     125000                  8  gasoline        jeep      NaN   \n",
       "3     golf     150000                  6    petrol  volkswagen       no   \n",
       "4    fabia      90000                  7  gasoline       skoda       no   \n",
       "5      3er     150000                 10    petrol         bmw      yes   \n",
       "6  2_reihe     150000                  8    petrol     peugeot       no   \n",
       "7    other      40000                  7    petrol  volkswagen       no   \n",
       "8    c_max      30000                  8    petrol        ford      NaN   \n",
       "9     golf     150000                  0       NaN  volkswagen      NaN   \n",
       "\n",
       "           DateCreated  NumberOfPictures  PostalCode             LastSeen  \n",
       "0  2016-03-24 00:00:00                 0       70435  2016-04-07 03:16:57  \n",
       "1  2016-03-24 00:00:00                 0       66954  2016-04-07 01:46:50  \n",
       "2  2016-03-14 00:00:00                 0       90480  2016-04-05 12:47:46  \n",
       "3  2016-03-17 00:00:00                 0       91074  2016-03-17 17:40:17  \n",
       "4  2016-03-31 00:00:00                 0       60437  2016-04-06 10:17:21  \n",
       "5  2016-04-04 00:00:00                 0       33775  2016-04-06 19:17:07  \n",
       "6  2016-04-01 00:00:00                 0       67112  2016-04-05 18:18:39  \n",
       "7  2016-03-21 00:00:00                 0       19348  2016-03-25 16:47:58  \n",
       "8  2016-04-04 00:00:00                 0       94505  2016-04-04 23:42:13  \n",
       "9  2016-03-17 00:00:00                 0       27472  2016-03-31 17:17:06  "
      ]
     },
     "metadata": {},
     "output_type": "display_data"
    },
    {
     "name": "stdout",
     "output_type": "stream",
     "text": [
      "None\n",
      "__________________________________________________________________________________________________________\n"
     ]
    },
    {
     "data": {
      "text/html": [
       "<div>\n",
       "<style scoped>\n",
       "    .dataframe tbody tr th:only-of-type {\n",
       "        vertical-align: middle;\n",
       "    }\n",
       "\n",
       "    .dataframe tbody tr th {\n",
       "        vertical-align: top;\n",
       "    }\n",
       "\n",
       "    .dataframe thead th {\n",
       "        text-align: right;\n",
       "    }\n",
       "</style>\n",
       "<table border=\"1\" class=\"dataframe\">\n",
       "  <thead>\n",
       "    <tr style=\"text-align: right;\">\n",
       "      <th></th>\n",
       "      <th>Price</th>\n",
       "      <th>Power</th>\n",
       "      <th>Kilometer</th>\n",
       "    </tr>\n",
       "  </thead>\n",
       "  <tbody>\n",
       "    <tr>\n",
       "      <th>count</th>\n",
       "      <td>354369.000000</td>\n",
       "      <td>354369.000000</td>\n",
       "      <td>354369.000000</td>\n",
       "    </tr>\n",
       "    <tr>\n",
       "      <th>mean</th>\n",
       "      <td>4416.656776</td>\n",
       "      <td>110.094337</td>\n",
       "      <td>128211.172535</td>\n",
       "    </tr>\n",
       "    <tr>\n",
       "      <th>std</th>\n",
       "      <td>4514.158514</td>\n",
       "      <td>189.850405</td>\n",
       "      <td>37905.341530</td>\n",
       "    </tr>\n",
       "    <tr>\n",
       "      <th>min</th>\n",
       "      <td>0.000000</td>\n",
       "      <td>0.000000</td>\n",
       "      <td>5000.000000</td>\n",
       "    </tr>\n",
       "    <tr>\n",
       "      <th>25%</th>\n",
       "      <td>1050.000000</td>\n",
       "      <td>69.000000</td>\n",
       "      <td>125000.000000</td>\n",
       "    </tr>\n",
       "    <tr>\n",
       "      <th>50%</th>\n",
       "      <td>2700.000000</td>\n",
       "      <td>105.000000</td>\n",
       "      <td>150000.000000</td>\n",
       "    </tr>\n",
       "    <tr>\n",
       "      <th>75%</th>\n",
       "      <td>6400.000000</td>\n",
       "      <td>143.000000</td>\n",
       "      <td>150000.000000</td>\n",
       "    </tr>\n",
       "    <tr>\n",
       "      <th>max</th>\n",
       "      <td>20000.000000</td>\n",
       "      <td>20000.000000</td>\n",
       "      <td>150000.000000</td>\n",
       "    </tr>\n",
       "  </tbody>\n",
       "</table>\n",
       "</div>"
      ],
      "text/plain": [
       "               Price          Power      Kilometer\n",
       "count  354369.000000  354369.000000  354369.000000\n",
       "mean     4416.656776     110.094337  128211.172535\n",
       "std      4514.158514     189.850405   37905.341530\n",
       "min         0.000000       0.000000    5000.000000\n",
       "25%      1050.000000      69.000000  125000.000000\n",
       "50%      2700.000000     105.000000  150000.000000\n",
       "75%      6400.000000     143.000000  150000.000000\n",
       "max     20000.000000   20000.000000  150000.000000"
      ]
     },
     "metadata": {},
     "output_type": "display_data"
    },
    {
     "name": "stdout",
     "output_type": "stream",
     "text": [
      "None\n",
      "__________________________________________________________________________________________________________\n",
      "# of missing values:\n",
      "DateCrawled              0\n",
      "Price                    0\n",
      "VehicleType          37490\n",
      "RegistrationYear         0\n",
      "Gearbox              19833\n",
      "Power                    0\n",
      "Model                19705\n",
      "Kilometer                0\n",
      "RegistrationMonth        0\n",
      "FuelType             32895\n",
      "Brand                    0\n",
      "Repaired             71154\n",
      "DateCreated              0\n",
      "NumberOfPictures         0\n",
      "PostalCode               0\n",
      "LastSeen                 0\n",
      "dtype: int64\n",
      "__________________________________________________________________________________________________________\n",
      "# of dublicates:\n",
      "4\n",
      "__________________________________________________________________________________________________________\n"
     ]
    }
   ],
   "source": [
    "general_analysis(data)"
   ]
  },
  {
   "cell_type": "code",
   "execution_count": 5,
   "metadata": {},
   "outputs": [
    {
     "data": {
      "text/html": [
       "<div>\n",
       "<style scoped>\n",
       "    .dataframe tbody tr th:only-of-type {\n",
       "        vertical-align: middle;\n",
       "    }\n",
       "\n",
       "    .dataframe tbody tr th {\n",
       "        vertical-align: top;\n",
       "    }\n",
       "\n",
       "    .dataframe thead th {\n",
       "        text-align: right;\n",
       "    }\n",
       "</style>\n",
       "<table border=\"1\" class=\"dataframe\">\n",
       "  <thead>\n",
       "    <tr style=\"text-align: right;\">\n",
       "      <th></th>\n",
       "      <th>DateCrawled</th>\n",
       "      <th>Price</th>\n",
       "      <th>VehicleType</th>\n",
       "      <th>RegistrationYear</th>\n",
       "      <th>Gearbox</th>\n",
       "      <th>Power</th>\n",
       "      <th>Model</th>\n",
       "      <th>Kilometer</th>\n",
       "      <th>RegistrationMonth</th>\n",
       "      <th>FuelType</th>\n",
       "      <th>Brand</th>\n",
       "      <th>Repaired</th>\n",
       "      <th>DateCreated</th>\n",
       "      <th>NumberOfPictures</th>\n",
       "      <th>PostalCode</th>\n",
       "      <th>LastSeen</th>\n",
       "    </tr>\n",
       "  </thead>\n",
       "  <tbody>\n",
       "    <tr>\n",
       "      <th>0</th>\n",
       "      <td>2016-03-24 11:52:17</td>\n",
       "      <td>480</td>\n",
       "      <td>NaN</td>\n",
       "      <td>1993</td>\n",
       "      <td>manual</td>\n",
       "      <td>0</td>\n",
       "      <td>golf</td>\n",
       "      <td>150000</td>\n",
       "      <td>0</td>\n",
       "      <td>petrol</td>\n",
       "      <td>volkswagen</td>\n",
       "      <td>NaN</td>\n",
       "      <td>2016-03-24 00:00:00</td>\n",
       "      <td>0</td>\n",
       "      <td>70435</td>\n",
       "      <td>2016-04-07 03:16:57</td>\n",
       "    </tr>\n",
       "    <tr>\n",
       "      <th>1</th>\n",
       "      <td>2016-03-24 10:58:45</td>\n",
       "      <td>18300</td>\n",
       "      <td>coupe</td>\n",
       "      <td>2011</td>\n",
       "      <td>manual</td>\n",
       "      <td>190</td>\n",
       "      <td>NaN</td>\n",
       "      <td>125000</td>\n",
       "      <td>5</td>\n",
       "      <td>gasoline</td>\n",
       "      <td>audi</td>\n",
       "      <td>yes</td>\n",
       "      <td>2016-03-24 00:00:00</td>\n",
       "      <td>0</td>\n",
       "      <td>66954</td>\n",
       "      <td>2016-04-07 01:46:50</td>\n",
       "    </tr>\n",
       "    <tr>\n",
       "      <th>2</th>\n",
       "      <td>2016-03-14 12:52:21</td>\n",
       "      <td>9800</td>\n",
       "      <td>suv</td>\n",
       "      <td>2004</td>\n",
       "      <td>auto</td>\n",
       "      <td>163</td>\n",
       "      <td>grand</td>\n",
       "      <td>125000</td>\n",
       "      <td>8</td>\n",
       "      <td>gasoline</td>\n",
       "      <td>jeep</td>\n",
       "      <td>NaN</td>\n",
       "      <td>2016-03-14 00:00:00</td>\n",
       "      <td>0</td>\n",
       "      <td>90480</td>\n",
       "      <td>2016-04-05 12:47:46</td>\n",
       "    </tr>\n",
       "    <tr>\n",
       "      <th>3</th>\n",
       "      <td>2016-03-17 16:54:04</td>\n",
       "      <td>1500</td>\n",
       "      <td>small</td>\n",
       "      <td>2001</td>\n",
       "      <td>manual</td>\n",
       "      <td>75</td>\n",
       "      <td>golf</td>\n",
       "      <td>150000</td>\n",
       "      <td>6</td>\n",
       "      <td>petrol</td>\n",
       "      <td>volkswagen</td>\n",
       "      <td>no</td>\n",
       "      <td>2016-03-17 00:00:00</td>\n",
       "      <td>0</td>\n",
       "      <td>91074</td>\n",
       "      <td>2016-03-17 17:40:17</td>\n",
       "    </tr>\n",
       "    <tr>\n",
       "      <th>4</th>\n",
       "      <td>2016-03-31 17:25:20</td>\n",
       "      <td>3600</td>\n",
       "      <td>small</td>\n",
       "      <td>2008</td>\n",
       "      <td>manual</td>\n",
       "      <td>69</td>\n",
       "      <td>fabia</td>\n",
       "      <td>90000</td>\n",
       "      <td>7</td>\n",
       "      <td>gasoline</td>\n",
       "      <td>skoda</td>\n",
       "      <td>no</td>\n",
       "      <td>2016-03-31 00:00:00</td>\n",
       "      <td>0</td>\n",
       "      <td>60437</td>\n",
       "      <td>2016-04-06 10:17:21</td>\n",
       "    </tr>\n",
       "  </tbody>\n",
       "</table>\n",
       "</div>"
      ],
      "text/plain": [
       "           DateCrawled  Price VehicleType  RegistrationYear Gearbox  Power  \\\n",
       "0  2016-03-24 11:52:17    480         NaN              1993  manual      0   \n",
       "1  2016-03-24 10:58:45  18300       coupe              2011  manual    190   \n",
       "2  2016-03-14 12:52:21   9800         suv              2004    auto    163   \n",
       "3  2016-03-17 16:54:04   1500       small              2001  manual     75   \n",
       "4  2016-03-31 17:25:20   3600       small              2008  manual     69   \n",
       "\n",
       "   Model  Kilometer  RegistrationMonth  FuelType       Brand Repaired  \\\n",
       "0   golf     150000                  0    petrol  volkswagen      NaN   \n",
       "1    NaN     125000                  5  gasoline        audi      yes   \n",
       "2  grand     125000                  8  gasoline        jeep      NaN   \n",
       "3   golf     150000                  6    petrol  volkswagen       no   \n",
       "4  fabia      90000                  7  gasoline       skoda       no   \n",
       "\n",
       "           DateCreated  NumberOfPictures  PostalCode             LastSeen  \n",
       "0  2016-03-24 00:00:00                 0       70435  2016-04-07 03:16:57  \n",
       "1  2016-03-24 00:00:00                 0       66954  2016-04-07 01:46:50  \n",
       "2  2016-03-14 00:00:00                 0       90480  2016-04-05 12:47:46  \n",
       "3  2016-03-17 00:00:00                 0       91074  2016-03-17 17:40:17  \n",
       "4  2016-03-31 00:00:00                 0       60437  2016-04-06 10:17:21  "
      ]
     },
     "execution_count": 5,
     "metadata": {},
     "output_type": "execute_result"
    }
   ],
   "source": [
    "data.head(5)"
   ]
  },
  {
   "cell_type": "markdown",
   "metadata": {},
   "source": [
    "Based on the initial analysis, it can be noticed that there are quite a large number of variables in the dataset, most of which are categorical, and also have a significant number of omissions."
   ]
  },
  {
   "cell_type": "markdown",
   "metadata": {},
   "source": [
    "### Processing of omissions"
   ]
  },
  {
   "cell_type": "markdown",
   "metadata": {},
   "source": [
    "In the final dataset , omissions are observed in the following variables:\n",
    "* VehicleType \n",
    "* Gearbox\n",
    "* Model\n",
    "* FuelType\n",
    "* Repaired"
   ]
  },
  {
   "cell_type": "code",
   "execution_count": 6,
   "metadata": {},
   "outputs": [
    {
     "name": "stdout",
     "output_type": "stream",
     "text": [
      "[nan 'coupe' 'suv' 'small' 'sedan' 'convertible' 'bus' 'wagon' 'other']\n",
      "\n",
      "['manual' 'auto' nan]\n",
      "\n",
      "['golf' nan 'grand' 'fabia' '3er' '2_reihe' 'other' 'c_max' '3_reihe'\n",
      " 'passat' 'navara' 'ka' 'polo' 'twingo' 'a_klasse' 'scirocco' '5er'\n",
      " 'meriva' 'arosa' 'c4' 'civic' 'transporter' 'punto' 'e_klasse' 'clio'\n",
      " 'kadett' 'kangoo' 'corsa' 'one' 'fortwo' '1er' 'b_klasse' 'signum'\n",
      " 'astra' 'a8' 'jetta' 'fiesta' 'c_klasse' 'micra' 'vito' 'sprinter' '156'\n",
      " 'escort' 'forester' 'xc_reihe' 'scenic' 'a4' 'a1' 'insignia' 'combo'\n",
      " 'focus' 'tt' 'a6' 'jazz' 'omega' 'slk' '7er' '80' '147' '100' 'z_reihe'\n",
      " 'sportage' 'sorento' 'v40' 'ibiza' 'mustang' 'eos' 'touran' 'getz' 'a3'\n",
      " 'almera' 'megane' 'lupo' 'r19' 'zafira' 'caddy' 'mondeo' 'cordoba' 'colt'\n",
      " 'impreza' 'vectra' 'berlingo' 'tiguan' 'i_reihe' 'espace' 'sharan'\n",
      " '6_reihe' 'panda' 'up' 'seicento' 'ceed' '5_reihe' 'yeti' 'octavia' 'mii'\n",
      " 'rx_reihe' '6er' 'modus' 'fox' 'matiz' 'beetle' 'c1' 'rio' 'touareg'\n",
      " 'logan' 'spider' 'cuore' 's_max' 'a2' 'galaxy' 'c3' 'viano' 's_klasse'\n",
      " '1_reihe' 'avensis' 'roomster' 'sl' 'kaefer' 'santa' 'cooper' 'leon'\n",
      " '4_reihe' 'a5' '500' 'laguna' 'ptcruiser' 'clk' 'primera' 'x_reihe'\n",
      " 'exeo' '159' 'transit' 'juke' 'qashqai' 'carisma' 'accord' 'corolla'\n",
      " 'lanos' 'phaeton' 'verso' 'swift' 'rav' 'picanto' 'boxster' 'kalos'\n",
      " 'superb' 'stilo' 'alhambra' 'mx_reihe' 'roadster' 'ypsilon' 'cayenne'\n",
      " 'galant' 'justy' '90' 'sirion' 'crossfire' 'agila' 'duster' 'cr_reihe'\n",
      " 'v50' 'c_reihe' 'v_klasse' 'm_klasse' 'yaris' 'c5' 'aygo' 'cc' 'carnival'\n",
      " 'fusion' '911' 'bora' 'forfour' 'm_reihe' 'cl' 'tigra' '300c' 'spark'\n",
      " 'v70' 'kuga' 'x_type' 'ducato' 's_type' 'x_trail' 'toledo' 'altea'\n",
      " 'voyager' 'calibra' 'bravo' 'antara' 'tucson' 'citigo' 'jimny' 'wrangler'\n",
      " 'lybra' 'q7' 'lancer' 'captiva' 'c2' 'discovery' 'freelander' 'sandero'\n",
      " 'note' '900' 'cherokee' 'clubman' 'samara' 'defender' '601' 'cx_reihe'\n",
      " 'legacy' 'pajero' 'auris' 'niva' 's60' 'nubira' 'vivaro' 'g_klasse'\n",
      " 'lodgy' '850' 'range_rover' 'q3' 'serie_2' 'glk' 'charade' 'croma'\n",
      " 'outlander' 'doblo' 'musa' 'move' '9000' 'v60' '145' 'aveo' '200' 'b_max'\n",
      " 'range_rover_sport' 'terios' 'rangerover' 'q5' 'range_rover_evoque'\n",
      " 'materia' 'delta' 'gl' 'kalina' 'amarok' 'elefantino' 'i3' 'kappa'\n",
      " 'serie_3' 'serie_1']\n",
      "\n",
      "['petrol' 'gasoline' nan 'lpg' 'other' 'hybrid' 'cng' 'electric']\n",
      "\n",
      "[nan 'yes' 'no']\n"
     ]
    }
   ],
   "source": [
    "print(data['VehicleType'].unique())\n",
    "print()\n",
    "print(data['Gearbox'].unique())\n",
    "print()\n",
    "print(data['Model'].unique())\n",
    "print()\n",
    "print(data['FuelType'].unique())\n",
    "print()\n",
    "print(data['Repaired'].unique())"
   ]
  },
  {
   "cell_type": "markdown",
   "metadata": {},
   "source": [
    "1. **Vehicle Type, vehicle type**\\\n",
    "The missing values of the car type can be restored by other lines of the dataframe. \n",
    "\n",
    "2. **Gearbox, box type**\\\n",
    "We will replace the missing values with the most frequently encountered type in the dataset. \n",
    "\n",
    "3. **Model, car model**\\\n",
    "We will replace the missing values with a separate unknown category.\n",
    "\n",
    "4. **FuelType, fuel type**\\\n",
    "The missing fuel type values can be restored using other dataframe lines. \n",
    "\n",
    "5. **Repaired, has it been repaired**\\\n",
    "Let's say if the deposit is not filled, then the car has not been repaired."
   ]
  },
  {
   "cell_type": "code",
   "execution_count": 7,
   "metadata": {},
   "outputs": [
    {
     "data": {
      "text/plain": [
       "manual    268251\n",
       "auto       66285\n",
       "Name: Gearbox, dtype: int64"
      ]
     },
     "execution_count": 7,
     "metadata": {},
     "output_type": "execute_result"
    }
   ],
   "source": [
    "data['Gearbox'].value_counts()"
   ]
  },
  {
   "cell_type": "code",
   "execution_count": 8,
   "metadata": {},
   "outputs": [
    {
     "data": {
      "text/plain": [
       "DateCrawled              0\n",
       "Price                    0\n",
       "VehicleType          37490\n",
       "RegistrationYear         0\n",
       "Gearbox                  0\n",
       "Power                    0\n",
       "Model                    0\n",
       "Kilometer                0\n",
       "RegistrationMonth        0\n",
       "FuelType             32895\n",
       "Brand                    0\n",
       "Repaired                 0\n",
       "DateCreated              0\n",
       "NumberOfPictures         0\n",
       "PostalCode               0\n",
       "LastSeen                 0\n",
       "dtype: int64"
      ]
     },
     "execution_count": 8,
     "metadata": {},
     "output_type": "execute_result"
    }
   ],
   "source": [
    "data.fillna({'Gearbox':'manual', 'Repaired':'no','Model':'unknown'},inplace=True)\n",
    "data.isna().sum()"
   ]
  },
  {
   "cell_type": "code",
   "execution_count": 9,
   "metadata": {},
   "outputs": [
    {
     "data": {
      "text/html": [
       "<div>\n",
       "<style scoped>\n",
       "    .dataframe tbody tr th:only-of-type {\n",
       "        vertical-align: middle;\n",
       "    }\n",
       "\n",
       "    .dataframe tbody tr th {\n",
       "        vertical-align: top;\n",
       "    }\n",
       "\n",
       "    .dataframe thead th {\n",
       "        text-align: right;\n",
       "    }\n",
       "</style>\n",
       "<table border=\"1\" class=\"dataframe\">\n",
       "  <thead>\n",
       "    <tr style=\"text-align: right;\">\n",
       "      <th></th>\n",
       "      <th>VehicleType</th>\n",
       "      <th>Model</th>\n",
       "      <th>FuelType</th>\n",
       "    </tr>\n",
       "  </thead>\n",
       "  <tbody>\n",
       "    <tr>\n",
       "      <th>0</th>\n",
       "      <td>NaN</td>\n",
       "      <td>golf</td>\n",
       "      <td>petrol</td>\n",
       "    </tr>\n",
       "    <tr>\n",
       "      <th>1</th>\n",
       "      <td>coupe</td>\n",
       "      <td>unknown</td>\n",
       "      <td>gasoline</td>\n",
       "    </tr>\n",
       "    <tr>\n",
       "      <th>2</th>\n",
       "      <td>suv</td>\n",
       "      <td>grand</td>\n",
       "      <td>gasoline</td>\n",
       "    </tr>\n",
       "    <tr>\n",
       "      <th>3</th>\n",
       "      <td>small</td>\n",
       "      <td>golf</td>\n",
       "      <td>petrol</td>\n",
       "    </tr>\n",
       "    <tr>\n",
       "      <th>4</th>\n",
       "      <td>small</td>\n",
       "      <td>fabia</td>\n",
       "      <td>gasoline</td>\n",
       "    </tr>\n",
       "    <tr>\n",
       "      <th>5</th>\n",
       "      <td>sedan</td>\n",
       "      <td>3er</td>\n",
       "      <td>petrol</td>\n",
       "    </tr>\n",
       "    <tr>\n",
       "      <th>6</th>\n",
       "      <td>convertible</td>\n",
       "      <td>2_reihe</td>\n",
       "      <td>petrol</td>\n",
       "    </tr>\n",
       "    <tr>\n",
       "      <th>7</th>\n",
       "      <td>sedan</td>\n",
       "      <td>other</td>\n",
       "      <td>petrol</td>\n",
       "    </tr>\n",
       "    <tr>\n",
       "      <th>8</th>\n",
       "      <td>bus</td>\n",
       "      <td>c_max</td>\n",
       "      <td>petrol</td>\n",
       "    </tr>\n",
       "    <tr>\n",
       "      <th>9</th>\n",
       "      <td>small</td>\n",
       "      <td>golf</td>\n",
       "      <td>NaN</td>\n",
       "    </tr>\n",
       "    <tr>\n",
       "      <th>10</th>\n",
       "      <td>sedan</td>\n",
       "      <td>3_reihe</td>\n",
       "      <td>petrol</td>\n",
       "    </tr>\n",
       "    <tr>\n",
       "      <th>11</th>\n",
       "      <td>wagon</td>\n",
       "      <td>passat</td>\n",
       "      <td>gasoline</td>\n",
       "    </tr>\n",
       "    <tr>\n",
       "      <th>12</th>\n",
       "      <td>wagon</td>\n",
       "      <td>passat</td>\n",
       "      <td>petrol</td>\n",
       "    </tr>\n",
       "    <tr>\n",
       "      <th>13</th>\n",
       "      <td>wagon</td>\n",
       "      <td>passat</td>\n",
       "      <td>NaN</td>\n",
       "    </tr>\n",
       "    <tr>\n",
       "      <th>14</th>\n",
       "      <td>suv</td>\n",
       "      <td>navara</td>\n",
       "      <td>gasoline</td>\n",
       "    </tr>\n",
       "    <tr>\n",
       "      <th>15</th>\n",
       "      <td>small</td>\n",
       "      <td>ka</td>\n",
       "      <td>petrol</td>\n",
       "    </tr>\n",
       "    <tr>\n",
       "      <th>16</th>\n",
       "      <td>NaN</td>\n",
       "      <td>polo</td>\n",
       "      <td>petrol</td>\n",
       "    </tr>\n",
       "    <tr>\n",
       "      <th>17</th>\n",
       "      <td>small</td>\n",
       "      <td>twingo</td>\n",
       "      <td>petrol</td>\n",
       "    </tr>\n",
       "    <tr>\n",
       "      <th>18</th>\n",
       "      <td>bus</td>\n",
       "      <td>c_max</td>\n",
       "      <td>gasoline</td>\n",
       "    </tr>\n",
       "    <tr>\n",
       "      <th>19</th>\n",
       "      <td>bus</td>\n",
       "      <td>a_klasse</td>\n",
       "      <td>petrol</td>\n",
       "    </tr>\n",
       "    <tr>\n",
       "      <th>20</th>\n",
       "      <td>coupe</td>\n",
       "      <td>scirocco</td>\n",
       "      <td>petrol</td>\n",
       "    </tr>\n",
       "    <tr>\n",
       "      <th>21</th>\n",
       "      <td>sedan</td>\n",
       "      <td>5er</td>\n",
       "      <td>petrol</td>\n",
       "    </tr>\n",
       "    <tr>\n",
       "      <th>22</th>\n",
       "      <td>NaN</td>\n",
       "      <td>meriva</td>\n",
       "      <td>petrol</td>\n",
       "    </tr>\n",
       "    <tr>\n",
       "      <th>23</th>\n",
       "      <td>small</td>\n",
       "      <td>arosa</td>\n",
       "      <td>petrol</td>\n",
       "    </tr>\n",
       "    <tr>\n",
       "      <th>24</th>\n",
       "      <td>sedan</td>\n",
       "      <td>other</td>\n",
       "      <td>petrol</td>\n",
       "    </tr>\n",
       "    <tr>\n",
       "      <th>25</th>\n",
       "      <td>wagon</td>\n",
       "      <td>5er</td>\n",
       "      <td>gasoline</td>\n",
       "    </tr>\n",
       "    <tr>\n",
       "      <th>26</th>\n",
       "      <td>NaN</td>\n",
       "      <td>c4</td>\n",
       "      <td>NaN</td>\n",
       "    </tr>\n",
       "    <tr>\n",
       "      <th>27</th>\n",
       "      <td>sedan</td>\n",
       "      <td>civic</td>\n",
       "      <td>petrol</td>\n",
       "    </tr>\n",
       "    <tr>\n",
       "      <th>28</th>\n",
       "      <td>bus</td>\n",
       "      <td>transporter</td>\n",
       "      <td>petrol</td>\n",
       "    </tr>\n",
       "    <tr>\n",
       "      <th>29</th>\n",
       "      <td>small</td>\n",
       "      <td>punto</td>\n",
       "      <td>petrol</td>\n",
       "    </tr>\n",
       "  </tbody>\n",
       "</table>\n",
       "</div>"
      ],
      "text/plain": [
       "    VehicleType        Model  FuelType\n",
       "0           NaN         golf    petrol\n",
       "1         coupe      unknown  gasoline\n",
       "2           suv        grand  gasoline\n",
       "3         small         golf    petrol\n",
       "4         small        fabia  gasoline\n",
       "5         sedan          3er    petrol\n",
       "6   convertible      2_reihe    petrol\n",
       "7         sedan        other    petrol\n",
       "8           bus        c_max    petrol\n",
       "9         small         golf       NaN\n",
       "10        sedan      3_reihe    petrol\n",
       "11        wagon       passat  gasoline\n",
       "12        wagon       passat    petrol\n",
       "13        wagon       passat       NaN\n",
       "14          suv       navara  gasoline\n",
       "15        small           ka    petrol\n",
       "16          NaN         polo    petrol\n",
       "17        small       twingo    petrol\n",
       "18          bus        c_max  gasoline\n",
       "19          bus     a_klasse    petrol\n",
       "20        coupe     scirocco    petrol\n",
       "21        sedan          5er    petrol\n",
       "22          NaN       meriva    petrol\n",
       "23        small        arosa    petrol\n",
       "24        sedan        other    petrol\n",
       "25        wagon          5er  gasoline\n",
       "26          NaN           c4       NaN\n",
       "27        sedan        civic    petrol\n",
       "28          bus  transporter    petrol\n",
       "29        small        punto    petrol"
      ]
     },
     "execution_count": 9,
     "metadata": {},
     "output_type": "execute_result"
    }
   ],
   "source": [
    "data[['VehicleType','Model','FuelType']].head(30)"
   ]
  },
  {
   "cell_type": "code",
   "execution_count": 10,
   "metadata": {},
   "outputs": [],
   "source": [
    "veh_type_model = data.groupby('Model')['VehicleType'].first()\n",
    "data['VehicleType'] = data['VehicleType'].fillna(data['Model'].map(veh_type_model))"
   ]
  },
  {
   "cell_type": "code",
   "execution_count": 11,
   "metadata": {},
   "outputs": [
    {
     "data": {
      "text/plain": [
       "0"
      ]
     },
     "execution_count": 11,
     "metadata": {},
     "output_type": "execute_result"
    }
   ],
   "source": [
    "data['VehicleType'].isna().sum()"
   ]
  },
  {
   "cell_type": "code",
   "execution_count": 12,
   "metadata": {},
   "outputs": [],
   "source": [
    "fuel_model = data.groupby('Model')['FuelType'].first()\n",
    "data['FuelType'] = data['FuelType'].fillna(data['Model'].map(fuel_model))"
   ]
  },
  {
   "cell_type": "code",
   "execution_count": 13,
   "metadata": {},
   "outputs": [
    {
     "data": {
      "text/plain": [
       "0"
      ]
     },
     "execution_count": 13,
     "metadata": {},
     "output_type": "execute_result"
    }
   ],
   "source": [
    "data['FuelType'].isna().sum()"
   ]
  },
  {
   "cell_type": "code",
   "execution_count": 14,
   "metadata": {},
   "outputs": [
    {
     "data": {
      "text/plain": [
       "DateCrawled          0\n",
       "Price                0\n",
       "VehicleType          0\n",
       "RegistrationYear     0\n",
       "Gearbox              0\n",
       "Power                0\n",
       "Model                0\n",
       "Kilometer            0\n",
       "RegistrationMonth    0\n",
       "FuelType             0\n",
       "Brand                0\n",
       "Repaired             0\n",
       "DateCreated          0\n",
       "NumberOfPictures     0\n",
       "PostalCode           0\n",
       "LastSeen             0\n",
       "dtype: int64"
      ]
     },
     "execution_count": 14,
     "metadata": {},
     "output_type": "execute_result"
    }
   ],
   "source": [
    "data.isna().sum()"
   ]
  },
  {
   "cell_type": "markdown",
   "metadata": {},
   "source": [
    "As a result, there were no gaps left in the data."
   ]
  },
  {
   "cell_type": "markdown",
   "metadata": {},
   "source": [
    "### Removing anomalies"
   ]
  },
  {
   "cell_type": "markdown",
   "metadata": {},
   "source": [
    "Histograms for some parameters are plotted below."
   ]
  },
  {
   "cell_type": "code",
   "execution_count": 15,
   "metadata": {},
   "outputs": [
    {
     "data": {
      "image/png": "[encoded data removed]",
      "text/plain": [
       "<Figure size 2000x500 with 3 Axes>"
      ]
     },
     "metadata": {},
     "output_type": "display_data"
    }
   ],
   "source": [
    "fig, axs = plt.subplots(1, 3, figsize=(20,5))\n",
    "\n",
    "axs[0].hist(data['VehicleType'], bins=50)\n",
    "axs[0].set_title('VehicleType')\n",
    "\n",
    "axs[1].hist(data['RegistrationYear'], bins=100)\n",
    "axs[1].set_title('RegistrationYear')\n",
    "\n",
    "axs[2].hist(data['Gearbox'], bins=50)\n",
    "axs[2].set_title('Gearbox')\n",
    "plt.show()"
   ]
  },
  {
   "cell_type": "markdown",
   "metadata": {},
   "source": [
    "From the first graphs it can be seen that emissions are observed in the variable with the year of registration. We will find when the extreme ads were uploaded."
   ]
  },
  {
   "cell_type": "code",
   "execution_count": 16,
   "metadata": {},
   "outputs": [
    {
     "name": "stdout",
     "output_type": "stream",
     "text": [
      "2016-04-07 14:36:58\n"
     ]
    }
   ],
   "source": [
    "date_crawled = pd.to_datetime(data['DateCrawled'])\n",
    "print(date_crawled.max())"
   ]
  },
  {
   "cell_type": "code",
   "execution_count": 17,
   "metadata": {},
   "outputs": [
    {
     "name": "stdout",
     "output_type": "stream",
     "text": [
      "Axes(0.125,0.11;0.775x0.77)\n"
     ]
    },
    {
     "data": {
      "image/png": "[encoded data removed]",
      "text/plain": [
       "<Figure size 640x480 with 1 Axes>"
      ]
     },
     "metadata": {},
     "output_type": "display_data"
    }
   ],
   "source": [
    "data = data.query('RegistrationYear < 2017')\n",
    "print(data['RegistrationYear'].hist(bins=100))\n",
    "plt.show()"
   ]
  },
  {
   "cell_type": "code",
   "execution_count": 18,
   "metadata": {},
   "outputs": [
    {
     "name": "stdout",
     "output_type": "stream",
     "text": [
      "Axes(0.125,0.11;0.775x0.77)\n"
     ]
    },
    {
     "data": {
      "image/png": "[encoded data removed]",
      "text/plain": [
       "<Figure size 640x480 with 1 Axes>"
      ]
     },
     "metadata": {},
     "output_type": "display_data"
    }
   ],
   "source": [
    "data = data.query('1900 < RegistrationYear')\n",
    "print(data['RegistrationYear'].hist(bins=100))\n",
    "plt.show()"
   ]
  },
  {
   "cell_type": "code",
   "execution_count": 19,
   "metadata": {},
   "outputs": [
    {
     "data": {
      "image/png": "[encoded data removed]",
      "text/plain": [
       "<Figure size 2000x500 with 2 Axes>"
      ]
     },
     "metadata": {},
     "output_type": "display_data"
    }
   ],
   "source": [
    "fig, axs = plt.subplots(1, 2, figsize=(20,5))\n",
    "\n",
    "axs[0].hist(data['Power'], bins=200)\n",
    "axs[0].set_title('Power')\n",
    "\n",
    "axs[1].hist(data['Kilometer'], bins=100)\n",
    "axs[1].set_title('Kilometer')\n",
    "plt.show()"
   ]
  },
  {
   "cell_type": "code",
   "execution_count": 20,
   "metadata": {},
   "outputs": [
    {
     "name": "stdout",
     "output_type": "stream",
     "text": [
      "Axes(0.125,0.11;0.775x0.77)\n"
     ]
    },
    {
     "data": {
      "image/png": "[encoded data removed]",
      "text/plain": [
       "<Figure size 640x480 with 1 Axes>"
      ]
     },
     "metadata": {},
     "output_type": "display_data"
    }
   ],
   "source": [
    "data = data.query('Power < 1001')\n",
    "print(data['Power'].hist(bins=50))\n",
    "plt.show()"
   ]
  },
  {
   "cell_type": "markdown",
   "metadata": {},
   "source": [
    "There should be no zero values in the Power parameter, so they are then deleted."
   ]
  },
  {
   "cell_type": "code",
   "execution_count": 21,
   "metadata": {},
   "outputs": [
    {
     "name": "stdout",
     "output_type": "stream",
     "text": [
      "Axes(0.125,0.11;0.775x0.77)\n"
     ]
    },
    {
     "data": {
      "image/png": "[encoded data removed]",
      "text/plain": [
       "<Figure size 640x480 with 1 Axes>"
      ]
     },
     "metadata": {},
     "output_type": "display_data"
    }
   ],
   "source": [
    "data = data.query('0 < Power')\n",
    "print(data['Power'].hist(bins=50))"
   ]
  },
  {
   "cell_type": "code",
   "execution_count": 22,
   "metadata": {},
   "outputs": [
    {
     "name": "stdout",
     "output_type": "stream",
     "text": [
      "Axes(0.125,0.11;0.775x0.77)\n"
     ]
    },
    {
     "data": {
      "image/png": "[encoded data removed]",
      "text/plain": [
       "<Figure size 640x480 with 1 Axes>"
      ]
     },
     "metadata": {},
     "output_type": "display_data"
    }
   ],
   "source": [
    "print(data['Price'].hist(bins=100))"
   ]
  },
  {
   "cell_type": "code",
   "execution_count": 23,
   "metadata": {},
   "outputs": [
    {
     "data": {
      "text/plain": [
       "0        6406\n",
       "500      4475\n",
       "1500     4431\n",
       "1200     3737\n",
       "2500     3707\n",
       "         ... \n",
       "3021        1\n",
       "1368        1\n",
       "233         1\n",
       "11080       1\n",
       "10985       1\n",
       "Name: Price, Length: 3592, dtype: int64"
      ]
     },
     "execution_count": 23,
     "metadata": {},
     "output_type": "execute_result"
    }
   ],
   "source": [
    "data['Price'].value_counts()"
   ]
  },
  {
   "cell_type": "markdown",
   "metadata": {},
   "source": [
    "At the same time, a sufficiently large number of zero values are observed in the target variable, it is necessary to delete them."
   ]
  },
  {
   "cell_type": "code",
   "execution_count": 24,
   "metadata": {},
   "outputs": [
    {
     "data": {
      "text/plain": [
       "500      4475\n",
       "1500     4431\n",
       "1200     3737\n",
       "2500     3707\n",
       "1000     3612\n",
       "         ... \n",
       "3021        1\n",
       "1368        1\n",
       "233         1\n",
       "11080       1\n",
       "10985       1\n",
       "Name: Price, Length: 3591, dtype: int64"
      ]
     },
     "execution_count": 24,
     "metadata": {},
     "output_type": "execute_result"
    }
   ],
   "source": [
    "data = data.query('Price > 0')\n",
    "data['Price'].value_counts()"
   ]
  },
  {
   "cell_type": "markdown",
   "metadata": {},
   "source": [
    "What variables affect the market value of a car? \n",
    "\n",
    "* Vehicle Type - body type\n",
    "* RegistrationYear - the year of car registration\n",
    "* Gearbox - type of gearbox\n",
    "* Power - power\n",
    "* Model - model\n",
    "* Kilometer - mileage\n",
    "* FuelType - fuel type\n",
    "* Brand - brand\n",
    "* Repaired - if the car was repaired\n",
    "\n",
    "The remaining variables can be deleted."
   ]
  },
  {
   "cell_type": "code",
   "execution_count": 25,
   "metadata": {},
   "outputs": [],
   "source": [
    "data = data.drop(columns = ['DateCrawled','RegistrationMonth','DateCreated',\n",
    "                            'NumberOfPictures','PostalCode','LastSeen'], axis=1)"
   ]
  },
  {
   "cell_type": "code",
   "execution_count": 26,
   "metadata": {},
   "outputs": [
    {
     "name": "stdout",
     "output_type": "stream",
     "text": [
      "['coupe' 'suv' 'small' 'sedan' 'convertible' 'bus' 'wagon' 'other']\n",
      "\n",
      "['manual' 'auto']\n",
      "\n",
      "['unknown' 'grand' 'golf' 'fabia' '3er' '2_reihe' 'c_max' '3_reihe'\n",
      " 'passat' 'navara' 'polo' 'twingo' 'a_klasse' 'scirocco' '5er' 'arosa'\n",
      " 'other' 'civic' 'transporter' 'punto' 'e_klasse' 'clio' 'kadett' 'one'\n",
      " 'fortwo' '1er' 'b_klasse' 'a8' 'jetta' 'fiesta' 'c_klasse' 'micra' 'vito'\n",
      " 'sprinter' 'astra' '156' 'escort' 'forester' 'xc_reihe' 'scenic' 'ka'\n",
      " 'a1' 'focus' 'a4' 'tt' 'a6' 'jazz' 'omega' 'slk' '7er' 'combo' 'corsa'\n",
      " '80' '147' 'z_reihe' 'sorento' 'ibiza' 'mustang' 'eos' 'touran' 'getz'\n",
      " 'insignia' 'almera' 'megane' 'a3' 'lupo' 'r19' 'caddy' 'mondeo' 'cordoba'\n",
      " 'colt' 'impreza' 'vectra' 'berlingo' 'tiguan' '6_reihe' 'c4' 'panda' 'up'\n",
      " 'i_reihe' 'ceed' 'kangoo' '5_reihe' 'yeti' 'octavia' 'zafira' 'mii'\n",
      " 'rx_reihe' '6er' 'modus' 'fox' 'matiz' 'beetle' 'rio' 'touareg' 'logan'\n",
      " 'spider' 'cuore' 's_max' 'a2' 'galaxy' 'c3' 'viano' 's_klasse' '1_reihe'\n",
      " 'sharan' 'avensis' 'roomster' 'sl' 'kaefer' 'santa' 'leon' 'cooper'\n",
      " '4_reihe' 'a5' 'sportage' 'laguna' 'ptcruiser' 'clk' 'primera' 'espace'\n",
      " 'exeo' '159' 'transit' 'juke' 'x_reihe' 'v40' 'carisma' 'accord'\n",
      " 'corolla' 'lanos' 'phaeton' 'verso' 'swift' 'rav' 'qashqai' 'picanto'\n",
      " 'boxster' 'superb' 'stilo' 'alhambra' 'mx_reihe' 'roadster' 'ypsilon'\n",
      " 'galant' 'justy' '90' 'sirion' 'signum' 'crossfire' 'agila' 'duster'\n",
      " 'v50' '500' 'meriva' 'c_reihe' 'v_klasse' 'm_klasse' 'yaris' 'c5' 'aygo'\n",
      " 'seicento' 'cc' 'carnival' 'fusion' '911' 'bora' 'forfour' 'cl' 'tigra'\n",
      " '300c' '100' 'cr_reihe' 'spark' 'kuga' 'x_type' 'ducato' 's_type'\n",
      " 'x_trail' 'toledo' 'altea' 'voyager' 'calibra' 'v70' 'bravo' 'tucson'\n",
      " 'c1' 'citigo' 'jimny' 'cayenne' 'wrangler' 'lybra' 'lancer' 'captiva'\n",
      " 'discovery' 'freelander' 'sandero' 'q7' 'note' 'antara' '900' 'cherokee'\n",
      " 'clubman' 'defender' 'cx_reihe' 'legacy' 'pajero' 'auris' 'c2' 'niva'\n",
      " 's60' 'm_reihe' 'nubira' 'vivaro' 'g_klasse' 'lodgy' 'range_rover' '601'\n",
      " '850' 'q3' 'serie_2' 'glk' 'charade' 'croma' 'outlander' 'doblo' 'musa'\n",
      " '9000' 'kalos' 'v60' '200' '145' 'b_max' 'range_rover_sport' 'aveo'\n",
      " 'move' 'rangerover' 'q5' 'range_rover_evoque' 'materia' 'delta' 'terios'\n",
      " 'gl' 'kalina' 'elefantino' 'i3' 'samara' 'amarok' 'kappa' 'serie_3']\n",
      "\n",
      "['audi' 'jeep' 'volkswagen' 'skoda' 'bmw' 'peugeot' 'ford' 'mazda'\n",
      " 'nissan' 'renault' 'mercedes_benz' 'seat' 'honda' 'fiat' 'opel' 'mini'\n",
      " 'smart' 'hyundai' 'sonstige_autos' 'alfa_romeo' 'subaru' 'volvo'\n",
      " 'mitsubishi' 'kia' 'suzuki' 'lancia' 'citroen' 'toyota' 'chevrolet'\n",
      " 'dacia' 'daihatsu' 'chrysler' 'jaguar' 'daewoo' 'rover' 'porsche' 'saab'\n",
      " 'trabant' 'land_rover' 'lada']\n",
      "\n",
      "['gasoline' 'petrol' 'lpg' 'other' 'hybrid' 'cng' 'electric']\n",
      "\n",
      "['yes' 'no']\n"
     ]
    }
   ],
   "source": [
    "print(data['VehicleType'].unique())\n",
    "print()\n",
    "print(data['Gearbox'].unique())\n",
    "print()\n",
    "print(data['Model'].unique())\n",
    "print()\n",
    "print(data['Brand'].unique())\n",
    "print()\n",
    "print(data['FuelType'].unique())\n",
    "print()\n",
    "print(data['Repaired'].unique())"
   ]
  },
  {
   "cell_type": "code",
   "execution_count": 27,
   "metadata": {},
   "outputs": [
    {
     "data": {
      "text/html": [
       "<div>\n",
       "<style scoped>\n",
       "    .dataframe tbody tr th:only-of-type {\n",
       "        vertical-align: middle;\n",
       "    }\n",
       "\n",
       "    .dataframe tbody tr th {\n",
       "        vertical-align: top;\n",
       "    }\n",
       "\n",
       "    .dataframe thead th {\n",
       "        text-align: right;\n",
       "    }\n",
       "</style>\n",
       "<table border=\"1\" class=\"dataframe\">\n",
       "  <thead>\n",
       "    <tr style=\"text-align: right;\">\n",
       "      <th></th>\n",
       "      <th>Price</th>\n",
       "      <th>VehicleType</th>\n",
       "      <th>RegistrationYear</th>\n",
       "      <th>Gearbox</th>\n",
       "      <th>Power</th>\n",
       "      <th>Model</th>\n",
       "      <th>Kilometer</th>\n",
       "      <th>FuelType</th>\n",
       "      <th>Brand</th>\n",
       "      <th>Repaired</th>\n",
       "    </tr>\n",
       "  </thead>\n",
       "  <tbody>\n",
       "    <tr>\n",
       "      <th>1</th>\n",
       "      <td>18300</td>\n",
       "      <td>coupe</td>\n",
       "      <td>2011</td>\n",
       "      <td>manual</td>\n",
       "      <td>190</td>\n",
       "      <td>unknown</td>\n",
       "      <td>125000</td>\n",
       "      <td>gasoline</td>\n",
       "      <td>audi</td>\n",
       "      <td>yes</td>\n",
       "    </tr>\n",
       "    <tr>\n",
       "      <th>2</th>\n",
       "      <td>9800</td>\n",
       "      <td>suv</td>\n",
       "      <td>2004</td>\n",
       "      <td>auto</td>\n",
       "      <td>163</td>\n",
       "      <td>grand</td>\n",
       "      <td>125000</td>\n",
       "      <td>gasoline</td>\n",
       "      <td>jeep</td>\n",
       "      <td>no</td>\n",
       "    </tr>\n",
       "    <tr>\n",
       "      <th>3</th>\n",
       "      <td>1500</td>\n",
       "      <td>small</td>\n",
       "      <td>2001</td>\n",
       "      <td>manual</td>\n",
       "      <td>75</td>\n",
       "      <td>golf</td>\n",
       "      <td>150000</td>\n",
       "      <td>petrol</td>\n",
       "      <td>volkswagen</td>\n",
       "      <td>no</td>\n",
       "    </tr>\n",
       "    <tr>\n",
       "      <th>4</th>\n",
       "      <td>3600</td>\n",
       "      <td>small</td>\n",
       "      <td>2008</td>\n",
       "      <td>manual</td>\n",
       "      <td>69</td>\n",
       "      <td>fabia</td>\n",
       "      <td>90000</td>\n",
       "      <td>gasoline</td>\n",
       "      <td>skoda</td>\n",
       "      <td>no</td>\n",
       "    </tr>\n",
       "    <tr>\n",
       "      <th>5</th>\n",
       "      <td>650</td>\n",
       "      <td>sedan</td>\n",
       "      <td>1995</td>\n",
       "      <td>manual</td>\n",
       "      <td>102</td>\n",
       "      <td>3er</td>\n",
       "      <td>150000</td>\n",
       "      <td>petrol</td>\n",
       "      <td>bmw</td>\n",
       "      <td>yes</td>\n",
       "    </tr>\n",
       "    <tr>\n",
       "      <th>6</th>\n",
       "      <td>2200</td>\n",
       "      <td>convertible</td>\n",
       "      <td>2004</td>\n",
       "      <td>manual</td>\n",
       "      <td>109</td>\n",
       "      <td>2_reihe</td>\n",
       "      <td>150000</td>\n",
       "      <td>petrol</td>\n",
       "      <td>peugeot</td>\n",
       "      <td>no</td>\n",
       "    </tr>\n",
       "    <tr>\n",
       "      <th>8</th>\n",
       "      <td>14500</td>\n",
       "      <td>bus</td>\n",
       "      <td>2014</td>\n",
       "      <td>manual</td>\n",
       "      <td>125</td>\n",
       "      <td>c_max</td>\n",
       "      <td>30000</td>\n",
       "      <td>petrol</td>\n",
       "      <td>ford</td>\n",
       "      <td>no</td>\n",
       "    </tr>\n",
       "    <tr>\n",
       "      <th>9</th>\n",
       "      <td>999</td>\n",
       "      <td>small</td>\n",
       "      <td>1998</td>\n",
       "      <td>manual</td>\n",
       "      <td>101</td>\n",
       "      <td>golf</td>\n",
       "      <td>150000</td>\n",
       "      <td>petrol</td>\n",
       "      <td>volkswagen</td>\n",
       "      <td>no</td>\n",
       "    </tr>\n",
       "    <tr>\n",
       "      <th>10</th>\n",
       "      <td>2000</td>\n",
       "      <td>sedan</td>\n",
       "      <td>2004</td>\n",
       "      <td>manual</td>\n",
       "      <td>105</td>\n",
       "      <td>3_reihe</td>\n",
       "      <td>150000</td>\n",
       "      <td>petrol</td>\n",
       "      <td>mazda</td>\n",
       "      <td>no</td>\n",
       "    </tr>\n",
       "    <tr>\n",
       "      <th>11</th>\n",
       "      <td>2799</td>\n",
       "      <td>wagon</td>\n",
       "      <td>2005</td>\n",
       "      <td>manual</td>\n",
       "      <td>140</td>\n",
       "      <td>passat</td>\n",
       "      <td>150000</td>\n",
       "      <td>gasoline</td>\n",
       "      <td>volkswagen</td>\n",
       "      <td>yes</td>\n",
       "    </tr>\n",
       "  </tbody>\n",
       "</table>\n",
       "</div>"
      ],
      "text/plain": [
       "    Price  VehicleType  RegistrationYear Gearbox  Power    Model  Kilometer  \\\n",
       "1   18300        coupe              2011  manual    190  unknown     125000   \n",
       "2    9800          suv              2004    auto    163    grand     125000   \n",
       "3    1500        small              2001  manual     75     golf     150000   \n",
       "4    3600        small              2008  manual     69    fabia      90000   \n",
       "5     650        sedan              1995  manual    102      3er     150000   \n",
       "6    2200  convertible              2004  manual    109  2_reihe     150000   \n",
       "8   14500          bus              2014  manual    125    c_max      30000   \n",
       "9     999        small              1998  manual    101     golf     150000   \n",
       "10   2000        sedan              2004  manual    105  3_reihe     150000   \n",
       "11   2799        wagon              2005  manual    140   passat     150000   \n",
       "\n",
       "    FuelType       Brand Repaired  \n",
       "1   gasoline        audi      yes  \n",
       "2   gasoline        jeep       no  \n",
       "3     petrol  volkswagen       no  \n",
       "4   gasoline       skoda       no  \n",
       "5     petrol         bmw      yes  \n",
       "6     petrol     peugeot       no  \n",
       "8     petrol        ford       no  \n",
       "9     petrol  volkswagen       no  \n",
       "10    petrol       mazda       no  \n",
       "11  gasoline  volkswagen      yes  "
      ]
     },
     "execution_count": 27,
     "metadata": {},
     "output_type": "execute_result"
    }
   ],
   "source": [
    "data.head(10)"
   ]
  },
  {
   "cell_type": "markdown",
   "metadata": {},
   "source": [
    "As a result, we have two variables that can be converted to binary (Gearbox and Repaired)."
   ]
  },
  {
   "cell_type": "code",
   "execution_count": 28,
   "metadata": {},
   "outputs": [
    {
     "name": "stderr",
     "output_type": "stream",
     "text": [
      "/var/folders/s9/2dhk92k53t10g5010dcth9r80000gn/T/ipykernel_44205/2244569903.py:1: SettingWithCopyWarning: \n",
      "A value is trying to be set on a copy of a slice from a DataFrame\n",
      "\n",
      "See the caveats in the documentation: https://pandas.pydata.org/pandas-docs/stable/user_guide/indexing.html#returning-a-view-versus-a-copy\n",
      "  data['Gearbox'].loc[data['Gearbox'] == 'manual'] = 1\n",
      "/var/folders/s9/2dhk92k53t10g5010dcth9r80000gn/T/ipykernel_44205/2244569903.py:2: SettingWithCopyWarning: \n",
      "A value is trying to be set on a copy of a slice from a DataFrame\n",
      "\n",
      "See the caveats in the documentation: https://pandas.pydata.org/pandas-docs/stable/user_guide/indexing.html#returning-a-view-versus-a-copy\n",
      "  data['Gearbox'].loc[data['Gearbox'] == 'auto'] = 0\n"
     ]
    },
    {
     "data": {
      "text/plain": [
       "1    237682\n",
       "0     58955\n",
       "Name: Gearbox, dtype: int64"
      ]
     },
     "execution_count": 28,
     "metadata": {},
     "output_type": "execute_result"
    }
   ],
   "source": [
    "data['Gearbox'].loc[data['Gearbox'] == 'manual'] = 1\n",
    "data['Gearbox'].loc[data['Gearbox'] == 'auto'] = 0\n",
    "data['Gearbox'].value_counts()"
   ]
  },
  {
   "cell_type": "code",
   "execution_count": 29,
   "metadata": {},
   "outputs": [
    {
     "data": {
      "text/html": [
       "<div>\n",
       "<style scoped>\n",
       "    .dataframe tbody tr th:only-of-type {\n",
       "        vertical-align: middle;\n",
       "    }\n",
       "\n",
       "    .dataframe tbody tr th {\n",
       "        vertical-align: top;\n",
       "    }\n",
       "\n",
       "    .dataframe thead th {\n",
       "        text-align: right;\n",
       "    }\n",
       "</style>\n",
       "<table border=\"1\" class=\"dataframe\">\n",
       "  <thead>\n",
       "    <tr style=\"text-align: right;\">\n",
       "      <th></th>\n",
       "      <th>Price</th>\n",
       "      <th>VehicleType</th>\n",
       "      <th>RegistrationYear</th>\n",
       "      <th>Gearbox</th>\n",
       "      <th>Power</th>\n",
       "      <th>Model</th>\n",
       "      <th>Kilometer</th>\n",
       "      <th>FuelType</th>\n",
       "      <th>Brand</th>\n",
       "      <th>Repaired</th>\n",
       "    </tr>\n",
       "  </thead>\n",
       "  <tbody>\n",
       "    <tr>\n",
       "      <th>1</th>\n",
       "      <td>18300</td>\n",
       "      <td>coupe</td>\n",
       "      <td>2011</td>\n",
       "      <td>1</td>\n",
       "      <td>190</td>\n",
       "      <td>unknown</td>\n",
       "      <td>125000</td>\n",
       "      <td>gasoline</td>\n",
       "      <td>audi</td>\n",
       "      <td>yes</td>\n",
       "    </tr>\n",
       "    <tr>\n",
       "      <th>2</th>\n",
       "      <td>9800</td>\n",
       "      <td>suv</td>\n",
       "      <td>2004</td>\n",
       "      <td>0</td>\n",
       "      <td>163</td>\n",
       "      <td>grand</td>\n",
       "      <td>125000</td>\n",
       "      <td>gasoline</td>\n",
       "      <td>jeep</td>\n",
       "      <td>no</td>\n",
       "    </tr>\n",
       "    <tr>\n",
       "      <th>3</th>\n",
       "      <td>1500</td>\n",
       "      <td>small</td>\n",
       "      <td>2001</td>\n",
       "      <td>1</td>\n",
       "      <td>75</td>\n",
       "      <td>golf</td>\n",
       "      <td>150000</td>\n",
       "      <td>petrol</td>\n",
       "      <td>volkswagen</td>\n",
       "      <td>no</td>\n",
       "    </tr>\n",
       "    <tr>\n",
       "      <th>4</th>\n",
       "      <td>3600</td>\n",
       "      <td>small</td>\n",
       "      <td>2008</td>\n",
       "      <td>1</td>\n",
       "      <td>69</td>\n",
       "      <td>fabia</td>\n",
       "      <td>90000</td>\n",
       "      <td>gasoline</td>\n",
       "      <td>skoda</td>\n",
       "      <td>no</td>\n",
       "    </tr>\n",
       "    <tr>\n",
       "      <th>5</th>\n",
       "      <td>650</td>\n",
       "      <td>sedan</td>\n",
       "      <td>1995</td>\n",
       "      <td>1</td>\n",
       "      <td>102</td>\n",
       "      <td>3er</td>\n",
       "      <td>150000</td>\n",
       "      <td>petrol</td>\n",
       "      <td>bmw</td>\n",
       "      <td>yes</td>\n",
       "    </tr>\n",
       "    <tr>\n",
       "      <th>6</th>\n",
       "      <td>2200</td>\n",
       "      <td>convertible</td>\n",
       "      <td>2004</td>\n",
       "      <td>1</td>\n",
       "      <td>109</td>\n",
       "      <td>2_reihe</td>\n",
       "      <td>150000</td>\n",
       "      <td>petrol</td>\n",
       "      <td>peugeot</td>\n",
       "      <td>no</td>\n",
       "    </tr>\n",
       "    <tr>\n",
       "      <th>8</th>\n",
       "      <td>14500</td>\n",
       "      <td>bus</td>\n",
       "      <td>2014</td>\n",
       "      <td>1</td>\n",
       "      <td>125</td>\n",
       "      <td>c_max</td>\n",
       "      <td>30000</td>\n",
       "      <td>petrol</td>\n",
       "      <td>ford</td>\n",
       "      <td>no</td>\n",
       "    </tr>\n",
       "    <tr>\n",
       "      <th>9</th>\n",
       "      <td>999</td>\n",
       "      <td>small</td>\n",
       "      <td>1998</td>\n",
       "      <td>1</td>\n",
       "      <td>101</td>\n",
       "      <td>golf</td>\n",
       "      <td>150000</td>\n",
       "      <td>petrol</td>\n",
       "      <td>volkswagen</td>\n",
       "      <td>no</td>\n",
       "    </tr>\n",
       "    <tr>\n",
       "      <th>10</th>\n",
       "      <td>2000</td>\n",
       "      <td>sedan</td>\n",
       "      <td>2004</td>\n",
       "      <td>1</td>\n",
       "      <td>105</td>\n",
       "      <td>3_reihe</td>\n",
       "      <td>150000</td>\n",
       "      <td>petrol</td>\n",
       "      <td>mazda</td>\n",
       "      <td>no</td>\n",
       "    </tr>\n",
       "    <tr>\n",
       "      <th>11</th>\n",
       "      <td>2799</td>\n",
       "      <td>wagon</td>\n",
       "      <td>2005</td>\n",
       "      <td>1</td>\n",
       "      <td>140</td>\n",
       "      <td>passat</td>\n",
       "      <td>150000</td>\n",
       "      <td>gasoline</td>\n",
       "      <td>volkswagen</td>\n",
       "      <td>yes</td>\n",
       "    </tr>\n",
       "  </tbody>\n",
       "</table>\n",
       "</div>"
      ],
      "text/plain": [
       "    Price  VehicleType  RegistrationYear Gearbox  Power    Model  Kilometer  \\\n",
       "1   18300        coupe              2011       1    190  unknown     125000   \n",
       "2    9800          suv              2004       0    163    grand     125000   \n",
       "3    1500        small              2001       1     75     golf     150000   \n",
       "4    3600        small              2008       1     69    fabia      90000   \n",
       "5     650        sedan              1995       1    102      3er     150000   \n",
       "6    2200  convertible              2004       1    109  2_reihe     150000   \n",
       "8   14500          bus              2014       1    125    c_max      30000   \n",
       "9     999        small              1998       1    101     golf     150000   \n",
       "10   2000        sedan              2004       1    105  3_reihe     150000   \n",
       "11   2799        wagon              2005       1    140   passat     150000   \n",
       "\n",
       "    FuelType       Brand Repaired  \n",
       "1   gasoline        audi      yes  \n",
       "2   gasoline        jeep       no  \n",
       "3     petrol  volkswagen       no  \n",
       "4   gasoline       skoda       no  \n",
       "5     petrol         bmw      yes  \n",
       "6     petrol     peugeot       no  \n",
       "8     petrol        ford       no  \n",
       "9     petrol  volkswagen       no  \n",
       "10    petrol       mazda       no  \n",
       "11  gasoline  volkswagen      yes  "
      ]
     },
     "execution_count": 29,
     "metadata": {},
     "output_type": "execute_result"
    }
   ],
   "source": [
    "data.head(10)"
   ]
  },
  {
   "cell_type": "code",
   "execution_count": 30,
   "metadata": {},
   "outputs": [
    {
     "name": "stderr",
     "output_type": "stream",
     "text": [
      "/var/folders/s9/2dhk92k53t10g5010dcth9r80000gn/T/ipykernel_44205/2987993552.py:1: SettingWithCopyWarning: \n",
      "A value is trying to be set on a copy of a slice from a DataFrame\n",
      "\n",
      "See the caveats in the documentation: https://pandas.pydata.org/pandas-docs/stable/user_guide/indexing.html#returning-a-view-versus-a-copy\n",
      "  data['Repaired'].loc[data['Repaired'] == 'yes'] = 1\n",
      "/var/folders/s9/2dhk92k53t10g5010dcth9r80000gn/T/ipykernel_44205/2987993552.py:2: SettingWithCopyWarning: \n",
      "A value is trying to be set on a copy of a slice from a DataFrame\n",
      "\n",
      "See the caveats in the documentation: https://pandas.pydata.org/pandas-docs/stable/user_guide/indexing.html#returning-a-view-versus-a-copy\n",
      "  data['Repaired'].loc[data['Repaired'] == 'no'] = 0\n"
     ]
    },
    {
     "data": {
      "text/plain": [
       "0    267681\n",
       "1     28956\n",
       "Name: Repaired, dtype: int64"
      ]
     },
     "execution_count": 30,
     "metadata": {},
     "output_type": "execute_result"
    }
   ],
   "source": [
    "data['Repaired'].loc[data['Repaired'] == 'yes'] = 1\n",
    "data['Repaired'].loc[data['Repaired'] == 'no'] = 0\n",
    "data['Repaired'].value_counts()"
   ]
  },
  {
   "cell_type": "code",
   "execution_count": 31,
   "metadata": {},
   "outputs": [],
   "source": [
    "data['Gearbox'] = pd.to_numeric(data['Gearbox'], downcast='integer')\n",
    "data['Repaired'] = pd.to_numeric(data['Repaired'], downcast='integer')"
   ]
  },
  {
   "cell_type": "code",
   "execution_count": 32,
   "metadata": {},
   "outputs": [
    {
     "name": "stdout",
     "output_type": "stream",
     "text": [
      "<class 'pandas.core.frame.DataFrame'>\n",
      "Int64Index: 296637 entries, 1 to 354368\n",
      "Data columns (total 10 columns):\n",
      " #   Column            Non-Null Count   Dtype \n",
      "---  ------            --------------   ----- \n",
      " 0   Price             296637 non-null  int64 \n",
      " 1   VehicleType       296637 non-null  object\n",
      " 2   RegistrationYear  296637 non-null  int64 \n",
      " 3   Gearbox           296637 non-null  int8  \n",
      " 4   Power             296637 non-null  int64 \n",
      " 5   Model             296637 non-null  object\n",
      " 6   Kilometer         296637 non-null  int64 \n",
      " 7   FuelType          296637 non-null  object\n",
      " 8   Brand             296637 non-null  object\n",
      " 9   Repaired          296637 non-null  int8  \n",
      "dtypes: int64(4), int8(2), object(4)\n",
      "memory usage: 20.9+ MB\n"
     ]
    }
   ],
   "source": [
    "data.info()"
   ]
  },
  {
   "cell_type": "markdown",
   "metadata": {},
   "source": [
    "### Conclusion"
   ]
  },
  {
   "cell_type": "markdown",
   "metadata": {},
   "source": [
    "During the data analysis , it was possible: \n",
    "- Get a general idea of the data. \n",
    "- Get rid of the omissions in the most optimal way.\n",
    "- Get rid of anomalies in the data. \n",
    "- Remove unnecessary variables that will not be relevant for building models in the following parts."
   ]
  },
  {
   "cell_type": "markdown",
   "metadata": {},
   "source": [
    "## Model training"
   ]
  },
  {
   "cell_type": "markdown",
   "metadata": {},
   "source": [
    "### Preparing samples"
   ]
  },
  {
   "cell_type": "code",
   "execution_count": 33,
   "metadata": {},
   "outputs": [],
   "source": [
    "y = data['Price']\n",
    "X = data.drop('Price', axis=1)"
   ]
  },
  {
   "cell_type": "markdown",
   "metadata": {},
   "source": [
    "Separation of all data into training and test samples."
   ]
  },
  {
   "cell_type": "code",
   "execution_count": 34,
   "metadata": {},
   "outputs": [],
   "source": [
    "X_train, X_test, y_train, y_test = train_test_split(X, y, test_size=0.2, shuffle = True, random_state = 42)\n",
    "X_train, X_valid, y_train, y_valid = train_test_split(X_train, y_train,  test_size=0.2, random_state= 42) "
   ]
  },
  {
   "cell_type": "code",
   "execution_count": 35,
   "metadata": {},
   "outputs": [
    {
     "name": "stdout",
     "output_type": "stream",
     "text": [
      "(189847, 9)\n",
      "(47462, 9)\n",
      "(59328, 9)\n",
      "(189847,)\n",
      "(47462,)\n",
      "(59328,)\n"
     ]
    }
   ],
   "source": [
    "print(X_train.shape)\n",
    "print(X_valid.shape)\n",
    "print(X_test.shape)\n",
    "print(y_train.shape)\n",
    "print(y_valid.shape)\n",
    "print(y_test.shape)"
   ]
  },
  {
   "cell_type": "code",
   "execution_count": 36,
   "metadata": {},
   "outputs": [],
   "source": [
    "#standardizing\n",
    "numeric=['RegistrationYear', 'Power', 'Kilometer']\n",
    "scaler = StandardScaler()\n",
    "scaler.fit(X_train[numeric])\n",
    "\n",
    "X_train[numeric]=scaler.transform(X_train[numeric])\n",
    "X_train_scaled = pd.DataFrame(X_train[numeric], columns = numeric, index = X_train.index)\n",
    "\n",
    "X_valid[numeric]=scaler.transform(X_valid[numeric])\n",
    "X_valid_scaled = pd.DataFrame(X_valid[numeric], columns = numeric, index = X_valid.index)\n",
    "\n",
    "X_test[numeric]=scaler.transform(X_test[numeric])\n",
    "X_test_scaled = pd.DataFrame(X_test[numeric], columns = numeric, index = X_test.index)"
   ]
  },
  {
   "cell_type": "markdown",
   "metadata": {},
   "source": [
    "One Hot Encoding and Dummy Encoding will be used to prepare categorical variables for a linear regression model. \n",
    "Which variables are categorical:\n",
    "* Vehicle Type - body type\n",
    "* Gearbox - type of gearbox\n",
    "* Model - model\n",
    "* FuelType - fuel type\n",
    "* Brand - brand\n",
    "* Repaired - has the car been repaired"
   ]
  },
  {
   "cell_type": "code",
   "execution_count": 37,
   "metadata": {},
   "outputs": [],
   "source": [
    "cats=['VehicleType','Model','FuelType','Brand']\n",
    "ohs = OneHotEncoder(drop='first')\n",
    "X_train_ohs = pd.DataFrame(ohs.fit_transform(X_train[['VehicleType','Model','FuelType','Brand']]).toarray(),columns = ohs.get_feature_names_out())\n",
    "X_valid_ohs = pd.DataFrame(ohs.transform(X_valid[['VehicleType','Model','FuelType','Brand']]).toarray(), columns = ohs.get_feature_names_out())\n",
    "X_test_ohs = pd.DataFrame(ohs.transform(X_test[['VehicleType','Model','FuelType','Brand']]).toarray(), columns = ohs.get_feature_names_out())"
   ]
  },
  {
   "cell_type": "code",
   "execution_count": 38,
   "metadata": {},
   "outputs": [],
   "source": [
    "X_train_final = pd.concat([X_train_scaled.reset_index(), X_train_ohs.reset_index()], axis = 1)\n",
    "X_valid_final = pd.concat([X_valid_scaled.reset_index(), X_valid_ohs.reset_index()], axis = 1)\n",
    "X_test_final = pd.concat([X_test_scaled.reset_index(), X_test_ohs.reset_index()], axis = 1)"
   ]
  },
  {
   "cell_type": "code",
   "execution_count": 39,
   "metadata": {},
   "outputs": [],
   "source": [
    "enc = OrdinalEncoder()\n",
    "X_train_oe_cat = enc.fit_transform(X_train[['VehicleType','FuelType','Brand','Model']])\n",
    "X_valid_oe_cat = enc.transform(X_valid[['VehicleType','FuelType','Brand','Model']])\n",
    "X_test_oe_cat = enc.transform(X_test[['VehicleType','FuelType','Brand','Model']])"
   ]
  },
  {
   "cell_type": "code",
   "execution_count": 40,
   "metadata": {},
   "outputs": [],
   "source": [
    "X_train_oe = X_train.copy()\n",
    "X_train_oe[['VehicleType','FuelType','Brand','Model']] = X_train_oe_cat\n",
    "\n",
    "X_valid_oe = X_valid.copy()\n",
    "X_valid_oe[['VehicleType','FuelType','Brand','Model']] = X_valid_oe_cat\n",
    "\n",
    "X_test_oe = X_test.copy()\n",
    "X_test_oe[['VehicleType','FuelType','Brand','Model']] = X_test_oe_cat"
   ]
  },
  {
   "cell_type": "markdown",
   "metadata": {},
   "source": [
    "As a result, it was possible to prepare all categorical variables so that they could be used in the models below."
   ]
  },
  {
   "cell_type": "markdown",
   "metadata": {},
   "source": [
    "### Model training and testing"
   ]
  },
  {
   "cell_type": "markdown",
   "metadata": {},
   "source": [
    "What models will we considered:\n",
    "* Linear regression\n",
    "* LightGBM\n",
    "* CatBoostRegressor"
   ]
  },
  {
   "cell_type": "markdown",
   "metadata": {},
   "source": [
    "#### LinearRegression"
   ]
  },
  {
   "cell_type": "code",
   "execution_count": 41,
   "metadata": {},
   "outputs": [
    {
     "name": "stdout",
     "output_type": "stream",
     "text": [
      "Mean RMSE for linear regression = 2728.477305060425\n",
      "CPU times: user 1min 24s, sys: 1min 19s, total: 2min 44s\n",
      "Wall time: 58.1 s\n"
     ]
    }
   ],
   "source": [
    "%%time\n",
    "\n",
    "regressor = LinearRegression()\n",
    "RMSE_linear = (cross_val_score(regressor, X_train_final, y_train, cv=5,\n",
    "                               scoring='neg_mean_squared_error').mean() * -1) ** 0.5\n",
    "print('Mean RMSE for linear regression =', RMSE_linear)"
   ]
  },
  {
   "cell_type": "code",
   "execution_count": 42,
   "metadata": {},
   "outputs": [
    {
     "name": "stdout",
     "output_type": "stream",
     "text": [
      "CPU times: user 22.6 s, sys: 20.3 s, total: 42.9 s\n",
      "Wall time: 12.5 s\n"
     ]
    },
    {
     "data": {
      "text/html": [
       "<style>#sk-container-id-1 {color: black;}#sk-container-id-1 pre{padding: 0;}#sk-container-id-1 div.sk-toggleable {background-color: white;}#sk-container-id-1 label.sk-toggleable__label {cursor: pointer;display: block;width: 100%;margin-bottom: 0;padding: 0.3em;box-sizing: border-box;text-align: center;}#sk-container-id-1 label.sk-toggleable__label-arrow:before {content: \"▸\";float: left;margin-right: 0.25em;color: #696969;}#sk-container-id-1 label.sk-toggleable__label-arrow:hover:before {color: black;}#sk-container-id-1 div.sk-estimator:hover label.sk-toggleable__label-arrow:before {color: black;}#sk-container-id-1 div.sk-toggleable__content {max-height: 0;max-width: 0;overflow: hidden;text-align: left;background-color: #f0f8ff;}#sk-container-id-1 div.sk-toggleable__content pre {margin: 0.2em;color: black;border-radius: 0.25em;background-color: #f0f8ff;}#sk-container-id-1 input.sk-toggleable__control:checked~div.sk-toggleable__content {max-height: 200px;max-width: 100%;overflow: auto;}#sk-container-id-1 input.sk-toggleable__control:checked~label.sk-toggleable__label-arrow:before {content: \"▾\";}#sk-container-id-1 div.sk-estimator input.sk-toggleable__control:checked~label.sk-toggleable__label {background-color: #d4ebff;}#sk-container-id-1 div.sk-label input.sk-toggleable__control:checked~label.sk-toggleable__label {background-color: #d4ebff;}#sk-container-id-1 input.sk-hidden--visually {border: 0;clip: rect(1px 1px 1px 1px);clip: rect(1px, 1px, 1px, 1px);height: 1px;margin: -1px;overflow: hidden;padding: 0;position: absolute;width: 1px;}#sk-container-id-1 div.sk-estimator {font-family: monospace;background-color: #f0f8ff;border: 1px dotted black;border-radius: 0.25em;box-sizing: border-box;margin-bottom: 0.5em;}#sk-container-id-1 div.sk-estimator:hover {background-color: #d4ebff;}#sk-container-id-1 div.sk-parallel-item::after {content: \"\";width: 100%;border-bottom: 1px solid gray;flex-grow: 1;}#sk-container-id-1 div.sk-label:hover label.sk-toggleable__label {background-color: #d4ebff;}#sk-container-id-1 div.sk-serial::before {content: \"\";position: absolute;border-left: 1px solid gray;box-sizing: border-box;top: 0;bottom: 0;left: 50%;z-index: 0;}#sk-container-id-1 div.sk-serial {display: flex;flex-direction: column;align-items: center;background-color: white;padding-right: 0.2em;padding-left: 0.2em;position: relative;}#sk-container-id-1 div.sk-item {position: relative;z-index: 1;}#sk-container-id-1 div.sk-parallel {display: flex;align-items: stretch;justify-content: center;background-color: white;position: relative;}#sk-container-id-1 div.sk-item::before, #sk-container-id-1 div.sk-parallel-item::before {content: \"\";position: absolute;border-left: 1px solid gray;box-sizing: border-box;top: 0;bottom: 0;left: 50%;z-index: -1;}#sk-container-id-1 div.sk-parallel-item {display: flex;flex-direction: column;z-index: 1;position: relative;background-color: white;}#sk-container-id-1 div.sk-parallel-item:first-child::after {align-self: flex-end;width: 50%;}#sk-container-id-1 div.sk-parallel-item:last-child::after {align-self: flex-start;width: 50%;}#sk-container-id-1 div.sk-parallel-item:only-child::after {width: 0;}#sk-container-id-1 div.sk-dashed-wrapped {border: 1px dashed gray;margin: 0 0.4em 0.5em 0.4em;box-sizing: border-box;padding-bottom: 0.4em;background-color: white;}#sk-container-id-1 div.sk-label label {font-family: monospace;font-weight: bold;display: inline-block;line-height: 1.2em;}#sk-container-id-1 div.sk-label-container {text-align: center;}#sk-container-id-1 div.sk-container {/* jupyter's `normalize.less` sets `[hidden] { display: none; }` but bootstrap.min.css set `[hidden] { display: none !important; }` so we also need the `!important` here to be able to override the default hidden behavior on the sphinx rendered scikit-learn.org. See: https://github.com/scikit-learn/scikit-learn/issues/21755 */display: inline-block !important;position: relative;}#sk-container-id-1 div.sk-text-repr-fallback {display: none;}</style><div id=\"sk-container-id-1\" class=\"sk-top-container\"><div class=\"sk-text-repr-fallback\"><pre>LinearRegression()</pre><b>In a Jupyter environment, please rerun this cell to show the HTML representation or trust the notebook. <br />On GitHub, the HTML representation is unable to render, please try loading this page with nbviewer.org.</b></div><div class=\"sk-container\" hidden><div class=\"sk-item\"><div class=\"sk-estimator sk-toggleable\"><input class=\"sk-toggleable__control sk-hidden--visually\" id=\"sk-estimator-id-1\" type=\"checkbox\" checked><label for=\"sk-estimator-id-1\" class=\"sk-toggleable__label sk-toggleable__label-arrow\">LinearRegression</label><div class=\"sk-toggleable__content\"><pre>LinearRegression()</pre></div></div></div></div></div>"
      ],
      "text/plain": [
       "LinearRegression()"
      ]
     },
     "execution_count": 42,
     "metadata": {},
     "output_type": "execute_result"
    }
   ],
   "source": [
    "%%time\n",
    "\n",
    "model = LinearRegression()\n",
    "model.fit(X_train_final, y_train)"
   ]
  },
  {
   "cell_type": "code",
   "execution_count": 43,
   "metadata": {},
   "outputs": [
    {
     "name": "stdout",
     "output_type": "stream",
     "text": [
      "CPU times: user 211 ms, sys: 606 ms, total: 817 ms\n",
      "Wall time: 213 ms\n"
     ]
    }
   ],
   "source": [
    "%%time\n",
    "\n",
    "y_pred_linear_valid = model.predict(X_valid_final)"
   ]
  },
  {
   "cell_type": "code",
   "execution_count": 44,
   "metadata": {},
   "outputs": [
    {
     "name": "stdout",
     "output_type": "stream",
     "text": [
      "2702.6000788782308\n"
     ]
    }
   ],
   "source": [
    "RMSE_Linear = mean_squared_error(y_valid, y_pred_linear_valid) ** 0.5\n",
    "print(RMSE_Linear)"
   ]
  },
  {
   "cell_type": "markdown",
   "metadata": {},
   "source": [
    "#### LightGBM"
   ]
  },
  {
   "cell_type": "code",
   "execution_count": 45,
   "metadata": {},
   "outputs": [
    {
     "name": "stdout",
     "output_type": "stream",
     "text": [
      "{'learning_rate': 0.3, 'num_leaves': 200, 'random_state': 42}\n",
      "1589.748677643851\n",
      "CPU times: user 8min, sys: 1min 31s, total: 9min 32s\n",
      "Wall time: 2min 7s\n"
     ]
    }
   ],
   "source": [
    "%%time\n",
    "\n",
    "model_lgbm = LGBMRegressor() \n",
    "params_lgbm = [{'num_leaves':[50, 100, 200], \n",
    "                'learning_rate':[0.1, 0.3, 0.5],\n",
    "                'random_state':[42]}]\n",
    "\n",
    "lgbm_gs = GridSearchCV(model_lgbm, params_lgbm, scoring='neg_mean_squared_error')\n",
    "lgbm_gs.fit(X_train_oe, y_train)\n",
    "\n",
    "print(lgbm_gs.best_params_)\n",
    "\n",
    "means = lgbm_gs.cv_results_['mean_test_score']\n",
    "RMSE_lgbm_cv = (max(means)*-1) ** 0.5\n",
    "print(RMSE_lgbm_cv)"
   ]
  },
  {
   "cell_type": "code",
   "execution_count": 46,
   "metadata": {},
   "outputs": [
    {
     "name": "stdout",
     "output_type": "stream",
     "text": [
      "CPU times: user 16.8 s, sys: 3.42 s, total: 20.2 s\n",
      "Wall time: 4.63 s\n"
     ]
    },
    {
     "data": {
      "text/html": [
       "<style>#sk-container-id-2 {color: black;}#sk-container-id-2 pre{padding: 0;}#sk-container-id-2 div.sk-toggleable {background-color: white;}#sk-container-id-2 label.sk-toggleable__label {cursor: pointer;display: block;width: 100%;margin-bottom: 0;padding: 0.3em;box-sizing: border-box;text-align: center;}#sk-container-id-2 label.sk-toggleable__label-arrow:before {content: \"▸\";float: left;margin-right: 0.25em;color: #696969;}#sk-container-id-2 label.sk-toggleable__label-arrow:hover:before {color: black;}#sk-container-id-2 div.sk-estimator:hover label.sk-toggleable__label-arrow:before {color: black;}#sk-container-id-2 div.sk-toggleable__content {max-height: 0;max-width: 0;overflow: hidden;text-align: left;background-color: #f0f8ff;}#sk-container-id-2 div.sk-toggleable__content pre {margin: 0.2em;color: black;border-radius: 0.25em;background-color: #f0f8ff;}#sk-container-id-2 input.sk-toggleable__control:checked~div.sk-toggleable__content {max-height: 200px;max-width: 100%;overflow: auto;}#sk-container-id-2 input.sk-toggleable__control:checked~label.sk-toggleable__label-arrow:before {content: \"▾\";}#sk-container-id-2 div.sk-estimator input.sk-toggleable__control:checked~label.sk-toggleable__label {background-color: #d4ebff;}#sk-container-id-2 div.sk-label input.sk-toggleable__control:checked~label.sk-toggleable__label {background-color: #d4ebff;}#sk-container-id-2 input.sk-hidden--visually {border: 0;clip: rect(1px 1px 1px 1px);clip: rect(1px, 1px, 1px, 1px);height: 1px;margin: -1px;overflow: hidden;padding: 0;position: absolute;width: 1px;}#sk-container-id-2 div.sk-estimator {font-family: monospace;background-color: #f0f8ff;border: 1px dotted black;border-radius: 0.25em;box-sizing: border-box;margin-bottom: 0.5em;}#sk-container-id-2 div.sk-estimator:hover {background-color: #d4ebff;}#sk-container-id-2 div.sk-parallel-item::after {content: \"\";width: 100%;border-bottom: 1px solid gray;flex-grow: 1;}#sk-container-id-2 div.sk-label:hover label.sk-toggleable__label {background-color: #d4ebff;}#sk-container-id-2 div.sk-serial::before {content: \"\";position: absolute;border-left: 1px solid gray;box-sizing: border-box;top: 0;bottom: 0;left: 50%;z-index: 0;}#sk-container-id-2 div.sk-serial {display: flex;flex-direction: column;align-items: center;background-color: white;padding-right: 0.2em;padding-left: 0.2em;position: relative;}#sk-container-id-2 div.sk-item {position: relative;z-index: 1;}#sk-container-id-2 div.sk-parallel {display: flex;align-items: stretch;justify-content: center;background-color: white;position: relative;}#sk-container-id-2 div.sk-item::before, #sk-container-id-2 div.sk-parallel-item::before {content: \"\";position: absolute;border-left: 1px solid gray;box-sizing: border-box;top: 0;bottom: 0;left: 50%;z-index: -1;}#sk-container-id-2 div.sk-parallel-item {display: flex;flex-direction: column;z-index: 1;position: relative;background-color: white;}#sk-container-id-2 div.sk-parallel-item:first-child::after {align-self: flex-end;width: 50%;}#sk-container-id-2 div.sk-parallel-item:last-child::after {align-self: flex-start;width: 50%;}#sk-container-id-2 div.sk-parallel-item:only-child::after {width: 0;}#sk-container-id-2 div.sk-dashed-wrapped {border: 1px dashed gray;margin: 0 0.4em 0.5em 0.4em;box-sizing: border-box;padding-bottom: 0.4em;background-color: white;}#sk-container-id-2 div.sk-label label {font-family: monospace;font-weight: bold;display: inline-block;line-height: 1.2em;}#sk-container-id-2 div.sk-label-container {text-align: center;}#sk-container-id-2 div.sk-container {/* jupyter's `normalize.less` sets `[hidden] { display: none; }` but bootstrap.min.css set `[hidden] { display: none !important; }` so we also need the `!important` here to be able to override the default hidden behavior on the sphinx rendered scikit-learn.org. See: https://github.com/scikit-learn/scikit-learn/issues/21755 */display: inline-block !important;position: relative;}#sk-container-id-2 div.sk-text-repr-fallback {display: none;}</style><div id=\"sk-container-id-2\" class=\"sk-top-container\"><div class=\"sk-text-repr-fallback\"><pre>LGBMRegressor(learning_rate=0.3, num_leaves=200, random_state=42)</pre><b>In a Jupyter environment, please rerun this cell to show the HTML representation or trust the notebook. <br />On GitHub, the HTML representation is unable to render, please try loading this page with nbviewer.org.</b></div><div class=\"sk-container\" hidden><div class=\"sk-item\"><div class=\"sk-estimator sk-toggleable\"><input class=\"sk-toggleable__control sk-hidden--visually\" id=\"sk-estimator-id-2\" type=\"checkbox\" checked><label for=\"sk-estimator-id-2\" class=\"sk-toggleable__label sk-toggleable__label-arrow\">LGBMRegressor</label><div class=\"sk-toggleable__content\"><pre>LGBMRegressor(learning_rate=0.3, num_leaves=200, random_state=42)</pre></div></div></div></div></div>"
      ],
      "text/plain": [
       "LGBMRegressor(learning_rate=0.3, num_leaves=200, random_state=42)"
      ]
     },
     "execution_count": 46,
     "metadata": {},
     "output_type": "execute_result"
    }
   ],
   "source": [
    "%%time\n",
    "\n",
    "model_lgbm_best = LGBMRegressor(learning_rate=0.3,num_leaves=200, random_state=42)\n",
    "model_lgbm_best.fit(X_train_oe, y_train)"
   ]
  },
  {
   "cell_type": "code",
   "execution_count": 47,
   "metadata": {},
   "outputs": [
    {
     "name": "stdout",
     "output_type": "stream",
     "text": [
      "CPU times: user 751 ms, sys: 41.3 ms, total: 792 ms\n",
      "Wall time: 174 ms\n"
     ]
    }
   ],
   "source": [
    "%%time\n",
    "\n",
    "y_predict_lgbm_valid = model_lgbm_best.predict(X_valid_oe)"
   ]
  },
  {
   "cell_type": "code",
   "execution_count": 48,
   "metadata": {},
   "outputs": [
    {
     "name": "stdout",
     "output_type": "stream",
     "text": [
      "1531.5606799264474\n"
     ]
    }
   ],
   "source": [
    "RMSE_lgbm = mean_squared_error(y_valid, y_predict_lgbm_valid) ** 0.5\n",
    "print(RMSE_lgbm)"
   ]
  },
  {
   "cell_type": "markdown",
   "metadata": {},
   "source": [
    "#### CatBoostRegressor"
   ]
  },
  {
   "cell_type": "code",
   "execution_count": 49,
   "metadata": {},
   "outputs": [
    {
     "name": "stdout",
     "output_type": "stream",
     "text": [
      "{'learning_rate': 0.5, 'random_state': 42, 'verbose': 0}\n",
      "1606.3238105548546\n",
      "CPU times: user 6min 54s, sys: 1min 14s, total: 8min 8s\n",
      "Wall time: 2min 24s\n"
     ]
    }
   ],
   "source": [
    "%%time\n",
    "\n",
    "model_cb = CatBoostRegressor() \n",
    "params_cb = [{'learning_rate':[0.1, 0.5, 0.9],\n",
    "                'random_state':[42],\n",
    "                'verbose':[0]}]\n",
    "\n",
    "cb = GridSearchCV(model_cb, params_cb, scoring='neg_mean_squared_error')\n",
    "cb.fit(X_train_oe, y_train)\n",
    "\n",
    "print(cb.best_params_)\n",
    "\n",
    "means = cb.cv_results_['mean_test_score']\n",
    "RMSE_cb_cv = (max(means)*-1) ** 0.5\n",
    "print(RMSE_cb_cv)"
   ]
  },
  {
   "cell_type": "code",
   "execution_count": 50,
   "metadata": {},
   "outputs": [
    {
     "name": "stdout",
     "output_type": "stream",
     "text": [
      "CPU times: user 31.8 s, sys: 4.89 s, total: 36.7 s\n",
      "Wall time: 10.9 s\n"
     ]
    },
    {
     "data": {
      "text/plain": [
       "<catboost.core.CatBoostRegressor at 0x7f8ce1f21cf0>"
      ]
     },
     "execution_count": 50,
     "metadata": {},
     "output_type": "execute_result"
    }
   ],
   "source": [
    "%%time\n",
    "\n",
    "model_cb_best = CatBoostRegressor(learning_rate=0.5, random_state=42, verbose=0) \n",
    "model_cb_best.fit(X_train_oe, y_train)"
   ]
  },
  {
   "cell_type": "code",
   "execution_count": 51,
   "metadata": {},
   "outputs": [
    {
     "name": "stdout",
     "output_type": "stream",
     "text": [
      "CPU times: user 60.8 ms, sys: 12.1 ms, total: 72.8 ms\n",
      "Wall time: 35.6 ms\n"
     ]
    }
   ],
   "source": [
    "%%time\n",
    "\n",
    "y_predict_cb_valid = model_cb_best.predict(X_valid_oe)"
   ]
  },
  {
   "cell_type": "code",
   "execution_count": 52,
   "metadata": {},
   "outputs": [
    {
     "name": "stdout",
     "output_type": "stream",
     "text": [
      "1551.3626230764282\n"
     ]
    }
   ],
   "source": [
    "RMSE_cb = mean_squared_error(y_valid, y_predict_cb_valid) ** 0.5\n",
    "print(RMSE_cb)"
   ]
  },
  {
   "cell_type": "markdown",
   "metadata": {},
   "source": [
    "## Model analysis"
   ]
  },
  {
   "cell_type": "markdown",
   "metadata": {},
   "source": [
    "Let's compare the training and prediction time of the models, as well as the RMSE of the three models."
   ]
  },
  {
   "cell_type": "code",
   "execution_count": 53,
   "metadata": {
    "scrolled": true
   },
   "outputs": [
    {
     "data": {
      "text/html": [
       "<div>\n",
       "<style scoped>\n",
       "    .dataframe tbody tr th:only-of-type {\n",
       "        vertical-align: middle;\n",
       "    }\n",
       "\n",
       "    .dataframe tbody tr th {\n",
       "        vertical-align: top;\n",
       "    }\n",
       "\n",
       "    .dataframe thead th {\n",
       "        text-align: right;\n",
       "    }\n",
       "</style>\n",
       "<table border=\"1\" class=\"dataframe\">\n",
       "  <thead>\n",
       "    <tr style=\"text-align: right;\">\n",
       "      <th></th>\n",
       "      <th>Fit time</th>\n",
       "      <th>Prediction time</th>\n",
       "      <th>Model RMSE</th>\n",
       "    </tr>\n",
       "  </thead>\n",
       "  <tbody>\n",
       "    <tr>\n",
       "      <th>LinearRegression</th>\n",
       "      <td>19.2s</td>\n",
       "      <td>213 ms</td>\n",
       "      <td>2703</td>\n",
       "    </tr>\n",
       "    <tr>\n",
       "      <th>LightGBM</th>\n",
       "      <td>8.99s</td>\n",
       "      <td>404ms</td>\n",
       "      <td>1532</td>\n",
       "    </tr>\n",
       "    <tr>\n",
       "      <th>CatBoost</th>\n",
       "      <td>26.1s</td>\n",
       "      <td>51.5ms</td>\n",
       "      <td>1551</td>\n",
       "    </tr>\n",
       "  </tbody>\n",
       "</table>\n",
       "</div>"
      ],
      "text/plain": [
       "                 Fit time Prediction time  Model RMSE\n",
       "LinearRegression    19.2s          213 ms        2703\n",
       "LightGBM            8.99s           404ms        1532\n",
       "CatBoost            26.1s          51.5ms        1551"
      ]
     },
     "execution_count": 53,
     "metadata": {},
     "output_type": "execute_result"
    }
   ],
   "source": [
    "models_data = [[\"19.2s\", \"213 ms\", 2703],\n",
    "                    [\"8.99s\", \"404ms\", 1532],\n",
    "                    [\"26.1s\", \"51.5ms\", 1551]]\n",
    "\n",
    "model_comparison = pd.DataFrame(data=models_data, index=[\"LinearRegression\", \"LightGBM\", \"CatBoost\"],columns=[\"Fit time\", \"Prediction time\", \"Model RMSE\"])\n",
    "model_comparison"
   ]
  },
  {
   "cell_type": "markdown",
   "metadata": {},
   "source": [
    "In terms of learning speed and prediction accuracy, LightGBM is definitely in the lead, but it is inferior to all models in terms of prediction speed. \n",
    "If a model with the maximum prediction speed and with a sufficiently high prediction accuracy is needed, then CatBoost can also be considered.\n",
    "\n",
    "Let's evaluate the final RMSE on the best LightGBM model:"
   ]
  },
  {
   "cell_type": "code",
   "execution_count": 54,
   "metadata": {},
   "outputs": [
    {
     "name": "stdout",
     "output_type": "stream",
     "text": [
      "1563.8586066792698\n"
     ]
    }
   ],
   "source": [
    "y_predict_lgbm_test = model_lgbm_best.predict(X_test_oe)\n",
    "\n",
    "RMSE_lgbm_final = mean_squared_error(y_test, y_predict_lgbm_test) ** 0.5\n",
    "print(RMSE_lgbm_final)"
   ]
  },
  {
   "cell_type": "markdown",
   "metadata": {},
   "source": [
    "The value of the final RMSE is less than 2500, which indicates an acceptable accuracy of prediction within the framework of the current project."
   ]
  },
  {
   "cell_type": "markdown",
   "metadata": {},
   "source": [
    "In terms of the most influential features of the model on the final predicted value, we can identify the power, year of registration, and car model."
   ]
  },
  {
   "cell_type": "code",
   "execution_count": 55,
   "metadata": {},
   "outputs": [
    {
     "data": {
      "image/png": "[encoded data removed]",
      "text/plain": [
       "<Figure size 640x480 with 1 Axes>"
      ]
     },
     "metadata": {},
     "output_type": "display_data"
    }
   ],
   "source": [
    "lgbm.plot_importance(model_lgbm_best, height=.2)\n",
    "plt.show()"
   ]
  },
  {
   "cell_type": "markdown",
   "metadata": {},
   "source": [
    "##  Conclusion"
   ]
  },
  {
   "cell_type": "markdown",
   "metadata": {},
   "source": [
    "As a result of the research, the following steps were completed:\n",
    "- Research and processing of initial data. \n",
    "- Model training and their comparison (Linear Regression, LightGBM, CatBoost) in terms of learning speed and prediction, as well as the final RMSE. \n",
    "- The best model has been tested on a test sample. \n",
    "\n",
    "The LightGMB model showed the best indicators, including an acceptable level of the final RMSE."
   ]
  }
 ],
 "metadata": {
  "ExecuteTimeLog": [
   {
    "duration": 67,
    "start_time": "2023-03-19T08:10:22.833Z"
   },
   {
    "duration": 1404,
    "start_time": "2023-03-19T08:10:29.062Z"
   },
   {
    "duration": 2847,
    "start_time": "2023-03-19T08:12:31.878Z"
   },
   {
    "duration": 6,
    "start_time": "2023-03-19T08:18:20.766Z"
   },
   {
    "duration": 1545,
    "start_time": "2023-03-19T08:18:33.151Z"
   },
   {
    "duration": 1276,
    "start_time": "2023-03-19T08:45:17.179Z"
   },
   {
    "duration": 844,
    "start_time": "2023-03-19T08:45:19.219Z"
   },
   {
    "duration": 4,
    "start_time": "2023-03-19T08:45:21.722Z"
   },
   {
    "duration": 856,
    "start_time": "2023-03-19T08:45:34.950Z"
   },
   {
    "duration": 3,
    "start_time": "2023-03-19T08:46:15.996Z"
   },
   {
    "duration": 5,
    "start_time": "2023-03-19T08:46:17.703Z"
   },
   {
    "duration": 825,
    "start_time": "2023-03-19T08:46:19.013Z"
   },
   {
    "duration": 5,
    "start_time": "2023-03-19T08:46:39.122Z"
   },
   {
    "duration": 788,
    "start_time": "2023-03-19T08:46:40.754Z"
   },
   {
    "duration": 4,
    "start_time": "2023-03-19T08:48:13.200Z"
   },
   {
    "duration": 911,
    "start_time": "2023-03-19T08:48:15.237Z"
   },
   {
    "duration": 40,
    "start_time": "2023-03-19T08:49:58.441Z"
   },
   {
    "duration": 4,
    "start_time": "2023-03-19T08:50:03.512Z"
   },
   {
    "duration": 197,
    "start_time": "2023-03-19T08:50:04.956Z"
   },
   {
    "duration": 882,
    "start_time": "2023-03-19T08:50:22.416Z"
   },
   {
    "duration": 4,
    "start_time": "2023-03-19T08:50:35.955Z"
   },
   {
    "duration": 70,
    "start_time": "2023-03-19T08:50:45.423Z"
   },
   {
    "duration": 7,
    "start_time": "2023-03-19T08:50:54.430Z"
   },
   {
    "duration": 830,
    "start_time": "2023-03-19T08:50:56.931Z"
   },
   {
    "duration": 6,
    "start_time": "2023-03-19T08:51:07.792Z"
   },
   {
    "duration": 757,
    "start_time": "2023-03-19T08:51:09.494Z"
   },
   {
    "duration": 732,
    "start_time": "2023-03-19T08:51:14.016Z"
   },
   {
    "duration": 55,
    "start_time": "2023-03-19T08:56:42.909Z"
   },
   {
    "duration": 4,
    "start_time": "2023-03-19T08:56:49.165Z"
   },
   {
    "duration": 719,
    "start_time": "2023-03-19T08:56:50.790Z"
   },
   {
    "duration": 770,
    "start_time": "2023-03-19T09:20:20.505Z"
   },
   {
    "duration": 221,
    "start_time": "2023-03-19T09:20:28.602Z"
   },
   {
    "duration": 15,
    "start_time": "2023-03-19T09:21:32.295Z"
   },
   {
    "duration": 43,
    "start_time": "2023-03-19T09:21:41.804Z"
   },
   {
    "duration": 25,
    "start_time": "2023-03-19T09:21:50.131Z"
   },
   {
    "duration": 21,
    "start_time": "2023-03-19T09:21:58.355Z"
   },
   {
    "duration": 14,
    "start_time": "2023-03-19T09:22:07.265Z"
   },
   {
    "duration": 14,
    "start_time": "2023-03-19T09:22:54.693Z"
   },
   {
    "duration": 1197,
    "start_time": "2023-03-19T09:23:14.603Z"
   },
   {
    "duration": 853,
    "start_time": "2023-03-19T09:23:15.802Z"
   },
   {
    "duration": 4,
    "start_time": "2023-03-19T09:23:16.657Z"
   },
   {
    "duration": 881,
    "start_time": "2023-03-19T09:23:16.663Z"
   },
   {
    "duration": 43,
    "start_time": "2023-03-19T09:23:40.741Z"
   },
   {
    "duration": 11,
    "start_time": "2023-03-19T09:23:50.103Z"
   },
   {
    "duration": 4,
    "start_time": "2023-03-19T09:36:27.796Z"
   },
   {
    "duration": 626,
    "start_time": "2023-03-19T09:37:56.702Z"
   },
   {
    "duration": 17,
    "start_time": "2023-03-19T09:38:07.100Z"
   },
   {
    "duration": 15,
    "start_time": "2023-03-19T09:38:15.472Z"
   },
   {
    "duration": 29,
    "start_time": "2023-03-19T09:38:36.594Z"
   },
   {
    "duration": 434,
    "start_time": "2023-03-19T09:41:04.669Z"
   },
   {
    "duration": 445,
    "start_time": "2023-03-19T09:41:14.815Z"
   },
   {
    "duration": 12,
    "start_time": "2023-03-19T09:41:30.126Z"
   },
   {
    "duration": 1233,
    "start_time": "2023-03-19T09:41:50.707Z"
   },
   {
    "duration": 968,
    "start_time": "2023-03-19T09:41:51.943Z"
   },
   {
    "duration": 5,
    "start_time": "2023-03-19T09:41:52.913Z"
   },
   {
    "duration": 986,
    "start_time": "2023-03-19T09:41:52.919Z"
   },
   {
    "duration": 44,
    "start_time": "2023-03-19T09:41:53.907Z"
   },
   {
    "duration": 13,
    "start_time": "2023-03-19T09:41:53.953Z"
   },
   {
    "duration": 120,
    "start_time": "2023-03-19T09:42:11.863Z"
   },
   {
    "duration": 25,
    "start_time": "2023-03-19T10:13:36.603Z"
   },
   {
    "duration": 24,
    "start_time": "2023-03-19T10:13:42.090Z"
   },
   {
    "duration": 26,
    "start_time": "2023-03-19T10:13:45.018Z"
   },
   {
    "duration": 27,
    "start_time": "2023-03-19T10:13:50.013Z"
   },
   {
    "duration": 91,
    "start_time": "2023-03-19T10:14:10.832Z"
   },
   {
    "duration": 95,
    "start_time": "2023-03-19T10:14:29.994Z"
   },
   {
    "duration": 90,
    "start_time": "2023-03-19T10:14:34.065Z"
   },
   {
    "duration": 87,
    "start_time": "2023-03-19T10:14:43.530Z"
   },
   {
    "duration": 105,
    "start_time": "2023-03-19T10:14:47.349Z"
   },
   {
    "duration": 91,
    "start_time": "2023-03-19T10:14:50.884Z"
   },
   {
    "duration": 219,
    "start_time": "2023-03-19T10:24:21.157Z"
   },
   {
    "duration": 32,
    "start_time": "2023-03-19T10:25:27.462Z"
   },
   {
    "duration": 140,
    "start_time": "2023-03-19T10:26:18.102Z"
   },
   {
    "duration": 130,
    "start_time": "2023-03-19T10:26:22.375Z"
   },
   {
    "duration": 19,
    "start_time": "2023-03-19T10:45:21.662Z"
   },
   {
    "duration": 13,
    "start_time": "2023-03-19T10:45:35.677Z"
   },
   {
    "duration": 15,
    "start_time": "2023-03-19T10:45:39.118Z"
   },
   {
    "duration": 53,
    "start_time": "2023-03-19T10:47:44.046Z"
   },
   {
    "duration": 91,
    "start_time": "2023-03-19T10:47:48.672Z"
   },
   {
    "duration": 17,
    "start_time": "2023-03-19T10:48:20.206Z"
   },
   {
    "duration": 12,
    "start_time": "2023-03-19T10:48:52.056Z"
   },
   {
    "duration": 18,
    "start_time": "2023-03-19T10:48:59.492Z"
   },
   {
    "duration": 96,
    "start_time": "2023-03-19T10:50:15.454Z"
   },
   {
    "duration": 18,
    "start_time": "2023-03-19T10:50:16.601Z"
   },
   {
    "duration": 91,
    "start_time": "2023-03-19T10:50:26.554Z"
   },
   {
    "duration": 170,
    "start_time": "2023-03-19T11:09:07.153Z"
   },
   {
    "duration": 151,
    "start_time": "2023-03-19T11:35:48.850Z"
   },
   {
    "duration": 395,
    "start_time": "2023-03-19T11:36:17.106Z"
   },
   {
    "duration": 46,
    "start_time": "2023-03-19T11:36:36.669Z"
   },
   {
    "duration": 455,
    "start_time": "2023-03-19T11:36:47.428Z"
   },
   {
    "duration": 44,
    "start_time": "2023-03-19T11:37:28.271Z"
   },
   {
    "duration": 248,
    "start_time": "2023-03-19T11:37:30.916Z"
   },
   {
    "duration": 364,
    "start_time": "2023-03-19T11:38:21.329Z"
   },
   {
    "duration": 374,
    "start_time": "2023-03-19T11:38:25.344Z"
   },
   {
    "duration": 20,
    "start_time": "2023-03-19T11:39:12.560Z"
   },
   {
    "duration": 19,
    "start_time": "2023-03-19T11:39:24.103Z"
   },
   {
    "duration": 394,
    "start_time": "2023-03-19T11:40:17.010Z"
   },
   {
    "duration": 393,
    "start_time": "2023-03-19T11:40:26.888Z"
   },
   {
    "duration": 380,
    "start_time": "2023-03-19T11:41:45.729Z"
   },
   {
    "duration": 507,
    "start_time": "2023-03-19T11:42:42.057Z"
   },
   {
    "duration": 731,
    "start_time": "2023-03-19T11:43:09.084Z"
   },
   {
    "duration": 822,
    "start_time": "2023-03-19T11:47:08.329Z"
   },
   {
    "duration": 1221,
    "start_time": "2023-03-19T11:49:46.026Z"
   },
   {
    "duration": 931,
    "start_time": "2023-03-19T11:49:48.985Z"
   },
   {
    "duration": 5,
    "start_time": "2023-03-19T11:49:50.966Z"
   },
   {
    "duration": 900,
    "start_time": "2023-03-19T11:49:59.934Z"
   },
   {
    "duration": 13,
    "start_time": "2023-03-19T11:50:03.354Z"
   },
   {
    "duration": 94,
    "start_time": "2023-03-19T11:50:11.110Z"
   },
   {
    "duration": 33,
    "start_time": "2023-03-19T11:50:14.205Z"
   },
   {
    "duration": 203,
    "start_time": "2023-03-19T11:50:15.990Z"
   },
   {
    "duration": 16,
    "start_time": "2023-03-19T11:50:18.041Z"
   },
   {
    "duration": 108,
    "start_time": "2023-03-19T11:50:21.150Z"
   },
   {
    "duration": 29,
    "start_time": "2023-03-19T11:50:22.883Z"
   },
   {
    "duration": 111,
    "start_time": "2023-03-19T11:50:24.290Z"
   },
   {
    "duration": 21,
    "start_time": "2023-03-19T11:50:25.776Z"
   },
   {
    "duration": 143,
    "start_time": "2023-03-19T11:50:27.197Z"
   },
   {
    "duration": 396,
    "start_time": "2023-03-19T11:50:36.223Z"
   },
   {
    "duration": 770,
    "start_time": "2023-03-19T11:50:41.348Z"
   },
   {
    "duration": 91,
    "start_time": "2023-03-19T11:50:56.438Z"
   },
   {
    "duration": 102,
    "start_time": "2023-03-19T11:52:05.526Z"
   },
   {
    "duration": 94,
    "start_time": "2023-03-19T11:52:12.620Z"
   },
   {
    "duration": 52,
    "start_time": "2023-03-19T11:53:07.474Z"
   },
   {
    "duration": 54,
    "start_time": "2023-03-19T11:53:16.738Z"
   },
   {
    "duration": 48,
    "start_time": "2023-03-19T11:53:23.349Z"
   },
   {
    "duration": 57,
    "start_time": "2023-03-19T11:54:13.910Z"
   },
   {
    "duration": 405,
    "start_time": "2023-03-19T11:54:26.882Z"
   },
   {
    "duration": 468,
    "start_time": "2023-03-19T11:54:29.739Z"
   },
   {
    "duration": 76,
    "start_time": "2023-03-19T11:54:35.007Z"
   },
   {
    "duration": 58,
    "start_time": "2023-03-19T11:54:49.852Z"
   },
   {
    "duration": 57,
    "start_time": "2023-03-19T11:55:13.301Z"
   },
   {
    "duration": 67,
    "start_time": "2023-03-19T11:56:48.552Z"
   },
   {
    "duration": 202,
    "start_time": "2023-03-19T11:57:00.221Z"
   },
   {
    "duration": 233,
    "start_time": "2023-03-19T11:57:06.144Z"
   },
   {
    "duration": 394,
    "start_time": "2023-03-19T11:57:09.025Z"
   },
   {
    "duration": 353,
    "start_time": "2023-03-19T11:57:37.417Z"
   },
   {
    "duration": 49,
    "start_time": "2023-03-19T11:58:00.693Z"
   },
   {
    "duration": 313,
    "start_time": "2023-03-19T11:58:02.044Z"
   },
   {
    "duration": 306,
    "start_time": "2023-03-19T11:58:04.525Z"
   },
   {
    "duration": 1326,
    "start_time": "2023-03-19T12:11:26.483Z"
   },
   {
    "duration": 972,
    "start_time": "2023-03-19T12:11:27.811Z"
   },
   {
    "duration": 5,
    "start_time": "2023-03-19T12:11:28.785Z"
   },
   {
    "duration": 885,
    "start_time": "2023-03-19T12:11:28.792Z"
   },
   {
    "duration": 20,
    "start_time": "2023-03-19T12:11:29.679Z"
   },
   {
    "duration": 120,
    "start_time": "2023-03-19T12:11:29.701Z"
   },
   {
    "duration": 36,
    "start_time": "2023-03-19T12:11:29.823Z"
   },
   {
    "duration": 196,
    "start_time": "2023-03-19T12:11:29.861Z"
   },
   {
    "duration": 17,
    "start_time": "2023-03-19T12:11:30.058Z"
   },
   {
    "duration": 114,
    "start_time": "2023-03-19T12:11:30.090Z"
   },
   {
    "duration": 19,
    "start_time": "2023-03-19T12:11:30.206Z"
   },
   {
    "duration": 115,
    "start_time": "2023-03-19T12:11:30.226Z"
   },
   {
    "duration": 21,
    "start_time": "2023-03-19T12:11:30.343Z"
   },
   {
    "duration": 153,
    "start_time": "2023-03-19T12:11:30.366Z"
   },
   {
    "duration": 810,
    "start_time": "2023-03-19T12:11:30.520Z"
   },
   {
    "duration": 65,
    "start_time": "2023-03-19T12:11:31.331Z"
   },
   {
    "duration": 346,
    "start_time": "2023-03-19T12:11:31.398Z"
   },
   {
    "duration": 350,
    "start_time": "2023-03-19T12:11:34.914Z"
   },
   {
    "duration": 519,
    "start_time": "2023-03-19T12:11:54.608Z"
   },
   {
    "duration": 64,
    "start_time": "2023-03-19T12:12:02.882Z"
   },
   {
    "duration": 335,
    "start_time": "2023-03-19T12:12:14.631Z"
   },
   {
    "duration": 296,
    "start_time": "2023-03-19T12:12:19.340Z"
   },
   {
    "duration": 484,
    "start_time": "2023-03-19T12:15:28.063Z"
   },
   {
    "duration": 711,
    "start_time": "2023-03-19T12:15:34.062Z"
   },
   {
    "duration": 671,
    "start_time": "2023-03-19T12:20:34.987Z"
   },
   {
    "duration": 296,
    "start_time": "2023-03-19T12:21:33.516Z"
   },
   {
    "duration": 305,
    "start_time": "2023-03-19T12:21:41.634Z"
   },
   {
    "duration": 221,
    "start_time": "2023-03-19T12:21:55.006Z"
   },
   {
    "duration": 45,
    "start_time": "2023-03-19T12:23:11.455Z"
   },
   {
    "duration": 340,
    "start_time": "2023-03-19T12:25:39.316Z"
   },
   {
    "duration": 63,
    "start_time": "2023-03-19T12:26:50.897Z"
   },
   {
    "duration": 1231,
    "start_time": "2023-03-19T12:26:55.863Z"
   },
   {
    "duration": 941,
    "start_time": "2023-03-19T12:26:57.096Z"
   },
   {
    "duration": 5,
    "start_time": "2023-03-19T12:26:58.039Z"
   },
   {
    "duration": 967,
    "start_time": "2023-03-19T12:26:58.046Z"
   },
   {
    "duration": 14,
    "start_time": "2023-03-19T12:26:59.016Z"
   },
   {
    "duration": 111,
    "start_time": "2023-03-19T12:26:59.032Z"
   },
   {
    "duration": 45,
    "start_time": "2023-03-19T12:26:59.145Z"
   },
   {
    "duration": 204,
    "start_time": "2023-03-19T12:26:59.191Z"
   },
   {
    "duration": 17,
    "start_time": "2023-03-19T12:26:59.396Z"
   },
   {
    "duration": 124,
    "start_time": "2023-03-19T12:26:59.415Z"
   },
   {
    "duration": 18,
    "start_time": "2023-03-19T12:26:59.541Z"
   },
   {
    "duration": 115,
    "start_time": "2023-03-19T12:26:59.561Z"
   },
   {
    "duration": 22,
    "start_time": "2023-03-19T12:26:59.678Z"
   },
   {
    "duration": 139,
    "start_time": "2023-03-19T12:26:59.703Z"
   },
   {
    "duration": 750,
    "start_time": "2023-03-19T12:26:59.843Z"
   },
   {
    "duration": 65,
    "start_time": "2023-03-19T12:27:00.594Z"
   },
   {
    "duration": 367,
    "start_time": "2023-03-19T12:27:00.661Z"
   },
   {
    "duration": 322,
    "start_time": "2023-03-19T12:27:01.030Z"
   },
   {
    "duration": 717,
    "start_time": "2023-03-19T12:27:01.353Z"
   },
   {
    "duration": 245,
    "start_time": "2023-03-19T12:27:02.071Z"
   },
   {
    "duration": 237,
    "start_time": "2023-03-19T12:29:04.883Z"
   },
   {
    "duration": 26,
    "start_time": "2023-03-19T12:29:55.683Z"
   },
   {
    "duration": 40,
    "start_time": "2023-03-19T12:46:59.096Z"
   },
   {
    "duration": 55,
    "start_time": "2023-03-19T12:47:29.315Z"
   },
   {
    "duration": 1729,
    "start_time": "2023-03-20T17:43:03.278Z"
   },
   {
    "duration": 1632,
    "start_time": "2023-03-20T17:43:05.010Z"
   },
   {
    "duration": 7,
    "start_time": "2023-03-20T17:43:06.644Z"
   },
   {
    "duration": 973,
    "start_time": "2023-03-20T17:43:06.653Z"
   },
   {
    "duration": 18,
    "start_time": "2023-03-20T17:43:07.629Z"
   },
   {
    "duration": 196,
    "start_time": "2023-03-20T17:43:07.649Z"
   },
   {
    "duration": 51,
    "start_time": "2023-03-20T17:43:07.847Z"
   },
   {
    "duration": 258,
    "start_time": "2023-03-20T17:43:07.900Z"
   },
   {
    "duration": 23,
    "start_time": "2023-03-20T17:43:08.161Z"
   },
   {
    "duration": 177,
    "start_time": "2023-03-20T17:43:08.187Z"
   },
   {
    "duration": 20,
    "start_time": "2023-03-20T17:43:08.366Z"
   },
   {
    "duration": 138,
    "start_time": "2023-03-20T17:43:08.389Z"
   },
   {
    "duration": 20,
    "start_time": "2023-03-20T17:43:08.530Z"
   },
   {
    "duration": 275,
    "start_time": "2023-03-20T17:43:08.553Z"
   },
   {
    "duration": 1023,
    "start_time": "2023-03-20T17:43:08.830Z"
   },
   {
    "duration": 74,
    "start_time": "2023-03-20T17:43:09.856Z"
   },
   {
    "duration": 376,
    "start_time": "2023-03-20T17:43:09.932Z"
   },
   {
    "duration": 388,
    "start_time": "2023-03-20T17:43:10.310Z"
   },
   {
    "duration": 810,
    "start_time": "2023-03-20T17:43:10.700Z"
   },
   {
    "duration": 271,
    "start_time": "2023-03-20T17:43:11.512Z"
   },
   {
    "duration": 263,
    "start_time": "2023-03-20T17:43:11.785Z"
   },
   {
    "duration": 35,
    "start_time": "2023-03-20T17:43:12.050Z"
   },
   {
    "duration": 26,
    "start_time": "2023-03-20T17:43:15.617Z"
   },
   {
    "duration": 89,
    "start_time": "2023-03-20T17:51:23.814Z"
   },
   {
    "duration": 105,
    "start_time": "2023-03-20T17:52:35.876Z"
   },
   {
    "duration": 1254,
    "start_time": "2023-03-20T18:57:31.786Z"
   },
   {
    "duration": 960,
    "start_time": "2023-03-20T18:57:33.042Z"
   },
   {
    "duration": 5,
    "start_time": "2023-03-20T18:57:34.003Z"
   },
   {
    "duration": 964,
    "start_time": "2023-03-20T18:57:34.011Z"
   },
   {
    "duration": 19,
    "start_time": "2023-03-20T18:57:34.979Z"
   },
   {
    "duration": 128,
    "start_time": "2023-03-20T18:57:35.001Z"
   },
   {
    "duration": 49,
    "start_time": "2023-03-20T18:57:35.131Z"
   },
   {
    "duration": 256,
    "start_time": "2023-03-20T18:57:35.184Z"
   },
   {
    "duration": 30,
    "start_time": "2023-03-20T18:57:35.442Z"
   },
   {
    "duration": 119,
    "start_time": "2023-03-20T18:57:35.476Z"
   },
   {
    "duration": 21,
    "start_time": "2023-03-20T18:57:35.597Z"
   },
   {
    "duration": 121,
    "start_time": "2023-03-20T18:57:35.620Z"
   },
   {
    "duration": 28,
    "start_time": "2023-03-20T18:57:35.744Z"
   },
   {
    "duration": 165,
    "start_time": "2023-03-20T18:57:35.774Z"
   },
   {
    "duration": 823,
    "start_time": "2023-03-20T18:57:35.941Z"
   },
   {
    "duration": 84,
    "start_time": "2023-03-20T18:57:36.771Z"
   },
   {
    "duration": 354,
    "start_time": "2023-03-20T18:57:36.857Z"
   },
   {
    "duration": 353,
    "start_time": "2023-03-20T18:57:37.213Z"
   },
   {
    "duration": 789,
    "start_time": "2023-03-20T18:57:37.571Z"
   },
   {
    "duration": 254,
    "start_time": "2023-03-20T18:57:38.362Z"
   },
   {
    "duration": 252,
    "start_time": "2023-03-20T18:57:38.618Z"
   },
   {
    "duration": 25,
    "start_time": "2023-03-20T18:57:38.872Z"
   },
   {
    "duration": 130,
    "start_time": "2023-03-20T18:57:38.899Z"
   },
   {
    "duration": 22,
    "start_time": "2023-03-20T18:57:39.031Z"
   },
   {
    "duration": 121,
    "start_time": "2023-03-20T19:00:16.134Z"
   },
   {
    "duration": 918,
    "start_time": "2023-03-20T19:01:19.836Z"
   },
   {
    "duration": 911,
    "start_time": "2023-03-20T19:01:27.571Z"
   },
   {
    "duration": 1317,
    "start_time": "2023-03-20T19:03:24.204Z"
   },
   {
    "duration": 912,
    "start_time": "2023-03-20T19:03:25.524Z"
   },
   {
    "duration": 4,
    "start_time": "2023-03-20T19:03:26.438Z"
   },
   {
    "duration": 899,
    "start_time": "2023-03-20T19:03:26.444Z"
   },
   {
    "duration": 14,
    "start_time": "2023-03-20T19:03:27.346Z"
   },
   {
    "duration": 113,
    "start_time": "2023-03-20T19:03:27.371Z"
   },
   {
    "duration": 36,
    "start_time": "2023-03-20T19:03:27.486Z"
   },
   {
    "duration": 211,
    "start_time": "2023-03-20T19:03:27.523Z"
   },
   {
    "duration": 19,
    "start_time": "2023-03-20T19:03:27.736Z"
   },
   {
    "duration": 114,
    "start_time": "2023-03-20T19:03:27.771Z"
   },
   {
    "duration": 24,
    "start_time": "2023-03-20T19:03:27.887Z"
   },
   {
    "duration": 134,
    "start_time": "2023-03-20T19:03:27.912Z"
   },
   {
    "duration": 18,
    "start_time": "2023-03-20T19:03:28.048Z"
   },
   {
    "duration": 148,
    "start_time": "2023-03-20T19:03:28.072Z"
   },
   {
    "duration": 805,
    "start_time": "2023-03-20T19:03:28.222Z"
   },
   {
    "duration": 69,
    "start_time": "2023-03-20T19:03:29.029Z"
   },
   {
    "duration": 353,
    "start_time": "2023-03-20T19:03:29.100Z"
   },
   {
    "duration": 349,
    "start_time": "2023-03-20T19:03:29.455Z"
   },
   {
    "duration": 774,
    "start_time": "2023-03-20T19:03:29.806Z"
   },
   {
    "duration": 261,
    "start_time": "2023-03-20T19:03:30.583Z"
   },
   {
    "duration": 255,
    "start_time": "2023-03-20T19:03:30.846Z"
   },
   {
    "duration": 25,
    "start_time": "2023-03-20T19:03:31.103Z"
   },
   {
    "duration": 145,
    "start_time": "2023-03-20T19:03:31.130Z"
   },
   {
    "duration": 22,
    "start_time": "2023-03-20T19:03:31.278Z"
   },
   {
    "duration": 1046,
    "start_time": "2023-03-20T19:03:31.303Z"
   },
   {
    "duration": 281,
    "start_time": "2023-03-20T19:05:18.305Z"
   },
   {
    "duration": 232,
    "start_time": "2023-03-20T19:05:23.300Z"
   },
   {
    "duration": 107,
    "start_time": "2023-03-20T19:11:35.698Z"
   },
   {
    "duration": 264,
    "start_time": "2023-03-20T19:11:52.526Z"
   },
   {
    "duration": 371,
    "start_time": "2023-03-20T19:12:05.801Z"
   },
   {
    "duration": 4,
    "start_time": "2023-03-20T19:13:15.403Z"
   },
   {
    "duration": 56,
    "start_time": "2023-03-20T19:27:06.309Z"
   },
   {
    "duration": 50,
    "start_time": "2023-03-20T19:27:20.200Z"
   },
   {
    "duration": 39,
    "start_time": "2023-03-20T19:28:26.626Z"
   },
   {
    "duration": 57,
    "start_time": "2023-03-20T19:29:00.025Z"
   },
   {
    "duration": 114,
    "start_time": "2023-03-20T19:29:17.225Z"
   },
   {
    "duration": 24,
    "start_time": "2023-03-20T19:29:39.127Z"
   },
   {
    "duration": 126,
    "start_time": "2023-03-20T19:29:51.717Z"
   },
   {
    "duration": 4,
    "start_time": "2023-03-20T19:30:11.628Z"
   },
   {
    "duration": 107,
    "start_time": "2023-03-20T19:30:20.787Z"
   },
   {
    "duration": 81,
    "start_time": "2023-03-20T19:31:29.793Z"
   },
   {
    "duration": 1501,
    "start_time": "2023-03-20T19:32:06.047Z"
   },
   {
    "duration": 934,
    "start_time": "2023-03-20T19:32:07.550Z"
   },
   {
    "duration": 4,
    "start_time": "2023-03-20T19:32:08.486Z"
   },
   {
    "duration": 884,
    "start_time": "2023-03-20T19:32:08.491Z"
   },
   {
    "duration": 15,
    "start_time": "2023-03-20T19:32:09.377Z"
   },
   {
    "duration": 111,
    "start_time": "2023-03-20T19:32:09.394Z"
   },
   {
    "duration": 36,
    "start_time": "2023-03-20T19:32:09.507Z"
   },
   {
    "duration": 200,
    "start_time": "2023-03-20T19:32:09.545Z"
   },
   {
    "duration": 24,
    "start_time": "2023-03-20T19:32:09.747Z"
   },
   {
    "duration": 123,
    "start_time": "2023-03-20T19:32:09.773Z"
   },
   {
    "duration": 18,
    "start_time": "2023-03-20T19:32:09.898Z"
   },
   {
    "duration": 115,
    "start_time": "2023-03-20T19:32:09.918Z"
   },
   {
    "duration": 20,
    "start_time": "2023-03-20T19:32:10.035Z"
   },
   {
    "duration": 143,
    "start_time": "2023-03-20T19:32:10.070Z"
   },
   {
    "duration": 786,
    "start_time": "2023-03-20T19:32:10.214Z"
   },
   {
    "duration": 74,
    "start_time": "2023-03-20T19:32:11.002Z"
   },
   {
    "duration": 483,
    "start_time": "2023-03-20T19:32:11.079Z"
   },
   {
    "duration": 344,
    "start_time": "2023-03-20T19:32:11.563Z"
   },
   {
    "duration": 690,
    "start_time": "2023-03-20T19:32:11.909Z"
   },
   {
    "duration": 250,
    "start_time": "2023-03-20T19:32:12.600Z"
   },
   {
    "duration": 268,
    "start_time": "2023-03-20T19:32:12.852Z"
   },
   {
    "duration": 28,
    "start_time": "2023-03-20T19:32:13.122Z"
   },
   {
    "duration": 141,
    "start_time": "2023-03-20T19:32:13.152Z"
   },
   {
    "duration": 23,
    "start_time": "2023-03-20T19:32:13.295Z"
   },
   {
    "duration": 1021,
    "start_time": "2023-03-20T19:32:13.320Z"
   },
   {
    "duration": 367,
    "start_time": "2023-03-20T19:32:14.343Z"
   },
   {
    "duration": 418,
    "start_time": "2023-03-20T19:32:14.712Z"
   },
   {
    "duration": 5,
    "start_time": "2023-03-20T19:32:15.132Z"
   },
   {
    "duration": 101938,
    "start_time": "2023-03-20T19:32:22.035Z"
   },
   {
    "duration": 99695,
    "start_time": "2023-03-20T19:38:06.382Z"
   },
   {
    "duration": 118,
    "start_time": "2023-03-20T19:52:01.901Z"
   },
   {
    "duration": 1554,
    "start_time": "2023-03-20T19:52:06.838Z"
   },
   {
    "duration": 890,
    "start_time": "2023-03-20T19:52:08.394Z"
   },
   {
    "duration": 5,
    "start_time": "2023-03-20T19:52:09.287Z"
   },
   {
    "duration": 834,
    "start_time": "2023-03-20T19:52:09.293Z"
   },
   {
    "duration": 14,
    "start_time": "2023-03-20T19:52:10.130Z"
   },
   {
    "duration": 111,
    "start_time": "2023-03-20T19:52:10.145Z"
   },
   {
    "duration": 41,
    "start_time": "2023-03-20T19:52:10.258Z"
   },
   {
    "duration": 205,
    "start_time": "2023-03-20T19:52:10.300Z"
   },
   {
    "duration": 15,
    "start_time": "2023-03-20T19:52:10.507Z"
   },
   {
    "duration": 114,
    "start_time": "2023-03-20T19:52:10.524Z"
   },
   {
    "duration": 19,
    "start_time": "2023-03-20T19:52:10.640Z"
   },
   {
    "duration": 106,
    "start_time": "2023-03-20T19:52:10.671Z"
   },
   {
    "duration": 19,
    "start_time": "2023-03-20T19:52:10.779Z"
   },
   {
    "duration": 159,
    "start_time": "2023-03-20T19:52:10.801Z"
   },
   {
    "duration": 845,
    "start_time": "2023-03-20T19:52:10.962Z"
   },
   {
    "duration": 65,
    "start_time": "2023-03-20T19:52:11.809Z"
   },
   {
    "duration": 423,
    "start_time": "2023-03-20T19:52:11.876Z"
   },
   {
    "duration": 331,
    "start_time": "2023-03-20T19:52:12.301Z"
   },
   {
    "duration": 690,
    "start_time": "2023-03-20T19:52:12.634Z"
   },
   {
    "duration": 277,
    "start_time": "2023-03-20T19:52:13.326Z"
   },
   {
    "duration": 258,
    "start_time": "2023-03-20T19:52:13.605Z"
   },
   {
    "duration": 25,
    "start_time": "2023-03-20T19:52:13.870Z"
   },
   {
    "duration": 118,
    "start_time": "2023-03-20T19:52:13.897Z"
   },
   {
    "duration": 21,
    "start_time": "2023-03-20T19:52:14.017Z"
   },
   {
    "duration": 1036,
    "start_time": "2023-03-20T19:52:14.039Z"
   },
   {
    "duration": 329,
    "start_time": "2023-03-20T19:52:15.077Z"
   },
   {
    "duration": 383,
    "start_time": "2023-03-20T19:52:15.407Z"
   },
   {
    "duration": 4,
    "start_time": "2023-03-20T19:52:15.792Z"
   },
   {
    "duration": 96850,
    "start_time": "2023-03-20T19:52:19.722Z"
   },
   {
    "duration": 52,
    "start_time": "2023-03-20T20:05:11.066Z"
   },
   {
    "duration": 4,
    "start_time": "2023-03-20T20:08:01.963Z"
   },
   {
    "duration": 2319,
    "start_time": "2023-03-20T20:44:12.243Z"
   },
   {
    "duration": 2332,
    "start_time": "2023-03-20T20:45:13.340Z"
   },
   {
    "duration": 258030,
    "start_time": "2023-03-20T20:49:06.150Z"
   },
   {
    "duration": 614,
    "start_time": "2023-03-20T20:59:24.584Z"
   },
   {
    "duration": 1430,
    "start_time": "2023-03-20T21:00:05.521Z"
   },
   {
    "duration": 836,
    "start_time": "2023-03-20T21:00:06.953Z"
   },
   {
    "duration": 4,
    "start_time": "2023-03-20T21:00:07.791Z"
   },
   {
    "duration": 804,
    "start_time": "2023-03-20T21:00:07.797Z"
   },
   {
    "duration": 13,
    "start_time": "2023-03-20T21:00:08.604Z"
   },
   {
    "duration": 98,
    "start_time": "2023-03-20T21:00:08.618Z"
   },
   {
    "duration": 32,
    "start_time": "2023-03-20T21:00:08.718Z"
   },
   {
    "duration": 184,
    "start_time": "2023-03-20T21:00:08.752Z"
   },
   {
    "duration": 14,
    "start_time": "2023-03-20T21:00:08.938Z"
   },
   {
    "duration": 87,
    "start_time": "2023-03-20T21:00:08.971Z"
   },
   {
    "duration": 22,
    "start_time": "2023-03-20T21:00:09.060Z"
   },
   {
    "duration": 111,
    "start_time": "2023-03-20T21:00:09.083Z"
   },
   {
    "duration": 18,
    "start_time": "2023-03-20T21:00:09.196Z"
   },
   {
    "duration": 128,
    "start_time": "2023-03-20T21:00:09.217Z"
   },
   {
    "duration": 713,
    "start_time": "2023-03-20T21:00:09.346Z"
   },
   {
    "duration": 61,
    "start_time": "2023-03-20T21:00:10.061Z"
   },
   {
    "duration": 386,
    "start_time": "2023-03-20T21:00:10.124Z"
   },
   {
    "duration": 312,
    "start_time": "2023-03-20T21:00:10.511Z"
   },
   {
    "duration": 637,
    "start_time": "2023-03-20T21:00:10.825Z"
   },
   {
    "duration": 236,
    "start_time": "2023-03-20T21:00:11.463Z"
   },
   {
    "duration": 232,
    "start_time": "2023-03-20T21:00:11.700Z"
   },
   {
    "duration": 24,
    "start_time": "2023-03-20T21:00:11.934Z"
   },
   {
    "duration": 102,
    "start_time": "2023-03-20T21:00:11.971Z"
   },
   {
    "duration": 20,
    "start_time": "2023-03-20T21:00:12.075Z"
   },
   {
    "duration": 857,
    "start_time": "2023-03-20T21:00:12.097Z"
   },
   {
    "duration": 318,
    "start_time": "2023-03-20T21:00:12.956Z"
   },
   {
    "duration": 359,
    "start_time": "2023-03-20T21:00:13.276Z"
   },
   {
    "duration": 4,
    "start_time": "2023-03-20T21:00:13.637Z"
   },
   {
    "duration": 192,
    "start_time": "2023-03-20T21:01:26.359Z"
   },
   {
    "duration": 92,
    "start_time": "2023-03-20T21:01:46.801Z"
   },
   {
    "duration": 89,
    "start_time": "2023-03-20T21:02:00.593Z"
   },
   {
    "duration": 86,
    "start_time": "2023-03-20T21:02:19.365Z"
   },
   {
    "duration": 21,
    "start_time": "2023-03-20T21:09:15.965Z"
   },
   {
    "duration": 83,
    "start_time": "2023-03-20T21:11:46.045Z"
   },
   {
    "duration": 3,
    "start_time": "2023-03-20T21:12:03.005Z"
   },
   {
    "duration": 2860,
    "start_time": "2023-03-20T21:12:08.127Z"
   },
   {
    "duration": 2936,
    "start_time": "2023-03-20T21:13:02.469Z"
   },
   {
    "duration": 17819,
    "start_time": "2023-03-20T21:13:21.412Z"
   },
   {
    "duration": 1526276,
    "start_time": "2023-03-20T21:15:16.826Z"
   },
   {
    "duration": 1641,
    "start_time": "2023-03-21T21:10:29.137Z"
   },
   {
    "duration": 2825,
    "start_time": "2023-03-21T21:10:30.780Z"
   },
   {
    "duration": 5,
    "start_time": "2023-03-21T21:10:33.607Z"
   },
   {
    "duration": 825,
    "start_time": "2023-03-21T21:10:33.614Z"
   },
   {
    "duration": 13,
    "start_time": "2023-03-21T21:10:34.441Z"
   },
   {
    "duration": 104,
    "start_time": "2023-03-21T21:10:34.456Z"
   },
   {
    "duration": 45,
    "start_time": "2023-03-21T21:10:34.562Z"
   },
   {
    "duration": 186,
    "start_time": "2023-03-21T21:10:34.609Z"
   },
   {
    "duration": 16,
    "start_time": "2023-03-21T21:10:34.798Z"
   },
   {
    "duration": 126,
    "start_time": "2023-03-21T21:10:34.818Z"
   },
   {
    "duration": 22,
    "start_time": "2023-03-21T21:10:34.946Z"
   },
   {
    "duration": 126,
    "start_time": "2023-03-21T21:10:34.970Z"
   },
   {
    "duration": 18,
    "start_time": "2023-03-21T21:10:35.099Z"
   },
   {
    "duration": 155,
    "start_time": "2023-03-21T21:10:35.119Z"
   },
   {
    "duration": 765,
    "start_time": "2023-03-21T21:10:35.276Z"
   },
   {
    "duration": 67,
    "start_time": "2023-03-21T21:10:36.043Z"
   },
   {
    "duration": 391,
    "start_time": "2023-03-21T21:10:36.112Z"
   },
   {
    "duration": 334,
    "start_time": "2023-03-21T21:10:36.505Z"
   },
   {
    "duration": 667,
    "start_time": "2023-03-21T21:10:36.840Z"
   },
   {
    "duration": 315,
    "start_time": "2023-03-21T21:10:37.509Z"
   },
   {
    "duration": 242,
    "start_time": "2023-03-21T21:10:37.826Z"
   },
   {
    "duration": 33,
    "start_time": "2023-03-21T21:10:38.071Z"
   },
   {
    "duration": 126,
    "start_time": "2023-03-21T21:10:38.106Z"
   },
   {
    "duration": 21,
    "start_time": "2023-03-21T21:10:38.234Z"
   },
   {
    "duration": 1003,
    "start_time": "2023-03-21T21:10:38.256Z"
   },
   {
    "duration": 317,
    "start_time": "2023-03-21T21:10:39.261Z"
   },
   {
    "duration": 364,
    "start_time": "2023-03-21T21:10:39.579Z"
   },
   {
    "duration": 4,
    "start_time": "2023-03-21T21:10:39.946Z"
   },
   {
    "duration": 23435,
    "start_time": "2023-03-21T21:10:46.175Z"
   },
   {
    "duration": 4,
    "start_time": "2023-03-21T21:11:30.342Z"
   },
   {
    "duration": 23446,
    "start_time": "2023-03-21T21:11:36.551Z"
   },
   {
    "duration": 4,
    "start_time": "2023-03-21T21:12:05.393Z"
   },
   {
    "duration": 24499,
    "start_time": "2023-03-21T21:12:48.993Z"
   },
   {
    "duration": 12,
    "start_time": "2023-03-21T21:25:26.467Z"
   },
   {
    "duration": 4,
    "start_time": "2023-03-21T21:25:48.825Z"
   },
   {
    "duration": 443071,
    "start_time": "2023-03-21T21:25:57.443Z"
   },
   {
    "duration": 3,
    "start_time": "2023-03-21T21:34:59.236Z"
   },
   {
    "duration": 446160,
    "start_time": "2023-03-21T21:39:32.447Z"
   },
   {
    "duration": 11,
    "start_time": "2023-03-21T21:47:41.073Z"
   },
   {
    "duration": 34246,
    "start_time": "2023-03-21T21:50:13.026Z"
   },
   {
    "duration": 673476,
    "start_time": "2023-03-21T21:53:00.515Z"
   },
   {
    "duration": 13,
    "start_time": "2023-03-21T22:05:17.280Z"
   },
   {
    "duration": 17565,
    "start_time": "2023-03-21T22:05:53.525Z"
   },
   {
    "duration": 20120,
    "start_time": "2023-03-21T22:06:20.281Z"
   },
   {
    "duration": 137836,
    "start_time": "2023-03-21T22:07:11.631Z"
   },
   {
    "duration": 22666,
    "start_time": "2023-03-21T22:09:58.125Z"
   },
   {
    "duration": 80,
    "start_time": "2023-03-21T22:11:45.315Z"
   },
   {
    "duration": 47,
    "start_time": "2023-03-21T22:12:22.626Z"
   },
   {
    "duration": 53,
    "start_time": "2023-03-21T22:12:29.222Z"
   },
   {
    "duration": 54,
    "start_time": "2023-03-21T22:12:40.760Z"
   },
   {
    "duration": 43,
    "start_time": "2023-03-21T22:12:54.390Z"
   },
   {
    "duration": 56,
    "start_time": "2023-03-21T22:13:10.325Z"
   },
   {
    "duration": 5,
    "start_time": "2023-03-21T22:13:38.110Z"
   },
   {
    "duration": 9,
    "start_time": "2023-03-21T22:13:41.612Z"
   },
   {
    "duration": 42,
    "start_time": "2023-03-21T22:26:19.381Z"
   },
   {
    "duration": 77,
    "start_time": "2023-03-23T20:22:06.037Z"
   },
   {
    "duration": 2147,
    "start_time": "2023-03-23T20:22:10.643Z"
   },
   {
    "duration": 3400,
    "start_time": "2023-03-23T20:22:12.792Z"
   },
   {
    "duration": 7,
    "start_time": "2023-03-23T20:22:16.193Z"
   },
   {
    "duration": 876,
    "start_time": "2023-03-23T20:22:16.203Z"
   },
   {
    "duration": 25,
    "start_time": "2023-03-23T20:22:17.084Z"
   },
   {
    "duration": 138,
    "start_time": "2023-03-23T20:22:17.116Z"
   },
   {
    "duration": 31,
    "start_time": "2023-03-23T20:22:17.257Z"
   },
   {
    "duration": 193,
    "start_time": "2023-03-23T20:22:17.303Z"
   },
   {
    "duration": 20,
    "start_time": "2023-03-23T20:22:17.498Z"
   },
   {
    "duration": 127,
    "start_time": "2023-03-23T20:22:17.521Z"
   },
   {
    "duration": 15,
    "start_time": "2023-03-23T20:22:17.651Z"
   },
   {
    "duration": 135,
    "start_time": "2023-03-23T20:22:17.668Z"
   },
   {
    "duration": 22,
    "start_time": "2023-03-23T20:22:17.805Z"
   },
   {
    "duration": 123,
    "start_time": "2023-03-23T20:22:17.829Z"
   },
   {
    "duration": 809,
    "start_time": "2023-03-23T20:22:17.955Z"
   },
   {
    "duration": 78,
    "start_time": "2023-03-23T20:22:18.766Z"
   },
   {
    "duration": 433,
    "start_time": "2023-03-23T20:22:18.847Z"
   },
   {
    "duration": 365,
    "start_time": "2023-03-23T20:22:19.282Z"
   },
   {
    "duration": 756,
    "start_time": "2023-03-23T20:22:19.649Z"
   },
   {
    "duration": 270,
    "start_time": "2023-03-23T20:22:20.407Z"
   },
   {
    "duration": 275,
    "start_time": "2023-03-23T20:22:20.679Z"
   },
   {
    "duration": 434,
    "start_time": "2023-03-23T20:22:33.989Z"
   },
   {
    "duration": 15,
    "start_time": "2023-03-23T20:32:36.337Z"
   },
   {
    "duration": 18,
    "start_time": "2023-03-23T20:32:36.460Z"
   },
   {
    "duration": 51,
    "start_time": "2023-03-23T20:35:47.805Z"
   },
   {
    "duration": 15,
    "start_time": "2023-03-23T20:35:54.999Z"
   },
   {
    "duration": 461,
    "start_time": "2023-03-23T20:36:07.742Z"
   },
   {
    "duration": 67,
    "start_time": "2023-03-23T20:36:23.016Z"
   },
   {
    "duration": 264,
    "start_time": "2023-03-23T20:52:12.238Z"
   },
   {
    "duration": 163,
    "start_time": "2023-03-23T20:52:33.393Z"
   },
   {
    "duration": 188,
    "start_time": "2023-03-23T20:52:52.361Z"
   },
   {
    "duration": 172,
    "start_time": "2023-03-23T20:52:58.263Z"
   },
   {
    "duration": 25,
    "start_time": "2023-03-23T20:53:25.842Z"
   },
   {
    "duration": 148,
    "start_time": "2023-03-23T20:53:37.051Z"
   },
   {
    "duration": 6,
    "start_time": "2023-03-23T20:53:38.591Z"
   },
   {
    "duration": 54,
    "start_time": "2023-03-23T20:54:08.303Z"
   },
   {
    "duration": 3,
    "start_time": "2023-03-23T20:55:48.614Z"
   },
   {
    "duration": 3,
    "start_time": "2023-03-23T20:55:54.775Z"
   },
   {
    "duration": 1561,
    "start_time": "2023-03-25T14:59:54.585Z"
   },
   {
    "duration": 2859,
    "start_time": "2023-03-25T14:59:56.149Z"
   },
   {
    "duration": 9,
    "start_time": "2023-03-25T14:59:59.010Z"
   },
   {
    "duration": 827,
    "start_time": "2023-03-25T14:59:59.022Z"
   },
   {
    "duration": 13,
    "start_time": "2023-03-25T14:59:59.851Z"
   },
   {
    "duration": 102,
    "start_time": "2023-03-25T14:59:59.866Z"
   },
   {
    "duration": 34,
    "start_time": "2023-03-25T14:59:59.970Z"
   },
   {
    "duration": 196,
    "start_time": "2023-03-25T15:00:00.006Z"
   },
   {
    "duration": 16,
    "start_time": "2023-03-25T15:00:00.204Z"
   },
   {
    "duration": 140,
    "start_time": "2023-03-25T15:00:00.222Z"
   },
   {
    "duration": 18,
    "start_time": "2023-03-25T15:00:00.364Z"
   },
   {
    "duration": 138,
    "start_time": "2023-03-25T15:00:00.383Z"
   },
   {
    "duration": 18,
    "start_time": "2023-03-25T15:00:00.523Z"
   },
   {
    "duration": 197,
    "start_time": "2023-03-25T15:00:00.544Z"
   },
   {
    "duration": 785,
    "start_time": "2023-03-25T15:00:00.743Z"
   },
   {
    "duration": 69,
    "start_time": "2023-03-25T15:00:01.530Z"
   },
   {
    "duration": 429,
    "start_time": "2023-03-25T15:00:01.600Z"
   },
   {
    "duration": 326,
    "start_time": "2023-03-25T15:00:02.031Z"
   },
   {
    "duration": 648,
    "start_time": "2023-03-25T15:00:02.359Z"
   },
   {
    "duration": 243,
    "start_time": "2023-03-25T15:00:03.009Z"
   },
   {
    "duration": 235,
    "start_time": "2023-03-25T15:00:03.254Z"
   },
   {
    "duration": 377,
    "start_time": "2023-03-25T15:00:03.490Z"
   },
   {
    "duration": 9,
    "start_time": "2023-03-25T15:00:03.869Z"
   },
   {
    "duration": 64,
    "start_time": "2023-03-25T15:00:03.880Z"
   },
   {
    "duration": 23,
    "start_time": "2023-03-25T15:00:03.946Z"
   },
   {
    "duration": 118,
    "start_time": "2023-03-25T15:00:03.971Z"
   },
   {
    "duration": 127,
    "start_time": "2023-03-25T15:00:04.091Z"
   },
   {
    "duration": 123,
    "start_time": "2023-03-25T15:00:04.220Z"
   },
   {
    "duration": 13,
    "start_time": "2023-03-25T15:00:04.345Z"
   },
   {
    "duration": 57,
    "start_time": "2023-03-25T15:00:04.360Z"
   },
   {
    "duration": 4,
    "start_time": "2023-03-25T15:00:04.419Z"
   },
   {
    "duration": 4,
    "start_time": "2023-03-25T15:00:04.442Z"
   },
   {
    "duration": 5,
    "start_time": "2023-03-25T15:00:04.448Z"
   },
   {
    "duration": 109,
    "start_time": "2023-03-25T15:28:56.833Z"
   },
   {
    "duration": 1570,
    "start_time": "2023-03-25T15:37:58.526Z"
   },
   {
    "duration": 865,
    "start_time": "2023-03-25T15:38:00.098Z"
   },
   {
    "duration": 7,
    "start_time": "2023-03-25T15:38:00.964Z"
   },
   {
    "duration": 885,
    "start_time": "2023-03-25T15:38:00.972Z"
   },
   {
    "duration": 15,
    "start_time": "2023-03-25T15:38:01.859Z"
   },
   {
    "duration": 167,
    "start_time": "2023-03-25T15:38:01.876Z"
   },
   {
    "duration": 48,
    "start_time": "2023-03-25T15:38:02.045Z"
   },
   {
    "duration": 194,
    "start_time": "2023-03-25T15:38:02.095Z"
   },
   {
    "duration": 19,
    "start_time": "2023-03-25T15:38:02.291Z"
   },
   {
    "duration": 129,
    "start_time": "2023-03-25T15:38:02.312Z"
   },
   {
    "duration": 17,
    "start_time": "2023-03-25T15:38:02.443Z"
   },
   {
    "duration": 110,
    "start_time": "2023-03-25T15:38:02.461Z"
   },
   {
    "duration": 25,
    "start_time": "2023-03-25T15:38:02.573Z"
   },
   {
    "duration": 157,
    "start_time": "2023-03-25T15:38:02.601Z"
   },
   {
    "duration": 799,
    "start_time": "2023-03-25T15:38:02.760Z"
   },
   {
    "duration": 63,
    "start_time": "2023-03-25T15:38:03.560Z"
   },
   {
    "duration": 415,
    "start_time": "2023-03-25T15:38:03.625Z"
   },
   {
    "duration": 322,
    "start_time": "2023-03-25T15:38:04.042Z"
   },
   {
    "duration": 667,
    "start_time": "2023-03-25T15:38:04.366Z"
   },
   {
    "duration": 347,
    "start_time": "2023-03-25T15:38:05.035Z"
   },
   {
    "duration": 258,
    "start_time": "2023-03-25T15:38:05.384Z"
   },
   {
    "duration": 410,
    "start_time": "2023-03-25T15:38:05.644Z"
   },
   {
    "duration": 9,
    "start_time": "2023-03-25T15:38:06.056Z"
   },
   {
    "duration": 75,
    "start_time": "2023-03-25T15:38:06.067Z"
   },
   {
    "duration": 21,
    "start_time": "2023-03-25T15:38:06.144Z"
   },
   {
    "duration": 122,
    "start_time": "2023-03-25T15:38:06.167Z"
   },
   {
    "duration": 125,
    "start_time": "2023-03-25T15:38:06.291Z"
   },
   {
    "duration": 107,
    "start_time": "2023-03-25T15:38:06.417Z"
   },
   {
    "duration": 22,
    "start_time": "2023-03-25T15:38:06.525Z"
   },
   {
    "duration": 56,
    "start_time": "2023-03-25T15:38:06.548Z"
   },
   {
    "duration": 5,
    "start_time": "2023-03-25T15:38:06.606Z"
   },
   {
    "duration": 115,
    "start_time": "2023-03-25T15:38:44.939Z"
   },
   {
    "duration": 4,
    "start_time": "2023-03-25T15:39:05.312Z"
   },
   {
    "duration": 19,
    "start_time": "2023-03-25T15:39:17.049Z"
   },
   {
    "duration": 18,
    "start_time": "2023-03-25T15:39:34.609Z"
   },
   {
    "duration": 265,
    "start_time": "2023-03-25T15:39:48.192Z"
   },
   {
    "duration": 312,
    "start_time": "2023-03-25T15:41:01.329Z"
   },
   {
    "duration": 16,
    "start_time": "2023-03-25T15:41:34.634Z"
   },
   {
    "duration": 10,
    "start_time": "2023-03-25T15:41:46.862Z"
   },
   {
    "duration": 14,
    "start_time": "2023-03-25T15:44:05.986Z"
   },
   {
    "duration": 5,
    "start_time": "2023-03-25T15:44:25.669Z"
   },
   {
    "duration": 1508,
    "start_time": "2023-03-25T15:44:42.333Z"
   },
   {
    "duration": 798,
    "start_time": "2023-03-25T15:44:43.843Z"
   },
   {
    "duration": 6,
    "start_time": "2023-03-25T15:44:44.643Z"
   },
   {
    "duration": 792,
    "start_time": "2023-03-25T15:44:44.651Z"
   },
   {
    "duration": 13,
    "start_time": "2023-03-25T15:44:45.444Z"
   },
   {
    "duration": 94,
    "start_time": "2023-03-25T15:44:45.458Z"
   },
   {
    "duration": 31,
    "start_time": "2023-03-25T15:44:45.554Z"
   },
   {
    "duration": 182,
    "start_time": "2023-03-25T15:44:45.586Z"
   },
   {
    "duration": 14,
    "start_time": "2023-03-25T15:44:45.769Z"
   },
   {
    "duration": 117,
    "start_time": "2023-03-25T15:44:45.785Z"
   },
   {
    "duration": 17,
    "start_time": "2023-03-25T15:44:45.903Z"
   },
   {
    "duration": 107,
    "start_time": "2023-03-25T15:44:45.922Z"
   },
   {
    "duration": 21,
    "start_time": "2023-03-25T15:44:46.032Z"
   },
   {
    "duration": 129,
    "start_time": "2023-03-25T15:44:46.055Z"
   },
   {
    "duration": 710,
    "start_time": "2023-03-25T15:44:46.186Z"
   },
   {
    "duration": 66,
    "start_time": "2023-03-25T15:44:46.897Z"
   },
   {
    "duration": 388,
    "start_time": "2023-03-25T15:44:46.965Z"
   },
   {
    "duration": 337,
    "start_time": "2023-03-25T15:44:47.355Z"
   },
   {
    "duration": 666,
    "start_time": "2023-03-25T15:44:47.694Z"
   },
   {
    "duration": 243,
    "start_time": "2023-03-25T15:44:48.362Z"
   },
   {
    "duration": 281,
    "start_time": "2023-03-25T15:44:48.606Z"
   },
   {
    "duration": 442,
    "start_time": "2023-03-25T15:44:48.889Z"
   },
   {
    "duration": 15,
    "start_time": "2023-03-25T15:44:49.333Z"
   },
   {
    "duration": 51,
    "start_time": "2023-03-25T15:44:49.350Z"
   },
   {
    "duration": 47,
    "start_time": "2023-03-25T15:44:49.403Z"
   },
   {
    "duration": 111,
    "start_time": "2023-03-25T15:44:49.452Z"
   },
   {
    "duration": 126,
    "start_time": "2023-03-25T15:44:49.565Z"
   },
   {
    "duration": 117,
    "start_time": "2023-03-25T15:44:49.694Z"
   },
   {
    "duration": 13,
    "start_time": "2023-03-25T15:44:49.813Z"
   },
   {
    "duration": 66,
    "start_time": "2023-03-25T15:44:49.828Z"
   },
   {
    "duration": 4,
    "start_time": "2023-03-25T15:44:49.896Z"
   },
   {
    "duration": 146,
    "start_time": "2023-03-25T15:44:54.709Z"
   },
   {
    "duration": 290,
    "start_time": "2023-03-25T15:45:10.657Z"
   },
   {
    "duration": 21,
    "start_time": "2023-03-25T15:46:57.277Z"
   },
   {
    "duration": 25,
    "start_time": "2023-03-25T15:47:03.397Z"
   },
   {
    "duration": 104,
    "start_time": "2023-03-25T15:47:15.202Z"
   },
   {
    "duration": 12,
    "start_time": "2023-03-25T15:47:29.629Z"
   },
   {
    "duration": 321,
    "start_time": "2023-03-25T16:51:39.186Z"
   },
   {
    "duration": 55,
    "start_time": "2023-03-25T16:57:57.421Z"
   },
   {
    "duration": 1393,
    "start_time": "2023-03-25T16:58:10.059Z"
   },
   {
    "duration": 814,
    "start_time": "2023-03-25T16:58:11.454Z"
   },
   {
    "duration": 4,
    "start_time": "2023-03-25T16:58:12.270Z"
   },
   {
    "duration": 779,
    "start_time": "2023-03-25T16:58:12.276Z"
   },
   {
    "duration": 13,
    "start_time": "2023-03-25T16:58:13.057Z"
   },
   {
    "duration": 103,
    "start_time": "2023-03-25T16:58:13.072Z"
   },
   {
    "duration": 31,
    "start_time": "2023-03-25T16:58:13.177Z"
   },
   {
    "duration": 174,
    "start_time": "2023-03-25T16:58:13.210Z"
   },
   {
    "duration": 14,
    "start_time": "2023-03-25T16:58:13.386Z"
   },
   {
    "duration": 107,
    "start_time": "2023-03-25T16:58:13.403Z"
   },
   {
    "duration": 18,
    "start_time": "2023-03-25T16:58:13.512Z"
   },
   {
    "duration": 121,
    "start_time": "2023-03-25T16:58:13.540Z"
   },
   {
    "duration": 17,
    "start_time": "2023-03-25T16:58:13.662Z"
   },
   {
    "duration": 131,
    "start_time": "2023-03-25T16:58:13.680Z"
   },
   {
    "duration": 706,
    "start_time": "2023-03-25T16:58:13.812Z"
   },
   {
    "duration": 66,
    "start_time": "2023-03-25T16:58:14.519Z"
   },
   {
    "duration": 369,
    "start_time": "2023-03-25T16:58:14.586Z"
   },
   {
    "duration": 303,
    "start_time": "2023-03-25T16:58:14.957Z"
   },
   {
    "duration": 604,
    "start_time": "2023-03-25T16:58:15.262Z"
   },
   {
    "duration": 240,
    "start_time": "2023-03-25T16:58:15.868Z"
   },
   {
    "duration": 230,
    "start_time": "2023-03-25T16:58:16.110Z"
   },
   {
    "duration": 358,
    "start_time": "2023-03-25T16:58:16.342Z"
   },
   {
    "duration": 8,
    "start_time": "2023-03-25T16:58:16.702Z"
   },
   {
    "duration": 58,
    "start_time": "2023-03-25T16:58:16.711Z"
   },
   {
    "duration": 21,
    "start_time": "2023-03-25T16:58:16.771Z"
   },
   {
    "duration": 111,
    "start_time": "2023-03-25T16:58:16.793Z"
   },
   {
    "duration": 117,
    "start_time": "2023-03-25T16:58:16.905Z"
   },
   {
    "duration": 103,
    "start_time": "2023-03-25T16:58:17.025Z"
   },
   {
    "duration": 22,
    "start_time": "2023-03-25T16:58:17.130Z"
   },
   {
    "duration": 54,
    "start_time": "2023-03-25T16:58:17.153Z"
   },
   {
    "duration": 4,
    "start_time": "2023-03-25T16:58:17.209Z"
   },
   {
    "duration": 168,
    "start_time": "2023-03-25T16:58:17.215Z"
   },
   {
    "duration": 3,
    "start_time": "2023-03-25T16:58:17.385Z"
   },
   {
    "duration": 5,
    "start_time": "2023-03-25T16:58:17.389Z"
   },
   {
    "duration": 306,
    "start_time": "2023-03-25T16:58:17.395Z"
   },
   {
    "duration": 19,
    "start_time": "2023-03-25T16:58:17.703Z"
   },
   {
    "duration": 246,
    "start_time": "2023-03-25T16:58:17.724Z"
   },
   {
    "duration": 2,
    "start_time": "2023-03-25T16:58:17.972Z"
   },
   {
    "duration": 5,
    "start_time": "2023-03-25T16:58:17.976Z"
   },
   {
    "duration": 150,
    "start_time": "2023-03-25T16:58:29.629Z"
   },
   {
    "duration": 962,
    "start_time": "2023-03-25T16:58:49.882Z"
   },
   {
    "duration": 54,
    "start_time": "2023-03-25T17:01:18.313Z"
   },
   {
    "duration": 13,
    "start_time": "2023-03-25T17:03:33.805Z"
   },
   {
    "duration": 4,
    "start_time": "2023-03-25T17:03:35.427Z"
   },
   {
    "duration": 6,
    "start_time": "2023-03-25T17:03:44.504Z"
   },
   {
    "duration": 1479,
    "start_time": "2023-03-25T17:04:32.378Z"
   },
   {
    "duration": 891,
    "start_time": "2023-03-25T17:04:33.859Z"
   },
   {
    "duration": 6,
    "start_time": "2023-03-25T17:04:34.751Z"
   },
   {
    "duration": 876,
    "start_time": "2023-03-25T17:04:34.760Z"
   },
   {
    "duration": 15,
    "start_time": "2023-03-25T17:04:35.640Z"
   },
   {
    "duration": 164,
    "start_time": "2023-03-25T17:04:35.657Z"
   },
   {
    "duration": 42,
    "start_time": "2023-03-25T17:04:35.822Z"
   },
   {
    "duration": 212,
    "start_time": "2023-03-25T17:04:35.865Z"
   },
   {
    "duration": 15,
    "start_time": "2023-03-25T17:04:36.078Z"
   },
   {
    "duration": 119,
    "start_time": "2023-03-25T17:04:36.096Z"
   },
   {
    "duration": 24,
    "start_time": "2023-03-25T17:04:36.217Z"
   },
   {
    "duration": 116,
    "start_time": "2023-03-25T17:04:36.243Z"
   },
   {
    "duration": 19,
    "start_time": "2023-03-25T17:04:36.361Z"
   },
   {
    "duration": 138,
    "start_time": "2023-03-25T17:04:36.381Z"
   },
   {
    "duration": 809,
    "start_time": "2023-03-25T17:04:36.521Z"
   },
   {
    "duration": 64,
    "start_time": "2023-03-25T17:04:37.332Z"
   },
   {
    "duration": 443,
    "start_time": "2023-03-25T17:04:37.398Z"
   },
   {
    "duration": 309,
    "start_time": "2023-03-25T17:04:37.842Z"
   },
   {
    "duration": 625,
    "start_time": "2023-03-25T17:04:38.153Z"
   },
   {
    "duration": 310,
    "start_time": "2023-03-25T17:04:38.780Z"
   },
   {
    "duration": 230,
    "start_time": "2023-03-25T17:04:39.091Z"
   },
   {
    "duration": 385,
    "start_time": "2023-03-25T17:04:39.322Z"
   },
   {
    "duration": 11,
    "start_time": "2023-03-25T17:04:39.709Z"
   },
   {
    "duration": 64,
    "start_time": "2023-03-25T17:04:39.722Z"
   },
   {
    "duration": 22,
    "start_time": "2023-03-25T17:04:39.787Z"
   },
   {
    "duration": 107,
    "start_time": "2023-03-25T17:04:39.811Z"
   },
   {
    "duration": 128,
    "start_time": "2023-03-25T17:04:39.919Z"
   },
   {
    "duration": 103,
    "start_time": "2023-03-25T17:04:40.050Z"
   },
   {
    "duration": 14,
    "start_time": "2023-03-25T17:04:40.155Z"
   },
   {
    "duration": 74,
    "start_time": "2023-03-25T17:04:40.171Z"
   },
   {
    "duration": 4,
    "start_time": "2023-03-25T17:04:40.246Z"
   },
   {
    "duration": 152,
    "start_time": "2023-03-25T17:04:40.251Z"
   },
   {
    "duration": 2,
    "start_time": "2023-03-25T17:04:40.405Z"
   },
   {
    "duration": 15,
    "start_time": "2023-03-25T17:04:40.409Z"
   },
   {
    "duration": 303,
    "start_time": "2023-03-25T17:04:40.425Z"
   },
   {
    "duration": 25,
    "start_time": "2023-03-25T17:04:40.730Z"
   },
   {
    "duration": 241,
    "start_time": "2023-03-25T17:04:40.757Z"
   },
   {
    "duration": 3,
    "start_time": "2023-03-25T17:04:40.999Z"
   },
   {
    "duration": 6,
    "start_time": "2023-03-25T17:04:41.003Z"
   },
   {
    "duration": 994,
    "start_time": "2023-03-25T17:04:55.049Z"
   },
   {
    "duration": 984,
    "start_time": "2023-03-25T17:05:36.456Z"
   },
   {
    "duration": 1504,
    "start_time": "2023-03-25T17:07:01.950Z"
   },
   {
    "duration": 905,
    "start_time": "2023-03-25T17:07:03.455Z"
   },
   {
    "duration": 8,
    "start_time": "2023-03-25T17:07:04.361Z"
   },
   {
    "duration": 915,
    "start_time": "2023-03-25T17:07:04.370Z"
   },
   {
    "duration": 14,
    "start_time": "2023-03-25T17:07:05.288Z"
   },
   {
    "duration": 113,
    "start_time": "2023-03-25T17:07:05.304Z"
   },
   {
    "duration": 41,
    "start_time": "2023-03-25T17:07:05.419Z"
   },
   {
    "duration": 196,
    "start_time": "2023-03-25T17:07:05.462Z"
   },
   {
    "duration": 18,
    "start_time": "2023-03-25T17:07:05.660Z"
   },
   {
    "duration": 131,
    "start_time": "2023-03-25T17:07:05.680Z"
   },
   {
    "duration": 28,
    "start_time": "2023-03-25T17:07:05.813Z"
   },
   {
    "duration": 118,
    "start_time": "2023-03-25T17:07:05.843Z"
   },
   {
    "duration": 23,
    "start_time": "2023-03-25T17:07:05.963Z"
   },
   {
    "duration": 151,
    "start_time": "2023-03-25T17:07:05.989Z"
   },
   {
    "duration": 742,
    "start_time": "2023-03-25T17:07:06.142Z"
   },
   {
    "duration": 59,
    "start_time": "2023-03-25T17:07:06.885Z"
   },
   {
    "duration": 397,
    "start_time": "2023-03-25T17:07:06.946Z"
   },
   {
    "duration": 303,
    "start_time": "2023-03-25T17:07:07.344Z"
   },
   {
    "duration": 607,
    "start_time": "2023-03-25T17:07:07.648Z"
   },
   {
    "duration": 235,
    "start_time": "2023-03-25T17:07:08.256Z"
   },
   {
    "duration": 238,
    "start_time": "2023-03-25T17:07:08.493Z"
   },
   {
    "duration": 481,
    "start_time": "2023-03-25T17:07:08.734Z"
   },
   {
    "duration": 9,
    "start_time": "2023-03-25T17:07:09.216Z"
   },
   {
    "duration": 59,
    "start_time": "2023-03-25T17:07:09.226Z"
   },
   {
    "duration": 20,
    "start_time": "2023-03-25T17:07:09.287Z"
   },
   {
    "duration": 132,
    "start_time": "2023-03-25T17:07:09.309Z"
   },
   {
    "duration": 124,
    "start_time": "2023-03-25T17:07:09.442Z"
   },
   {
    "duration": 108,
    "start_time": "2023-03-25T17:07:09.567Z"
   },
   {
    "duration": 13,
    "start_time": "2023-03-25T17:07:09.677Z"
   },
   {
    "duration": 71,
    "start_time": "2023-03-25T17:07:09.692Z"
   },
   {
    "duration": 5,
    "start_time": "2023-03-25T17:07:09.765Z"
   },
   {
    "duration": 13,
    "start_time": "2023-03-25T17:07:09.771Z"
   },
   {
    "duration": 5,
    "start_time": "2023-03-25T17:07:09.786Z"
   },
   {
    "duration": 8,
    "start_time": "2023-03-25T17:07:09.792Z"
   },
   {
    "duration": 300,
    "start_time": "2023-03-25T17:07:09.801Z"
   },
   {
    "duration": 964,
    "start_time": "2023-03-25T17:07:10.103Z"
   },
   {
    "duration": 0,
    "start_time": "2023-03-25T17:07:11.070Z"
   },
   {
    "duration": 0,
    "start_time": "2023-03-25T17:07:11.072Z"
   },
   {
    "duration": 0,
    "start_time": "2023-03-25T17:07:11.074Z"
   },
   {
    "duration": 32,
    "start_time": "2023-03-25T17:07:31.897Z"
   },
   {
    "duration": 276,
    "start_time": "2023-03-25T17:07:34.756Z"
   },
   {
    "duration": 906,
    "start_time": "2023-03-25T17:07:37.737Z"
   },
   {
    "duration": 16,
    "start_time": "2023-03-25T17:08:28.146Z"
   },
   {
    "duration": 27,
    "start_time": "2023-03-25T17:08:54.138Z"
   },
   {
    "duration": 18,
    "start_time": "2023-03-25T17:09:01.939Z"
   },
   {
    "duration": 1380,
    "start_time": "2023-03-25T17:09:22.660Z"
   },
   {
    "duration": 861,
    "start_time": "2023-03-25T17:09:24.042Z"
   },
   {
    "duration": 5,
    "start_time": "2023-03-25T17:09:24.905Z"
   },
   {
    "duration": 823,
    "start_time": "2023-03-25T17:09:24.912Z"
   },
   {
    "duration": 13,
    "start_time": "2023-03-25T17:09:25.741Z"
   },
   {
    "duration": 97,
    "start_time": "2023-03-25T17:09:25.756Z"
   },
   {
    "duration": 35,
    "start_time": "2023-03-25T17:09:25.854Z"
   },
   {
    "duration": 183,
    "start_time": "2023-03-25T17:09:25.891Z"
   },
   {
    "duration": 16,
    "start_time": "2023-03-25T17:09:26.075Z"
   },
   {
    "duration": 110,
    "start_time": "2023-03-25T17:09:26.093Z"
   },
   {
    "duration": 17,
    "start_time": "2023-03-25T17:09:26.205Z"
   },
   {
    "duration": 105,
    "start_time": "2023-03-25T17:09:26.224Z"
   },
   {
    "duration": 16,
    "start_time": "2023-03-25T17:09:26.331Z"
   },
   {
    "duration": 133,
    "start_time": "2023-03-25T17:09:26.349Z"
   },
   {
    "duration": 712,
    "start_time": "2023-03-25T17:09:26.484Z"
   },
   {
    "duration": 64,
    "start_time": "2023-03-25T17:09:27.198Z"
   },
   {
    "duration": 410,
    "start_time": "2023-03-25T17:09:27.264Z"
   },
   {
    "duration": 319,
    "start_time": "2023-03-25T17:09:27.675Z"
   },
   {
    "duration": 620,
    "start_time": "2023-03-25T17:09:27.996Z"
   },
   {
    "duration": 240,
    "start_time": "2023-03-25T17:09:28.617Z"
   },
   {
    "duration": 289,
    "start_time": "2023-03-25T17:09:28.859Z"
   },
   {
    "duration": 381,
    "start_time": "2023-03-25T17:09:29.150Z"
   },
   {
    "duration": 14,
    "start_time": "2023-03-25T17:09:29.533Z"
   },
   {
    "duration": 44,
    "start_time": "2023-03-25T17:09:29.548Z"
   },
   {
    "duration": 20,
    "start_time": "2023-03-25T17:09:29.594Z"
   },
   {
    "duration": 100,
    "start_time": "2023-03-25T17:09:29.641Z"
   },
   {
    "duration": 114,
    "start_time": "2023-03-25T17:09:29.742Z"
   },
   {
    "duration": 105,
    "start_time": "2023-03-25T17:09:29.858Z"
   },
   {
    "duration": 11,
    "start_time": "2023-03-25T17:09:48.460Z"
   },
   {
    "duration": 1455,
    "start_time": "2023-03-25T17:11:24.951Z"
   },
   {
    "duration": 829,
    "start_time": "2023-03-25T17:11:26.408Z"
   },
   {
    "duration": 6,
    "start_time": "2023-03-25T17:11:27.241Z"
   },
   {
    "duration": 823,
    "start_time": "2023-03-25T17:11:27.249Z"
   },
   {
    "duration": 13,
    "start_time": "2023-03-25T17:11:28.073Z"
   },
   {
    "duration": 105,
    "start_time": "2023-03-25T17:11:28.087Z"
   },
   {
    "duration": 33,
    "start_time": "2023-03-25T17:11:28.194Z"
   },
   {
    "duration": 193,
    "start_time": "2023-03-25T17:11:28.242Z"
   },
   {
    "duration": 14,
    "start_time": "2023-03-25T17:11:28.440Z"
   },
   {
    "duration": 111,
    "start_time": "2023-03-25T17:11:28.457Z"
   },
   {
    "duration": 17,
    "start_time": "2023-03-25T17:11:28.570Z"
   },
   {
    "duration": 118,
    "start_time": "2023-03-25T17:11:28.589Z"
   },
   {
    "duration": 16,
    "start_time": "2023-03-25T17:11:28.709Z"
   },
   {
    "duration": 156,
    "start_time": "2023-03-25T17:11:28.726Z"
   },
   {
    "duration": 756,
    "start_time": "2023-03-25T17:11:28.884Z"
   },
   {
    "duration": 65,
    "start_time": "2023-03-25T17:11:29.642Z"
   },
   {
    "duration": 406,
    "start_time": "2023-03-25T17:11:29.709Z"
   },
   {
    "duration": 329,
    "start_time": "2023-03-25T17:11:30.117Z"
   },
   {
    "duration": 670,
    "start_time": "2023-03-25T17:11:30.448Z"
   },
   {
    "duration": 256,
    "start_time": "2023-03-25T17:11:31.120Z"
   },
   {
    "duration": 279,
    "start_time": "2023-03-25T17:11:31.378Z"
   },
   {
    "duration": 408,
    "start_time": "2023-03-25T17:11:31.659Z"
   },
   {
    "duration": 9,
    "start_time": "2023-03-25T17:11:32.069Z"
   },
   {
    "duration": 68,
    "start_time": "2023-03-25T17:11:32.080Z"
   },
   {
    "duration": 21,
    "start_time": "2023-03-25T17:11:32.150Z"
   },
   {
    "duration": 117,
    "start_time": "2023-03-25T17:11:32.173Z"
   },
   {
    "duration": 11,
    "start_time": "2023-03-25T17:11:42.906Z"
   },
   {
    "duration": 109,
    "start_time": "2023-03-25T17:12:30.705Z"
   },
   {
    "duration": 120,
    "start_time": "2023-03-25T17:12:37.105Z"
   },
   {
    "duration": 12,
    "start_time": "2023-03-25T17:12:39.344Z"
   },
   {
    "duration": 58,
    "start_time": "2023-03-25T17:13:13.161Z"
   },
   {
    "duration": 1387,
    "start_time": "2023-03-25T17:13:25.146Z"
   },
   {
    "duration": 848,
    "start_time": "2023-03-25T17:13:26.534Z"
   },
   {
    "duration": 6,
    "start_time": "2023-03-25T17:13:27.384Z"
   },
   {
    "duration": 789,
    "start_time": "2023-03-25T17:13:27.392Z"
   },
   {
    "duration": 19,
    "start_time": "2023-03-25T17:13:28.184Z"
   },
   {
    "duration": 99,
    "start_time": "2023-03-25T17:13:28.205Z"
   },
   {
    "duration": 40,
    "start_time": "2023-03-25T17:13:28.306Z"
   },
   {
    "duration": 171,
    "start_time": "2023-03-25T17:13:28.347Z"
   },
   {
    "duration": 23,
    "start_time": "2023-03-25T17:13:28.520Z"
   },
   {
    "duration": 104,
    "start_time": "2023-03-25T17:13:28.544Z"
   },
   {
    "duration": 16,
    "start_time": "2023-03-25T17:13:28.650Z"
   },
   {
    "duration": 108,
    "start_time": "2023-03-25T17:13:28.668Z"
   },
   {
    "duration": 18,
    "start_time": "2023-03-25T17:13:28.778Z"
   },
   {
    "duration": 246,
    "start_time": "2023-03-25T17:13:28.800Z"
   },
   {
    "duration": 792,
    "start_time": "2023-03-25T17:13:29.048Z"
   },
   {
    "duration": 59,
    "start_time": "2023-03-25T17:13:29.842Z"
   },
   {
    "duration": 403,
    "start_time": "2023-03-25T17:13:29.903Z"
   },
   {
    "duration": 363,
    "start_time": "2023-03-25T17:13:30.308Z"
   },
   {
    "duration": 672,
    "start_time": "2023-03-25T17:13:30.674Z"
   },
   {
    "duration": 280,
    "start_time": "2023-03-25T17:13:31.348Z"
   },
   {
    "duration": 258,
    "start_time": "2023-03-25T17:13:31.630Z"
   },
   {
    "duration": 422,
    "start_time": "2023-03-25T17:13:31.889Z"
   },
   {
    "duration": 9,
    "start_time": "2023-03-25T17:13:32.313Z"
   },
   {
    "duration": 67,
    "start_time": "2023-03-25T17:13:32.323Z"
   },
   {
    "duration": 21,
    "start_time": "2023-03-25T17:13:32.392Z"
   },
   {
    "duration": 126,
    "start_time": "2023-03-25T17:13:32.415Z"
   },
   {
    "duration": 12,
    "start_time": "2023-03-25T17:13:32.543Z"
   },
   {
    "duration": 75,
    "start_time": "2023-03-25T17:13:38.740Z"
   },
   {
    "duration": 12,
    "start_time": "2023-03-25T17:13:40.909Z"
   },
   {
    "duration": 63,
    "start_time": "2023-03-25T17:13:52.341Z"
   },
   {
    "duration": 14,
    "start_time": "2023-03-25T17:13:55.042Z"
   },
   {
    "duration": 14,
    "start_time": "2023-03-25T17:14:17.692Z"
   },
   {
    "duration": 56,
    "start_time": "2023-03-25T17:14:19.849Z"
   },
   {
    "duration": 6,
    "start_time": "2023-03-25T17:14:21.527Z"
   },
   {
    "duration": 144,
    "start_time": "2023-03-25T17:14:40.745Z"
   },
   {
    "duration": 1199,
    "start_time": "2023-03-25T17:14:59.680Z"
   },
   {
    "duration": 3292,
    "start_time": "2023-03-25T17:15:16.269Z"
   },
   {
    "duration": 122,
    "start_time": "2023-03-25T17:15:22.063Z"
   },
   {
    "duration": 279,
    "start_time": "2023-03-25T17:15:26.161Z"
   },
   {
    "duration": 120290,
    "start_time": "2023-03-25T17:15:31.151Z"
   },
   {
    "duration": 27059,
    "start_time": "2023-03-25T17:18:22.584Z"
   },
   {
    "duration": 310,
    "start_time": "2023-03-25T17:19:04.730Z"
   },
   {
    "duration": 4,
    "start_time": "2023-03-25T17:19:07.454Z"
   },
   {
    "duration": 185,
    "start_time": "2023-03-25T17:25:32.276Z"
   },
   {
    "duration": 14589,
    "start_time": "2023-03-25T17:25:49.122Z"
   },
   {
    "duration": 1401,
    "start_time": "2023-03-25T17:26:20.837Z"
   },
   {
    "duration": 836,
    "start_time": "2023-03-25T17:26:22.240Z"
   },
   {
    "duration": 6,
    "start_time": "2023-03-25T17:26:23.078Z"
   },
   {
    "duration": 867,
    "start_time": "2023-03-25T17:26:23.086Z"
   },
   {
    "duration": 13,
    "start_time": "2023-03-25T17:26:23.955Z"
   },
   {
    "duration": 99,
    "start_time": "2023-03-25T17:26:23.969Z"
   },
   {
    "duration": 32,
    "start_time": "2023-03-25T17:26:24.070Z"
   },
   {
    "duration": 182,
    "start_time": "2023-03-25T17:26:24.103Z"
   },
   {
    "duration": 14,
    "start_time": "2023-03-25T17:26:24.287Z"
   },
   {
    "duration": 117,
    "start_time": "2023-03-25T17:26:24.304Z"
   },
   {
    "duration": 19,
    "start_time": "2023-03-25T17:26:24.422Z"
   },
   {
    "duration": 102,
    "start_time": "2023-03-25T17:26:24.443Z"
   },
   {
    "duration": 18,
    "start_time": "2023-03-25T17:26:24.547Z"
   },
   {
    "duration": 124,
    "start_time": "2023-03-25T17:26:24.566Z"
   },
   {
    "duration": 684,
    "start_time": "2023-03-25T17:26:24.692Z"
   },
   {
    "duration": 64,
    "start_time": "2023-03-25T17:26:25.378Z"
   },
   {
    "duration": 386,
    "start_time": "2023-03-25T17:26:25.444Z"
   },
   {
    "duration": 320,
    "start_time": "2023-03-25T17:26:25.831Z"
   },
   {
    "duration": 627,
    "start_time": "2023-03-25T17:26:26.153Z"
   },
   {
    "duration": 246,
    "start_time": "2023-03-25T17:26:26.785Z"
   },
   {
    "duration": 238,
    "start_time": "2023-03-25T17:26:27.041Z"
   },
   {
    "duration": 401,
    "start_time": "2023-03-25T17:26:27.282Z"
   },
   {
    "duration": 8,
    "start_time": "2023-03-25T17:26:27.685Z"
   },
   {
    "duration": 66,
    "start_time": "2023-03-25T17:26:27.694Z"
   },
   {
    "duration": 23,
    "start_time": "2023-03-25T17:26:27.761Z"
   },
   {
    "duration": 109,
    "start_time": "2023-03-25T17:26:27.785Z"
   },
   {
    "duration": 11,
    "start_time": "2023-03-25T17:26:27.896Z"
   },
   {
    "duration": 75,
    "start_time": "2023-03-25T17:26:27.910Z"
   },
   {
    "duration": 12,
    "start_time": "2023-03-25T17:26:27.987Z"
   },
   {
    "duration": 75,
    "start_time": "2023-03-25T17:26:28.001Z"
   },
   {
    "duration": 12,
    "start_time": "2023-03-25T17:26:28.078Z"
   },
   {
    "duration": 13,
    "start_time": "2023-03-25T17:26:28.092Z"
   },
   {
    "duration": 76,
    "start_time": "2023-03-25T17:26:28.107Z"
   },
   {
    "duration": 4,
    "start_time": "2023-03-25T17:26:28.185Z"
   },
   {
    "duration": 166,
    "start_time": "2023-03-25T17:26:28.190Z"
   },
   {
    "duration": 3,
    "start_time": "2023-03-25T17:26:28.357Z"
   },
   {
    "duration": 4,
    "start_time": "2023-03-25T17:26:28.361Z"
   },
   {
    "duration": 1199,
    "start_time": "2023-03-25T17:26:28.367Z"
   },
   {
    "duration": 3602,
    "start_time": "2023-03-25T17:26:29.567Z"
   },
   {
    "duration": 292,
    "start_time": "2023-03-25T17:26:33.171Z"
   },
   {
    "duration": 2,
    "start_time": "2023-03-25T17:26:33.465Z"
   },
   {
    "duration": 6,
    "start_time": "2023-03-25T17:26:33.469Z"
   },
   {
    "duration": 118280,
    "start_time": "2023-03-25T17:26:33.477Z"
   },
   {
    "duration": 26103,
    "start_time": "2023-03-25T17:28:31.842Z"
   },
   {
    "duration": 295,
    "start_time": "2023-03-25T17:28:57.947Z"
   },
   {
    "duration": 6,
    "start_time": "2023-03-25T17:28:58.245Z"
   },
   {
    "duration": 88,
    "start_time": "2023-03-25T17:28:58.253Z"
   },
   {
    "duration": 6,
    "start_time": "2023-03-25T17:28:58.343Z"
   },
   {
    "duration": 684128,
    "start_time": "2023-03-25T17:29:40.479Z"
   },
   {
    "duration": 7,
    "start_time": "2023-03-25T17:41:26.446Z"
   },
   {
    "duration": 13,
    "start_time": "2023-03-25T17:44:31.704Z"
   },
   {
    "duration": 5,
    "start_time": "2023-03-25T17:44:43.410Z"
   },
   {
    "duration": 6,
    "start_time": "2023-03-25T17:45:15.924Z"
   },
   {
    "duration": 6,
    "start_time": "2023-03-25T17:46:08.239Z"
   },
   {
    "duration": 4,
    "start_time": "2023-03-25T17:47:48.205Z"
   },
   {
    "duration": 5483,
    "start_time": "2023-03-25T17:49:08.934Z"
   },
   {
    "duration": 1478,
    "start_time": "2023-03-25T18:00:37.762Z"
   },
   {
    "duration": 784,
    "start_time": "2023-03-25T18:00:39.242Z"
   },
   {
    "duration": 4,
    "start_time": "2023-03-25T18:00:40.028Z"
   },
   {
    "duration": 766,
    "start_time": "2023-03-25T18:00:40.040Z"
   },
   {
    "duration": 13,
    "start_time": "2023-03-25T18:00:40.807Z"
   },
   {
    "duration": 97,
    "start_time": "2023-03-25T18:00:40.822Z"
   },
   {
    "duration": 40,
    "start_time": "2023-03-25T18:00:40.921Z"
   },
   {
    "duration": 171,
    "start_time": "2023-03-25T18:00:40.962Z"
   },
   {
    "duration": 15,
    "start_time": "2023-03-25T18:00:41.134Z"
   },
   {
    "duration": 98,
    "start_time": "2023-03-25T18:00:41.152Z"
   },
   {
    "duration": 28,
    "start_time": "2023-03-25T18:00:41.252Z"
   },
   {
    "duration": 113,
    "start_time": "2023-03-25T18:00:41.282Z"
   },
   {
    "duration": 16,
    "start_time": "2023-03-25T18:00:41.397Z"
   },
   {
    "duration": 146,
    "start_time": "2023-03-25T18:00:41.414Z"
   },
   {
    "duration": 711,
    "start_time": "2023-03-25T18:00:41.562Z"
   },
   {
    "duration": 66,
    "start_time": "2023-03-25T18:00:42.275Z"
   },
   {
    "duration": 415,
    "start_time": "2023-03-25T18:00:42.342Z"
   },
   {
    "duration": 296,
    "start_time": "2023-03-25T18:00:42.759Z"
   },
   {
    "duration": 614,
    "start_time": "2023-03-25T18:00:43.057Z"
   },
   {
    "duration": 225,
    "start_time": "2023-03-25T18:00:43.672Z"
   },
   {
    "duration": 226,
    "start_time": "2023-03-25T18:00:43.899Z"
   },
   {
    "duration": 368,
    "start_time": "2023-03-25T18:00:44.126Z"
   },
   {
    "duration": 9,
    "start_time": "2023-03-25T18:00:44.495Z"
   },
   {
    "duration": 60,
    "start_time": "2023-03-25T18:00:44.505Z"
   },
   {
    "duration": 21,
    "start_time": "2023-03-25T18:00:44.567Z"
   },
   {
    "duration": 105,
    "start_time": "2023-03-25T18:00:44.590Z"
   },
   {
    "duration": 10,
    "start_time": "2023-03-25T18:00:44.697Z"
   },
   {
    "duration": 77,
    "start_time": "2023-03-25T18:00:44.711Z"
   },
   {
    "duration": 11,
    "start_time": "2023-03-25T18:00:44.789Z"
   },
   {
    "duration": 71,
    "start_time": "2023-03-25T18:00:44.802Z"
   },
   {
    "duration": 12,
    "start_time": "2023-03-25T18:00:44.875Z"
   },
   {
    "duration": 15,
    "start_time": "2023-03-25T18:00:44.889Z"
   },
   {
    "duration": 78,
    "start_time": "2023-03-25T18:00:44.905Z"
   },
   {
    "duration": 5,
    "start_time": "2023-03-25T18:00:44.985Z"
   },
   {
    "duration": 158,
    "start_time": "2023-03-25T18:00:44.991Z"
   },
   {
    "duration": 3,
    "start_time": "2023-03-25T18:00:45.151Z"
   },
   {
    "duration": 5,
    "start_time": "2023-03-25T18:00:45.155Z"
   },
   {
    "duration": 1153,
    "start_time": "2023-03-25T18:00:45.161Z"
   },
   {
    "duration": 2962,
    "start_time": "2023-03-25T18:00:46.316Z"
   },
   {
    "duration": 287,
    "start_time": "2023-03-25T18:00:49.280Z"
   },
   {
    "duration": 2,
    "start_time": "2023-03-25T18:00:49.569Z"
   },
   {
    "duration": 4,
    "start_time": "2023-03-25T18:00:49.573Z"
   },
   {
    "duration": 110164,
    "start_time": "2023-03-25T18:00:49.579Z"
   },
   {
    "duration": 25105,
    "start_time": "2023-03-25T18:02:39.745Z"
   },
   {
    "duration": 300,
    "start_time": "2023-03-25T18:03:04.851Z"
   },
   {
    "duration": 92,
    "start_time": "2023-03-25T18:03:05.154Z"
   },
   {
    "duration": 94,
    "start_time": "2023-03-25T18:03:05.248Z"
   },
   {
    "duration": 6,
    "start_time": "2023-03-25T18:03:05.344Z"
   },
   {
    "duration": 1435,
    "start_time": "2023-03-25T18:48:17.787Z"
   },
   {
    "duration": 836,
    "start_time": "2023-03-25T18:48:19.224Z"
   },
   {
    "duration": 6,
    "start_time": "2023-03-25T18:48:20.061Z"
   },
   {
    "duration": 797,
    "start_time": "2023-03-25T18:48:20.069Z"
   },
   {
    "duration": 13,
    "start_time": "2023-03-25T18:48:20.868Z"
   },
   {
    "duration": 99,
    "start_time": "2023-03-25T18:48:20.883Z"
   },
   {
    "duration": 34,
    "start_time": "2023-03-25T18:48:20.983Z"
   },
   {
    "duration": 195,
    "start_time": "2023-03-25T18:48:21.018Z"
   },
   {
    "duration": 15,
    "start_time": "2023-03-25T18:48:21.215Z"
   },
   {
    "duration": 120,
    "start_time": "2023-03-25T18:48:21.241Z"
   },
   {
    "duration": 17,
    "start_time": "2023-03-25T18:48:21.363Z"
   },
   {
    "duration": 111,
    "start_time": "2023-03-25T18:48:21.381Z"
   },
   {
    "duration": 17,
    "start_time": "2023-03-25T18:48:21.493Z"
   },
   {
    "duration": 154,
    "start_time": "2023-03-25T18:48:21.512Z"
   },
   {
    "duration": 737,
    "start_time": "2023-03-25T18:48:21.668Z"
   },
   {
    "duration": 63,
    "start_time": "2023-03-25T18:48:22.407Z"
   },
   {
    "duration": 417,
    "start_time": "2023-03-25T18:48:22.472Z"
   },
   {
    "duration": 306,
    "start_time": "2023-03-25T18:48:22.891Z"
   },
   {
    "duration": 605,
    "start_time": "2023-03-25T18:48:23.199Z"
   },
   {
    "duration": 240,
    "start_time": "2023-03-25T18:48:23.806Z"
   },
   {
    "duration": 225,
    "start_time": "2023-03-25T18:48:24.048Z"
   },
   {
    "duration": 374,
    "start_time": "2023-03-25T18:48:24.274Z"
   },
   {
    "duration": 9,
    "start_time": "2023-03-25T18:48:24.649Z"
   },
   {
    "duration": 44,
    "start_time": "2023-03-25T18:48:24.659Z"
   },
   {
    "duration": 45,
    "start_time": "2023-03-25T18:48:24.705Z"
   },
   {
    "duration": 99,
    "start_time": "2023-03-25T18:48:24.752Z"
   },
   {
    "duration": 10,
    "start_time": "2023-03-25T18:48:24.853Z"
   },
   {
    "duration": 76,
    "start_time": "2023-03-25T18:48:24.865Z"
   },
   {
    "duration": 12,
    "start_time": "2023-03-25T18:48:24.943Z"
   },
   {
    "duration": 65,
    "start_time": "2023-03-25T18:48:24.957Z"
   },
   {
    "duration": 16,
    "start_time": "2023-03-25T18:48:25.041Z"
   },
   {
    "duration": 28,
    "start_time": "2023-03-25T18:48:25.059Z"
   },
   {
    "duration": 77,
    "start_time": "2023-03-25T18:48:25.090Z"
   },
   {
    "duration": 5,
    "start_time": "2023-03-25T18:48:25.169Z"
   },
   {
    "duration": 164,
    "start_time": "2023-03-25T18:48:25.176Z"
   },
   {
    "duration": 3,
    "start_time": "2023-03-25T18:48:25.342Z"
   },
   {
    "duration": 8,
    "start_time": "2023-03-25T18:48:25.347Z"
   },
   {
    "duration": 1166,
    "start_time": "2023-03-25T18:48:25.357Z"
   },
   {
    "duration": 3162,
    "start_time": "2023-03-25T18:48:26.525Z"
   },
   {
    "duration": 305,
    "start_time": "2023-03-25T18:48:29.689Z"
   },
   {
    "duration": 3,
    "start_time": "2023-03-25T18:48:29.998Z"
   },
   {
    "duration": 6,
    "start_time": "2023-03-25T18:48:30.003Z"
   },
   {
    "duration": 136339,
    "start_time": "2023-03-25T18:48:30.011Z"
   },
   {
    "duration": 26113,
    "start_time": "2023-03-25T18:50:46.441Z"
   },
   {
    "duration": 305,
    "start_time": "2023-03-25T18:51:12.641Z"
   },
   {
    "duration": 94,
    "start_time": "2023-03-25T18:51:12.948Z"
   },
   {
    "duration": 2,
    "start_time": "2023-03-25T18:51:13.044Z"
   },
   {
    "duration": 8,
    "start_time": "2023-03-25T18:51:13.048Z"
   },
   {
    "duration": 4950725,
    "start_time": "2023-03-25T18:51:13.057Z"
   },
   {
    "duration": 1411,
    "start_time": "2023-03-25T20:13:52.936Z"
   },
   {
    "duration": 883,
    "start_time": "2023-03-25T20:13:54.350Z"
   },
   {
    "duration": 7,
    "start_time": "2023-03-25T20:13:55.235Z"
   },
   {
    "duration": 826,
    "start_time": "2023-03-25T20:13:55.245Z"
   },
   {
    "duration": 13,
    "start_time": "2023-03-25T20:13:56.072Z"
   },
   {
    "duration": 107,
    "start_time": "2023-03-25T20:13:56.087Z"
   },
   {
    "duration": 30,
    "start_time": "2023-03-25T20:13:56.196Z"
   },
   {
    "duration": 198,
    "start_time": "2023-03-25T20:13:56.240Z"
   },
   {
    "duration": 23,
    "start_time": "2023-03-25T20:13:56.439Z"
   },
   {
    "duration": 99,
    "start_time": "2023-03-25T20:13:56.466Z"
   },
   {
    "duration": 16,
    "start_time": "2023-03-25T20:13:56.566Z"
   },
   {
    "duration": 92,
    "start_time": "2023-03-25T20:13:56.583Z"
   },
   {
    "duration": 17,
    "start_time": "2023-03-25T20:13:56.676Z"
   },
   {
    "duration": 133,
    "start_time": "2023-03-25T20:13:56.695Z"
   },
   {
    "duration": 747,
    "start_time": "2023-03-25T20:13:56.830Z"
   },
   {
    "duration": 63,
    "start_time": "2023-03-25T20:13:57.578Z"
   },
   {
    "duration": 400,
    "start_time": "2023-03-25T20:13:57.643Z"
   },
   {
    "duration": 308,
    "start_time": "2023-03-25T20:13:58.045Z"
   },
   {
    "duration": 715,
    "start_time": "2023-03-25T20:13:58.355Z"
   },
   {
    "duration": 255,
    "start_time": "2023-03-25T20:13:59.071Z"
   },
   {
    "duration": 259,
    "start_time": "2023-03-25T20:13:59.327Z"
   },
   {
    "duration": 407,
    "start_time": "2023-03-25T20:13:59.587Z"
   },
   {
    "duration": 10,
    "start_time": "2023-03-25T20:13:59.996Z"
   },
   {
    "duration": 76,
    "start_time": "2023-03-25T20:14:00.008Z"
   },
   {
    "duration": 23,
    "start_time": "2023-03-25T20:14:00.086Z"
   },
   {
    "duration": 131,
    "start_time": "2023-03-25T20:14:00.110Z"
   },
   {
    "duration": 16,
    "start_time": "2023-03-25T20:14:00.243Z"
   },
   {
    "duration": 108,
    "start_time": "2023-03-25T20:14:00.264Z"
   },
   {
    "duration": 12,
    "start_time": "2023-03-25T20:14:00.373Z"
   },
   {
    "duration": 83,
    "start_time": "2023-03-25T20:14:00.386Z"
   },
   {
    "duration": 12,
    "start_time": "2023-03-25T20:14:00.471Z"
   },
   {
    "duration": 41,
    "start_time": "2023-03-25T20:14:00.484Z"
   },
   {
    "duration": 77,
    "start_time": "2023-03-25T20:14:00.527Z"
   },
   {
    "duration": 3,
    "start_time": "2023-03-25T20:14:00.606Z"
   },
   {
    "duration": 173,
    "start_time": "2023-03-25T20:14:00.611Z"
   },
   {
    "duration": 3,
    "start_time": "2023-03-25T20:14:00.785Z"
   },
   {
    "duration": 31,
    "start_time": "2023-03-25T20:14:00.789Z"
   },
   {
    "duration": 1296,
    "start_time": "2023-03-25T20:14:00.822Z"
   },
   {
    "duration": 3542,
    "start_time": "2023-03-25T20:14:02.119Z"
   },
   {
    "duration": 281,
    "start_time": "2023-03-25T20:14:05.662Z"
   },
   {
    "duration": 3,
    "start_time": "2023-03-25T20:14:05.946Z"
   },
   {
    "duration": 6,
    "start_time": "2023-03-25T20:14:05.951Z"
   },
   {
    "duration": 238484,
    "start_time": "2023-03-25T20:14:05.959Z"
   },
   {
    "duration": 1718,
    "start_time": "2023-03-25T20:20:47.507Z"
   },
   {
    "duration": 878,
    "start_time": "2023-03-25T20:20:49.227Z"
   },
   {
    "duration": 6,
    "start_time": "2023-03-25T20:20:50.106Z"
   },
   {
    "duration": 912,
    "start_time": "2023-03-25T20:20:50.114Z"
   },
   {
    "duration": 21,
    "start_time": "2023-03-25T20:20:51.028Z"
   },
   {
    "duration": 124,
    "start_time": "2023-03-25T20:20:51.050Z"
   },
   {
    "duration": 32,
    "start_time": "2023-03-25T20:20:51.175Z"
   },
   {
    "duration": 195,
    "start_time": "2023-03-25T20:20:51.209Z"
   },
   {
    "duration": 13,
    "start_time": "2023-03-25T20:20:51.406Z"
   },
   {
    "duration": 122,
    "start_time": "2023-03-25T20:20:51.421Z"
   },
   {
    "duration": 29,
    "start_time": "2023-03-25T20:20:51.546Z"
   },
   {
    "duration": 118,
    "start_time": "2023-03-25T20:20:51.577Z"
   },
   {
    "duration": 17,
    "start_time": "2023-03-25T20:20:51.697Z"
   },
   {
    "duration": 167,
    "start_time": "2023-03-25T20:20:51.716Z"
   },
   {
    "duration": 802,
    "start_time": "2023-03-25T20:20:51.885Z"
   },
   {
    "duration": 65,
    "start_time": "2023-03-25T20:20:52.689Z"
   },
   {
    "duration": 431,
    "start_time": "2023-03-25T20:20:52.755Z"
   },
   {
    "duration": 356,
    "start_time": "2023-03-25T20:20:53.188Z"
   },
   {
    "duration": 688,
    "start_time": "2023-03-25T20:20:53.547Z"
   },
   {
    "duration": 269,
    "start_time": "2023-03-25T20:20:54.240Z"
   },
   {
    "duration": 268,
    "start_time": "2023-03-25T20:20:54.510Z"
   },
   {
    "duration": 409,
    "start_time": "2023-03-25T20:20:54.780Z"
   },
   {
    "duration": 9,
    "start_time": "2023-03-25T20:20:55.191Z"
   },
   {
    "duration": 75,
    "start_time": "2023-03-25T20:20:55.201Z"
   },
   {
    "duration": 22,
    "start_time": "2023-03-25T20:20:55.277Z"
   },
   {
    "duration": 118,
    "start_time": "2023-03-25T20:20:55.300Z"
   },
   {
    "duration": 10,
    "start_time": "2023-03-25T20:20:55.420Z"
   },
   {
    "duration": 76,
    "start_time": "2023-03-25T20:20:55.440Z"
   },
   {
    "duration": 26,
    "start_time": "2023-03-25T20:20:55.517Z"
   },
   {
    "duration": 70,
    "start_time": "2023-03-25T20:20:55.545Z"
   },
   {
    "duration": 38,
    "start_time": "2023-03-25T20:20:55.617Z"
   },
   {
    "duration": 15,
    "start_time": "2023-03-25T20:20:55.658Z"
   },
   {
    "duration": 79,
    "start_time": "2023-03-25T20:20:55.675Z"
   },
   {
    "duration": 6,
    "start_time": "2023-03-25T20:20:55.756Z"
   },
   {
    "duration": 186,
    "start_time": "2023-03-25T20:20:55.765Z"
   },
   {
    "duration": 4,
    "start_time": "2023-03-25T20:20:55.954Z"
   },
   {
    "duration": 5,
    "start_time": "2023-03-25T20:20:55.960Z"
   },
   {
    "duration": 1168,
    "start_time": "2023-03-25T20:20:55.966Z"
   },
   {
    "duration": 3348,
    "start_time": "2023-03-25T20:20:57.135Z"
   },
   {
    "duration": 334,
    "start_time": "2023-03-25T20:21:00.485Z"
   },
   {
    "duration": 2,
    "start_time": "2023-03-25T20:21:00.823Z"
   },
   {
    "duration": 23,
    "start_time": "2023-03-25T20:21:00.827Z"
   },
   {
    "duration": 262577,
    "start_time": "2023-03-25T20:22:29.471Z"
   },
   {
    "duration": 70134,
    "start_time": "2023-03-25T20:27:12.919Z"
   },
   {
    "duration": 250,
    "start_time": "2023-03-25T20:28:29.192Z"
   },
   {
    "duration": 5,
    "start_time": "2023-03-25T20:28:31.978Z"
   },
   {
    "duration": 1406,
    "start_time": "2023-03-25T21:35:22.100Z"
   },
   {
    "duration": 874,
    "start_time": "2023-03-25T21:35:23.508Z"
   },
   {
    "duration": 5,
    "start_time": "2023-03-25T21:35:24.384Z"
   },
   {
    "duration": 821,
    "start_time": "2023-03-25T21:35:24.391Z"
   },
   {
    "duration": 13,
    "start_time": "2023-03-25T21:35:25.215Z"
   },
   {
    "duration": 106,
    "start_time": "2023-03-25T21:35:25.241Z"
   },
   {
    "duration": 41,
    "start_time": "2023-03-25T21:35:25.349Z"
   },
   {
    "duration": 200,
    "start_time": "2023-03-25T21:35:25.392Z"
   },
   {
    "duration": 14,
    "start_time": "2023-03-25T21:35:25.594Z"
   },
   {
    "duration": 110,
    "start_time": "2023-03-25T21:35:25.610Z"
   },
   {
    "duration": 24,
    "start_time": "2023-03-25T21:35:25.721Z"
   },
   {
    "duration": 126,
    "start_time": "2023-03-25T21:35:25.748Z"
   },
   {
    "duration": 17,
    "start_time": "2023-03-25T21:35:25.875Z"
   },
   {
    "duration": 157,
    "start_time": "2023-03-25T21:35:25.894Z"
   },
   {
    "duration": 724,
    "start_time": "2023-03-25T21:35:26.053Z"
   },
   {
    "duration": 65,
    "start_time": "2023-03-25T21:35:26.778Z"
   },
   {
    "duration": 391,
    "start_time": "2023-03-25T21:35:26.845Z"
   },
   {
    "duration": 340,
    "start_time": "2023-03-25T21:35:27.242Z"
   },
   {
    "duration": 650,
    "start_time": "2023-03-25T21:35:27.584Z"
   },
   {
    "duration": 253,
    "start_time": "2023-03-25T21:35:28.241Z"
   },
   {
    "duration": 235,
    "start_time": "2023-03-25T21:35:28.495Z"
   },
   {
    "duration": 440,
    "start_time": "2023-03-25T21:35:28.732Z"
   },
   {
    "duration": 8,
    "start_time": "2023-03-25T21:35:29.174Z"
   },
   {
    "duration": 69,
    "start_time": "2023-03-25T21:35:29.183Z"
   },
   {
    "duration": 22,
    "start_time": "2023-03-25T21:35:29.254Z"
   },
   {
    "duration": 109,
    "start_time": "2023-03-25T21:35:29.278Z"
   },
   {
    "duration": 14,
    "start_time": "2023-03-25T21:35:29.388Z"
   },
   {
    "duration": 91,
    "start_time": "2023-03-25T21:35:29.404Z"
   },
   {
    "duration": 10,
    "start_time": "2023-03-25T21:35:29.497Z"
   },
   {
    "duration": 89,
    "start_time": "2023-03-25T21:35:29.508Z"
   },
   {
    "duration": 11,
    "start_time": "2023-03-25T21:35:29.599Z"
   },
   {
    "duration": 16,
    "start_time": "2023-03-25T21:35:29.611Z"
   },
   {
    "duration": 72,
    "start_time": "2023-03-25T21:35:29.629Z"
   },
   {
    "duration": 119,
    "start_time": "2023-03-25T21:35:29.702Z"
   },
   {
    "duration": 0,
    "start_time": "2023-03-25T21:35:29.823Z"
   },
   {
    "duration": 0,
    "start_time": "2023-03-25T21:35:29.824Z"
   },
   {
    "duration": 0,
    "start_time": "2023-03-25T21:35:29.825Z"
   },
   {
    "duration": 0,
    "start_time": "2023-03-25T21:35:29.826Z"
   },
   {
    "duration": 0,
    "start_time": "2023-03-25T21:35:29.827Z"
   },
   {
    "duration": 0,
    "start_time": "2023-03-25T21:35:29.840Z"
   },
   {
    "duration": 0,
    "start_time": "2023-03-25T21:35:29.841Z"
   },
   {
    "duration": 0,
    "start_time": "2023-03-25T21:35:29.844Z"
   },
   {
    "duration": 0,
    "start_time": "2023-03-25T21:35:29.846Z"
   },
   {
    "duration": 0,
    "start_time": "2023-03-25T21:35:29.847Z"
   },
   {
    "duration": 0,
    "start_time": "2023-03-25T21:35:29.848Z"
   },
   {
    "duration": 0,
    "start_time": "2023-03-25T21:35:29.849Z"
   },
   {
    "duration": 0,
    "start_time": "2023-03-25T21:35:29.850Z"
   },
   {
    "duration": 0,
    "start_time": "2023-03-25T21:35:29.851Z"
   },
   {
    "duration": 0,
    "start_time": "2023-03-25T21:35:29.852Z"
   },
   {
    "duration": 0,
    "start_time": "2023-03-25T21:35:29.853Z"
   },
   {
    "duration": 0,
    "start_time": "2023-03-25T21:35:29.854Z"
   },
   {
    "duration": 0,
    "start_time": "2023-03-25T21:35:29.855Z"
   },
   {
    "duration": 0,
    "start_time": "2023-03-25T21:35:29.857Z"
   },
   {
    "duration": 0,
    "start_time": "2023-03-25T21:35:29.858Z"
   },
   {
    "duration": 0,
    "start_time": "2023-03-25T21:35:29.860Z"
   },
   {
    "duration": 0,
    "start_time": "2023-03-25T21:35:29.862Z"
   },
   {
    "duration": 0,
    "start_time": "2023-03-25T21:35:29.864Z"
   },
   {
    "duration": 0,
    "start_time": "2023-03-25T21:35:29.865Z"
   },
   {
    "duration": 0,
    "start_time": "2023-03-25T21:35:29.866Z"
   },
   {
    "duration": 0,
    "start_time": "2023-03-25T21:35:29.868Z"
   },
   {
    "duration": 5,
    "start_time": "2023-03-25T21:35:49.519Z"
   },
   {
    "duration": 10,
    "start_time": "2023-03-25T21:35:55.402Z"
   },
   {
    "duration": 0,
    "start_time": "2023-03-25T21:35:55.414Z"
   },
   {
    "duration": 0,
    "start_time": "2023-03-25T21:35:55.416Z"
   },
   {
    "duration": 0,
    "start_time": "2023-03-25T21:35:55.418Z"
   },
   {
    "duration": 0,
    "start_time": "2023-03-25T21:35:55.419Z"
   },
   {
    "duration": 0,
    "start_time": "2023-03-25T21:35:55.421Z"
   },
   {
    "duration": 12,
    "start_time": "2023-03-25T21:35:55.423Z"
   },
   {
    "duration": 0,
    "start_time": "2023-03-25T21:35:55.438Z"
   },
   {
    "duration": 0,
    "start_time": "2023-03-25T21:35:55.448Z"
   },
   {
    "duration": 0,
    "start_time": "2023-03-25T21:35:55.449Z"
   },
   {
    "duration": 0,
    "start_time": "2023-03-25T21:35:55.452Z"
   },
   {
    "duration": 0,
    "start_time": "2023-03-25T21:35:55.453Z"
   },
   {
    "duration": 0,
    "start_time": "2023-03-25T21:35:55.453Z"
   },
   {
    "duration": 0,
    "start_time": "2023-03-25T21:35:55.454Z"
   },
   {
    "duration": 0,
    "start_time": "2023-03-25T21:35:55.455Z"
   },
   {
    "duration": 0,
    "start_time": "2023-03-25T21:35:55.456Z"
   },
   {
    "duration": 0,
    "start_time": "2023-03-25T21:35:55.457Z"
   },
   {
    "duration": 0,
    "start_time": "2023-03-25T21:35:55.458Z"
   },
   {
    "duration": 0,
    "start_time": "2023-03-25T21:35:55.459Z"
   },
   {
    "duration": 0,
    "start_time": "2023-03-25T21:35:55.463Z"
   },
   {
    "duration": 0,
    "start_time": "2023-03-25T21:35:55.465Z"
   },
   {
    "duration": 0,
    "start_time": "2023-03-25T21:35:55.467Z"
   },
   {
    "duration": 0,
    "start_time": "2023-03-25T21:35:55.469Z"
   },
   {
    "duration": 52,
    "start_time": "2023-03-25T21:35:55.472Z"
   },
   {
    "duration": 56,
    "start_time": "2023-03-25T21:35:55.525Z"
   },
   {
    "duration": 10,
    "start_time": "2023-03-25T21:35:55.584Z"
   },
   {
    "duration": 0,
    "start_time": "2023-03-25T21:35:55.595Z"
   },
   {
    "duration": 1517,
    "start_time": "2023-03-25T21:36:36.409Z"
   },
   {
    "duration": 1023,
    "start_time": "2023-03-25T21:36:37.929Z"
   },
   {
    "duration": 8,
    "start_time": "2023-03-25T21:36:38.954Z"
   },
   {
    "duration": 1005,
    "start_time": "2023-03-25T21:36:38.966Z"
   },
   {
    "duration": 13,
    "start_time": "2023-03-25T21:36:39.973Z"
   },
   {
    "duration": 133,
    "start_time": "2023-03-25T21:36:39.989Z"
   },
   {
    "duration": 59,
    "start_time": "2023-03-25T21:36:40.124Z"
   },
   {
    "duration": 250,
    "start_time": "2023-03-25T21:36:40.185Z"
   },
   {
    "duration": 35,
    "start_time": "2023-03-25T21:36:40.437Z"
   },
   {
    "duration": 124,
    "start_time": "2023-03-25T21:36:40.475Z"
   },
   {
    "duration": 19,
    "start_time": "2023-03-25T21:36:40.601Z"
   },
   {
    "duration": 127,
    "start_time": "2023-03-25T21:36:40.621Z"
   },
   {
    "duration": 26,
    "start_time": "2023-03-25T21:36:40.751Z"
   },
   {
    "duration": 154,
    "start_time": "2023-03-25T21:36:40.778Z"
   },
   {
    "duration": 800,
    "start_time": "2023-03-25T21:36:40.934Z"
   },
   {
    "duration": 85,
    "start_time": "2023-03-25T21:36:41.736Z"
   },
   {
    "duration": 425,
    "start_time": "2023-03-25T21:36:41.823Z"
   },
   {
    "duration": 325,
    "start_time": "2023-03-25T21:36:42.251Z"
   },
   {
    "duration": 654,
    "start_time": "2023-03-25T21:36:42.578Z"
   },
   {
    "duration": 262,
    "start_time": "2023-03-25T21:36:43.233Z"
   },
   {
    "duration": 248,
    "start_time": "2023-03-25T21:36:43.496Z"
   },
   {
    "duration": 414,
    "start_time": "2023-03-25T21:36:43.746Z"
   },
   {
    "duration": 10,
    "start_time": "2023-03-25T21:36:44.162Z"
   },
   {
    "duration": 69,
    "start_time": "2023-03-25T21:36:44.174Z"
   },
   {
    "duration": 27,
    "start_time": "2023-03-25T21:36:44.245Z"
   },
   {
    "duration": 116,
    "start_time": "2023-03-25T21:36:44.273Z"
   },
   {
    "duration": 11,
    "start_time": "2023-03-25T21:36:44.391Z"
   },
   {
    "duration": 96,
    "start_time": "2023-03-25T21:36:44.407Z"
   },
   {
    "duration": 12,
    "start_time": "2023-03-25T21:36:44.504Z"
   },
   {
    "duration": 80,
    "start_time": "2023-03-25T21:36:44.518Z"
   },
   {
    "duration": 12,
    "start_time": "2023-03-25T21:36:44.600Z"
   },
   {
    "duration": 44,
    "start_time": "2023-03-25T21:36:44.613Z"
   },
   {
    "duration": 64,
    "start_time": "2023-03-25T21:36:44.659Z"
   },
   {
    "duration": 4,
    "start_time": "2023-03-25T21:36:44.725Z"
   },
   {
    "duration": 240,
    "start_time": "2023-03-25T21:36:44.730Z"
   },
   {
    "duration": 2,
    "start_time": "2023-03-25T21:36:44.973Z"
   },
   {
    "duration": 4,
    "start_time": "2023-03-25T21:36:44.977Z"
   },
   {
    "duration": 1345,
    "start_time": "2023-03-25T21:36:44.983Z"
   },
   {
    "duration": 3594,
    "start_time": "2023-03-25T21:36:46.330Z"
   },
   {
    "duration": 309,
    "start_time": "2023-03-25T21:36:49.925Z"
   },
   {
    "duration": 7,
    "start_time": "2023-03-25T21:36:50.236Z"
   },
   {
    "duration": 4,
    "start_time": "2023-03-25T21:36:50.245Z"
   },
   {
    "duration": 266805,
    "start_time": "2023-03-25T21:36:50.252Z"
   },
   {
    "duration": 55185,
    "start_time": "2023-03-25T21:41:17.060Z"
   },
   {
    "duration": 293,
    "start_time": "2023-03-25T21:42:12.248Z"
   },
   {
    "duration": 18,
    "start_time": "2023-03-25T21:42:12.544Z"
   },
   {
    "duration": 77,
    "start_time": "2023-03-25T21:42:12.564Z"
   },
   {
    "duration": 3,
    "start_time": "2023-03-25T21:42:12.648Z"
   },
   {
    "duration": 283164,
    "start_time": "2023-03-25T21:42:12.653Z"
   },
   {
    "duration": 1492,
    "start_time": "2023-03-25T21:48:32.677Z"
   },
   {
    "duration": 919,
    "start_time": "2023-03-25T21:48:34.171Z"
   },
   {
    "duration": 4,
    "start_time": "2023-03-25T21:48:35.093Z"
   },
   {
    "duration": 921,
    "start_time": "2023-03-25T21:48:35.099Z"
   },
   {
    "duration": 28,
    "start_time": "2023-03-25T21:48:36.022Z"
   },
   {
    "duration": 128,
    "start_time": "2023-03-25T21:48:36.052Z"
   },
   {
    "duration": 34,
    "start_time": "2023-03-25T21:48:36.182Z"
   },
   {
    "duration": 204,
    "start_time": "2023-03-25T21:48:36.218Z"
   },
   {
    "duration": 30,
    "start_time": "2023-03-25T21:48:36.423Z"
   },
   {
    "duration": 126,
    "start_time": "2023-03-25T21:48:36.458Z"
   },
   {
    "duration": 18,
    "start_time": "2023-03-25T21:48:36.586Z"
   },
   {
    "duration": 118,
    "start_time": "2023-03-25T21:48:36.605Z"
   },
   {
    "duration": 24,
    "start_time": "2023-03-25T21:48:36.725Z"
   },
   {
    "duration": 151,
    "start_time": "2023-03-25T21:48:36.753Z"
   },
   {
    "duration": 808,
    "start_time": "2023-03-25T21:48:36.906Z"
   },
   {
    "duration": 68,
    "start_time": "2023-03-25T21:48:37.717Z"
   },
   {
    "duration": 409,
    "start_time": "2023-03-25T21:48:37.787Z"
   },
   {
    "duration": 351,
    "start_time": "2023-03-25T21:48:38.198Z"
   },
   {
    "duration": 757,
    "start_time": "2023-03-25T21:48:38.551Z"
   },
   {
    "duration": 275,
    "start_time": "2023-03-25T21:48:39.309Z"
   },
   {
    "duration": 279,
    "start_time": "2023-03-25T21:48:39.585Z"
   },
   {
    "duration": 428,
    "start_time": "2023-03-25T21:48:39.866Z"
   },
   {
    "duration": 9,
    "start_time": "2023-03-25T21:48:40.296Z"
   },
   {
    "duration": 76,
    "start_time": "2023-03-25T21:48:40.306Z"
   },
   {
    "duration": 21,
    "start_time": "2023-03-25T21:48:40.384Z"
   },
   {
    "duration": 124,
    "start_time": "2023-03-25T21:48:40.407Z"
   },
   {
    "duration": 23,
    "start_time": "2023-03-25T21:48:40.533Z"
   },
   {
    "duration": 91,
    "start_time": "2023-03-25T21:48:40.560Z"
   },
   {
    "duration": 13,
    "start_time": "2023-03-25T21:48:40.654Z"
   },
   {
    "duration": 80,
    "start_time": "2023-03-25T21:48:40.669Z"
   },
   {
    "duration": 15,
    "start_time": "2023-03-25T21:48:40.752Z"
   },
   {
    "duration": 13,
    "start_time": "2023-03-25T21:48:40.773Z"
   },
   {
    "duration": 78,
    "start_time": "2023-03-25T21:48:40.788Z"
   },
   {
    "duration": 4,
    "start_time": "2023-03-25T21:48:40.868Z"
   },
   {
    "duration": 195,
    "start_time": "2023-03-25T21:48:40.874Z"
   },
   {
    "duration": 3,
    "start_time": "2023-03-25T21:48:41.070Z"
   },
   {
    "duration": 6,
    "start_time": "2023-03-25T21:48:41.074Z"
   },
   {
    "duration": 1397,
    "start_time": "2023-03-25T21:48:41.082Z"
   },
   {
    "duration": 3642,
    "start_time": "2023-03-25T21:48:42.481Z"
   },
   {
    "duration": 316,
    "start_time": "2023-03-25T21:48:46.125Z"
   },
   {
    "duration": 119,
    "start_time": "2023-03-25T21:48:51.791Z"
   },
   {
    "duration": 4,
    "start_time": "2023-03-25T21:52:17.790Z"
   },
   {
    "duration": 9,
    "start_time": "2023-03-25T21:52:22.911Z"
   },
   {
    "duration": 71,
    "start_time": "2023-03-25T22:23:44.772Z"
   },
   {
    "duration": 54,
    "start_time": "2023-03-25T22:24:57.301Z"
   },
   {
    "duration": 55,
    "start_time": "2023-03-25T22:25:00.157Z"
   },
   {
    "duration": 13,
    "start_time": "2023-03-25T22:25:11.292Z"
   },
   {
    "duration": 5,
    "start_time": "2023-03-25T22:25:56.392Z"
   },
   {
    "duration": 53,
    "start_time": "2023-03-25T22:25:58.381Z"
   },
   {
    "duration": 1499,
    "start_time": "2023-03-25T22:28:15.636Z"
   },
   {
    "duration": 899,
    "start_time": "2023-03-25T22:28:17.137Z"
   },
   {
    "duration": 4,
    "start_time": "2023-03-25T22:28:18.041Z"
   },
   {
    "duration": 909,
    "start_time": "2023-03-25T22:28:18.048Z"
   },
   {
    "duration": 18,
    "start_time": "2023-03-25T22:28:18.959Z"
   },
   {
    "duration": 105,
    "start_time": "2023-03-25T22:28:18.978Z"
   },
   {
    "duration": 32,
    "start_time": "2023-03-25T22:28:19.085Z"
   },
   {
    "duration": 204,
    "start_time": "2023-03-25T22:28:19.118Z"
   },
   {
    "duration": 33,
    "start_time": "2023-03-25T22:28:19.323Z"
   },
   {
    "duration": 114,
    "start_time": "2023-03-25T22:28:19.360Z"
   },
   {
    "duration": 17,
    "start_time": "2023-03-25T22:28:19.476Z"
   },
   {
    "duration": 124,
    "start_time": "2023-03-25T22:28:19.494Z"
   },
   {
    "duration": 22,
    "start_time": "2023-03-25T22:28:19.620Z"
   },
   {
    "duration": 144,
    "start_time": "2023-03-25T22:28:19.645Z"
   },
   {
    "duration": 793,
    "start_time": "2023-03-25T22:28:19.791Z"
   },
   {
    "duration": 72,
    "start_time": "2023-03-25T22:28:20.585Z"
   },
   {
    "duration": 397,
    "start_time": "2023-03-25T22:28:20.661Z"
   },
   {
    "duration": 324,
    "start_time": "2023-03-25T22:28:21.060Z"
   },
   {
    "duration": 654,
    "start_time": "2023-03-25T22:28:21.386Z"
   },
   {
    "duration": 272,
    "start_time": "2023-03-25T22:28:22.042Z"
   },
   {
    "duration": 269,
    "start_time": "2023-03-25T22:28:22.315Z"
   },
   {
    "duration": 411,
    "start_time": "2023-03-25T22:28:22.586Z"
   },
   {
    "duration": 9,
    "start_time": "2023-03-25T22:28:22.998Z"
   },
   {
    "duration": 66,
    "start_time": "2023-03-25T22:28:23.008Z"
   },
   {
    "duration": 21,
    "start_time": "2023-03-25T22:28:23.076Z"
   },
   {
    "duration": 115,
    "start_time": "2023-03-25T22:28:23.099Z"
   },
   {
    "duration": 11,
    "start_time": "2023-03-25T22:28:23.216Z"
   },
   {
    "duration": 71,
    "start_time": "2023-03-25T22:28:23.247Z"
   },
   {
    "duration": 27,
    "start_time": "2023-03-25T22:28:23.319Z"
   },
   {
    "duration": 94,
    "start_time": "2023-03-25T22:28:23.348Z"
   },
   {
    "duration": 56,
    "start_time": "2023-03-25T22:28:23.445Z"
   },
   {
    "duration": 80,
    "start_time": "2023-03-25T22:28:23.503Z"
   },
   {
    "duration": 12,
    "start_time": "2023-03-25T22:28:23.584Z"
   },
   {
    "duration": 81,
    "start_time": "2023-03-25T22:28:23.598Z"
   },
   {
    "duration": 4,
    "start_time": "2023-03-25T22:28:23.681Z"
   },
   {
    "duration": 176,
    "start_time": "2023-03-25T22:28:23.686Z"
   },
   {
    "duration": 2,
    "start_time": "2023-03-25T22:28:23.864Z"
   },
   {
    "duration": 6,
    "start_time": "2023-03-25T22:28:23.868Z"
   },
   {
    "duration": 1214,
    "start_time": "2023-03-25T22:28:23.875Z"
   },
   {
    "duration": 3820,
    "start_time": "2023-03-25T22:28:25.091Z"
   },
   {
    "duration": 323,
    "start_time": "2023-03-25T22:28:28.913Z"
   },
   {
    "duration": 140,
    "start_time": "2023-03-25T22:28:29.241Z"
   },
   {
    "duration": 0,
    "start_time": "2023-03-25T22:28:29.382Z"
   },
   {
    "duration": 0,
    "start_time": "2023-03-25T22:28:29.383Z"
   },
   {
    "duration": 0,
    "start_time": "2023-03-25T22:28:29.384Z"
   },
   {
    "duration": 0,
    "start_time": "2023-03-25T22:28:29.385Z"
   },
   {
    "duration": 0,
    "start_time": "2023-03-25T22:28:29.386Z"
   },
   {
    "duration": 0,
    "start_time": "2023-03-25T22:28:29.388Z"
   },
   {
    "duration": 0,
    "start_time": "2023-03-25T22:28:29.389Z"
   },
   {
    "duration": 0,
    "start_time": "2023-03-25T22:28:29.390Z"
   },
   {
    "duration": 0,
    "start_time": "2023-03-25T22:28:29.391Z"
   },
   {
    "duration": 0,
    "start_time": "2023-03-25T22:28:29.392Z"
   },
   {
    "duration": 0,
    "start_time": "2023-03-25T22:28:29.394Z"
   },
   {
    "duration": 0,
    "start_time": "2023-03-25T22:28:29.395Z"
   },
   {
    "duration": 0,
    "start_time": "2023-03-25T22:28:29.396Z"
   },
   {
    "duration": 0,
    "start_time": "2023-03-25T22:28:29.397Z"
   },
   {
    "duration": 0,
    "start_time": "2023-03-25T22:28:29.398Z"
   },
   {
    "duration": 0,
    "start_time": "2023-03-25T22:28:29.399Z"
   },
   {
    "duration": 0,
    "start_time": "2023-03-25T22:28:29.401Z"
   },
   {
    "duration": 0,
    "start_time": "2023-03-25T22:28:29.402Z"
   },
   {
    "duration": 0,
    "start_time": "2023-03-25T22:28:29.404Z"
   },
   {
    "duration": 21,
    "start_time": "2023-03-25T22:29:04.050Z"
   },
   {
    "duration": 297,
    "start_time": "2023-03-25T22:29:24.379Z"
   },
   {
    "duration": 259,
    "start_time": "2023-03-25T22:29:26.046Z"
   },
   {
    "duration": 289,
    "start_time": "2023-03-25T22:29:32.841Z"
   },
   {
    "duration": 3,
    "start_time": "2023-03-25T22:29:33.133Z"
   },
   {
    "duration": 3,
    "start_time": "2023-03-25T22:29:33.141Z"
   },
   {
    "duration": 251712,
    "start_time": "2023-03-25T22:29:33.148Z"
   },
   {
    "duration": 57517,
    "start_time": "2023-03-25T22:33:44.942Z"
   },
   {
    "duration": 387,
    "start_time": "2023-03-25T22:34:42.462Z"
   },
   {
    "duration": 5,
    "start_time": "2023-03-25T22:34:42.851Z"
   },
   {
    "duration": 4,
    "start_time": "2023-03-25T22:34:42.940Z"
   },
   {
    "duration": 4,
    "start_time": "2023-03-25T22:34:42.946Z"
   },
   {
    "duration": 1616,
    "start_time": "2023-03-25T22:46:30.117Z"
   },
   {
    "duration": 1026,
    "start_time": "2023-03-25T22:46:31.735Z"
   },
   {
    "duration": 7,
    "start_time": "2023-03-25T22:46:32.763Z"
   },
   {
    "duration": 930,
    "start_time": "2023-03-25T22:46:32.772Z"
   },
   {
    "duration": 14,
    "start_time": "2023-03-25T22:46:33.704Z"
   },
   {
    "duration": 111,
    "start_time": "2023-03-25T22:46:33.719Z"
   },
   {
    "duration": 43,
    "start_time": "2023-03-25T22:46:33.832Z"
   },
   {
    "duration": 196,
    "start_time": "2023-03-25T22:46:33.877Z"
   },
   {
    "duration": 17,
    "start_time": "2023-03-25T22:46:34.075Z"
   },
   {
    "duration": 119,
    "start_time": "2023-03-25T22:46:34.095Z"
   },
   {
    "duration": 26,
    "start_time": "2023-03-25T22:46:34.216Z"
   },
   {
    "duration": 112,
    "start_time": "2023-03-25T22:46:34.245Z"
   },
   {
    "duration": 20,
    "start_time": "2023-03-25T22:46:34.359Z"
   },
   {
    "duration": 158,
    "start_time": "2023-03-25T22:46:34.380Z"
   },
   {
    "duration": 860,
    "start_time": "2023-03-25T22:46:34.542Z"
   },
   {
    "duration": 76,
    "start_time": "2023-03-25T22:46:35.404Z"
   },
   {
    "duration": 391,
    "start_time": "2023-03-25T22:46:35.482Z"
   },
   {
    "duration": 325,
    "start_time": "2023-03-25T22:46:35.875Z"
   },
   {
    "duration": 630,
    "start_time": "2023-03-25T22:46:36.202Z"
   },
   {
    "duration": 245,
    "start_time": "2023-03-25T22:46:36.840Z"
   },
   {
    "duration": 245,
    "start_time": "2023-03-25T22:46:37.087Z"
   },
   {
    "duration": 432,
    "start_time": "2023-03-25T22:46:37.334Z"
   },
   {
    "duration": 9,
    "start_time": "2023-03-25T22:46:37.768Z"
   },
   {
    "duration": 64,
    "start_time": "2023-03-25T22:46:37.778Z"
   },
   {
    "duration": 27,
    "start_time": "2023-03-25T22:46:37.847Z"
   },
   {
    "duration": 121,
    "start_time": "2023-03-25T22:46:37.875Z"
   },
   {
    "duration": 12,
    "start_time": "2023-03-25T22:46:37.998Z"
   },
   {
    "duration": 90,
    "start_time": "2023-03-25T22:46:38.014Z"
   },
   {
    "duration": 12,
    "start_time": "2023-03-25T22:46:38.106Z"
   },
   {
    "duration": 88,
    "start_time": "2023-03-25T22:46:38.119Z"
   },
   {
    "duration": 69,
    "start_time": "2023-03-25T22:46:38.209Z"
   },
   {
    "duration": 62,
    "start_time": "2023-03-25T22:46:38.279Z"
   },
   {
    "duration": 18,
    "start_time": "2023-03-25T22:46:38.344Z"
   },
   {
    "duration": 49,
    "start_time": "2023-03-25T22:46:38.364Z"
   },
   {
    "duration": 4,
    "start_time": "2023-03-25T22:46:38.414Z"
   },
   {
    "duration": 191,
    "start_time": "2023-03-25T22:46:38.440Z"
   },
   {
    "duration": 3,
    "start_time": "2023-03-25T22:46:38.641Z"
   },
   {
    "duration": 5,
    "start_time": "2023-03-25T22:46:38.646Z"
   },
   {
    "duration": 1270,
    "start_time": "2023-03-25T22:46:38.654Z"
   },
   {
    "duration": 3675,
    "start_time": "2023-03-25T22:46:39.926Z"
   },
   {
    "duration": 291,
    "start_time": "2023-03-25T22:46:43.603Z"
   },
   {
    "duration": 281,
    "start_time": "2023-03-25T22:46:43.896Z"
   },
   {
    "duration": 2,
    "start_time": "2023-03-25T22:46:44.179Z"
   },
   {
    "duration": 8,
    "start_time": "2023-03-25T22:46:44.182Z"
   },
   {
    "duration": 254153,
    "start_time": "2023-03-25T22:46:44.191Z"
   },
   {
    "duration": 62203,
    "start_time": "2023-03-25T22:50:58.346Z"
   },
   {
    "duration": 296,
    "start_time": "2023-03-25T22:52:00.552Z"
   },
   {
    "duration": 93,
    "start_time": "2023-03-25T22:52:00.850Z"
   },
   {
    "duration": 106,
    "start_time": "2023-03-25T22:52:00.946Z"
   },
   {
    "duration": 42,
    "start_time": "2023-03-25T22:52:01.054Z"
   },
   {
    "duration": 4185757,
    "start_time": "2023-03-25T22:52:01.098Z"
   },
   {
    "duration": 141287,
    "start_time": "2023-03-26T00:01:46.858Z"
   },
   {
    "duration": 515,
    "start_time": "2023-03-26T00:04:08.147Z"
   },
   {
    "duration": 5,
    "start_time": "2023-03-26T00:04:08.665Z"
   },
   {
    "duration": 6,
    "start_time": "2023-03-26T00:04:08.672Z"
   },
   {
    "duration": 10,
    "start_time": "2023-03-26T00:04:08.680Z"
   },
   {
    "duration": 176,
    "start_time": "2023-03-26T00:04:08.740Z"
   },
   {
    "duration": 32682,
    "start_time": "2023-03-26T00:04:08.918Z"
   },
   {
    "duration": 80,
    "start_time": "2023-03-26T00:04:41.602Z"
   },
   {
    "duration": 5,
    "start_time": "2023-03-26T00:04:41.683Z"
   },
   {
    "duration": 9,
    "start_time": "2023-03-26T00:04:41.690Z"
   },
   {
    "duration": 420712,
    "start_time": "2023-03-26T05:37:43.846Z"
   },
   {
    "duration": 31399,
    "start_time": "2023-03-26T06:09:03.326Z"
   },
   {
    "duration": 77,
    "start_time": "2023-03-26T06:09:34.727Z"
   },
   {
    "duration": 4,
    "start_time": "2023-03-26T06:09:34.806Z"
   },
   {
    "duration": 13,
    "start_time": "2023-03-26T06:09:34.812Z"
   },
   {
    "duration": 10,
    "start_time": "2023-03-26T11:09:22.128Z"
   },
   {
    "duration": 45,
    "start_time": "2023-03-26T19:24:52.380Z"
   },
   {
    "duration": 1761,
    "start_time": "2023-03-26T20:19:32.828Z"
   },
   {
    "duration": 2918,
    "start_time": "2023-03-26T20:19:34.592Z"
   },
   {
    "duration": 5,
    "start_time": "2023-03-26T20:19:37.512Z"
   },
   {
    "duration": 809,
    "start_time": "2023-03-26T20:19:37.519Z"
   },
   {
    "duration": 26,
    "start_time": "2023-03-26T20:19:38.331Z"
   },
   {
    "duration": 125,
    "start_time": "2023-03-26T20:19:38.359Z"
   },
   {
    "duration": 32,
    "start_time": "2023-03-26T20:19:38.486Z"
   },
   {
    "duration": 211,
    "start_time": "2023-03-26T20:19:38.520Z"
   },
   {
    "duration": 32,
    "start_time": "2023-03-26T20:19:38.733Z"
   },
   {
    "duration": 140,
    "start_time": "2023-03-26T20:19:38.768Z"
   },
   {
    "duration": 19,
    "start_time": "2023-03-26T20:19:38.911Z"
   },
   {
    "duration": 138,
    "start_time": "2023-03-26T20:19:38.957Z"
   },
   {
    "duration": 23,
    "start_time": "2023-03-26T20:19:39.097Z"
   },
   {
    "duration": 170,
    "start_time": "2023-03-26T20:19:39.124Z"
   },
   {
    "duration": 814,
    "start_time": "2023-03-26T20:19:39.295Z"
   },
   {
    "duration": 80,
    "start_time": "2023-03-26T20:19:40.111Z"
   },
   {
    "duration": 426,
    "start_time": "2023-03-26T20:19:40.193Z"
   },
   {
    "duration": 357,
    "start_time": "2023-03-26T20:19:40.620Z"
   },
   {
    "duration": 716,
    "start_time": "2023-03-26T20:19:40.979Z"
   },
   {
    "duration": 258,
    "start_time": "2023-03-26T20:19:41.697Z"
   },
   {
    "duration": 238,
    "start_time": "2023-03-26T20:19:41.956Z"
   },
   {
    "duration": 360,
    "start_time": "2023-03-26T20:19:42.195Z"
   },
   {
    "duration": 11,
    "start_time": "2023-03-26T20:19:42.559Z"
   },
   {
    "duration": 46,
    "start_time": "2023-03-26T20:19:42.572Z"
   },
   {
    "duration": 38,
    "start_time": "2023-03-26T20:19:42.620Z"
   },
   {
    "duration": 105,
    "start_time": "2023-03-26T20:19:42.660Z"
   },
   {
    "duration": 11,
    "start_time": "2023-03-26T20:19:42.767Z"
   },
   {
    "duration": 80,
    "start_time": "2023-03-26T20:19:42.780Z"
   },
   {
    "duration": 12,
    "start_time": "2023-03-26T20:19:42.862Z"
   },
   {
    "duration": 85,
    "start_time": "2023-03-26T20:19:42.876Z"
   },
   {
    "duration": 50,
    "start_time": "2023-03-26T20:19:42.965Z"
   },
   {
    "duration": 84,
    "start_time": "2023-03-26T20:19:43.017Z"
   },
   {
    "duration": 11,
    "start_time": "2023-03-26T20:19:43.103Z"
   },
   {
    "duration": 113,
    "start_time": "2023-03-26T20:19:43.116Z"
   },
   {
    "duration": 4,
    "start_time": "2023-03-26T20:19:43.230Z"
   },
   {
    "duration": 151,
    "start_time": "2023-03-26T20:19:43.242Z"
   },
   {
    "duration": 3,
    "start_time": "2023-03-26T20:19:43.396Z"
   },
   {
    "duration": 4,
    "start_time": "2023-03-26T20:19:43.401Z"
   },
   {
    "duration": 1218,
    "start_time": "2023-03-26T20:19:43.407Z"
   },
   {
    "duration": 2400,
    "start_time": "2023-03-26T20:19:44.627Z"
   },
   {
    "duration": 326,
    "start_time": "2023-03-26T20:19:47.031Z"
   },
   {
    "duration": 259,
    "start_time": "2023-03-26T20:19:47.359Z"
   },
   {
    "duration": 2,
    "start_time": "2023-03-26T20:19:47.620Z"
   },
   {
    "duration": 8,
    "start_time": "2023-03-26T20:19:47.623Z"
   },
   {
    "duration": 134503,
    "start_time": "2023-03-26T20:19:47.640Z"
   },
   {
    "duration": 16001,
    "start_time": "2023-03-26T20:22:02.145Z"
   },
   {
    "duration": 207,
    "start_time": "2023-03-26T20:22:18.147Z"
   },
   {
    "duration": 388,
    "start_time": "2023-03-26T20:22:18.356Z"
   },
   {
    "duration": 100,
    "start_time": "2023-03-26T20:22:18.747Z"
   },
   {
    "duration": 93,
    "start_time": "2023-03-26T20:22:18.849Z"
   },
   {
    "duration": 4,
    "start_time": "2023-03-26T20:22:18.944Z"
   },
   {
    "duration": 355996,
    "start_time": "2023-03-26T20:22:18.949Z"
   },
   {
    "duration": 9097,
    "start_time": "2023-03-26T20:28:14.947Z"
   },
   {
    "duration": 401,
    "start_time": "2023-03-26T20:28:24.045Z"
   },
   {
    "duration": 510,
    "start_time": "2023-03-26T20:28:24.447Z"
   },
   {
    "duration": 3,
    "start_time": "2023-03-26T20:28:24.959Z"
   },
   {
    "duration": 3,
    "start_time": "2023-03-26T20:28:25.040Z"
   },
   {
    "duration": 5,
    "start_time": "2023-03-26T20:28:25.045Z"
   },
   {
    "duration": 341291,
    "start_time": "2023-03-26T20:28:25.051Z"
   },
   {
    "duration": 27259,
    "start_time": "2023-03-26T20:34:06.344Z"
   },
   {
    "duration": 67,
    "start_time": "2023-03-26T20:34:33.605Z"
   },
   {
    "duration": 57,
    "start_time": "2023-03-26T20:34:33.673Z"
   },
   {
    "duration": 8,
    "start_time": "2023-03-26T20:34:33.741Z"
   },
   {
    "duration": 16,
    "start_time": "2023-03-26T20:34:33.751Z"
   },
   {
    "duration": 15,
    "start_time": "2023-03-26T20:39:44.360Z"
   },
   {
    "duration": 1622,
    "start_time": "2023-03-27T19:22:41.684Z"
   },
   {
    "duration": 1073,
    "start_time": "2023-03-27T19:22:43.308Z"
   },
   {
    "duration": 7,
    "start_time": "2023-03-27T19:22:44.383Z"
   },
   {
    "duration": 729,
    "start_time": "2023-03-27T19:22:44.392Z"
   },
   {
    "duration": 13,
    "start_time": "2023-03-27T19:22:45.124Z"
   },
   {
    "duration": 95,
    "start_time": "2023-03-27T19:22:45.139Z"
   },
   {
    "duration": 28,
    "start_time": "2023-03-27T19:22:45.236Z"
   },
   {
    "duration": 159,
    "start_time": "2023-03-27T19:22:45.265Z"
   },
   {
    "duration": 15,
    "start_time": "2023-03-27T19:22:45.425Z"
   },
   {
    "duration": 131,
    "start_time": "2023-03-27T19:22:45.442Z"
   },
   {
    "duration": 15,
    "start_time": "2023-03-27T19:22:45.574Z"
   },
   {
    "duration": 92,
    "start_time": "2023-03-27T19:22:45.591Z"
   },
   {
    "duration": 14,
    "start_time": "2023-03-27T19:22:45.685Z"
   },
   {
    "duration": 115,
    "start_time": "2023-03-27T19:22:45.703Z"
   },
   {
    "duration": 725,
    "start_time": "2023-03-27T19:22:45.825Z"
   },
   {
    "duration": 56,
    "start_time": "2023-03-27T19:22:46.552Z"
   },
   {
    "duration": 398,
    "start_time": "2023-03-27T19:22:46.610Z"
   },
   {
    "duration": 310,
    "start_time": "2023-03-27T19:22:47.010Z"
   },
   {
    "duration": 643,
    "start_time": "2023-03-27T19:22:47.323Z"
   },
   {
    "duration": 243,
    "start_time": "2023-03-27T19:22:47.967Z"
   },
   {
    "duration": 244,
    "start_time": "2023-03-27T19:22:48.213Z"
   },
   {
    "duration": 395,
    "start_time": "2023-03-27T19:22:48.459Z"
   },
   {
    "duration": 8,
    "start_time": "2023-03-27T19:22:48.855Z"
   },
   {
    "duration": 61,
    "start_time": "2023-03-27T19:22:48.865Z"
   },
   {
    "duration": 20,
    "start_time": "2023-03-27T19:22:48.928Z"
   },
   {
    "duration": 101,
    "start_time": "2023-03-27T19:22:48.950Z"
   },
   {
    "duration": 12,
    "start_time": "2023-03-27T19:22:49.053Z"
   },
   {
    "duration": 74,
    "start_time": "2023-03-27T19:22:49.066Z"
   },
   {
    "duration": 12,
    "start_time": "2023-03-27T19:22:49.142Z"
   },
   {
    "duration": 71,
    "start_time": "2023-03-27T19:22:49.155Z"
   },
   {
    "duration": 42,
    "start_time": "2023-03-27T19:22:49.227Z"
   },
   {
    "duration": 62,
    "start_time": "2023-03-27T19:22:49.271Z"
   },
   {
    "duration": 11,
    "start_time": "2023-03-27T19:22:49.337Z"
   },
   {
    "duration": 101,
    "start_time": "2023-03-27T19:22:49.349Z"
   },
   {
    "duration": 4,
    "start_time": "2023-03-27T19:22:49.452Z"
   },
   {
    "duration": 181,
    "start_time": "2023-03-27T19:22:49.458Z"
   },
   {
    "duration": 2,
    "start_time": "2023-03-27T19:22:49.641Z"
   },
   {
    "duration": 4,
    "start_time": "2023-03-27T19:22:49.645Z"
   },
   {
    "duration": 1384,
    "start_time": "2023-03-27T19:22:49.650Z"
   },
   {
    "duration": 2192,
    "start_time": "2023-03-27T19:22:51.036Z"
   },
   {
    "duration": 268,
    "start_time": "2023-03-27T19:22:53.232Z"
   },
   {
    "duration": 231,
    "start_time": "2023-03-27T19:22:53.502Z"
   },
   {
    "duration": 2,
    "start_time": "2023-03-27T19:22:53.736Z"
   },
   {
    "duration": 13,
    "start_time": "2023-03-27T19:22:53.740Z"
   },
   {
    "duration": 67371,
    "start_time": "2023-03-27T19:22:53.755Z"
   },
   {
    "duration": 19298,
    "start_time": "2023-03-27T19:24:01.129Z"
   },
   {
    "duration": 219,
    "start_time": "2023-03-27T19:24:20.429Z"
   },
   {
    "duration": 81,
    "start_time": "2023-03-27T19:24:20.651Z"
   },
   {
    "duration": 2,
    "start_time": "2023-03-27T19:24:20.735Z"
   },
   {
    "duration": 4,
    "start_time": "2023-03-27T19:24:20.824Z"
   },
   {
    "duration": 5,
    "start_time": "2023-03-27T19:24:20.829Z"
   },
   {
    "duration": 4,
    "start_time": "2023-03-27T19:24:20.836Z"
   },
   {
    "duration": 524486,
    "start_time": "2023-03-27T19:24:20.842Z"
   },
   {
    "duration": 9000,
    "start_time": "2023-03-27T19:33:05.329Z"
   },
   {
    "duration": 493,
    "start_time": "2023-03-27T19:33:14.331Z"
   },
   {
    "duration": 5,
    "start_time": "2023-03-27T19:33:14.826Z"
   },
   {
    "duration": 4,
    "start_time": "2023-03-27T19:33:14.832Z"
   },
   {
    "duration": 3,
    "start_time": "2023-03-27T19:33:14.838Z"
   },
   {
    "duration": 5,
    "start_time": "2023-03-27T19:33:14.843Z"
   },
   {
    "duration": 4,
    "start_time": "2023-03-27T19:33:14.849Z"
   },
   {
    "duration": 334865,
    "start_time": "2023-03-27T19:33:14.854Z"
   },
   {
    "duration": 26083,
    "start_time": "2023-03-27T19:38:49.721Z"
   },
   {
    "duration": 55,
    "start_time": "2023-03-27T19:39:15.805Z"
   },
   {
    "duration": 4,
    "start_time": "2023-03-27T19:39:15.862Z"
   },
   {
    "duration": 3,
    "start_time": "2023-03-27T19:39:15.868Z"
   },
   {
    "duration": 4,
    "start_time": "2023-03-27T19:39:15.873Z"
   },
   {
    "duration": 9,
    "start_time": "2023-03-27T19:46:19.299Z"
   },
   {
    "duration": 47,
    "start_time": "2023-03-27T19:47:50.717Z"
   },
   {
    "duration": 9,
    "start_time": "2023-03-27T19:47:58.488Z"
   },
   {
    "duration": 513,
    "start_time": "2023-03-27T19:48:54.512Z"
   },
   {
    "duration": 43,
    "start_time": "2023-03-27T19:49:45.348Z"
   },
   {
    "duration": 108,
    "start_time": "2023-03-27T19:52:50.045Z"
   },
   {
    "duration": 4,
    "start_time": "2023-03-27T19:54:12.620Z"
   },
   {
    "duration": 6,
    "start_time": "2023-03-27T19:54:20.530Z"
   },
   {
    "duration": 171,
    "start_time": "2023-03-27T19:54:33.861Z"
   },
   {
    "duration": 172,
    "start_time": "2023-03-27T19:54:37.933Z"
   }
  ],
  "kernelspec": {
   "display_name": "Python 3 (ipykernel)",
   "language": "python",
   "name": "python3"
  },
  "language_info": {
   "codemirror_mode": {
    "name": "ipython",
    "version": 3
   },
   "file_extension": ".py",
   "mimetype": "text/x-python",
   "name": "python",
   "nbconvert_exporter": "python",
   "pygments_lexer": "ipython3",
   "version": "3.10.9"
  },
  "toc": {
   "base_numbering": 1,
   "nav_menu": {
    "height": "294px",
    "width": "273px"
   },
   "number_sections": true,
   "sideBar": true,
   "skip_h1_title": true,
   "title_cell": "Table of Contents",
   "title_sidebar": "Contents",
   "toc_cell": false,
   "toc_position": {},
   "toc_section_display": true,
   "toc_window_display": false
  }
 },
 "nbformat": 4,
 "nbformat_minor": 2
}
