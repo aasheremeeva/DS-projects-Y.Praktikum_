{
 "cells": [
  {
   "cell_type": "markdown",
   "metadata": {},
   "source": [
    "# Video games market analysis\n",
    "\n",
    "**Short description**\n",
    "\n",
    "As part of this research, we deal with data about video games - data on game sales, user and expert ratings, genres and platforms.\n",
    "\n",
    "**Data description** \n",
    "* `Name` — name of game\n",
    "* `Platform` — platform\n",
    "* `Year_of_Release` — year of release\n",
    "* `Genre` — genre of game\n",
    "* `NA_sales` — sales in Northern America (millions of purchased copies)\n",
    "* `EU_sales` — sales in Europe (millions of purchased copies)\n",
    "* `JP_sales` — sales in Japan (millions of purchased copies)\n",
    "* `Other_sales` — sales in other countries (millions of purchased copies)\n",
    "* `Critic_Score` — critics' score (maximum 100)\n",
    "* `User_Score` — users' score (maximum 10)\n",
    "* `Rating` — rating from ESRB (Entertainment Software Rating Board). ESRB evaluates game's content and assigns appropriate age categories, such as Teen and Mature.\n",
    "\n",
    "Data for 2016 may be incomplete.\n",
    "\n",
    "**Goal:** to plan new campaigns for 2017.\n",
    "\n",
    "**Tasks:** \n",
    "- analyze data\n",
    "- identify the determining patterns of game success.\n",
    "\n",
    "We will analyze data from the games.csv dataset. The work plan looks as follows:\n",
    "\n",
    "1. Data exploration\n",
    "2. Data preprocessing\n",
    "3. Exploratory data analysis\n",
    "4. Formation of a portrait of the user for each region\n",
    "5. Hypothesis testing\n",
    "6. Final conclusion."
   ]
  },
  {
   "cell_type": "markdown",
   "metadata": {},
   "source": [
    "## Data exploration"
   ]
  },
  {
   "cell_type": "markdown",
   "metadata": {},
   "source": [
    "Loading all the packages."
   ]
  },
  {
   "cell_type": "code",
   "execution_count": 1,
   "metadata": {},
   "outputs": [],
   "source": [
    "import pandas as pd\n",
    "import matplotlib.pyplot as plt\n",
    "from IPython.display import display\n",
    "import seaborn as sns\n",
    "import numpy as np\n",
    "from scipy import stats as st"
   ]
  },
  {
   "cell_type": "code",
   "execution_count": 2,
   "metadata": {},
   "outputs": [],
   "source": [
    "data = pd.read_csv('/Users/aasheremeeva/Desktop/All DS Projects/video games/games.csv')"
   ]
  },
  {
   "cell_type": "code",
   "execution_count": 3,
   "metadata": {},
   "outputs": [
    {
     "name": "stdout",
     "output_type": "stream",
     "text": [
      "<class 'pandas.core.frame.DataFrame'>\n",
      "RangeIndex: 16715 entries, 0 to 16714\n",
      "Data columns (total 11 columns):\n",
      " #   Column           Non-Null Count  Dtype  \n",
      "---  ------           --------------  -----  \n",
      " 0   Name             16713 non-null  object \n",
      " 1   Platform         16715 non-null  object \n",
      " 2   Year_of_Release  16446 non-null  float64\n",
      " 3   Genre            16713 non-null  object \n",
      " 4   NA_sales         16715 non-null  float64\n",
      " 5   EU_sales         16715 non-null  float64\n",
      " 6   JP_sales         16715 non-null  float64\n",
      " 7   Other_sales      16715 non-null  float64\n",
      " 8   Critic_Score     8137 non-null   float64\n",
      " 9   User_Score       10014 non-null  object \n",
      " 10  Rating           9949 non-null   object \n",
      "dtypes: float64(6), object(5)\n",
      "memory usage: 1.4+ MB\n"
     ]
    }
   ],
   "source": [
    "data.info()"
   ]
  },
  {
   "cell_type": "markdown",
   "metadata": {},
   "source": [
    "## Data preprocessing"
   ]
  },
  {
   "cell_type": "markdown",
   "metadata": {},
   "source": [
    "Changing the capitalization of the column names to standardize the dataframe."
   ]
  },
  {
   "cell_type": "code",
   "execution_count": 4,
   "metadata": {},
   "outputs": [
    {
     "data": {
      "text/html": [
       "<div>\n",
       "<style scoped>\n",
       "    .dataframe tbody tr th:only-of-type {\n",
       "        vertical-align: middle;\n",
       "    }\n",
       "\n",
       "    .dataframe tbody tr th {\n",
       "        vertical-align: top;\n",
       "    }\n",
       "\n",
       "    .dataframe thead th {\n",
       "        text-align: right;\n",
       "    }\n",
       "</style>\n",
       "<table border=\"1\" class=\"dataframe\">\n",
       "  <thead>\n",
       "    <tr style=\"text-align: right;\">\n",
       "      <th></th>\n",
       "      <th>name</th>\n",
       "      <th>platform</th>\n",
       "      <th>year_of_release</th>\n",
       "      <th>genre</th>\n",
       "      <th>na_sales</th>\n",
       "      <th>eu_sales</th>\n",
       "      <th>jp_sales</th>\n",
       "      <th>other_sales</th>\n",
       "      <th>critic_score</th>\n",
       "      <th>user_score</th>\n",
       "      <th>rating</th>\n",
       "    </tr>\n",
       "  </thead>\n",
       "  <tbody>\n",
       "    <tr>\n",
       "      <th>0</th>\n",
       "      <td>Wii Sports</td>\n",
       "      <td>Wii</td>\n",
       "      <td>2006.0</td>\n",
       "      <td>Sports</td>\n",
       "      <td>41.36</td>\n",
       "      <td>28.96</td>\n",
       "      <td>3.77</td>\n",
       "      <td>8.45</td>\n",
       "      <td>76.0</td>\n",
       "      <td>8</td>\n",
       "      <td>E</td>\n",
       "    </tr>\n",
       "    <tr>\n",
       "      <th>1</th>\n",
       "      <td>Super Mario Bros.</td>\n",
       "      <td>NES</td>\n",
       "      <td>1985.0</td>\n",
       "      <td>Platform</td>\n",
       "      <td>29.08</td>\n",
       "      <td>3.58</td>\n",
       "      <td>6.81</td>\n",
       "      <td>0.77</td>\n",
       "      <td>NaN</td>\n",
       "      <td>NaN</td>\n",
       "      <td>NaN</td>\n",
       "    </tr>\n",
       "    <tr>\n",
       "      <th>2</th>\n",
       "      <td>Mario Kart Wii</td>\n",
       "      <td>Wii</td>\n",
       "      <td>2008.0</td>\n",
       "      <td>Racing</td>\n",
       "      <td>15.68</td>\n",
       "      <td>12.76</td>\n",
       "      <td>3.79</td>\n",
       "      <td>3.29</td>\n",
       "      <td>82.0</td>\n",
       "      <td>8.3</td>\n",
       "      <td>E</td>\n",
       "    </tr>\n",
       "    <tr>\n",
       "      <th>3</th>\n",
       "      <td>Wii Sports Resort</td>\n",
       "      <td>Wii</td>\n",
       "      <td>2009.0</td>\n",
       "      <td>Sports</td>\n",
       "      <td>15.61</td>\n",
       "      <td>10.93</td>\n",
       "      <td>3.28</td>\n",
       "      <td>2.95</td>\n",
       "      <td>80.0</td>\n",
       "      <td>8</td>\n",
       "      <td>E</td>\n",
       "    </tr>\n",
       "    <tr>\n",
       "      <th>4</th>\n",
       "      <td>Pokemon Red/Pokemon Blue</td>\n",
       "      <td>GB</td>\n",
       "      <td>1996.0</td>\n",
       "      <td>Role-Playing</td>\n",
       "      <td>11.27</td>\n",
       "      <td>8.89</td>\n",
       "      <td>10.22</td>\n",
       "      <td>1.00</td>\n",
       "      <td>NaN</td>\n",
       "      <td>NaN</td>\n",
       "      <td>NaN</td>\n",
       "    </tr>\n",
       "    <tr>\n",
       "      <th>...</th>\n",
       "      <td>...</td>\n",
       "      <td>...</td>\n",
       "      <td>...</td>\n",
       "      <td>...</td>\n",
       "      <td>...</td>\n",
       "      <td>...</td>\n",
       "      <td>...</td>\n",
       "      <td>...</td>\n",
       "      <td>...</td>\n",
       "      <td>...</td>\n",
       "      <td>...</td>\n",
       "    </tr>\n",
       "    <tr>\n",
       "      <th>16710</th>\n",
       "      <td>Samurai Warriors: Sanada Maru</td>\n",
       "      <td>PS3</td>\n",
       "      <td>2016.0</td>\n",
       "      <td>Action</td>\n",
       "      <td>0.00</td>\n",
       "      <td>0.00</td>\n",
       "      <td>0.01</td>\n",
       "      <td>0.00</td>\n",
       "      <td>NaN</td>\n",
       "      <td>NaN</td>\n",
       "      <td>NaN</td>\n",
       "    </tr>\n",
       "    <tr>\n",
       "      <th>16711</th>\n",
       "      <td>LMA Manager 2007</td>\n",
       "      <td>X360</td>\n",
       "      <td>2006.0</td>\n",
       "      <td>Sports</td>\n",
       "      <td>0.00</td>\n",
       "      <td>0.01</td>\n",
       "      <td>0.00</td>\n",
       "      <td>0.00</td>\n",
       "      <td>NaN</td>\n",
       "      <td>NaN</td>\n",
       "      <td>NaN</td>\n",
       "    </tr>\n",
       "    <tr>\n",
       "      <th>16712</th>\n",
       "      <td>Haitaka no Psychedelica</td>\n",
       "      <td>PSV</td>\n",
       "      <td>2016.0</td>\n",
       "      <td>Adventure</td>\n",
       "      <td>0.00</td>\n",
       "      <td>0.00</td>\n",
       "      <td>0.01</td>\n",
       "      <td>0.00</td>\n",
       "      <td>NaN</td>\n",
       "      <td>NaN</td>\n",
       "      <td>NaN</td>\n",
       "    </tr>\n",
       "    <tr>\n",
       "      <th>16713</th>\n",
       "      <td>Spirits &amp; Spells</td>\n",
       "      <td>GBA</td>\n",
       "      <td>2003.0</td>\n",
       "      <td>Platform</td>\n",
       "      <td>0.01</td>\n",
       "      <td>0.00</td>\n",
       "      <td>0.00</td>\n",
       "      <td>0.00</td>\n",
       "      <td>NaN</td>\n",
       "      <td>NaN</td>\n",
       "      <td>NaN</td>\n",
       "    </tr>\n",
       "    <tr>\n",
       "      <th>16714</th>\n",
       "      <td>Winning Post 8 2016</td>\n",
       "      <td>PSV</td>\n",
       "      <td>2016.0</td>\n",
       "      <td>Simulation</td>\n",
       "      <td>0.00</td>\n",
       "      <td>0.00</td>\n",
       "      <td>0.01</td>\n",
       "      <td>0.00</td>\n",
       "      <td>NaN</td>\n",
       "      <td>NaN</td>\n",
       "      <td>NaN</td>\n",
       "    </tr>\n",
       "  </tbody>\n",
       "</table>\n",
       "<p>16715 rows × 11 columns</p>\n",
       "</div>"
      ],
      "text/plain": [
       "                                name platform  year_of_release         genre  \\\n",
       "0                         Wii Sports      Wii           2006.0        Sports   \n",
       "1                  Super Mario Bros.      NES           1985.0      Platform   \n",
       "2                     Mario Kart Wii      Wii           2008.0        Racing   \n",
       "3                  Wii Sports Resort      Wii           2009.0        Sports   \n",
       "4           Pokemon Red/Pokemon Blue       GB           1996.0  Role-Playing   \n",
       "...                              ...      ...              ...           ...   \n",
       "16710  Samurai Warriors: Sanada Maru      PS3           2016.0        Action   \n",
       "16711               LMA Manager 2007     X360           2006.0        Sports   \n",
       "16712        Haitaka no Psychedelica      PSV           2016.0     Adventure   \n",
       "16713               Spirits & Spells      GBA           2003.0      Platform   \n",
       "16714            Winning Post 8 2016      PSV           2016.0    Simulation   \n",
       "\n",
       "       na_sales  eu_sales  jp_sales  other_sales  critic_score user_score  \\\n",
       "0         41.36     28.96      3.77         8.45          76.0          8   \n",
       "1         29.08      3.58      6.81         0.77           NaN        NaN   \n",
       "2         15.68     12.76      3.79         3.29          82.0        8.3   \n",
       "3         15.61     10.93      3.28         2.95          80.0          8   \n",
       "4         11.27      8.89     10.22         1.00           NaN        NaN   \n",
       "...         ...       ...       ...          ...           ...        ...   \n",
       "16710      0.00      0.00      0.01         0.00           NaN        NaN   \n",
       "16711      0.00      0.01      0.00         0.00           NaN        NaN   \n",
       "16712      0.00      0.00      0.01         0.00           NaN        NaN   \n",
       "16713      0.01      0.00      0.00         0.00           NaN        NaN   \n",
       "16714      0.00      0.00      0.01         0.00           NaN        NaN   \n",
       "\n",
       "      rating  \n",
       "0          E  \n",
       "1        NaN  \n",
       "2          E  \n",
       "3          E  \n",
       "4        NaN  \n",
       "...      ...  \n",
       "16710    NaN  \n",
       "16711    NaN  \n",
       "16712    NaN  \n",
       "16713    NaN  \n",
       "16714    NaN  \n",
       "\n",
       "[16715 rows x 11 columns]"
      ]
     },
     "execution_count": 4,
     "metadata": {},
     "output_type": "execute_result"
    }
   ],
   "source": [
    "data.columns = data.columns.str.lower()\n",
    "data"
   ]
  },
  {
   "cell_type": "markdown",
   "metadata": {},
   "source": [
    "Let's see which variables contain missing data and to what extent."
   ]
  },
  {
   "cell_type": "code",
   "execution_count": 5,
   "metadata": {},
   "outputs": [
    {
     "data": {
      "text/plain": [
       "name                  2\n",
       "platform              0\n",
       "year_of_release     269\n",
       "genre                 2\n",
       "na_sales              0\n",
       "eu_sales              0\n",
       "jp_sales              0\n",
       "other_sales           0\n",
       "critic_score       8578\n",
       "user_score         6701\n",
       "rating             6766\n",
       "dtype: int64"
      ]
     },
     "execution_count": 5,
     "metadata": {},
     "output_type": "execute_result"
    }
   ],
   "source": [
    "data.isna().sum()"
   ]
  },
  {
   "cell_type": "code",
   "execution_count": 6,
   "metadata": {},
   "outputs": [
    {
     "data": {
      "text/html": [
       "<style type=\"text/css\">\n",
       "#T_eac5f_row0_col0, #T_eac5f_row1_col0, #T_eac5f_row3_col0, #T_eac5f_row4_col0, #T_eac5f_row5_col0, #T_eac5f_row6_col0, #T_eac5f_row7_col0 {\n",
       "  background-color: #3b4cc0;\n",
       "  color: #f1f1f1;\n",
       "}\n",
       "#T_eac5f_row2_col0 {\n",
       "  background-color: #4358cb;\n",
       "  color: #f1f1f1;\n",
       "}\n",
       "#T_eac5f_row8_col0 {\n",
       "  background-color: #b40426;\n",
       "  color: #f1f1f1;\n",
       "}\n",
       "#T_eac5f_row9_col0 {\n",
       "  background-color: #f08b6e;\n",
       "  color: #f1f1f1;\n",
       "}\n",
       "#T_eac5f_row10_col0 {\n",
       "  background-color: #ef886b;\n",
       "  color: #f1f1f1;\n",
       "}\n",
       "</style>\n",
       "<table id=\"T_eac5f\">\n",
       "  <thead>\n",
       "    <tr>\n",
       "      <th class=\"blank level0\" >&nbsp;</th>\n",
       "      <th id=\"T_eac5f_level0_col0\" class=\"col_heading level0 col0\" >0</th>\n",
       "    </tr>\n",
       "  </thead>\n",
       "  <tbody>\n",
       "    <tr>\n",
       "      <th id=\"T_eac5f_level0_row0\" class=\"row_heading level0 row0\" >name</th>\n",
       "      <td id=\"T_eac5f_row0_col0\" class=\"data row0 col0\" >0.000000</td>\n",
       "    </tr>\n",
       "    <tr>\n",
       "      <th id=\"T_eac5f_level0_row1\" class=\"row_heading level0 row1\" >platform</th>\n",
       "      <td id=\"T_eac5f_row1_col0\" class=\"data row1 col0\" >0.000000</td>\n",
       "    </tr>\n",
       "    <tr>\n",
       "      <th id=\"T_eac5f_level0_row2\" class=\"row_heading level0 row2\" >year_of_release</th>\n",
       "      <td id=\"T_eac5f_row2_col0\" class=\"data row2 col0\" >1.600000</td>\n",
       "    </tr>\n",
       "    <tr>\n",
       "      <th id=\"T_eac5f_level0_row3\" class=\"row_heading level0 row3\" >genre</th>\n",
       "      <td id=\"T_eac5f_row3_col0\" class=\"data row3 col0\" >0.000000</td>\n",
       "    </tr>\n",
       "    <tr>\n",
       "      <th id=\"T_eac5f_level0_row4\" class=\"row_heading level0 row4\" >na_sales</th>\n",
       "      <td id=\"T_eac5f_row4_col0\" class=\"data row4 col0\" >0.000000</td>\n",
       "    </tr>\n",
       "    <tr>\n",
       "      <th id=\"T_eac5f_level0_row5\" class=\"row_heading level0 row5\" >eu_sales</th>\n",
       "      <td id=\"T_eac5f_row5_col0\" class=\"data row5 col0\" >0.000000</td>\n",
       "    </tr>\n",
       "    <tr>\n",
       "      <th id=\"T_eac5f_level0_row6\" class=\"row_heading level0 row6\" >jp_sales</th>\n",
       "      <td id=\"T_eac5f_row6_col0\" class=\"data row6 col0\" >0.000000</td>\n",
       "    </tr>\n",
       "    <tr>\n",
       "      <th id=\"T_eac5f_level0_row7\" class=\"row_heading level0 row7\" >other_sales</th>\n",
       "      <td id=\"T_eac5f_row7_col0\" class=\"data row7 col0\" >0.000000</td>\n",
       "    </tr>\n",
       "    <tr>\n",
       "      <th id=\"T_eac5f_level0_row8\" class=\"row_heading level0 row8\" >critic_score</th>\n",
       "      <td id=\"T_eac5f_row8_col0\" class=\"data row8 col0\" >51.300000</td>\n",
       "    </tr>\n",
       "    <tr>\n",
       "      <th id=\"T_eac5f_level0_row9\" class=\"row_heading level0 row9\" >user_score</th>\n",
       "      <td id=\"T_eac5f_row9_col0\" class=\"data row9 col0\" >40.100000</td>\n",
       "    </tr>\n",
       "    <tr>\n",
       "      <th id=\"T_eac5f_level0_row10\" class=\"row_heading level0 row10\" >rating</th>\n",
       "      <td id=\"T_eac5f_row10_col0\" class=\"data row10 col0\" >40.500000</td>\n",
       "    </tr>\n",
       "  </tbody>\n",
       "</table>\n"
      ],
      "text/plain": [
       "<pandas.io.formats.style.Styler at 0x7f7e51a743d0>"
      ]
     },
     "execution_count": 6,
     "metadata": {},
     "output_type": "execute_result"
    }
   ],
   "source": [
    "pd.DataFrame(round(data.isna().mean()*100,1)).style.background_gradient('coolwarm')"
   ]
  },
  {
   "cell_type": "markdown",
   "metadata": {},
   "source": [
    "There are missing variables in year_of_release, critic_score, user_score, and rating. Critic_score has the highest percentage of missing values."
   ]
  },
  {
   "cell_type": "markdown",
   "metadata": {},
   "source": [
    "Let's check what parameters the variable \"user_score\" contains."
   ]
  },
  {
   "cell_type": "code",
   "execution_count": 7,
   "metadata": {},
   "outputs": [
    {
     "data": {
      "text/plain": [
       "array(['8', nan, '8.3', '8.5', '6.6', '8.4', '8.6', '7.7', '6.3', '7.4',\n",
       "       '8.2', '9', '7.9', '8.1', '8.7', '7.1', '3.4', '5.3', '4.8', '3.2',\n",
       "       '8.9', '6.4', '7.8', '7.5', '2.6', '7.2', '9.2', '7', '7.3', '4.3',\n",
       "       '7.6', '5.7', '5', '9.1', '6.5', 'tbd', '8.8', '6.9', '9.4', '6.8',\n",
       "       '6.1', '6.7', '5.4', '4', '4.9', '4.5', '9.3', '6.2', '4.2', '6',\n",
       "       '3.7', '4.1', '5.8', '5.6', '5.5', '4.4', '4.6', '5.9', '3.9',\n",
       "       '3.1', '2.9', '5.2', '3.3', '4.7', '5.1', '3.5', '2.5', '1.9', '3',\n",
       "       '2.7', '2.2', '2', '9.5', '2.1', '3.6', '2.8', '1.8', '3.8', '0',\n",
       "       '1.6', '9.6', '2.4', '1.7', '1.1', '0.3', '1.5', '0.7', '1.2',\n",
       "       '2.3', '0.5', '1.3', '0.2', '0.6', '1.4', '0.9', '1', '9.7'],\n",
       "      dtype=object)"
      ]
     },
     "execution_count": 7,
     "metadata": {},
     "output_type": "execute_result"
    }
   ],
   "source": [
    "data['user_score'].unique()"
   ]
  },
  {
   "cell_type": "markdown",
   "metadata": {},
   "source": [
    "Replace the parameter 'tbd' with 'nan'."
   ]
  },
  {
   "cell_type": "code",
   "execution_count": 8,
   "metadata": {},
   "outputs": [
    {
     "data": {
      "text/plain": [
       "array(['8', nan, '8.3', '8.5', '6.6', '8.4', '8.6', '7.7', '6.3', '7.4',\n",
       "       '8.2', '9', '7.9', '8.1', '8.7', '7.1', '3.4', '5.3', '4.8', '3.2',\n",
       "       '8.9', '6.4', '7.8', '7.5', '2.6', '7.2', '9.2', '7', '7.3', '4.3',\n",
       "       '7.6', '5.7', '5', '9.1', '6.5', 'nan', '8.8', '6.9', '9.4', '6.8',\n",
       "       '6.1', '6.7', '5.4', '4', '4.9', '4.5', '9.3', '6.2', '4.2', '6',\n",
       "       '3.7', '4.1', '5.8', '5.6', '5.5', '4.4', '4.6', '5.9', '3.9',\n",
       "       '3.1', '2.9', '5.2', '3.3', '4.7', '5.1', '3.5', '2.5', '1.9', '3',\n",
       "       '2.7', '2.2', '2', '9.5', '2.1', '3.6', '2.8', '1.8', '3.8', '0',\n",
       "       '1.6', '9.6', '2.4', '1.7', '1.1', '0.3', '1.5', '0.7', '1.2',\n",
       "       '2.3', '0.5', '1.3', '0.2', '0.6', '1.4', '0.9', '1', '9.7'],\n",
       "      dtype=object)"
      ]
     },
     "execution_count": 8,
     "metadata": {},
     "output_type": "execute_result"
    }
   ],
   "source": [
    "data['user_score'] = data['user_score'].replace('tbd','nan')\n",
    "data['user_score'].unique()"
   ]
  },
  {
   "cell_type": "markdown",
   "metadata": {},
   "source": [
    "**What to do with the missing values**:\n",
    "\n",
    "- There are only 2 rows with zero values for the parameter 'name', which can simply be deleted;\n",
    "- There are missing values in the columns with scores, but if we replace them with means or medians, it will significantly distort the conclusions.\n",
    "\n",
    "The number of missing values represents a significant proportion of the total values in the dataset. If we delete values with missing data, we will lose potentially valuable information for further research.\n"
   ]
  },
  {
   "cell_type": "markdown",
   "metadata": {},
   "source": [
    "Let's see what data type the variables in the dataset have for a video games market analysis."
   ]
  },
  {
   "cell_type": "code",
   "execution_count": 9,
   "metadata": {},
   "outputs": [
    {
     "name": "stdout",
     "output_type": "stream",
     "text": [
      "<class 'pandas.core.frame.DataFrame'>\n",
      "RangeIndex: 16715 entries, 0 to 16714\n",
      "Data columns (total 11 columns):\n",
      " #   Column           Non-Null Count  Dtype  \n",
      "---  ------           --------------  -----  \n",
      " 0   name             16713 non-null  object \n",
      " 1   platform         16715 non-null  object \n",
      " 2   year_of_release  16446 non-null  float64\n",
      " 3   genre            16713 non-null  object \n",
      " 4   na_sales         16715 non-null  float64\n",
      " 5   eu_sales         16715 non-null  float64\n",
      " 6   jp_sales         16715 non-null  float64\n",
      " 7   other_sales      16715 non-null  float64\n",
      " 8   critic_score     8137 non-null   float64\n",
      " 9   user_score       10014 non-null  object \n",
      " 10  rating           9949 non-null   object \n",
      "dtypes: float64(6), object(5)\n",
      "memory usage: 1.4+ MB\n"
     ]
    }
   ],
   "source": [
    "data.info()"
   ]
  },
  {
   "cell_type": "markdown",
   "metadata": {},
   "source": [
    "The variable critic_score is more suited to an integer format in terms of meaning. Let's convert it.\n",
    "The variable user_score contains decimal numbers, which corresponds to the float type. Let's also convert it.\n",
    "Let's also convert the year_of_release variable to an integer format."
   ]
  },
  {
   "cell_type": "code",
   "execution_count": 10,
   "metadata": {},
   "outputs": [],
   "source": [
    "data['year_of_release'] = data['year_of_release'].astype('int', errors='ignore')\n",
    "data['critic_score'] = data['critic_score'].astype('int', errors='ignore')\n",
    "data['user_score'] = pd.to_numeric(data['user_score'], errors='coerce')"
   ]
  },
  {
   "cell_type": "code",
   "execution_count": 11,
   "metadata": {},
   "outputs": [
    {
     "name": "stdout",
     "output_type": "stream",
     "text": [
      "<class 'pandas.core.frame.DataFrame'>\n",
      "RangeIndex: 16715 entries, 0 to 16714\n",
      "Data columns (total 11 columns):\n",
      " #   Column           Non-Null Count  Dtype  \n",
      "---  ------           --------------  -----  \n",
      " 0   name             16713 non-null  object \n",
      " 1   platform         16715 non-null  object \n",
      " 2   year_of_release  16446 non-null  float64\n",
      " 3   genre            16713 non-null  object \n",
      " 4   na_sales         16715 non-null  float64\n",
      " 5   eu_sales         16715 non-null  float64\n",
      " 6   jp_sales         16715 non-null  float64\n",
      " 7   other_sales      16715 non-null  float64\n",
      " 8   critic_score     8137 non-null   float64\n",
      " 9   user_score       7590 non-null   float64\n",
      " 10  rating           9949 non-null   object \n",
      "dtypes: float64(7), object(4)\n",
      "memory usage: 1.4+ MB\n"
     ]
    }
   ],
   "source": [
    "data.info()"
   ]
  },
  {
   "cell_type": "markdown",
   "metadata": {},
   "source": [
    "Checking the data for any obvious duplicates."
   ]
  },
  {
   "cell_type": "code",
   "execution_count": 12,
   "metadata": {},
   "outputs": [
    {
     "data": {
      "text/plain": [
       "0"
      ]
     },
     "execution_count": 12,
     "metadata": {},
     "output_type": "execute_result"
    }
   ],
   "source": [
    "data.duplicated().sum()"
   ]
  },
  {
   "cell_type": "markdown",
   "metadata": {},
   "source": [
    "No obvious duplicates were found."
   ]
  },
  {
   "cell_type": "markdown",
   "metadata": {},
   "source": [
    "Finding the total sales in all regions and create a separate column for them."
   ]
  },
  {
   "cell_type": "code",
   "execution_count": 13,
   "metadata": {},
   "outputs": [],
   "source": [
    "data['total_sales'] = data['na_sales'] + data['eu_sales'] + data['jp_sales'] + data['other_sales']"
   ]
  },
  {
   "cell_type": "code",
   "execution_count": 14,
   "metadata": {},
   "outputs": [
    {
     "data": {
      "text/html": [
       "<div>\n",
       "<style scoped>\n",
       "    .dataframe tbody tr th:only-of-type {\n",
       "        vertical-align: middle;\n",
       "    }\n",
       "\n",
       "    .dataframe tbody tr th {\n",
       "        vertical-align: top;\n",
       "    }\n",
       "\n",
       "    .dataframe thead th {\n",
       "        text-align: right;\n",
       "    }\n",
       "</style>\n",
       "<table border=\"1\" class=\"dataframe\">\n",
       "  <thead>\n",
       "    <tr style=\"text-align: right;\">\n",
       "      <th></th>\n",
       "      <th>name</th>\n",
       "      <th>platform</th>\n",
       "      <th>year_of_release</th>\n",
       "      <th>genre</th>\n",
       "      <th>na_sales</th>\n",
       "      <th>eu_sales</th>\n",
       "      <th>jp_sales</th>\n",
       "      <th>other_sales</th>\n",
       "      <th>critic_score</th>\n",
       "      <th>user_score</th>\n",
       "      <th>rating</th>\n",
       "      <th>total_sales</th>\n",
       "    </tr>\n",
       "  </thead>\n",
       "  <tbody>\n",
       "    <tr>\n",
       "      <th>0</th>\n",
       "      <td>Wii Sports</td>\n",
       "      <td>Wii</td>\n",
       "      <td>2006.0</td>\n",
       "      <td>Sports</td>\n",
       "      <td>41.36</td>\n",
       "      <td>28.96</td>\n",
       "      <td>3.77</td>\n",
       "      <td>8.45</td>\n",
       "      <td>76.0</td>\n",
       "      <td>8.0</td>\n",
       "      <td>E</td>\n",
       "      <td>82.54</td>\n",
       "    </tr>\n",
       "    <tr>\n",
       "      <th>1</th>\n",
       "      <td>Super Mario Bros.</td>\n",
       "      <td>NES</td>\n",
       "      <td>1985.0</td>\n",
       "      <td>Platform</td>\n",
       "      <td>29.08</td>\n",
       "      <td>3.58</td>\n",
       "      <td>6.81</td>\n",
       "      <td>0.77</td>\n",
       "      <td>NaN</td>\n",
       "      <td>NaN</td>\n",
       "      <td>NaN</td>\n",
       "      <td>40.24</td>\n",
       "    </tr>\n",
       "    <tr>\n",
       "      <th>2</th>\n",
       "      <td>Mario Kart Wii</td>\n",
       "      <td>Wii</td>\n",
       "      <td>2008.0</td>\n",
       "      <td>Racing</td>\n",
       "      <td>15.68</td>\n",
       "      <td>12.76</td>\n",
       "      <td>3.79</td>\n",
       "      <td>3.29</td>\n",
       "      <td>82.0</td>\n",
       "      <td>8.3</td>\n",
       "      <td>E</td>\n",
       "      <td>35.52</td>\n",
       "    </tr>\n",
       "    <tr>\n",
       "      <th>3</th>\n",
       "      <td>Wii Sports Resort</td>\n",
       "      <td>Wii</td>\n",
       "      <td>2009.0</td>\n",
       "      <td>Sports</td>\n",
       "      <td>15.61</td>\n",
       "      <td>10.93</td>\n",
       "      <td>3.28</td>\n",
       "      <td>2.95</td>\n",
       "      <td>80.0</td>\n",
       "      <td>8.0</td>\n",
       "      <td>E</td>\n",
       "      <td>32.77</td>\n",
       "    </tr>\n",
       "    <tr>\n",
       "      <th>4</th>\n",
       "      <td>Pokemon Red/Pokemon Blue</td>\n",
       "      <td>GB</td>\n",
       "      <td>1996.0</td>\n",
       "      <td>Role-Playing</td>\n",
       "      <td>11.27</td>\n",
       "      <td>8.89</td>\n",
       "      <td>10.22</td>\n",
       "      <td>1.00</td>\n",
       "      <td>NaN</td>\n",
       "      <td>NaN</td>\n",
       "      <td>NaN</td>\n",
       "      <td>31.38</td>\n",
       "    </tr>\n",
       "  </tbody>\n",
       "</table>\n",
       "</div>"
      ],
      "text/plain": [
       "                       name platform  year_of_release         genre  na_sales  \\\n",
       "0                Wii Sports      Wii           2006.0        Sports     41.36   \n",
       "1         Super Mario Bros.      NES           1985.0      Platform     29.08   \n",
       "2            Mario Kart Wii      Wii           2008.0        Racing     15.68   \n",
       "3         Wii Sports Resort      Wii           2009.0        Sports     15.61   \n",
       "4  Pokemon Red/Pokemon Blue       GB           1996.0  Role-Playing     11.27   \n",
       "\n",
       "   eu_sales  jp_sales  other_sales  critic_score  user_score rating  \\\n",
       "0     28.96      3.77         8.45          76.0         8.0      E   \n",
       "1      3.58      6.81         0.77           NaN         NaN    NaN   \n",
       "2     12.76      3.79         3.29          82.0         8.3      E   \n",
       "3     10.93      3.28         2.95          80.0         8.0      E   \n",
       "4      8.89     10.22         1.00           NaN         NaN    NaN   \n",
       "\n",
       "   total_sales  \n",
       "0        82.54  \n",
       "1        40.24  \n",
       "2        35.52  \n",
       "3        32.77  \n",
       "4        31.38  "
      ]
     },
     "execution_count": 14,
     "metadata": {},
     "output_type": "execute_result"
    }
   ],
   "source": [
    "data.head(5)"
   ]
  },
  {
   "cell_type": "code",
   "execution_count": 15,
   "metadata": {},
   "outputs": [
    {
     "name": "stdout",
     "output_type": "stream",
     "text": [
      "<class 'pandas.core.frame.DataFrame'>\n",
      "RangeIndex: 16715 entries, 0 to 16714\n",
      "Data columns (total 12 columns):\n",
      " #   Column           Non-Null Count  Dtype  \n",
      "---  ------           --------------  -----  \n",
      " 0   name             16713 non-null  object \n",
      " 1   platform         16715 non-null  object \n",
      " 2   year_of_release  16446 non-null  float64\n",
      " 3   genre            16713 non-null  object \n",
      " 4   na_sales         16715 non-null  float64\n",
      " 5   eu_sales         16715 non-null  float64\n",
      " 6   jp_sales         16715 non-null  float64\n",
      " 7   other_sales      16715 non-null  float64\n",
      " 8   critic_score     8137 non-null   float64\n",
      " 9   user_score       7590 non-null   float64\n",
      " 10  rating           9949 non-null   object \n",
      " 11  total_sales      16715 non-null  float64\n",
      "dtypes: float64(8), object(4)\n",
      "memory usage: 1.5+ MB\n"
     ]
    }
   ],
   "source": [
    "data.info()"
   ]
  },
  {
   "cell_type": "markdown",
   "metadata": {},
   "source": [
    "## Data analysis"
   ]
  },
  {
   "cell_type": "markdown",
   "metadata": {},
   "source": [
    "Assessment of the number of games released in different years."
   ]
  },
  {
   "cell_type": "code",
   "execution_count": 30,
   "metadata": {},
   "outputs": [
    {
     "data": {
      "image/png": "[encoded data removed]",
      "text/plain": [
       "<Figure size 1000x500 with 1 Axes>"
      ]
     },
     "metadata": {},
     "output_type": "display_data"
    }
   ],
   "source": [
    "data[\"year_of_release\"].hist(bins=30, figsize=(10,5))\n",
    "plt.xlabel('year of release')\n",
    "plt.ylabel('frequency')\n",
    "plt.title('Game number per year')\n",
    "plt.show()"
   ]
  },
  {
   "cell_type": "markdown",
   "metadata": {},
   "source": [
    "From 1980 to 1993, the number of games released was relatively small (less than 100 games). Therefore, these data can be discarded for further work."
   ]
  },
  {
   "cell_type": "markdown",
   "metadata": {},
   "source": [
    "Now let's evaluate how sales have changed by platforms.\n",
    "First, finding the platforms with the highest total sales."
   ]
  },
  {
   "cell_type": "code",
   "execution_count": 31,
   "metadata": {},
   "outputs": [
    {
     "data": {
      "text/html": [
       "<div>\n",
       "<style scoped>\n",
       "    .dataframe tbody tr th:only-of-type {\n",
       "        vertical-align: middle;\n",
       "    }\n",
       "\n",
       "    .dataframe tbody tr th {\n",
       "        vertical-align: top;\n",
       "    }\n",
       "\n",
       "    .dataframe thead th {\n",
       "        text-align: right;\n",
       "    }\n",
       "</style>\n",
       "<table border=\"1\" class=\"dataframe\">\n",
       "  <thead>\n",
       "    <tr style=\"text-align: right;\">\n",
       "      <th></th>\n",
       "      <th>total_sales</th>\n",
       "    </tr>\n",
       "    <tr>\n",
       "      <th>platform</th>\n",
       "      <th></th>\n",
       "    </tr>\n",
       "  </thead>\n",
       "  <tbody>\n",
       "    <tr>\n",
       "      <th>PS2</th>\n",
       "      <td>1255.77</td>\n",
       "    </tr>\n",
       "    <tr>\n",
       "      <th>X360</th>\n",
       "      <td>971.42</td>\n",
       "    </tr>\n",
       "    <tr>\n",
       "      <th>PS3</th>\n",
       "      <td>939.65</td>\n",
       "    </tr>\n",
       "    <tr>\n",
       "      <th>Wii</th>\n",
       "      <td>907.51</td>\n",
       "    </tr>\n",
       "    <tr>\n",
       "      <th>DS</th>\n",
       "      <td>806.12</td>\n",
       "    </tr>\n",
       "    <tr>\n",
       "      <th>PS</th>\n",
       "      <td>730.86</td>\n",
       "    </tr>\n",
       "    <tr>\n",
       "      <th>GBA</th>\n",
       "      <td>317.85</td>\n",
       "    </tr>\n",
       "    <tr>\n",
       "      <th>PS4</th>\n",
       "      <td>314.14</td>\n",
       "    </tr>\n",
       "    <tr>\n",
       "      <th>PSP</th>\n",
       "      <td>294.05</td>\n",
       "    </tr>\n",
       "    <tr>\n",
       "      <th>PC</th>\n",
       "      <td>259.52</td>\n",
       "    </tr>\n",
       "    <tr>\n",
       "      <th>3DS</th>\n",
       "      <td>259.00</td>\n",
       "    </tr>\n",
       "    <tr>\n",
       "      <th>XB</th>\n",
       "      <td>257.74</td>\n",
       "    </tr>\n",
       "    <tr>\n",
       "      <th>GB</th>\n",
       "      <td>255.46</td>\n",
       "    </tr>\n",
       "    <tr>\n",
       "      <th>NES</th>\n",
       "      <td>251.05</td>\n",
       "    </tr>\n",
       "    <tr>\n",
       "      <th>N64</th>\n",
       "      <td>218.68</td>\n",
       "    </tr>\n",
       "    <tr>\n",
       "      <th>SNES</th>\n",
       "      <td>200.04</td>\n",
       "    </tr>\n",
       "    <tr>\n",
       "      <th>GC</th>\n",
       "      <td>198.93</td>\n",
       "    </tr>\n",
       "    <tr>\n",
       "      <th>XOne</th>\n",
       "      <td>159.32</td>\n",
       "    </tr>\n",
       "    <tr>\n",
       "      <th>2600</th>\n",
       "      <td>96.98</td>\n",
       "    </tr>\n",
       "    <tr>\n",
       "      <th>WiiU</th>\n",
       "      <td>82.19</td>\n",
       "    </tr>\n",
       "    <tr>\n",
       "      <th>PSV</th>\n",
       "      <td>54.07</td>\n",
       "    </tr>\n",
       "    <tr>\n",
       "      <th>SAT</th>\n",
       "      <td>33.59</td>\n",
       "    </tr>\n",
       "    <tr>\n",
       "      <th>GEN</th>\n",
       "      <td>30.77</td>\n",
       "    </tr>\n",
       "    <tr>\n",
       "      <th>DC</th>\n",
       "      <td>15.95</td>\n",
       "    </tr>\n",
       "    <tr>\n",
       "      <th>SCD</th>\n",
       "      <td>1.86</td>\n",
       "    </tr>\n",
       "    <tr>\n",
       "      <th>NG</th>\n",
       "      <td>1.44</td>\n",
       "    </tr>\n",
       "    <tr>\n",
       "      <th>WS</th>\n",
       "      <td>1.42</td>\n",
       "    </tr>\n",
       "    <tr>\n",
       "      <th>TG16</th>\n",
       "      <td>0.16</td>\n",
       "    </tr>\n",
       "    <tr>\n",
       "      <th>3DO</th>\n",
       "      <td>0.10</td>\n",
       "    </tr>\n",
       "    <tr>\n",
       "      <th>GG</th>\n",
       "      <td>0.04</td>\n",
       "    </tr>\n",
       "    <tr>\n",
       "      <th>PCFX</th>\n",
       "      <td>0.03</td>\n",
       "    </tr>\n",
       "  </tbody>\n",
       "</table>\n",
       "</div>"
      ],
      "text/plain": [
       "          total_sales\n",
       "platform             \n",
       "PS2           1255.77\n",
       "X360           971.42\n",
       "PS3            939.65\n",
       "Wii            907.51\n",
       "DS             806.12\n",
       "PS             730.86\n",
       "GBA            317.85\n",
       "PS4            314.14\n",
       "PSP            294.05\n",
       "PC             259.52\n",
       "3DS            259.00\n",
       "XB             257.74\n",
       "GB             255.46\n",
       "NES            251.05\n",
       "N64            218.68\n",
       "SNES           200.04\n",
       "GC             198.93\n",
       "XOne           159.32\n",
       "2600            96.98\n",
       "WiiU            82.19\n",
       "PSV             54.07\n",
       "SAT             33.59\n",
       "GEN             30.77\n",
       "DC              15.95\n",
       "SCD              1.86\n",
       "NG               1.44\n",
       "WS               1.42\n",
       "TG16             0.16\n",
       "3DO              0.10\n",
       "GG               0.04\n",
       "PCFX             0.03"
      ]
     },
     "execution_count": 31,
     "metadata": {},
     "output_type": "execute_result"
    }
   ],
   "source": [
    "pltf_sales = data.pivot_table(index='platform', values='total_sales', aggfunc = 'sum').sort_values(by='total_sales', ascending = False)\n",
    "pltf_sales"
   ]
  },
  {
   "cell_type": "markdown",
   "metadata": {},
   "source": [
    "The top 5 platforms for total sales include: PS2, X360, PS3, Wii, DS."
   ]
  },
  {
   "cell_type": "markdown",
   "metadata": {},
   "source": [
    "How sales have changed for each platform:"
   ]
  },
  {
   "cell_type": "code",
   "execution_count": 32,
   "metadata": {},
   "outputs": [],
   "source": [
    "PS2_sales = data[data['platform'] == 'PS2'].pivot_table(index='year_of_release', values = 'total_sales', aggfunc='sum')\n",
    "X360_sales = data[data['platform'] == 'X360'].pivot_table(index='year_of_release', values = 'total_sales', aggfunc='sum')\n",
    "PS3_sales = data[data['platform'] == 'PS3'].pivot_table(index='year_of_release', values = 'total_sales', aggfunc='sum')\n",
    "Wii_sales = data[data['platform'] == 'Wii'].pivot_table(index='year_of_release', values = 'total_sales', aggfunc='sum')\n",
    "DS_sales = data[data['platform'] == 'DS'].pivot_table(index='year_of_release', values = 'total_sales', aggfunc='sum')"
   ]
  },
  {
   "cell_type": "code",
   "execution_count": 33,
   "metadata": {
    "scrolled": true
   },
   "outputs": [
    {
     "data": {
      "image/png": "[encoded data removed]",
      "text/plain": [
       "<Figure size 640x480 with 1 Axes>"
      ]
     },
     "metadata": {},
     "output_type": "display_data"
    },
    {
     "data": {
      "image/png": "[encoded data removed]",
      "text/plain": [
       "<Figure size 640x480 with 1 Axes>"
      ]
     },
     "metadata": {},
     "output_type": "display_data"
    },
    {
     "data": {
      "image/png": "[encoded data removed]",
      "text/plain": [
       "<Figure size 640x480 with 1 Axes>"
      ]
     },
     "metadata": {},
     "output_type": "display_data"
    },
    {
     "data": {
      "image/png": "[encoded data removed]",
      "text/plain": [
       "<Figure size 640x480 with 1 Axes>"
      ]
     },
     "metadata": {},
     "output_type": "display_data"
    },
    {
     "data": {
      "image/png": "[encoded data removed]",
      "text/plain": [
       "<Figure size 640x480 with 1 Axes>"
      ]
     },
     "metadata": {},
     "output_type": "display_data"
    }
   ],
   "source": [
    "PS2_sales.plot(kind='bar', grid = True)\n",
    "plt.show()\n",
    "X360_sales.plot(kind='bar', grid = True)\n",
    "plt.show()\n",
    "PS3_sales.plot(kind='bar', grid = True)\n",
    "plt.show()\n",
    "Wii_sales.plot(kind='bar', grid = True)\n",
    "plt.show()\n",
    "DS_sales.plot(kind='bar', grid = True)\n",
    "plt.show()"
   ]
  },
  {
   "cell_type": "markdown",
   "metadata": {},
   "source": [
    "On average, platforms live for 10 years. Usually, there is a rapid increase in their popularity and sales during the first 5 years, followed by a decline over the next 5 years, and eventually they become obsolete. Based on this, we will use the most relevant data for further analysis starting from 2014."
   ]
  },
  {
   "cell_type": "markdown",
   "metadata": {},
   "source": [
    "Посмотрим на то, как менялись продажи остальных платформ за выбранный период."
   ]
  },
  {
   "cell_type": "code",
   "execution_count": 35,
   "metadata": {},
   "outputs": [
    {
     "data": {
      "image/png": "[encoded data removed]",
      "text/plain": [
       "<Figure size 1000x500 with 1 Axes>"
      ]
     },
     "metadata": {},
     "output_type": "display_data"
    }
   ],
   "source": [
    "(data.loc[data['year_of_release'] > 2013]\n",
    "    .pivot_table(index='year_of_release', values='total_sales', columns = 'platform',aggfunc='sum')\n",
    "    .plot(grid=True, title = 'Platform sales dynamics, 2014-2016',figsize=(10,5))\n",
    ")\n",
    "plt.show()"
   ]
  },
  {
   "cell_type": "markdown",
   "metadata": {},
   "source": [
    "For the reviewed period 6 platforms with \"significant\" sales can be identified: PS4, PS3, X360, 3DS, XOne, WiiU. However, in terms of potential profitability, the PS4 and 3DS platforms can be distinguished."
   ]
  },
  {
   "cell_type": "code",
   "execution_count": 36,
   "metadata": {},
   "outputs": [
    {
     "data": {
      "image/png": "[encoded data removed]",
      "text/plain": [
       "<Figure size 640x480 with 1 Axes>"
      ]
     },
     "metadata": {},
     "output_type": "display_data"
    }
   ],
   "source": [
    "data_sales_5y = data.query('year_of_release > 2013 and platform == [\"PS4\", \"PS3\", \"X360\", \"3DS\", \"XOne\", \"WiiU\"]')\n",
    "data_boxes = sns.boxplot(x = data_sales_5y['platform'], y = data_sales_5y['total_sales'])\n",
    "plt.ylim(0,2) \n",
    "plt.show()"
   ]
  },
  {
   "cell_type": "markdown",
   "metadata": {},
   "source": [
    "On the \"box and whisker\" chart, we can see that the median of supposedly profitable platforms is slightly lower than other industry leaders. All platforms have a significant number of outliers."
   ]
  },
  {
   "cell_type": "markdown",
   "metadata": {},
   "source": [
    "Double-check the data type of the new slice and convert incorrect variable types (object)."
   ]
  },
  {
   "cell_type": "code",
   "execution_count": 37,
   "metadata": {},
   "outputs": [
    {
     "name": "stdout",
     "output_type": "stream",
     "text": [
      "<class 'pandas.core.frame.DataFrame'>\n",
      "Int64Index: 1219 entries, 31 to 16710\n",
      "Data columns (total 12 columns):\n",
      " #   Column           Non-Null Count  Dtype  \n",
      "---  ------           --------------  -----  \n",
      " 0   name             1219 non-null   object \n",
      " 1   platform         1219 non-null   object \n",
      " 2   year_of_release  1219 non-null   float64\n",
      " 3   genre            1219 non-null   object \n",
      " 4   na_sales         1219 non-null   float64\n",
      " 5   eu_sales         1219 non-null   float64\n",
      " 6   jp_sales         1219 non-null   float64\n",
      " 7   other_sales      1219 non-null   float64\n",
      " 8   critic_score     548 non-null    float64\n",
      " 9   user_score       691 non-null    float64\n",
      " 10  rating           740 non-null    object \n",
      " 11  total_sales      1219 non-null   float64\n",
      "dtypes: float64(8), object(4)\n",
      "memory usage: 123.8+ KB\n"
     ]
    }
   ],
   "source": [
    "data_sales_5y.info()"
   ]
  },
  {
   "cell_type": "code",
   "execution_count": 38,
   "metadata": {},
   "outputs": [
    {
     "name": "stderr",
     "output_type": "stream",
     "text": [
      "/var/folders/s9/2dhk92k53t10g5010dcth9r80000gn/T/ipykernel_34125/2554667806.py:1: SettingWithCopyWarning: \n",
      "A value is trying to be set on a copy of a slice from a DataFrame.\n",
      "Try using .loc[row_indexer,col_indexer] = value instead\n",
      "\n",
      "See the caveats in the documentation: https://pandas.pydata.org/pandas-docs/stable/user_guide/indexing.html#returning-a-view-versus-a-copy\n",
      "  data_sales_5y['user_score'] = pd.to_numeric(data_sales_5y['user_score'], errors='coerce')\n"
     ]
    }
   ],
   "source": [
    "data_sales_5y['user_score'] = pd.to_numeric(data_sales_5y['user_score'], errors='coerce')"
   ]
  },
  {
   "cell_type": "markdown",
   "metadata": {},
   "source": [
    "Next, we will take the PS4 platform and evaluate how user and critic reviews affect its sales in the video games market analysis."
   ]
  },
  {
   "cell_type": "code",
   "execution_count": 39,
   "metadata": {},
   "outputs": [
    {
     "data": {
      "image/png": "[encoded data removed]",
      "text/plain": [
       "<Figure size 640x480 with 1 Axes>"
      ]
     },
     "metadata": {},
     "output_type": "display_data"
    }
   ],
   "source": [
    "data_sales_5y.loc[data_sales_5y['platform'] == 'PS4'].plot(x='user_score', y='total_sales', kind='scatter', alpha =.3,\n",
    "                   title = 'Connection between customer reviews and overall sales, PS2')\n",
    "plt.show()"
   ]
  },
  {
   "cell_type": "code",
   "execution_count": 40,
   "metadata": {},
   "outputs": [
    {
     "data": {
      "image/png": "[encoded data removed]",
      "text/plain": [
       "<Figure size 640x480 with 1 Axes>"
      ]
     },
     "metadata": {},
     "output_type": "display_data"
    }
   ],
   "source": [
    "data_sales_5y.loc[data_sales_5y['platform'] == 'PS4'].plot(x='critic_score', y='total_sales', kind='scatter', alpha =.3,\n",
    "                   title = 'Connection between customer reviews and overall sales, PS4')\n",
    "plt.show()"
   ]
  },
  {
   "cell_type": "code",
   "execution_count": 41,
   "metadata": {},
   "outputs": [
    {
     "data": {
      "text/html": [
       "<div>\n",
       "<style scoped>\n",
       "    .dataframe tbody tr th:only-of-type {\n",
       "        vertical-align: middle;\n",
       "    }\n",
       "\n",
       "    .dataframe tbody tr th {\n",
       "        vertical-align: top;\n",
       "    }\n",
       "\n",
       "    .dataframe thead th {\n",
       "        text-align: right;\n",
       "    }\n",
       "</style>\n",
       "<table border=\"1\" class=\"dataframe\">\n",
       "  <thead>\n",
       "    <tr style=\"text-align: right;\">\n",
       "      <th></th>\n",
       "      <th>critic_score</th>\n",
       "      <th>total_sales</th>\n",
       "      <th>user_score</th>\n",
       "    </tr>\n",
       "  </thead>\n",
       "  <tbody>\n",
       "    <tr>\n",
       "      <th>critic_score</th>\n",
       "      <td>1.000000</td>\n",
       "      <td>0.402661</td>\n",
       "      <td>0.546434</td>\n",
       "    </tr>\n",
       "    <tr>\n",
       "      <th>total_sales</th>\n",
       "      <td>0.402661</td>\n",
       "      <td>1.000000</td>\n",
       "      <td>-0.040132</td>\n",
       "    </tr>\n",
       "    <tr>\n",
       "      <th>user_score</th>\n",
       "      <td>0.546434</td>\n",
       "      <td>-0.040132</td>\n",
       "      <td>1.000000</td>\n",
       "    </tr>\n",
       "  </tbody>\n",
       "</table>\n",
       "</div>"
      ],
      "text/plain": [
       "              critic_score  total_sales  user_score\n",
       "critic_score      1.000000     0.402661    0.546434\n",
       "total_sales       0.402661     1.000000   -0.040132\n",
       "user_score        0.546434    -0.040132    1.000000"
      ]
     },
     "execution_count": 41,
     "metadata": {},
     "output_type": "execute_result"
    }
   ],
   "source": [
    "(data_sales_5y.loc[data_sales_5y['platform'] == 'PS4']\n",
    "    .pivot_table(index='name',values=['total_sales','user_score','critic_score']).corr()\n",
    ")"
   ]
  },
  {
   "cell_type": "markdown",
   "metadata": {},
   "source": [
    "Based on the obtained graphs and correlation coefficients, it can be said that there is a weak positive correlation between overall sales and critic ratings, but the correlation with customer reviews is very weak and practically non-existent."
   ]
  },
  {
   "cell_type": "markdown",
   "metadata": {},
   "source": [
    "Now let's take a look at how critic and consumer ratings impact sales for other platforms (PS3, Xbox 360, 3DS, Xbox One, Wii U)."
   ]
  },
  {
   "cell_type": "code",
   "execution_count": 42,
   "metadata": {},
   "outputs": [
    {
     "data": {
      "image/png": "[encoded data removed]",
      "text/plain": [
       "<Figure size 640x480 with 1 Axes>"
      ]
     },
     "metadata": {},
     "output_type": "display_data"
    },
    {
     "data": {
      "image/png": "[encoded data removed]",
      "text/plain": [
       "<Figure size 640x480 with 1 Axes>"
      ]
     },
     "metadata": {},
     "output_type": "display_data"
    },
    {
     "data": {
      "text/html": [
       "<div>\n",
       "<style scoped>\n",
       "    .dataframe tbody tr th:only-of-type {\n",
       "        vertical-align: middle;\n",
       "    }\n",
       "\n",
       "    .dataframe tbody tr th {\n",
       "        vertical-align: top;\n",
       "    }\n",
       "\n",
       "    .dataframe thead th {\n",
       "        text-align: right;\n",
       "    }\n",
       "</style>\n",
       "<table border=\"1\" class=\"dataframe\">\n",
       "  <thead>\n",
       "    <tr style=\"text-align: right;\">\n",
       "      <th></th>\n",
       "      <th>critic_score</th>\n",
       "      <th>total_sales</th>\n",
       "      <th>user_score</th>\n",
       "    </tr>\n",
       "  </thead>\n",
       "  <tbody>\n",
       "    <tr>\n",
       "      <th>critic_score</th>\n",
       "      <td>1.000000</td>\n",
       "      <td>0.446575</td>\n",
       "      <td>0.693445</td>\n",
       "    </tr>\n",
       "    <tr>\n",
       "      <th>total_sales</th>\n",
       "      <td>0.446575</td>\n",
       "      <td>1.000000</td>\n",
       "      <td>-0.166761</td>\n",
       "    </tr>\n",
       "    <tr>\n",
       "      <th>user_score</th>\n",
       "      <td>0.693445</td>\n",
       "      <td>-0.166761</td>\n",
       "      <td>1.000000</td>\n",
       "    </tr>\n",
       "  </tbody>\n",
       "</table>\n",
       "</div>"
      ],
      "text/plain": [
       "              critic_score  total_sales  user_score\n",
       "critic_score      1.000000     0.446575    0.693445\n",
       "total_sales       0.446575     1.000000   -0.166761\n",
       "user_score        0.693445    -0.166761    1.000000"
      ]
     },
     "execution_count": 42,
     "metadata": {},
     "output_type": "execute_result"
    }
   ],
   "source": [
    "#PS3\n",
    "data_sales_5y.loc[data_sales_5y['platform'] == 'PS3'].plot(x='user_score', y='total_sales', kind='scatter', alpha =.3,\n",
    "                   title = 'The link between customer feedback and PS3 total sales')\n",
    "data_sales_5y.loc[data_sales_5y['platform'] == 'PS3'].plot(x='critic_score', y='total_sales', kind='scatter', alpha =.3,\n",
    "                   title = 'The link between critics feedback and PS3 total sales')\n",
    "plt.show()\n",
    "\n",
    "(data_sales_5y.loc[data_sales_5y['platform'] == 'PS3']\n",
    "    .pivot_table(index='name',values=['total_sales','user_score','critic_score']).corr()\n",
    ")"
   ]
  },
  {
   "cell_type": "markdown",
   "metadata": {},
   "source": [
    "For the PS3, the situation is exactly the same as for the PS4."
   ]
  },
  {
   "cell_type": "code",
   "execution_count": 43,
   "metadata": {},
   "outputs": [
    {
     "data": {
      "image/png": "[encoded data removed]",
      "text/plain": [
       "<Figure size 640x480 with 1 Axes>"
      ]
     },
     "metadata": {},
     "output_type": "display_data"
    },
    {
     "data": {
      "image/png": "[encoded data removed]",
      "text/plain": [
       "<Figure size 640x480 with 1 Axes>"
      ]
     },
     "metadata": {},
     "output_type": "display_data"
    },
    {
     "data": {
      "text/html": [
       "<div>\n",
       "<style scoped>\n",
       "    .dataframe tbody tr th:only-of-type {\n",
       "        vertical-align: middle;\n",
       "    }\n",
       "\n",
       "    .dataframe tbody tr th {\n",
       "        vertical-align: top;\n",
       "    }\n",
       "\n",
       "    .dataframe thead th {\n",
       "        text-align: right;\n",
       "    }\n",
       "</style>\n",
       "<table border=\"1\" class=\"dataframe\">\n",
       "  <thead>\n",
       "    <tr style=\"text-align: right;\">\n",
       "      <th></th>\n",
       "      <th>critic_score</th>\n",
       "      <th>total_sales</th>\n",
       "      <th>user_score</th>\n",
       "    </tr>\n",
       "  </thead>\n",
       "  <tbody>\n",
       "    <tr>\n",
       "      <th>critic_score</th>\n",
       "      <td>1.000000</td>\n",
       "      <td>0.525723</td>\n",
       "      <td>0.625309</td>\n",
       "    </tr>\n",
       "    <tr>\n",
       "      <th>total_sales</th>\n",
       "      <td>0.525723</td>\n",
       "      <td>1.000000</td>\n",
       "      <td>-0.138445</td>\n",
       "    </tr>\n",
       "    <tr>\n",
       "      <th>user_score</th>\n",
       "      <td>0.625309</td>\n",
       "      <td>-0.138445</td>\n",
       "      <td>1.000000</td>\n",
       "    </tr>\n",
       "  </tbody>\n",
       "</table>\n",
       "</div>"
      ],
      "text/plain": [
       "              critic_score  total_sales  user_score\n",
       "critic_score      1.000000     0.525723    0.625309\n",
       "total_sales       0.525723     1.000000   -0.138445\n",
       "user_score        0.625309    -0.138445    1.000000"
      ]
     },
     "execution_count": 43,
     "metadata": {},
     "output_type": "execute_result"
    }
   ],
   "source": [
    "#X360\n",
    "data_sales_5y.loc[data_sales_5y['platform'] == 'X360'].plot(x='user_score', y='total_sales', kind='scatter', alpha =.3,\n",
    "                   title = 'The link between customer feedback and X360 total sales')\n",
    "data_sales_5y.loc[data_sales_5y['platform'] == 'X360'].plot(x='critic_score', y='total_sales', kind='scatter', alpha =.3,\n",
    "                   title = 'The link between critics feedback and X360 total sales')\n",
    "plt.show()\n",
    "\n",
    "(data_sales_5y.loc[data_sales_5y['platform'] == 'X360']\n",
    "    .pivot_table(index='name',values=['total_sales','user_score','critic_score']).corr()\n",
    ")"
   ]
  },
  {
   "cell_type": "markdown",
   "metadata": {},
   "source": [
    "Once again, a similar situation with the correlation of both types of reviews and sales for the X360."
   ]
  },
  {
   "cell_type": "code",
   "execution_count": 44,
   "metadata": {},
   "outputs": [
    {
     "data": {
      "image/png": "[encoded data removed]",
      "text/plain": [
       "<Figure size 640x480 with 1 Axes>"
      ]
     },
     "metadata": {},
     "output_type": "display_data"
    },
    {
     "data": {
      "image/png": "[encoded data removed]",
      "text/plain": [
       "<Figure size 640x480 with 1 Axes>"
      ]
     },
     "metadata": {},
     "output_type": "display_data"
    },
    {
     "data": {
      "text/html": [
       "<div>\n",
       "<style scoped>\n",
       "    .dataframe tbody tr th:only-of-type {\n",
       "        vertical-align: middle;\n",
       "    }\n",
       "\n",
       "    .dataframe tbody tr th {\n",
       "        vertical-align: top;\n",
       "    }\n",
       "\n",
       "    .dataframe thead th {\n",
       "        text-align: right;\n",
       "    }\n",
       "</style>\n",
       "<table border=\"1\" class=\"dataframe\">\n",
       "  <thead>\n",
       "    <tr style=\"text-align: right;\">\n",
       "      <th></th>\n",
       "      <th>critic_score</th>\n",
       "      <th>total_sales</th>\n",
       "      <th>user_score</th>\n",
       "    </tr>\n",
       "  </thead>\n",
       "  <tbody>\n",
       "    <tr>\n",
       "      <th>critic_score</th>\n",
       "      <td>1.000000</td>\n",
       "      <td>0.314117</td>\n",
       "      <td>0.862485</td>\n",
       "    </tr>\n",
       "    <tr>\n",
       "      <th>total_sales</th>\n",
       "      <td>0.314117</td>\n",
       "      <td>1.000000</td>\n",
       "      <td>0.215193</td>\n",
       "    </tr>\n",
       "    <tr>\n",
       "      <th>user_score</th>\n",
       "      <td>0.862485</td>\n",
       "      <td>0.215193</td>\n",
       "      <td>1.000000</td>\n",
       "    </tr>\n",
       "  </tbody>\n",
       "</table>\n",
       "</div>"
      ],
      "text/plain": [
       "              critic_score  total_sales  user_score\n",
       "critic_score      1.000000     0.314117    0.862485\n",
       "total_sales       0.314117     1.000000    0.215193\n",
       "user_score        0.862485     0.215193    1.000000"
      ]
     },
     "execution_count": 44,
     "metadata": {},
     "output_type": "execute_result"
    }
   ],
   "source": [
    "#3DS\n",
    "data_sales_5y.loc[data_sales_5y['platform'] == '3DS'].plot(x='user_score', y='total_sales', kind='scatter', alpha =.3,\n",
    "                   title = 'The link between customer feedback and 3DS total sales')\n",
    "data_sales_5y.loc[data_sales_5y['platform'] == '3DS'].plot(x='critic_score', y='total_sales', kind='scatter', alpha =.3,\n",
    "                   title = 'The link between critics feedback and 3DS total sales')\n",
    "plt.show()\n",
    "\n",
    "(data_sales_5y.loc[data_sales_5y['platform'] == '3DS']\n",
    "    .pivot_table(index='name',values=['total_sales','user_score','critic_score']).corr()\n",
    ")"
   ]
  },
  {
   "cell_type": "markdown",
   "metadata": {},
   "source": [
    "For the 3DS platform, there is still a weak (0.3) and very weak (0.19) positive relationship for critical and customer feedback, respectively."
   ]
  },
  {
   "cell_type": "code",
   "execution_count": 45,
   "metadata": {},
   "outputs": [
    {
     "data": {
      "image/png": "[encoded data removed]",
      "text/plain": [
       "<Figure size 640x480 with 1 Axes>"
      ]
     },
     "metadata": {},
     "output_type": "display_data"
    },
    {
     "data": {
      "image/png": "[encoded data removed]",
      "text/plain": [
       "<Figure size 640x480 with 1 Axes>"
      ]
     },
     "metadata": {},
     "output_type": "display_data"
    },
    {
     "data": {
      "text/html": [
       "<div>\n",
       "<style scoped>\n",
       "    .dataframe tbody tr th:only-of-type {\n",
       "        vertical-align: middle;\n",
       "    }\n",
       "\n",
       "    .dataframe tbody tr th {\n",
       "        vertical-align: top;\n",
       "    }\n",
       "\n",
       "    .dataframe thead th {\n",
       "        text-align: right;\n",
       "    }\n",
       "</style>\n",
       "<table border=\"1\" class=\"dataframe\">\n",
       "  <thead>\n",
       "    <tr style=\"text-align: right;\">\n",
       "      <th></th>\n",
       "      <th>critic_score</th>\n",
       "      <th>total_sales</th>\n",
       "      <th>user_score</th>\n",
       "    </tr>\n",
       "  </thead>\n",
       "  <tbody>\n",
       "    <tr>\n",
       "      <th>critic_score</th>\n",
       "      <td>1.000000</td>\n",
       "      <td>0.428677</td>\n",
       "      <td>0.440977</td>\n",
       "    </tr>\n",
       "    <tr>\n",
       "      <th>total_sales</th>\n",
       "      <td>0.428677</td>\n",
       "      <td>1.000000</td>\n",
       "      <td>-0.070384</td>\n",
       "    </tr>\n",
       "    <tr>\n",
       "      <th>user_score</th>\n",
       "      <td>0.440977</td>\n",
       "      <td>-0.070384</td>\n",
       "      <td>1.000000</td>\n",
       "    </tr>\n",
       "  </tbody>\n",
       "</table>\n",
       "</div>"
      ],
      "text/plain": [
       "              critic_score  total_sales  user_score\n",
       "critic_score      1.000000     0.428677    0.440977\n",
       "total_sales       0.428677     1.000000   -0.070384\n",
       "user_score        0.440977    -0.070384    1.000000"
      ]
     },
     "execution_count": 45,
     "metadata": {},
     "output_type": "execute_result"
    }
   ],
   "source": [
    "#XOne\n",
    "data_sales_5y.loc[data_sales_5y['platform'] == 'XOne'].plot(x='user_score', y='total_sales', kind='scatter', alpha =.3,\n",
    "                   title = 'The link between customer feedback and XOne total sales')\n",
    "data_sales_5y.loc[data_sales_5y['platform'] == 'XOne'].plot(x='critic_score', y='total_sales', kind='scatter', alpha =.3,\n",
    "                   title = 'The link between critics feedback and XOne total sales')\n",
    "plt.show()\n",
    "\n",
    "(data_sales_5y.loc[data_sales_5y['platform'] == 'XOne']\n",
    "    .pivot_table(index='name',values=['total_sales','user_score','critic_score']).corr()\n",
    ")"
   ]
  },
  {
   "cell_type": "markdown",
   "metadata": {},
   "source": [
    "Уже повыше, но все еще слабая положительная корреляция наблюдается между отзывами критиков и продажами для XOne, \n",
    "при этом почти нулевая связь сохраняется с отзывами покупателей."
   ]
  },
  {
   "cell_type": "code",
   "execution_count": 46,
   "metadata": {},
   "outputs": [
    {
     "data": {
      "image/png": "[encoded data removed]",
      "text/plain": [
       "<Figure size 640x480 with 1 Axes>"
      ]
     },
     "metadata": {},
     "output_type": "display_data"
    },
    {
     "data": {
      "image/png": "[encoded data removed]",
      "text/plain": [
       "<Figure size 640x480 with 1 Axes>"
      ]
     },
     "metadata": {},
     "output_type": "display_data"
    },
    {
     "data": {
      "text/html": [
       "<div>\n",
       "<style scoped>\n",
       "    .dataframe tbody tr th:only-of-type {\n",
       "        vertical-align: middle;\n",
       "    }\n",
       "\n",
       "    .dataframe tbody tr th {\n",
       "        vertical-align: top;\n",
       "    }\n",
       "\n",
       "    .dataframe thead th {\n",
       "        text-align: right;\n",
       "    }\n",
       "</style>\n",
       "<table border=\"1\" class=\"dataframe\">\n",
       "  <thead>\n",
       "    <tr style=\"text-align: right;\">\n",
       "      <th></th>\n",
       "      <th>critic_score</th>\n",
       "      <th>total_sales</th>\n",
       "      <th>user_score</th>\n",
       "    </tr>\n",
       "  </thead>\n",
       "  <tbody>\n",
       "    <tr>\n",
       "      <th>critic_score</th>\n",
       "      <td>1.000000</td>\n",
       "      <td>0.370201</td>\n",
       "      <td>0.763536</td>\n",
       "    </tr>\n",
       "    <tr>\n",
       "      <th>total_sales</th>\n",
       "      <td>0.370201</td>\n",
       "      <td>1.000000</td>\n",
       "      <td>0.407926</td>\n",
       "    </tr>\n",
       "    <tr>\n",
       "      <th>user_score</th>\n",
       "      <td>0.763536</td>\n",
       "      <td>0.407926</td>\n",
       "      <td>1.000000</td>\n",
       "    </tr>\n",
       "  </tbody>\n",
       "</table>\n",
       "</div>"
      ],
      "text/plain": [
       "              critic_score  total_sales  user_score\n",
       "critic_score      1.000000     0.370201    0.763536\n",
       "total_sales       0.370201     1.000000    0.407926\n",
       "user_score        0.763536     0.407926    1.000000"
      ]
     },
     "execution_count": 46,
     "metadata": {},
     "output_type": "execute_result"
    }
   ],
   "source": [
    "#WiiU\n",
    "data_sales_5y.loc[data_sales_5y['platform'] == 'WiiU'].plot(x='user_score', y='total_sales', kind='scatter', alpha =.3,\n",
    "                   title = 'The link between customer feedback and WiiU total sales')\n",
    "data_sales_5y.loc[data_sales_5y['platform'] == 'WiiU'].plot(x='critic_score', y='total_sales', kind='scatter', alpha =.3,\n",
    "                   title = 'The link between critics feedback and WiiU total sales')\n",
    "plt.show()\n",
    "\n",
    "(data_sales_5y.loc[data_sales_5y['platform'] == 'WiiU']\n",
    "    .pivot_table(index='name',values=['total_sales','user_score','critic_score']).corr()\n",
    ")"
   ]
  },
  {
   "cell_type": "markdown",
   "metadata": {},
   "source": [
    "The WiiU platform, on the other hand, has a near-to-average positive correlation between customer reviews and sales (0.4), while critical reviews still correlate with sales at a weak level (~0.35)."
   ]
  },
  {
   "cell_type": "markdown",
   "metadata": {},
   "source": [
    "Let's look at the overall distribution of games by genre."
   ]
  },
  {
   "cell_type": "code",
   "execution_count": 48,
   "metadata": {},
   "outputs": [],
   "source": [
    "data_act = data.query('year_of_release > 2013')"
   ]
  },
  {
   "cell_type": "code",
   "execution_count": 49,
   "metadata": {},
   "outputs": [
    {
     "data": {
      "image/png": "[encoded data removed]",
      "text/plain": [
       "<Figure size 640x480 with 1 Axes>"
      ]
     },
     "metadata": {},
     "output_type": "display_data"
    }
   ],
   "source": [
    "genres_plays = data_act.pivot_table(index='genre', values = 'name', aggfunc='count').sort_values(by='name', ascending=False)\n",
    "genres_plays.plot(kind='bar', grid = True)\n",
    "plt.show()"
   ]
  },
  {
   "cell_type": "markdown",
   "metadata": {},
   "source": [
    "According to the plot you can see that the top 3 genres by number of games are Action, Role-Playing and Adventure. "
   ]
  },
  {
   "cell_type": "markdown",
   "metadata": {},
   "source": [
    "Now let's look at the profitability of genres: consider all genres in terms of median total sales."
   ]
  },
  {
   "cell_type": "code",
   "execution_count": 50,
   "metadata": {},
   "outputs": [
    {
     "data": {
      "image/png": "[encoded data removed]",
      "text/plain": [
       "<Figure size 640x480 with 1 Axes>"
      ]
     },
     "metadata": {},
     "output_type": "display_data"
    }
   ],
   "source": [
    "genres_sales = data_act.pivot_table(index='genre', values = 'total_sales', aggfunc='median').sort_values(by ='total_sales', ascending=False)\n",
    "genres_sales.plot(kind='bar', grid = True)\n",
    "plt.show()"
   ]
  },
  {
   "cell_type": "markdown",
   "metadata": {},
   "source": [
    "In terms of profitability, the Shooter genre leads the way. The Sports and Platform genres rank 2nd and 3rd in terms of sales. However, Adventure, Puzzle and Strategy are the worst performing genres in terms of profitability."
   ]
  },
  {
   "cell_type": "markdown",
   "metadata": {},
   "source": [
    "## Generating a user profile for each region"
   ]
  },
  {
   "cell_type": "markdown",
   "metadata": {},
   "source": [
    "For the user of each region will find (*NA, EU, JP*):\n",
    "\n",
    "- The most popular platforms (top 5). Describe the differences in sales shares.\n",
    "- The most popular genres (top 5). Explain the differences.\n",
    "- Does the ESRB rating affect sales in a particular region?\n"
   ]
  },
  {
   "cell_type": "markdown",
   "metadata": {},
   "source": [
    "Visualising total sales by platform in the NA, EU, JP regions."
   ]
  },
  {
   "cell_type": "code",
   "execution_count": 51,
   "metadata": {},
   "outputs": [
    {
     "data": {
      "image/png": "[encoded data removed]",
      "text/plain": [
       "<Figure size 640x480 with 1 Axes>"
      ]
     },
     "metadata": {},
     "output_type": "display_data"
    }
   ],
   "source": [
    "platforms_na = data_act.pivot_table(index='platform', values = 'na_sales', aggfunc='sum').sort_values(by='na_sales',ascending=False)\n",
    "platforms_na.plot(kind='bar', grid = True)\n",
    "plt.show()"
   ]
  },
  {
   "cell_type": "markdown",
   "metadata": {},
   "source": [
    "In the NA region, the PS4 and XOne platforms lead the way. The PSP, meanwhile, is in the outsiders' tier."
   ]
  },
  {
   "cell_type": "code",
   "execution_count": 52,
   "metadata": {},
   "outputs": [
    {
     "data": {
      "image/png": "[encoded data removed]",
      "text/plain": [
       "<Figure size 640x480 with 1 Axes>"
      ]
     },
     "metadata": {},
     "output_type": "display_data"
    }
   ],
   "source": [
    "platforms_eu = data_act.pivot_table(index='platform', values = 'eu_sales', aggfunc='sum').sort_values(by='eu_sales',ascending=False)\n",
    "platforms_eu.plot(kind='bar', grid = True)\n",
    "plt.show()"
   ]
  },
  {
   "cell_type": "markdown",
   "metadata": {},
   "source": [
    "In the EU region also the PS4 and XOne are in 1st and 2nd place. The PSP is also no longer popular."
   ]
  },
  {
   "cell_type": "code",
   "execution_count": 53,
   "metadata": {},
   "outputs": [
    {
     "data": {
      "image/png": "[encoded data removed]",
      "text/plain": [
       "<Figure size 640x480 with 1 Axes>"
      ]
     },
     "metadata": {},
     "output_type": "display_data"
    }
   ],
   "source": [
    "platforms_jp = data_act.pivot_table(index='platform', values = 'jp_sales', aggfunc='sum').sort_values(by='jp_sales',ascending=False)\n",
    "platforms_jp.plot(kind='bar', grid = True)\n",
    "plt.show()"
   ]
  },
  {
   "cell_type": "markdown",
   "metadata": {},
   "source": [
    "In the JP region, however, the first three places are shared between the 3DS, PS4 and PSV platforms. The Wii, meanwhile, is the 'last' in demand in the region."
   ]
  },
  {
   "cell_type": "markdown",
   "metadata": {},
   "source": [
    "Let us now visualise the popularity of genres among users in the NA, EU, JP regions."
   ]
  },
  {
   "cell_type": "code",
   "execution_count": 54,
   "metadata": {},
   "outputs": [
    {
     "data": {
      "image/png": "[encoded data removed]",
      "text/plain": [
       "<Figure size 640x480 with 1 Axes>"
      ]
     },
     "metadata": {},
     "output_type": "display_data"
    }
   ],
   "source": [
    "genres_na = data_act.pivot_table(index='genre', values = 'na_sales', aggfunc='count').sort_values(by='na_sales',ascending=False)\n",
    "genres_na.plot(kind='bar', grid = True)\n",
    "plt.show()"
   ]
  },
  {
   "cell_type": "markdown",
   "metadata": {},
   "source": [
    "In the NA region, Action, Role-Playing and Adventure are the leading genres. Puzzle is in the outsiders."
   ]
  },
  {
   "cell_type": "code",
   "execution_count": 55,
   "metadata": {},
   "outputs": [
    {
     "data": {
      "image/png": "[encoded data removed]",
      "text/plain": [
       "<Figure size 640x480 with 1 Axes>"
      ]
     },
     "metadata": {},
     "output_type": "display_data"
    }
   ],
   "source": [
    "genres_eu = data_act.pivot_table(index='genre', values = 'eu_sales', aggfunc='count').sort_values(by='eu_sales',ascending=False)\n",
    "genres_eu.plot(kind='bar', grid = True)\n",
    "plt.show()"
   ]
  },
  {
   "cell_type": "markdown",
   "metadata": {},
   "source": [
    "In the EU region, the Action, Role-Playing and Adventure genres are also in the lead. Puzzle is again in the outsiders."
   ]
  },
  {
   "cell_type": "code",
   "execution_count": 56,
   "metadata": {},
   "outputs": [
    {
     "data": {
      "image/png": "[encoded data removed]",
      "text/plain": [
       "<Figure size 640x480 with 1 Axes>"
      ]
     },
     "metadata": {},
     "output_type": "display_data"
    }
   ],
   "source": [
    "genres_jp = data_act.pivot_table(index='genre', values = 'jp_sales', aggfunc='count').sort_values(by='jp_sales',ascending=False)\n",
    "genres_jp.plot(kind='bar', grid = True)\n",
    "plt.show()"
   ]
  },
  {
   "cell_type": "markdown",
   "metadata": {},
   "source": [
    "In the JP region, the Action, Role-Playing, Adventure genres again lead the way, with Puzzle in the outsiders."
   ]
  },
  {
   "cell_type": "markdown",
   "metadata": {},
   "source": [
    "Now let's look at the distribution of sales by region according to the rankings. "
   ]
  },
  {
   "cell_type": "code",
   "execution_count": 57,
   "metadata": {},
   "outputs": [
    {
     "data": {
      "text/html": [
       "<div>\n",
       "<style scoped>\n",
       "    .dataframe tbody tr th:only-of-type {\n",
       "        vertical-align: middle;\n",
       "    }\n",
       "\n",
       "    .dataframe tbody tr th {\n",
       "        vertical-align: top;\n",
       "    }\n",
       "\n",
       "    .dataframe thead th {\n",
       "        text-align: right;\n",
       "    }\n",
       "</style>\n",
       "<table border=\"1\" class=\"dataframe\">\n",
       "  <thead>\n",
       "    <tr style=\"text-align: right;\">\n",
       "      <th></th>\n",
       "      <th>eu_sales</th>\n",
       "      <th>jp_sales</th>\n",
       "      <th>na_sales</th>\n",
       "    </tr>\n",
       "    <tr>\n",
       "      <th>rating</th>\n",
       "      <th></th>\n",
       "      <th></th>\n",
       "      <th></th>\n",
       "    </tr>\n",
       "  </thead>\n",
       "  <tbody>\n",
       "    <tr>\n",
       "      <th>E</th>\n",
       "      <td>0.265114</td>\n",
       "      <td>0.040822</td>\n",
       "      <td>0.231689</td>\n",
       "    </tr>\n",
       "    <tr>\n",
       "      <th>E10+</th>\n",
       "      <td>0.141405</td>\n",
       "      <td>0.024108</td>\n",
       "      <td>0.179622</td>\n",
       "    </tr>\n",
       "    <tr>\n",
       "      <th>M</th>\n",
       "      <td>0.352604</td>\n",
       "      <td>0.030226</td>\n",
       "      <td>0.363849</td>\n",
       "    </tr>\n",
       "    <tr>\n",
       "      <th>T</th>\n",
       "      <td>0.125720</td>\n",
       "      <td>0.054539</td>\n",
       "      <td>0.143727</td>\n",
       "    </tr>\n",
       "  </tbody>\n",
       "</table>\n",
       "</div>"
      ],
      "text/plain": [
       "        eu_sales  jp_sales  na_sales\n",
       "rating                              \n",
       "E       0.265114  0.040822  0.231689\n",
       "E10+    0.141405  0.024108  0.179622\n",
       "M       0.352604  0.030226  0.363849\n",
       "T       0.125720  0.054539  0.143727"
      ]
     },
     "execution_count": 57,
     "metadata": {},
     "output_type": "execute_result"
    }
   ],
   "source": [
    "data_act.pivot_table(index='rating', values=['na_sales','eu_sales','jp_sales'])"
   ]
  },
  {
   "cell_type": "markdown",
   "metadata": {},
   "source": [
    "It can be seen that the highest share of sales for the EU and NA regions was for M-rated games. At the same time, games rated T had the lowest sales in almost all regions."
   ]
  },
  {
   "cell_type": "markdown",
   "metadata": {},
   "source": [
    "## Hypothesis testing"
   ]
  },
  {
   "cell_type": "markdown",
   "metadata": {},
   "source": [
    "The hypotheses we deal with:\n",
    "- The average user ratings for Xbox One and PC platforms are the same;\n",
    "- The average user ratings for the Action and Sports genres are different."
   ]
  },
  {
   "cell_type": "markdown",
   "metadata": {},
   "source": [
    "*Hypothesis 1*.\n",
    "\n",
    "Let's formulate the null hypothesis and the alternative hypothesis:\\\n",
    "**H0:** average user rating of Xbox One platform equals average user rating of PC platform\\\n",
    "**H1:** Average user rating of Xbox One platform is NOT equal to average user rating of PC platform\n",
    "\n",
    "Let's take the significance level at 95%."
   ]
  },
  {
   "cell_type": "code",
   "execution_count": 59,
   "metadata": {},
   "outputs": [
    {
     "name": "stdout",
     "output_type": "stream",
     "text": [
      "p-value: [0.11601398]\n",
      "Failed to reject H0\n"
     ]
    }
   ],
   "source": [
    "alpha =.05\n",
    "\n",
    "sample_1 = data_act.query('platform == \"XOne\"').pivot_table(index='name', values='user_score')\n",
    "sample_2 = data_act.query('platform == \"PC\"').pivot_table(index='name', values='user_score')\n",
    "\n",
    "results_1 = st.ttest_ind(\n",
    "    sample_1, \n",
    "    sample_2, equal_var = False)\n",
    "\n",
    "print('p-value:', results_1.pvalue)\n",
    "\n",
    "if results_1.pvalue < alpha:\n",
    "    print(\"Reject H0\")\n",
    "else:\n",
    "    print(\"Failed to reject H0\")"
   ]
  },
  {
   "cell_type": "markdown",
   "metadata": {},
   "source": [
    "Based on the results of the hypothesis test of equality between the averages of the two general populations, we can conclude that we cannot reject the null hypothesis and therefore allow for the possibility of equality between the average user ratings for the Xbox One and PC platforms."
   ]
  },
  {
   "cell_type": "markdown",
   "metadata": {},
   "source": [
    "*Hypothesis 2*.\n",
    "\n",
    "Let's formulate the null hypothesis and the alternative hypothesis:\\\n",
    "**H0:** Average user rating of Action genre is equal to average user rating of Sports genre\\\n",
    "**H1:** Average Action user rating is NOT equal to average Sports user rating\n",
    "\n",
    "Let's take the level of significance to be 95%."
   ]
  },
  {
   "cell_type": "code",
   "execution_count": 60,
   "metadata": {},
   "outputs": [
    {
     "name": "stdout",
     "output_type": "stream",
     "text": [
      "p-value: [4.07725312e-07]\n",
      "Reject H0\n"
     ]
    }
   ],
   "source": [
    "alpha =.05\n",
    "\n",
    "sample_1 = data_act.query('genre == \"Action\"').pivot_table(index='name', values='user_score')\n",
    "sample_2 = data_act.query('genre == \"Sports\"').pivot_table(index='name', values='user_score')\n",
    "\n",
    "results_1 = st.ttest_ind(\n",
    "    sample_1, \n",
    "    sample_2, equal_var = False)\n",
    "\n",
    "print('p-value:', results_1.pvalue)\n",
    "\n",
    "if results_1.pvalue < alpha:\n",
    "    print(\"Reject H0\")\n",
    "else:\n",
    "    print(\"Failed to reject H0\")"
   ]
  },
  {
   "cell_type": "markdown",
   "metadata": {},
   "source": [
    "Based on the results of the second hypothesis test on the equality of the averages of the two general populations, we can conclude that we reject the null hypothesis and therefore cannot say that the average user rating for the Sports and Action genres are equal."
   ]
  },
  {
   "cell_type": "markdown",
   "metadata": {},
   "source": [
    "## Conclusion"
   ]
  },
  {
   "cell_type": "markdown",
   "metadata": {},
   "source": [
    "As a result of this analysis, the following interesting observations can be highlighted:\n",
    "\n",
    "\n",
    "- Firstly, what is interesting is that most games have a median life of 10 years each.\n",
    "- The most profitable platforms have a lower median than the rest, suggesting a large number of 'outliers'.\n",
    "- For none of the \"top\" platforms in terms of sales, there is a correlation between customer and critical reviews with overall sales.\n",
    "- The top 3 genres by number of games are Action, Role-Playing and Adventure.\n",
    "- With Shooter, Sports and Platform genres being the most profitable. The least profitable genres are Adventure, Puzzle and Strategy\n",
    "- In terms of user portrait we can observe the following:\n",
    "\n",
    "    * In the NA region: the user prefers Action, Role-Playing, Adventure games on PS4, XOne.\\\n",
    "    * In EU: the user prefers Action, Role-Playing, Adventure games on PS4 and XOne platforms.\n",
    "    * In JP: User prefers Action, Role-Playing, Adventure games on 3DS, PS4, PSV.\\\n",
    "    (top 3 genres are equally popular in all regions)\n",
    "- Highest share of sales for EU and NA regions with M rating.  T-rated games had the lowest sales in almost all regions.\n",
    "- Based on the test results, we cannot claim equality of average user ratings for Xbox One and PC platforms, but we do accept equality of average user ratings for Sports and Action genres."
   ]
  }
 ],
 "metadata": {
  "ExecuteTimeLog": [
   {
    "duration": 1203,
    "start_time": "2022-11-05T11:48:04.816Z"
   },
   {
    "duration": 187,
    "start_time": "2022-11-05T11:48:42.933Z"
   },
   {
    "duration": 14,
    "start_time": "2022-11-05T11:51:36.814Z"
   },
   {
    "duration": 96,
    "start_time": "2022-11-05T13:21:50.293Z"
   },
   {
    "duration": 70,
    "start_time": "2022-11-05T13:22:19.273Z"
   },
   {
    "duration": 79,
    "start_time": "2022-11-05T13:22:22.181Z"
   },
   {
    "duration": 8,
    "start_time": "2022-11-05T13:22:28.202Z"
   },
   {
    "duration": 13,
    "start_time": "2022-11-05T13:23:21.627Z"
   },
   {
    "duration": 9,
    "start_time": "2022-11-05T13:25:53.617Z"
   },
   {
    "duration": 43,
    "start_time": "2022-11-06T21:46:20.925Z"
   },
   {
    "duration": 1205,
    "start_time": "2022-11-06T21:46:24.443Z"
   },
   {
    "duration": 106,
    "start_time": "2022-11-06T21:46:25.686Z"
   },
   {
    "duration": 13,
    "start_time": "2022-11-06T21:46:27.009Z"
   },
   {
    "duration": 61,
    "start_time": "2022-11-06T21:46:28.694Z"
   },
   {
    "duration": 46,
    "start_time": "2022-11-06T21:48:07.349Z"
   },
   {
    "duration": 40,
    "start_time": "2022-11-06T21:48:21.072Z"
   },
   {
    "duration": 15,
    "start_time": "2022-11-06T21:48:25.526Z"
   },
   {
    "duration": 42,
    "start_time": "2022-11-06T21:48:28.385Z"
   },
   {
    "duration": 346,
    "start_time": "2022-11-06T21:48:32.075Z"
   },
   {
    "duration": 324,
    "start_time": "2022-11-06T21:48:36.118Z"
   },
   {
    "duration": 23,
    "start_time": "2022-11-06T21:49:00.289Z"
   },
   {
    "duration": 9,
    "start_time": "2022-11-06T21:49:59.899Z"
   },
   {
    "duration": 7,
    "start_time": "2022-11-06T21:50:57.443Z"
   },
   {
    "duration": 4,
    "start_time": "2022-11-06T21:53:04.977Z"
   },
   {
    "duration": 8,
    "start_time": "2022-11-06T21:53:19.588Z"
   },
   {
    "duration": 8,
    "start_time": "2022-11-06T21:53:24.598Z"
   },
   {
    "duration": 3,
    "start_time": "2022-11-06T22:01:33.968Z"
   },
   {
    "duration": 7,
    "start_time": "2022-11-06T22:01:39.290Z"
   },
   {
    "duration": 7,
    "start_time": "2022-11-06T22:01:46.241Z"
   },
   {
    "duration": 2,
    "start_time": "2022-11-06T22:04:27.296Z"
   },
   {
    "duration": 4,
    "start_time": "2022-11-06T22:04:29.976Z"
   },
   {
    "duration": 3,
    "start_time": "2022-11-06T22:04:33.898Z"
   },
   {
    "duration": 43,
    "start_time": "2022-11-06T22:04:58.093Z"
   },
   {
    "duration": 1065,
    "start_time": "2022-11-06T22:05:04.249Z"
   },
   {
    "duration": 55,
    "start_time": "2022-11-06T22:05:05.662Z"
   },
   {
    "duration": 15,
    "start_time": "2022-11-06T22:05:07.043Z"
   },
   {
    "duration": 73,
    "start_time": "2022-11-06T22:05:08.878Z"
   },
   {
    "duration": 8,
    "start_time": "2022-11-06T22:05:52.643Z"
   },
   {
    "duration": 7,
    "start_time": "2022-11-06T22:05:58.398Z"
   },
   {
    "duration": 6,
    "start_time": "2022-11-06T22:06:10.395Z"
   },
   {
    "duration": 8,
    "start_time": "2022-11-06T22:06:16.632Z"
   },
   {
    "duration": 4,
    "start_time": "2022-11-06T22:06:52.282Z"
   },
   {
    "duration": 4,
    "start_time": "2022-11-06T22:07:28.475Z"
   },
   {
    "duration": 4,
    "start_time": "2022-11-06T22:07:33.033Z"
   },
   {
    "duration": 4,
    "start_time": "2022-11-06T22:07:37.765Z"
   },
   {
    "duration": 24,
    "start_time": "2022-11-06T22:07:56.268Z"
   },
   {
    "duration": 22,
    "start_time": "2022-11-06T22:08:33.036Z"
   },
   {
    "duration": 13,
    "start_time": "2022-11-06T22:11:55.919Z"
   },
   {
    "duration": 14,
    "start_time": "2022-11-06T22:16:30.019Z"
   },
   {
    "duration": 3,
    "start_time": "2022-11-06T22:21:47.816Z"
   },
   {
    "duration": 19,
    "start_time": "2022-11-06T22:22:00.809Z"
   },
   {
    "duration": 13,
    "start_time": "2022-11-06T22:22:05.520Z"
   },
   {
    "duration": 4,
    "start_time": "2022-11-06T22:26:32.563Z"
   },
   {
    "duration": 5,
    "start_time": "2022-11-06T22:27:26.816Z"
   },
   {
    "duration": 12,
    "start_time": "2022-11-06T22:27:32.602Z"
   },
   {
    "duration": 51,
    "start_time": "2022-11-06T22:32:20.956Z"
   },
   {
    "duration": 7,
    "start_time": "2022-11-06T22:32:25.118Z"
   },
   {
    "duration": 4,
    "start_time": "2022-11-06T22:32:29.192Z"
   },
   {
    "duration": 5,
    "start_time": "2022-11-06T22:34:03.197Z"
   },
   {
    "duration": 43,
    "start_time": "2022-11-07T22:56:42.317Z"
   },
   {
    "duration": 1213,
    "start_time": "2022-11-07T22:56:45.337Z"
   },
   {
    "duration": 102,
    "start_time": "2022-11-07T22:56:46.574Z"
   },
   {
    "duration": 13,
    "start_time": "2022-11-07T22:56:47.781Z"
   },
   {
    "duration": 21,
    "start_time": "2022-11-07T22:56:49.615Z"
   },
   {
    "duration": 17,
    "start_time": "2022-11-07T22:56:51.832Z"
   },
   {
    "duration": 12,
    "start_time": "2022-11-07T22:56:55.135Z"
   },
   {
    "duration": 11,
    "start_time": "2022-11-07T22:56:57.317Z"
   },
   {
    "duration": 8,
    "start_time": "2022-11-08T23:29:37.720Z"
   },
   {
    "duration": 3,
    "start_time": "2022-11-08T23:35:27.593Z"
   },
   {
    "duration": 67,
    "start_time": "2022-11-08T23:35:30.130Z"
   },
   {
    "duration": 13,
    "start_time": "2022-11-08T23:35:32.414Z"
   },
   {
    "duration": 18,
    "start_time": "2022-11-08T23:35:34.441Z"
   },
   {
    "duration": 10,
    "start_time": "2022-11-08T23:35:36.938Z"
   },
   {
    "duration": 11,
    "start_time": "2022-11-08T23:35:39.465Z"
   },
   {
    "duration": 5,
    "start_time": "2022-11-08T23:37:39.863Z"
   },
   {
    "duration": 5,
    "start_time": "2022-11-08T23:37:56.726Z"
   },
   {
    "duration": 5,
    "start_time": "2022-11-08T23:38:26.854Z"
   },
   {
    "duration": 86,
    "start_time": "2022-11-08T23:40:44.707Z"
   },
   {
    "duration": 6,
    "start_time": "2022-11-08T23:40:55.282Z"
   },
   {
    "duration": 88,
    "start_time": "2022-11-08T23:44:51.230Z"
   },
   {
    "duration": 8,
    "start_time": "2022-11-08T23:45:31.542Z"
   },
   {
    "duration": 2,
    "start_time": "2022-11-08T23:48:30.459Z"
   },
   {
    "duration": 42,
    "start_time": "2022-11-08T23:48:31.856Z"
   },
   {
    "duration": 13,
    "start_time": "2022-11-08T23:48:33.183Z"
   },
   {
    "duration": 18,
    "start_time": "2022-11-08T23:48:35.157Z"
   },
   {
    "duration": 9,
    "start_time": "2022-11-08T23:48:37.499Z"
   },
   {
    "duration": 4,
    "start_time": "2022-11-08T23:48:41.780Z"
   },
   {
    "duration": 10,
    "start_time": "2022-11-08T23:57:00.157Z"
   },
   {
    "duration": 22,
    "start_time": "2022-11-09T00:03:02.878Z"
   },
   {
    "duration": 13,
    "start_time": "2022-11-09T00:04:21.800Z"
   },
   {
    "duration": 4,
    "start_time": "2022-11-09T00:06:44.729Z"
   },
   {
    "duration": 5,
    "start_time": "2022-11-09T00:08:51.644Z"
   },
   {
    "duration": 5,
    "start_time": "2022-11-09T00:09:05.041Z"
   },
   {
    "duration": 11,
    "start_time": "2022-11-09T00:14:19.087Z"
   },
   {
    "duration": 12,
    "start_time": "2022-11-09T00:14:34.360Z"
   },
   {
    "duration": 12,
    "start_time": "2022-11-09T00:14:52.122Z"
   },
   {
    "duration": 1104,
    "start_time": "2022-11-09T00:18:47.652Z"
   },
   {
    "duration": 44,
    "start_time": "2022-11-09T00:18:48.758Z"
   },
   {
    "duration": 13,
    "start_time": "2022-11-09T00:18:48.803Z"
   },
   {
    "duration": 22,
    "start_time": "2022-11-09T00:18:48.817Z"
   },
   {
    "duration": 7,
    "start_time": "2022-11-09T00:18:48.841Z"
   },
   {
    "duration": 8,
    "start_time": "2022-11-09T00:18:48.849Z"
   },
   {
    "duration": 32,
    "start_time": "2022-11-09T00:18:48.858Z"
   },
   {
    "duration": 6,
    "start_time": "2022-11-09T00:18:48.892Z"
   },
   {
    "duration": 28,
    "start_time": "2022-11-09T00:18:48.899Z"
   },
   {
    "duration": 12,
    "start_time": "2022-11-09T00:18:48.928Z"
   },
   {
    "duration": 9,
    "start_time": "2022-11-09T00:19:02.462Z"
   },
   {
    "duration": 12,
    "start_time": "2022-11-09T00:19:04.495Z"
   },
   {
    "duration": 13,
    "start_time": "2022-11-09T00:19:10.397Z"
   },
   {
    "duration": 93,
    "start_time": "2022-11-09T00:19:37.990Z"
   },
   {
    "duration": 1249,
    "start_time": "2022-11-09T00:19:55.406Z"
   },
   {
    "duration": 43,
    "start_time": "2022-11-09T00:19:56.657Z"
   },
   {
    "duration": 13,
    "start_time": "2022-11-09T00:19:56.702Z"
   },
   {
    "duration": 34,
    "start_time": "2022-11-09T00:19:56.717Z"
   },
   {
    "duration": 10,
    "start_time": "2022-11-09T00:19:56.753Z"
   },
   {
    "duration": 14,
    "start_time": "2022-11-09T00:19:56.764Z"
   },
   {
    "duration": 12,
    "start_time": "2022-11-09T00:19:56.780Z"
   },
   {
    "duration": 16,
    "start_time": "2022-11-09T00:19:56.794Z"
   },
   {
    "duration": 29,
    "start_time": "2022-11-09T00:19:56.811Z"
   },
   {
    "duration": 12,
    "start_time": "2022-11-09T00:19:56.842Z"
   },
   {
    "duration": 9,
    "start_time": "2022-11-09T00:19:58.978Z"
   },
   {
    "duration": 12,
    "start_time": "2022-11-09T00:20:01.204Z"
   },
   {
    "duration": 13,
    "start_time": "2022-11-09T00:20:17.852Z"
   },
   {
    "duration": 4,
    "start_time": "2022-11-09T00:23:17.894Z"
   },
   {
    "duration": 5,
    "start_time": "2022-11-09T00:23:21.522Z"
   },
   {
    "duration": 13,
    "start_time": "2022-11-09T00:23:27.197Z"
   },
   {
    "duration": 84,
    "start_time": "2022-11-09T21:23:34.881Z"
   },
   {
    "duration": 39,
    "start_time": "2022-11-09T21:30:09.286Z"
   },
   {
    "duration": 1195,
    "start_time": "2022-11-09T21:30:21.345Z"
   },
   {
    "duration": 89,
    "start_time": "2022-11-09T21:30:22.541Z"
   },
   {
    "duration": 14,
    "start_time": "2022-11-09T21:30:22.631Z"
   },
   {
    "duration": 23,
    "start_time": "2022-11-09T21:30:22.647Z"
   },
   {
    "duration": 7,
    "start_time": "2022-11-09T21:30:22.672Z"
   },
   {
    "duration": 9,
    "start_time": "2022-11-09T21:30:22.681Z"
   },
   {
    "duration": 11,
    "start_time": "2022-11-09T21:30:22.691Z"
   },
   {
    "duration": 6,
    "start_time": "2022-11-09T21:30:22.703Z"
   },
   {
    "duration": 22,
    "start_time": "2022-11-09T21:30:22.710Z"
   },
   {
    "duration": 11,
    "start_time": "2022-11-09T21:30:22.733Z"
   },
   {
    "duration": 32,
    "start_time": "2022-11-09T21:30:22.746Z"
   },
   {
    "duration": 10,
    "start_time": "2022-11-09T21:30:22.779Z"
   },
   {
    "duration": 11,
    "start_time": "2022-11-09T21:30:22.791Z"
   },
   {
    "duration": 5,
    "start_time": "2022-11-09T21:30:22.804Z"
   },
   {
    "duration": 14,
    "start_time": "2022-11-09T21:30:22.811Z"
   },
   {
    "duration": 183,
    "start_time": "2022-11-09T21:30:41.474Z"
   },
   {
    "duration": 155,
    "start_time": "2022-11-09T21:30:56.470Z"
   },
   {
    "duration": 5,
    "start_time": "2022-11-09T21:37:13.820Z"
   },
   {
    "duration": 147,
    "start_time": "2022-11-09T22:03:21.824Z"
   },
   {
    "duration": 160,
    "start_time": "2022-11-09T22:03:31.213Z"
   },
   {
    "duration": 136,
    "start_time": "2022-11-09T22:03:56.585Z"
   },
   {
    "duration": 121,
    "start_time": "2022-11-09T22:04:06.998Z"
   },
   {
    "duration": 126,
    "start_time": "2022-11-09T22:04:11.043Z"
   },
   {
    "duration": 117,
    "start_time": "2022-11-09T22:09:56.080Z"
   },
   {
    "duration": 231,
    "start_time": "2022-11-09T22:12:48.892Z"
   },
   {
    "duration": 15,
    "start_time": "2022-11-09T22:17:24.195Z"
   },
   {
    "duration": 14,
    "start_time": "2022-11-09T22:19:06.961Z"
   },
   {
    "duration": 9,
    "start_time": "2022-11-09T22:19:31.490Z"
   },
   {
    "duration": 15,
    "start_time": "2022-11-09T22:22:57.617Z"
   },
   {
    "duration": 9,
    "start_time": "2022-11-09T22:32:59.775Z"
   },
   {
    "duration": 9,
    "start_time": "2022-11-09T22:33:27.775Z"
   },
   {
    "duration": 14,
    "start_time": "2022-11-09T22:33:31.257Z"
   },
   {
    "duration": 14,
    "start_time": "2022-11-09T22:33:47.318Z"
   },
   {
    "duration": 23,
    "start_time": "2022-11-09T22:42:50.073Z"
   },
   {
    "duration": 16,
    "start_time": "2022-11-09T22:44:09.271Z"
   },
   {
    "duration": 15,
    "start_time": "2022-11-09T22:46:26.179Z"
   },
   {
    "duration": 19,
    "start_time": "2022-11-09T22:48:44.600Z"
   },
   {
    "duration": 18,
    "start_time": "2022-11-09T22:49:01.709Z"
   },
   {
    "duration": 1124,
    "start_time": "2022-11-09T22:50:44.441Z"
   },
   {
    "duration": 61,
    "start_time": "2022-11-09T22:50:45.568Z"
   },
   {
    "duration": 18,
    "start_time": "2022-11-09T22:50:45.631Z"
   },
   {
    "duration": 37,
    "start_time": "2022-11-09T22:50:45.651Z"
   },
   {
    "duration": 10,
    "start_time": "2022-11-09T22:50:45.691Z"
   },
   {
    "duration": 10,
    "start_time": "2022-11-09T22:50:45.703Z"
   },
   {
    "duration": 36,
    "start_time": "2022-11-09T22:50:45.715Z"
   },
   {
    "duration": 10,
    "start_time": "2022-11-09T22:50:45.753Z"
   },
   {
    "duration": 32,
    "start_time": "2022-11-09T22:50:45.767Z"
   },
   {
    "duration": 15,
    "start_time": "2022-11-09T22:50:45.801Z"
   },
   {
    "duration": 10,
    "start_time": "2022-11-09T22:50:45.818Z"
   },
   {
    "duration": 13,
    "start_time": "2022-11-09T22:50:45.829Z"
   },
   {
    "duration": 41,
    "start_time": "2022-11-09T22:50:45.843Z"
   },
   {
    "duration": 7,
    "start_time": "2022-11-09T22:50:45.886Z"
   },
   {
    "duration": 16,
    "start_time": "2022-11-09T22:50:45.895Z"
   },
   {
    "duration": 195,
    "start_time": "2022-11-09T22:50:45.913Z"
   },
   {
    "duration": 104,
    "start_time": "2022-11-09T22:50:49.535Z"
   },
   {
    "duration": 20,
    "start_time": "2022-11-09T22:51:20.059Z"
   },
   {
    "duration": 21,
    "start_time": "2022-11-09T22:51:26.658Z"
   },
   {
    "duration": 21,
    "start_time": "2022-11-09T22:52:21.568Z"
   },
   {
    "duration": 24,
    "start_time": "2022-11-09T22:52:30.633Z"
   },
   {
    "duration": 19,
    "start_time": "2022-11-09T22:57:28.937Z"
   },
   {
    "duration": 13,
    "start_time": "2022-11-09T23:03:25.843Z"
   },
   {
    "duration": 1123,
    "start_time": "2022-11-09T23:03:52.617Z"
   },
   {
    "duration": 44,
    "start_time": "2022-11-09T23:03:53.741Z"
   },
   {
    "duration": 12,
    "start_time": "2022-11-09T23:03:53.787Z"
   },
   {
    "duration": 22,
    "start_time": "2022-11-09T23:03:53.801Z"
   },
   {
    "duration": 8,
    "start_time": "2022-11-09T23:03:53.824Z"
   },
   {
    "duration": 5,
    "start_time": "2022-11-09T23:03:53.833Z"
   },
   {
    "duration": 39,
    "start_time": "2022-11-09T23:03:53.840Z"
   },
   {
    "duration": 8,
    "start_time": "2022-11-09T23:03:53.880Z"
   },
   {
    "duration": 37,
    "start_time": "2022-11-09T23:03:53.889Z"
   },
   {
    "duration": 13,
    "start_time": "2022-11-09T23:03:53.929Z"
   },
   {
    "duration": 35,
    "start_time": "2022-11-09T23:03:53.944Z"
   },
   {
    "duration": 20,
    "start_time": "2022-11-09T23:03:53.980Z"
   },
   {
    "duration": 17,
    "start_time": "2022-11-09T23:03:54.003Z"
   },
   {
    "duration": 12,
    "start_time": "2022-11-09T23:03:54.021Z"
   },
   {
    "duration": 27,
    "start_time": "2022-11-09T23:03:54.035Z"
   },
   {
    "duration": 175,
    "start_time": "2022-11-09T23:03:54.064Z"
   },
   {
    "duration": 16,
    "start_time": "2022-11-09T23:03:57.014Z"
   },
   {
    "duration": 14,
    "start_time": "2022-11-09T23:04:09.411Z"
   },
   {
    "duration": 68,
    "start_time": "2022-11-09T23:05:35.624Z"
   },
   {
    "duration": 11,
    "start_time": "2022-11-09T23:32:47.602Z"
   },
   {
    "duration": 31,
    "start_time": "2022-11-09T23:36:25.890Z"
   },
   {
    "duration": 288,
    "start_time": "2022-11-09T23:38:59.061Z"
   },
   {
    "duration": 297,
    "start_time": "2022-11-09T23:39:08.083Z"
   },
   {
    "duration": 300,
    "start_time": "2022-11-09T23:39:21.063Z"
   },
   {
    "duration": 387,
    "start_time": "2022-11-09T23:41:15.409Z"
   },
   {
    "duration": 1357,
    "start_time": "2022-11-09T23:41:34.703Z"
   },
   {
    "duration": 122,
    "start_time": "2022-11-09T23:48:46.264Z"
   },
   {
    "duration": 1092,
    "start_time": "2022-11-09T23:49:53.028Z"
   },
   {
    "duration": 122,
    "start_time": "2022-11-09T23:52:07.563Z"
   },
   {
    "duration": 135,
    "start_time": "2022-11-09T23:52:58.616Z"
   },
   {
    "duration": 121,
    "start_time": "2022-11-09T23:53:08.313Z"
   },
   {
    "duration": 110,
    "start_time": "2022-11-09T23:53:19.880Z"
   },
   {
    "duration": 133,
    "start_time": "2022-11-09T23:53:27.660Z"
   },
   {
    "duration": 126,
    "start_time": "2022-11-09T23:53:42.634Z"
   },
   {
    "duration": 120,
    "start_time": "2022-11-09T23:53:48.029Z"
   },
   {
    "duration": 195,
    "start_time": "2022-11-09T23:53:51.561Z"
   },
   {
    "duration": 8,
    "start_time": "2022-11-09T23:55:47.605Z"
   },
   {
    "duration": 108,
    "start_time": "2022-11-09T23:55:55.415Z"
   },
   {
    "duration": 9,
    "start_time": "2022-11-09T23:57:09.440Z"
   },
   {
    "duration": 161,
    "start_time": "2022-11-09T23:57:12.798Z"
   },
   {
    "duration": 139,
    "start_time": "2022-11-09T23:57:21.858Z"
   },
   {
    "duration": 339,
    "start_time": "2022-11-09T23:57:32.049Z"
   },
   {
    "duration": 818,
    "start_time": "2022-11-09T23:59:30.843Z"
   },
   {
    "duration": 50,
    "start_time": "2022-11-10T20:12:08.008Z"
   },
   {
    "duration": 1392,
    "start_time": "2022-11-10T20:12:16.889Z"
   },
   {
    "duration": 97,
    "start_time": "2022-11-10T20:12:18.284Z"
   },
   {
    "duration": 20,
    "start_time": "2022-11-10T20:12:18.385Z"
   },
   {
    "duration": 23,
    "start_time": "2022-11-10T20:12:18.406Z"
   },
   {
    "duration": 11,
    "start_time": "2022-11-10T20:12:18.431Z"
   },
   {
    "duration": 6,
    "start_time": "2022-11-10T20:12:18.444Z"
   },
   {
    "duration": 29,
    "start_time": "2022-11-10T20:12:18.452Z"
   },
   {
    "duration": 8,
    "start_time": "2022-11-10T20:12:18.482Z"
   },
   {
    "duration": 31,
    "start_time": "2022-11-10T20:12:18.492Z"
   },
   {
    "duration": 13,
    "start_time": "2022-11-10T20:12:18.525Z"
   },
   {
    "duration": 10,
    "start_time": "2022-11-10T20:12:18.540Z"
   },
   {
    "duration": 48,
    "start_time": "2022-11-10T20:12:18.551Z"
   },
   {
    "duration": 16,
    "start_time": "2022-11-10T20:12:18.601Z"
   },
   {
    "duration": 6,
    "start_time": "2022-11-10T20:12:18.618Z"
   },
   {
    "duration": 17,
    "start_time": "2022-11-10T20:12:18.626Z"
   },
   {
    "duration": 222,
    "start_time": "2022-11-10T20:12:18.645Z"
   },
   {
    "duration": 30,
    "start_time": "2022-11-10T20:12:18.869Z"
   },
   {
    "duration": 37,
    "start_time": "2022-11-10T20:12:18.901Z"
   },
   {
    "duration": 934,
    "start_time": "2022-11-10T20:12:25.328Z"
   },
   {
    "duration": 70,
    "start_time": "2022-11-10T20:42:58.370Z"
   },
   {
    "duration": 71,
    "start_time": "2022-11-10T20:52:23.992Z"
   },
   {
    "duration": 145,
    "start_time": "2022-11-10T20:52:39.413Z"
   },
   {
    "duration": 303,
    "start_time": "2022-11-10T20:53:17.026Z"
   },
   {
    "duration": 410,
    "start_time": "2022-11-10T21:03:05.406Z"
   },
   {
    "duration": 261,
    "start_time": "2022-11-10T21:03:08.048Z"
   },
   {
    "duration": 91,
    "start_time": "2022-11-10T21:19:55.406Z"
   },
   {
    "duration": 133,
    "start_time": "2022-11-10T21:20:00.229Z"
   },
   {
    "duration": 321,
    "start_time": "2022-11-10T21:20:41.440Z"
   },
   {
    "duration": 273,
    "start_time": "2022-11-10T21:20:45.772Z"
   },
   {
    "duration": 303,
    "start_time": "2022-11-10T21:25:31.795Z"
   },
   {
    "duration": 318,
    "start_time": "2022-11-10T21:25:41.900Z"
   },
   {
    "duration": 29,
    "start_time": "2022-11-10T21:26:05.946Z"
   },
   {
    "duration": 7,
    "start_time": "2022-11-10T21:26:30.410Z"
   },
   {
    "duration": 251,
    "start_time": "2022-11-10T21:29:00.816Z"
   },
   {
    "duration": 147,
    "start_time": "2022-11-10T21:29:13.906Z"
   },
   {
    "duration": 125,
    "start_time": "2022-11-10T21:29:20.111Z"
   },
   {
    "duration": 323,
    "start_time": "2022-11-10T21:29:27.423Z"
   },
   {
    "duration": 12,
    "start_time": "2022-11-10T21:32:24.917Z"
   },
   {
    "duration": 10,
    "start_time": "2022-11-10T21:32:34.547Z"
   },
   {
    "duration": 9,
    "start_time": "2022-11-10T21:32:44.917Z"
   },
   {
    "duration": 35,
    "start_time": "2022-11-10T21:32:55.011Z"
   },
   {
    "duration": 28,
    "start_time": "2022-11-10T21:35:27.508Z"
   },
   {
    "duration": 104,
    "start_time": "2022-11-10T21:35:50.766Z"
   },
   {
    "duration": 108,
    "start_time": "2022-11-10T21:36:11.144Z"
   },
   {
    "duration": 155,
    "start_time": "2022-11-10T21:36:38.162Z"
   },
   {
    "duration": 115,
    "start_time": "2022-11-10T21:38:17.017Z"
   },
   {
    "duration": 157,
    "start_time": "2022-11-10T21:38:21.789Z"
   },
   {
    "duration": 115,
    "start_time": "2022-11-10T21:44:03.567Z"
   },
   {
    "duration": 159,
    "start_time": "2022-11-10T21:45:12.042Z"
   },
   {
    "duration": 150,
    "start_time": "2022-11-10T21:45:16.261Z"
   },
   {
    "duration": 156,
    "start_time": "2022-11-10T21:45:19.371Z"
   },
   {
    "duration": 262,
    "start_time": "2022-11-10T21:45:30.012Z"
   },
   {
    "duration": 149,
    "start_time": "2022-11-10T21:45:34.175Z"
   },
   {
    "duration": 191,
    "start_time": "2022-11-10T21:45:46.107Z"
   },
   {
    "duration": 183,
    "start_time": "2022-11-10T21:45:56.977Z"
   },
   {
    "duration": 190,
    "start_time": "2022-11-10T21:46:00.773Z"
   },
   {
    "duration": 179,
    "start_time": "2022-11-10T21:47:22.090Z"
   },
   {
    "duration": 190,
    "start_time": "2022-11-10T21:47:29.017Z"
   },
   {
    "duration": 170,
    "start_time": "2022-11-10T21:47:32.553Z"
   },
   {
    "duration": 164,
    "start_time": "2022-11-10T21:47:36.590Z"
   },
   {
    "duration": 193,
    "start_time": "2022-11-10T21:47:43.542Z"
   },
   {
    "duration": 191,
    "start_time": "2022-11-10T21:47:47.931Z"
   },
   {
    "duration": 278,
    "start_time": "2022-11-10T21:48:12.416Z"
   },
   {
    "duration": 204,
    "start_time": "2022-11-10T21:50:11.693Z"
   },
   {
    "duration": 154,
    "start_time": "2022-11-10T22:04:37.973Z"
   },
   {
    "duration": 136,
    "start_time": "2022-11-10T22:05:24.984Z"
   },
   {
    "duration": 118,
    "start_time": "2022-11-10T22:06:40.513Z"
   },
   {
    "duration": 115,
    "start_time": "2022-11-10T22:06:51.726Z"
   },
   {
    "duration": 129,
    "start_time": "2022-11-10T22:07:31.140Z"
   },
   {
    "duration": 130,
    "start_time": "2022-11-10T22:07:37.965Z"
   },
   {
    "duration": 70,
    "start_time": "2022-11-10T22:08:52.519Z"
   },
   {
    "duration": 134,
    "start_time": "2022-11-10T22:08:56.892Z"
   },
   {
    "duration": 138,
    "start_time": "2022-11-10T22:09:01.106Z"
   },
   {
    "duration": 133,
    "start_time": "2022-11-10T22:09:17.507Z"
   },
   {
    "duration": 147,
    "start_time": "2022-11-10T22:12:03.257Z"
   },
   {
    "duration": 13,
    "start_time": "2022-11-10T22:26:09.888Z"
   },
   {
    "duration": 1159,
    "start_time": "2022-11-10T22:26:59.673Z"
   },
   {
    "duration": 1088,
    "start_time": "2022-11-10T22:28:34.377Z"
   },
   {
    "duration": 8,
    "start_time": "2022-11-10T22:28:44.510Z"
   },
   {
    "duration": 8,
    "start_time": "2022-11-10T22:28:57.647Z"
   },
   {
    "duration": 12,
    "start_time": "2022-11-10T22:29:16.422Z"
   },
   {
    "duration": 219,
    "start_time": "2022-11-10T22:32:18.653Z"
   },
   {
    "duration": 129,
    "start_time": "2022-11-10T22:32:32.873Z"
   },
   {
    "duration": 15,
    "start_time": "2022-11-10T22:34:01.146Z"
   },
   {
    "duration": 168,
    "start_time": "2022-11-10T22:46:03.221Z"
   },
   {
    "duration": 129,
    "start_time": "2022-11-10T22:46:06.009Z"
   },
   {
    "duration": 194,
    "start_time": "2022-11-10T22:46:31.844Z"
   },
   {
    "duration": 137,
    "start_time": "2022-11-10T22:46:34.816Z"
   },
   {
    "duration": 129,
    "start_time": "2022-11-10T22:46:38.333Z"
   },
   {
    "duration": 16,
    "start_time": "2022-11-10T22:46:41.701Z"
   },
   {
    "duration": 68,
    "start_time": "2022-11-10T22:47:38.300Z"
   },
   {
    "duration": 183,
    "start_time": "2022-11-10T22:48:39.873Z"
   },
   {
    "duration": 146,
    "start_time": "2022-11-10T22:48:41.994Z"
   },
   {
    "duration": 153,
    "start_time": "2022-11-10T22:48:45.254Z"
   },
   {
    "duration": 18,
    "start_time": "2022-11-10T22:48:50.894Z"
   },
   {
    "duration": 238,
    "start_time": "2022-11-10T22:55:58.991Z"
   },
   {
    "duration": 304,
    "start_time": "2022-11-10T23:07:42.495Z"
   },
   {
    "duration": 448,
    "start_time": "2022-11-10T23:07:54.651Z"
   },
   {
    "duration": 310,
    "start_time": "2022-11-10T23:08:17.601Z"
   },
   {
    "duration": 311,
    "start_time": "2022-11-10T23:19:57.528Z"
   },
   {
    "duration": 346,
    "start_time": "2022-11-10T23:20:00.291Z"
   },
   {
    "duration": 276,
    "start_time": "2022-11-10T23:20:24.192Z"
   },
   {
    "duration": 359,
    "start_time": "2022-11-10T23:20:41.849Z"
   },
   {
    "duration": 54,
    "start_time": "2022-11-11T12:46:11.323Z"
   },
   {
    "duration": 1426,
    "start_time": "2022-11-11T12:46:22.541Z"
   },
   {
    "duration": 197,
    "start_time": "2022-11-11T12:46:23.969Z"
   },
   {
    "duration": 15,
    "start_time": "2022-11-11T12:46:24.168Z"
   },
   {
    "duration": 26,
    "start_time": "2022-11-11T12:46:24.185Z"
   },
   {
    "duration": 10,
    "start_time": "2022-11-11T12:46:24.214Z"
   },
   {
    "duration": 9,
    "start_time": "2022-11-11T12:46:24.226Z"
   },
   {
    "duration": 18,
    "start_time": "2022-11-11T12:46:24.236Z"
   },
   {
    "duration": 8,
    "start_time": "2022-11-11T12:46:24.256Z"
   },
   {
    "duration": 63,
    "start_time": "2022-11-11T12:46:24.266Z"
   },
   {
    "duration": 14,
    "start_time": "2022-11-11T12:46:24.330Z"
   },
   {
    "duration": 12,
    "start_time": "2022-11-11T12:46:24.346Z"
   },
   {
    "duration": 13,
    "start_time": "2022-11-11T12:46:24.360Z"
   },
   {
    "duration": 46,
    "start_time": "2022-11-11T12:46:24.374Z"
   },
   {
    "duration": 5,
    "start_time": "2022-11-11T12:46:24.423Z"
   },
   {
    "duration": 18,
    "start_time": "2022-11-11T12:46:24.430Z"
   },
   {
    "duration": 230,
    "start_time": "2022-11-11T12:46:24.450Z"
   },
   {
    "duration": 19,
    "start_time": "2022-11-11T12:46:24.682Z"
   },
   {
    "duration": 53,
    "start_time": "2022-11-11T12:46:24.703Z"
   },
   {
    "duration": 950,
    "start_time": "2022-11-11T12:46:24.758Z"
   },
   {
    "duration": 349,
    "start_time": "2022-11-11T12:46:25.710Z"
   },
   {
    "duration": 181,
    "start_time": "2022-11-11T12:46:26.061Z"
   },
   {
    "duration": 316,
    "start_time": "2022-11-11T12:46:26.244Z"
   },
   {
    "duration": 196,
    "start_time": "2022-11-11T12:46:26.562Z"
   },
   {
    "duration": 22,
    "start_time": "2022-11-11T12:46:26.760Z"
   },
   {
    "duration": 336,
    "start_time": "2022-11-11T12:46:26.784Z"
   },
   {
    "duration": 329,
    "start_time": "2022-11-11T12:46:27.122Z"
   },
   {
    "duration": 331,
    "start_time": "2022-11-11T12:46:27.453Z"
   },
   {
    "duration": 336,
    "start_time": "2022-11-11T12:46:27.786Z"
   },
   {
    "duration": 310,
    "start_time": "2022-11-11T12:46:28.125Z"
   },
   {
    "duration": 310,
    "start_time": "2022-11-11T12:46:38.806Z"
   },
   {
    "duration": 295,
    "start_time": "2022-11-11T12:46:44.437Z"
   },
   {
    "duration": 371,
    "start_time": "2022-11-11T12:47:26.549Z"
   },
   {
    "duration": 305,
    "start_time": "2022-11-11T12:48:18.165Z"
   },
   {
    "duration": 334,
    "start_time": "2022-11-11T12:48:42.535Z"
   },
   {
    "duration": 461,
    "start_time": "2022-11-11T12:48:46.091Z"
   },
   {
    "duration": 337,
    "start_time": "2022-11-11T12:50:29.595Z"
   },
   {
    "duration": 312,
    "start_time": "2022-11-11T12:50:37.053Z"
   },
   {
    "duration": 319,
    "start_time": "2022-11-11T12:50:53.881Z"
   },
   {
    "duration": 330,
    "start_time": "2022-11-11T12:57:19.581Z"
   },
   {
    "duration": 49,
    "start_time": "2022-11-11T12:57:25.301Z"
   },
   {
    "duration": 313,
    "start_time": "2022-11-11T12:57:31.249Z"
   },
   {
    "duration": 357,
    "start_time": "2022-11-11T12:59:54.146Z"
   },
   {
    "duration": 48,
    "start_time": "2022-11-11T13:06:17.958Z"
   },
   {
    "duration": 342,
    "start_time": "2022-11-11T13:06:27.059Z"
   },
   {
    "duration": 61,
    "start_time": "2022-11-11T13:07:50.858Z"
   },
   {
    "duration": 50,
    "start_time": "2022-11-11T13:08:31.334Z"
   },
   {
    "duration": 232,
    "start_time": "2022-11-11T13:11:37.810Z"
   },
   {
    "duration": 203,
    "start_time": "2022-11-11T13:11:44.441Z"
   },
   {
    "duration": 12,
    "start_time": "2022-11-11T13:13:18.059Z"
   },
   {
    "duration": 206,
    "start_time": "2022-11-11T13:13:41.995Z"
   },
   {
    "duration": 314,
    "start_time": "2022-11-11T13:14:58.107Z"
   },
   {
    "duration": 206,
    "start_time": "2022-11-11T13:15:10.572Z"
   },
   {
    "duration": 65,
    "start_time": "2022-11-11T13:28:31.738Z"
   },
   {
    "duration": 49,
    "start_time": "2022-11-11T13:28:37.397Z"
   },
   {
    "duration": 221,
    "start_time": "2022-11-11T13:28:53.848Z"
   },
   {
    "duration": 47,
    "start_time": "2022-11-11T13:37:15.186Z"
   },
   {
    "duration": 20,
    "start_time": "2022-11-11T13:46:42.828Z"
   },
   {
    "duration": 76,
    "start_time": "2022-11-11T13:47:08.956Z"
   },
   {
    "duration": 20,
    "start_time": "2022-11-11T13:47:14.330Z"
   },
   {
    "duration": 135,
    "start_time": "2022-11-11T13:47:27.370Z"
   },
   {
    "duration": 130,
    "start_time": "2022-11-11T13:48:16.222Z"
   },
   {
    "duration": 114,
    "start_time": "2022-11-11T13:48:30.860Z"
   },
   {
    "duration": 741,
    "start_time": "2022-11-11T13:52:05.028Z"
   },
   {
    "duration": 128,
    "start_time": "2022-11-11T13:58:05.511Z"
   },
   {
    "duration": 127,
    "start_time": "2022-11-11T13:58:11.816Z"
   },
   {
    "duration": 24,
    "start_time": "2022-11-11T14:06:15.442Z"
   },
   {
    "duration": 17,
    "start_time": "2022-11-11T14:07:10.057Z"
   },
   {
    "duration": 10,
    "start_time": "2022-11-11T14:10:00.146Z"
   },
   {
    "duration": 7,
    "start_time": "2022-11-11T14:10:01.888Z"
   },
   {
    "duration": 195,
    "start_time": "2022-11-11T14:10:02.874Z"
   },
   {
    "duration": 213,
    "start_time": "2022-11-11T14:10:20.158Z"
   },
   {
    "duration": 176,
    "start_time": "2022-11-11T14:11:35.318Z"
   },
   {
    "duration": 698,
    "start_time": "2022-11-11T14:12:09.760Z"
   },
   {
    "duration": 246,
    "start_time": "2022-11-11T14:22:23.014Z"
   },
   {
    "duration": 300,
    "start_time": "2022-11-11T14:23:22.160Z"
   },
   {
    "duration": 174,
    "start_time": "2022-11-11T14:23:30.692Z"
   },
   {
    "duration": 169,
    "start_time": "2022-11-11T14:24:05.240Z"
   },
   {
    "duration": 48,
    "start_time": "2022-11-11T14:24:17.099Z"
   },
   {
    "duration": 185,
    "start_time": "2022-11-11T14:24:21.689Z"
   },
   {
    "duration": 222,
    "start_time": "2022-11-11T14:25:46.376Z"
   },
   {
    "duration": 164,
    "start_time": "2022-11-11T14:26:53.695Z"
   },
   {
    "duration": 13,
    "start_time": "2022-11-11T14:38:55.082Z"
   },
   {
    "duration": 13,
    "start_time": "2022-11-11T14:39:05.272Z"
   },
   {
    "duration": 12,
    "start_time": "2022-11-11T14:39:18.018Z"
   },
   {
    "duration": 11,
    "start_time": "2022-11-11T14:39:24.145Z"
   },
   {
    "duration": 21,
    "start_time": "2022-11-11T14:39:47.067Z"
   },
   {
    "duration": 192,
    "start_time": "2022-11-11T14:39:55.486Z"
   },
   {
    "duration": 194,
    "start_time": "2022-11-11T14:40:45.684Z"
   },
   {
    "duration": 184,
    "start_time": "2022-11-11T14:41:20.439Z"
   },
   {
    "duration": 304,
    "start_time": "2022-11-11T14:42:01.464Z"
   },
   {
    "duration": 206,
    "start_time": "2022-11-11T14:44:33.710Z"
   },
   {
    "duration": 196,
    "start_time": "2022-11-11T14:44:41.435Z"
   },
   {
    "duration": 20,
    "start_time": "2022-11-11T14:49:21.913Z"
   },
   {
    "duration": 966,
    "start_time": "2022-11-11T14:51:00.624Z"
   },
   {
    "duration": 134,
    "start_time": "2022-11-11T14:51:44.738Z"
   },
   {
    "duration": 123,
    "start_time": "2022-11-11T14:51:51.063Z"
   },
   {
    "duration": 144,
    "start_time": "2022-11-11T14:52:16.923Z"
   },
   {
    "duration": 10,
    "start_time": "2022-11-11T14:54:17.479Z"
   },
   {
    "duration": 16,
    "start_time": "2022-11-11T14:54:22.987Z"
   },
   {
    "duration": 17,
    "start_time": "2022-11-11T14:56:43.650Z"
   },
   {
    "duration": 56,
    "start_time": "2022-11-11T15:04:23.099Z"
   },
   {
    "duration": 3,
    "start_time": "2022-11-11T15:16:35.765Z"
   },
   {
    "duration": 61,
    "start_time": "2022-11-11T15:29:01.874Z"
   },
   {
    "duration": 76,
    "start_time": "2022-11-11T15:29:09.224Z"
   },
   {
    "duration": 72,
    "start_time": "2022-11-11T15:29:16.522Z"
   },
   {
    "duration": 24,
    "start_time": "2022-11-11T15:29:21.538Z"
   },
   {
    "duration": 25,
    "start_time": "2022-11-11T15:29:41.254Z"
   },
   {
    "duration": 49,
    "start_time": "2022-11-11T15:29:52.014Z"
   },
   {
    "duration": 20,
    "start_time": "2022-11-11T15:29:56.146Z"
   },
   {
    "duration": 21,
    "start_time": "2022-11-11T15:29:59.746Z"
   },
   {
    "duration": 10,
    "start_time": "2022-11-11T15:31:52.140Z"
   },
   {
    "duration": 5,
    "start_time": "2022-11-11T15:31:56.131Z"
   },
   {
    "duration": 23,
    "start_time": "2022-11-11T15:32:08.718Z"
   },
   {
    "duration": 10,
    "start_time": "2022-11-11T15:33:06.679Z"
   },
   {
    "duration": 10,
    "start_time": "2022-11-11T15:34:05.889Z"
   },
   {
    "duration": 56,
    "start_time": "2022-11-11T15:34:13.171Z"
   },
   {
    "duration": 22,
    "start_time": "2022-11-11T15:34:23.742Z"
   },
   {
    "duration": 24,
    "start_time": "2022-11-11T15:34:40.660Z"
   },
   {
    "duration": 10,
    "start_time": "2022-11-11T15:45:42.620Z"
   },
   {
    "duration": 21,
    "start_time": "2022-11-11T15:46:12.144Z"
   },
   {
    "duration": 55,
    "start_time": "2022-11-11T15:47:30.937Z"
   },
   {
    "duration": 50,
    "start_time": "2022-11-11T15:47:36.316Z"
   },
   {
    "duration": 3,
    "start_time": "2022-11-11T15:49:25.129Z"
   },
   {
    "duration": 58,
    "start_time": "2022-11-11T15:49:26.436Z"
   },
   {
    "duration": 14,
    "start_time": "2022-11-11T15:49:27.980Z"
   },
   {
    "duration": 23,
    "start_time": "2022-11-11T15:49:29.997Z"
   },
   {
    "duration": 14,
    "start_time": "2022-11-11T15:54:59.576Z"
   },
   {
    "duration": 14,
    "start_time": "2022-11-11T15:55:13.130Z"
   },
   {
    "duration": 12,
    "start_time": "2022-11-11T15:55:14.264Z"
   },
   {
    "duration": 4,
    "start_time": "2022-11-11T15:55:37.013Z"
   },
   {
    "duration": 59,
    "start_time": "2022-11-11T15:55:37.020Z"
   },
   {
    "duration": 14,
    "start_time": "2022-11-11T15:55:37.081Z"
   },
   {
    "duration": 24,
    "start_time": "2022-11-11T15:55:37.097Z"
   },
   {
    "duration": 11,
    "start_time": "2022-11-11T15:55:37.123Z"
   },
   {
    "duration": 7,
    "start_time": "2022-11-11T15:55:37.136Z"
   },
   {
    "duration": 13,
    "start_time": "2022-11-11T15:55:37.145Z"
   },
   {
    "duration": 29,
    "start_time": "2022-11-11T15:55:37.160Z"
   },
   {
    "duration": 37,
    "start_time": "2022-11-11T15:55:37.190Z"
   },
   {
    "duration": 11,
    "start_time": "2022-11-11T15:55:37.229Z"
   },
   {
    "duration": 14,
    "start_time": "2022-11-11T15:55:37.242Z"
   },
   {
    "duration": 14,
    "start_time": "2022-11-11T15:55:37.258Z"
   },
   {
    "duration": 47,
    "start_time": "2022-11-11T15:55:37.274Z"
   },
   {
    "duration": 22,
    "start_time": "2022-11-11T15:55:37.323Z"
   },
   {
    "duration": 211,
    "start_time": "2022-11-11T15:55:37.348Z"
   },
   {
    "duration": 13,
    "start_time": "2022-11-11T15:55:40.069Z"
   },
   {
    "duration": 17,
    "start_time": "2022-11-11T15:55:43.806Z"
   },
   {
    "duration": 40,
    "start_time": "2022-11-11T15:55:51.807Z"
   },
   {
    "duration": 1081,
    "start_time": "2022-11-11T15:55:54.409Z"
   },
   {
    "duration": 168,
    "start_time": "2022-11-11T15:57:21.124Z"
   },
   {
    "duration": 7,
    "start_time": "2022-11-11T15:59:54.487Z"
   },
   {
    "duration": 213,
    "start_time": "2022-11-11T15:59:59.540Z"
   },
   {
    "duration": 192,
    "start_time": "2022-11-11T16:00:11.690Z"
   },
   {
    "duration": 190,
    "start_time": "2022-11-11T16:00:35.092Z"
   },
   {
    "duration": 188,
    "start_time": "2022-11-11T16:03:51.413Z"
   },
   {
    "duration": 179,
    "start_time": "2022-11-11T16:05:59.818Z"
   },
   {
    "duration": 182,
    "start_time": "2022-11-11T16:08:39.230Z"
   },
   {
    "duration": 179,
    "start_time": "2022-11-11T16:09:12.108Z"
   },
   {
    "duration": 55,
    "start_time": "2022-11-11T16:10:49.209Z"
   },
   {
    "duration": 1142,
    "start_time": "2022-11-11T16:38:08.519Z"
   },
   {
    "duration": 49,
    "start_time": "2022-11-11T16:38:09.663Z"
   },
   {
    "duration": 14,
    "start_time": "2022-11-11T16:38:09.714Z"
   },
   {
    "duration": 24,
    "start_time": "2022-11-11T16:38:09.729Z"
   },
   {
    "duration": 8,
    "start_time": "2022-11-11T16:38:09.756Z"
   },
   {
    "duration": 12,
    "start_time": "2022-11-11T16:38:09.766Z"
   },
   {
    "duration": 11,
    "start_time": "2022-11-11T16:38:09.779Z"
   },
   {
    "duration": 25,
    "start_time": "2022-11-11T16:38:09.792Z"
   },
   {
    "duration": 31,
    "start_time": "2022-11-11T16:38:09.819Z"
   },
   {
    "duration": 10,
    "start_time": "2022-11-11T16:38:09.852Z"
   },
   {
    "duration": 18,
    "start_time": "2022-11-11T16:38:09.863Z"
   },
   {
    "duration": 24,
    "start_time": "2022-11-11T16:38:09.882Z"
   },
   {
    "duration": 9,
    "start_time": "2022-11-11T16:38:09.907Z"
   },
   {
    "duration": 27,
    "start_time": "2022-11-11T16:38:09.918Z"
   },
   {
    "duration": 186,
    "start_time": "2022-11-11T16:38:09.947Z"
   },
   {
    "duration": 21,
    "start_time": "2022-11-11T16:38:10.135Z"
   },
   {
    "duration": 33,
    "start_time": "2022-11-11T16:38:10.157Z"
   },
   {
    "duration": 835,
    "start_time": "2022-11-11T16:38:10.191Z"
   },
   {
    "duration": 279,
    "start_time": "2022-11-11T16:38:11.027Z"
   },
   {
    "duration": 182,
    "start_time": "2022-11-11T16:38:11.308Z"
   },
   {
    "duration": 222,
    "start_time": "2022-11-11T16:38:11.492Z"
   },
   {
    "duration": 144,
    "start_time": "2022-11-11T16:38:11.715Z"
   },
   {
    "duration": 15,
    "start_time": "2022-11-11T16:38:11.861Z"
   },
   {
    "duration": 243,
    "start_time": "2022-11-11T16:38:11.878Z"
   },
   {
    "duration": 300,
    "start_time": "2022-11-11T16:38:12.123Z"
   },
   {
    "duration": 301,
    "start_time": "2022-11-11T16:38:12.425Z"
   },
   {
    "duration": 339,
    "start_time": "2022-11-11T16:38:12.728Z"
   },
   {
    "duration": 317,
    "start_time": "2022-11-11T16:38:13.069Z"
   },
   {
    "duration": 5,
    "start_time": "2022-11-11T16:38:13.388Z"
   },
   {
    "duration": 181,
    "start_time": "2022-11-11T16:38:13.394Z"
   },
   {
    "duration": 164,
    "start_time": "2022-11-11T16:38:13.577Z"
   },
   {
    "duration": 167,
    "start_time": "2022-11-11T16:38:13.743Z"
   },
   {
    "duration": 166,
    "start_time": "2022-11-11T16:38:13.911Z"
   },
   {
    "duration": 229,
    "start_time": "2022-11-11T16:38:14.078Z"
   },
   {
    "duration": 182,
    "start_time": "2022-11-11T16:38:14.309Z"
   },
   {
    "duration": 165,
    "start_time": "2022-11-11T16:38:14.493Z"
   },
   {
    "duration": 64,
    "start_time": "2022-11-11T16:38:14.660Z"
   },
   {
    "duration": 0,
    "start_time": "2022-11-11T16:38:14.726Z"
   },
   {
    "duration": 0,
    "start_time": "2022-11-11T16:38:14.728Z"
   },
   {
    "duration": 0,
    "start_time": "2022-11-11T16:38:14.730Z"
   },
   {
    "duration": 0,
    "start_time": "2022-11-11T16:38:14.731Z"
   },
   {
    "duration": 1055,
    "start_time": "2022-11-11T16:38:28.970Z"
   },
   {
    "duration": 49,
    "start_time": "2022-11-11T16:38:30.027Z"
   },
   {
    "duration": 13,
    "start_time": "2022-11-11T16:38:30.077Z"
   },
   {
    "duration": 33,
    "start_time": "2022-11-11T16:38:30.091Z"
   },
   {
    "duration": 19,
    "start_time": "2022-11-11T16:38:30.126Z"
   },
   {
    "duration": 11,
    "start_time": "2022-11-11T16:38:30.146Z"
   },
   {
    "duration": 13,
    "start_time": "2022-11-11T16:38:30.159Z"
   },
   {
    "duration": 28,
    "start_time": "2022-11-11T16:38:30.174Z"
   },
   {
    "duration": 21,
    "start_time": "2022-11-11T16:38:30.204Z"
   },
   {
    "duration": 21,
    "start_time": "2022-11-11T16:38:30.226Z"
   },
   {
    "duration": 14,
    "start_time": "2022-11-11T16:38:30.249Z"
   },
   {
    "duration": 25,
    "start_time": "2022-11-11T16:38:30.264Z"
   },
   {
    "duration": 18,
    "start_time": "2022-11-11T16:38:30.291Z"
   },
   {
    "duration": 35,
    "start_time": "2022-11-11T16:38:30.312Z"
   },
   {
    "duration": 201,
    "start_time": "2022-11-11T16:38:30.349Z"
   },
   {
    "duration": 16,
    "start_time": "2022-11-11T16:38:30.551Z"
   },
   {
    "duration": 41,
    "start_time": "2022-11-11T16:38:30.569Z"
   },
   {
    "duration": 826,
    "start_time": "2022-11-11T16:38:30.612Z"
   },
   {
    "duration": 299,
    "start_time": "2022-11-11T16:38:31.439Z"
   },
   {
    "duration": 171,
    "start_time": "2022-11-11T16:38:31.740Z"
   },
   {
    "duration": 213,
    "start_time": "2022-11-11T16:38:31.914Z"
   },
   {
    "duration": 140,
    "start_time": "2022-11-11T16:38:32.129Z"
   },
   {
    "duration": 14,
    "start_time": "2022-11-11T16:38:32.271Z"
   },
   {
    "duration": 262,
    "start_time": "2022-11-11T16:38:32.287Z"
   },
   {
    "duration": 287,
    "start_time": "2022-11-11T16:38:32.551Z"
   },
   {
    "duration": 266,
    "start_time": "2022-11-11T16:38:32.839Z"
   },
   {
    "duration": 286,
    "start_time": "2022-11-11T16:38:33.107Z"
   },
   {
    "duration": 323,
    "start_time": "2022-11-11T16:38:33.394Z"
   },
   {
    "duration": 5,
    "start_time": "2022-11-11T16:38:33.718Z"
   },
   {
    "duration": 187,
    "start_time": "2022-11-11T16:38:33.724Z"
   },
   {
    "duration": 168,
    "start_time": "2022-11-11T16:38:33.913Z"
   },
   {
    "duration": 167,
    "start_time": "2022-11-11T16:38:34.083Z"
   },
   {
    "duration": 158,
    "start_time": "2022-11-11T16:38:34.251Z"
   },
   {
    "duration": 230,
    "start_time": "2022-11-11T16:38:34.410Z"
   },
   {
    "duration": 175,
    "start_time": "2022-11-11T16:38:34.648Z"
   },
   {
    "duration": 172,
    "start_time": "2022-11-11T16:38:34.824Z"
   },
   {
    "duration": 183,
    "start_time": "2022-11-11T16:38:34.998Z"
   },
   {
    "duration": 19,
    "start_time": "2022-11-11T16:38:35.183Z"
   },
   {
    "duration": 34,
    "start_time": "2022-11-11T16:38:35.205Z"
   },
   {
    "duration": 36,
    "start_time": "2022-11-11T16:38:35.241Z"
   },
   {
    "duration": 1291,
    "start_time": "2022-11-12T06:46:40.146Z"
   },
   {
    "duration": 199,
    "start_time": "2022-11-12T06:46:41.443Z"
   },
   {
    "duration": 15,
    "start_time": "2022-11-12T06:46:41.643Z"
   },
   {
    "duration": 23,
    "start_time": "2022-11-12T06:46:41.659Z"
   },
   {
    "duration": 10,
    "start_time": "2022-11-12T06:46:41.684Z"
   },
   {
    "duration": 6,
    "start_time": "2022-11-12T06:46:41.695Z"
   },
   {
    "duration": 7,
    "start_time": "2022-11-12T06:46:41.702Z"
   },
   {
    "duration": 54,
    "start_time": "2022-11-12T06:46:41.711Z"
   },
   {
    "duration": 13,
    "start_time": "2022-11-12T06:46:41.766Z"
   },
   {
    "duration": 9,
    "start_time": "2022-11-12T06:46:41.781Z"
   },
   {
    "duration": 12,
    "start_time": "2022-11-12T06:46:41.791Z"
   },
   {
    "duration": 40,
    "start_time": "2022-11-12T06:46:41.805Z"
   },
   {
    "duration": 7,
    "start_time": "2022-11-12T06:46:41.846Z"
   },
   {
    "duration": 13,
    "start_time": "2022-11-12T06:46:41.855Z"
   },
   {
    "duration": 195,
    "start_time": "2022-11-12T06:46:41.869Z"
   },
   {
    "duration": 21,
    "start_time": "2022-11-12T06:46:42.066Z"
   },
   {
    "duration": 63,
    "start_time": "2022-11-12T06:46:42.089Z"
   },
   {
    "duration": 868,
    "start_time": "2022-11-12T06:46:42.154Z"
   },
   {
    "duration": 322,
    "start_time": "2022-11-12T06:46:43.024Z"
   },
   {
    "duration": 194,
    "start_time": "2022-11-12T06:46:43.350Z"
   },
   {
    "duration": 217,
    "start_time": "2022-11-12T06:46:43.546Z"
   },
   {
    "duration": 163,
    "start_time": "2022-11-12T06:46:43.765Z"
   },
   {
    "duration": 14,
    "start_time": "2022-11-12T06:46:43.942Z"
   },
   {
    "duration": 231,
    "start_time": "2022-11-12T06:46:43.957Z"
   },
   {
    "duration": 283,
    "start_time": "2022-11-12T06:46:44.189Z"
   },
   {
    "duration": 270,
    "start_time": "2022-11-12T06:46:44.473Z"
   },
   {
    "duration": 330,
    "start_time": "2022-11-12T06:46:44.744Z"
   },
   {
    "duration": 301,
    "start_time": "2022-11-12T06:46:45.076Z"
   },
   {
    "duration": 4,
    "start_time": "2022-11-12T06:46:45.378Z"
   },
   {
    "duration": 168,
    "start_time": "2022-11-12T06:46:45.383Z"
   },
   {
    "duration": 156,
    "start_time": "2022-11-12T06:46:45.553Z"
   },
   {
    "duration": 166,
    "start_time": "2022-11-12T06:46:45.711Z"
   },
   {
    "duration": 164,
    "start_time": "2022-11-12T06:46:45.879Z"
   },
   {
    "duration": 224,
    "start_time": "2022-11-12T06:46:46.045Z"
   },
   {
    "duration": 177,
    "start_time": "2022-11-12T06:46:46.271Z"
   },
   {
    "duration": 177,
    "start_time": "2022-11-12T06:46:46.450Z"
   },
   {
    "duration": 188,
    "start_time": "2022-11-12T06:46:46.629Z"
   },
   {
    "duration": 30,
    "start_time": "2022-11-12T06:46:46.820Z"
   },
   {
    "duration": 38,
    "start_time": "2022-11-12T06:46:46.852Z"
   },
   {
    "duration": 22,
    "start_time": "2022-11-12T06:46:46.892Z"
   },
   {
    "duration": 1127,
    "start_time": "2022-11-12T07:34:44.026Z"
   },
   {
    "duration": 52,
    "start_time": "2022-11-12T07:34:45.155Z"
   },
   {
    "duration": 15,
    "start_time": "2022-11-12T07:34:45.209Z"
   },
   {
    "duration": 40,
    "start_time": "2022-11-12T07:34:45.227Z"
   },
   {
    "duration": 8,
    "start_time": "2022-11-12T07:34:45.269Z"
   },
   {
    "duration": 23,
    "start_time": "2022-11-12T07:34:45.278Z"
   },
   {
    "duration": 26,
    "start_time": "2022-11-12T07:34:45.303Z"
   },
   {
    "duration": 33,
    "start_time": "2022-11-12T07:34:45.330Z"
   },
   {
    "duration": 14,
    "start_time": "2022-11-12T07:34:45.364Z"
   },
   {
    "duration": 13,
    "start_time": "2022-11-12T07:34:45.380Z"
   },
   {
    "duration": 26,
    "start_time": "2022-11-12T07:34:45.394Z"
   },
   {
    "duration": 22,
    "start_time": "2022-11-12T07:34:45.421Z"
   },
   {
    "duration": 29,
    "start_time": "2022-11-12T07:34:45.444Z"
   },
   {
    "duration": 29,
    "start_time": "2022-11-12T07:34:45.475Z"
   },
   {
    "duration": 188,
    "start_time": "2022-11-12T07:34:45.505Z"
   },
   {
    "duration": 15,
    "start_time": "2022-11-12T07:34:45.695Z"
   },
   {
    "duration": 45,
    "start_time": "2022-11-12T07:34:45.712Z"
   },
   {
    "duration": 824,
    "start_time": "2022-11-12T07:34:45.758Z"
   },
   {
    "duration": 286,
    "start_time": "2022-11-12T07:34:46.584Z"
   },
   {
    "duration": 187,
    "start_time": "2022-11-12T07:34:46.871Z"
   },
   {
    "duration": 220,
    "start_time": "2022-11-12T07:34:47.059Z"
   },
   {
    "duration": 148,
    "start_time": "2022-11-12T07:34:47.281Z"
   },
   {
    "duration": 13,
    "start_time": "2022-11-12T07:34:47.431Z"
   },
   {
    "duration": 252,
    "start_time": "2022-11-12T07:34:47.446Z"
   },
   {
    "duration": 285,
    "start_time": "2022-11-12T07:34:47.699Z"
   },
   {
    "duration": 283,
    "start_time": "2022-11-12T07:34:47.986Z"
   },
   {
    "duration": 302,
    "start_time": "2022-11-12T07:34:48.270Z"
   },
   {
    "duration": 313,
    "start_time": "2022-11-12T07:34:48.574Z"
   },
   {
    "duration": 4,
    "start_time": "2022-11-12T07:34:48.889Z"
   },
   {
    "duration": 178,
    "start_time": "2022-11-12T07:34:48.895Z"
   },
   {
    "duration": 183,
    "start_time": "2022-11-12T07:34:49.075Z"
   },
   {
    "duration": 172,
    "start_time": "2022-11-12T07:34:49.259Z"
   },
   {
    "duration": 179,
    "start_time": "2022-11-12T07:34:49.433Z"
   },
   {
    "duration": 241,
    "start_time": "2022-11-12T07:34:49.614Z"
   },
   {
    "duration": 179,
    "start_time": "2022-11-12T07:34:49.856Z"
   },
   {
    "duration": 176,
    "start_time": "2022-11-12T07:34:50.038Z"
   },
   {
    "duration": 158,
    "start_time": "2022-11-12T07:34:50.215Z"
   },
   {
    "duration": 14,
    "start_time": "2022-11-12T07:34:50.374Z"
   },
   {
    "duration": 20,
    "start_time": "2022-11-12T07:34:50.389Z"
   },
   {
    "duration": 32,
    "start_time": "2022-11-12T07:34:50.410Z"
   },
   {
    "duration": 1205,
    "start_time": "2022-11-12T10:08:13.273Z"
   },
   {
    "duration": 194,
    "start_time": "2022-11-12T10:08:16.522Z"
   },
   {
    "duration": 14,
    "start_time": "2022-11-12T10:08:17.899Z"
   },
   {
    "duration": 34,
    "start_time": "2022-11-12T10:08:19.948Z"
   },
   {
    "duration": 9,
    "start_time": "2022-11-12T10:08:23.562Z"
   },
   {
    "duration": 108,
    "start_time": "2022-11-12T10:08:37.230Z"
   },
   {
    "duration": 63,
    "start_time": "2022-11-12T10:08:51.091Z"
   },
   {
    "duration": 8,
    "start_time": "2022-11-12T10:11:25.094Z"
   },
   {
    "duration": 6,
    "start_time": "2022-11-12T10:15:12.354Z"
   },
   {
    "duration": 21,
    "start_time": "2022-11-12T10:17:50.698Z"
   },
   {
    "duration": 18,
    "start_time": "2022-11-12T10:17:55.387Z"
   },
   {
    "duration": 16,
    "start_time": "2022-11-12T10:19:08.792Z"
   },
   {
    "duration": 5,
    "start_time": "2022-11-12T10:19:10.467Z"
   },
   {
    "duration": 17,
    "start_time": "2022-11-12T10:19:12.527Z"
   },
   {
    "duration": 196,
    "start_time": "2022-11-12T10:19:16.310Z"
   },
   {
    "duration": 15,
    "start_time": "2022-11-12T10:19:20.384Z"
   },
   {
    "duration": 38,
    "start_time": "2022-11-12T10:19:23.515Z"
   },
   {
    "duration": 901,
    "start_time": "2022-11-12T10:19:25.380Z"
   },
   {
    "duration": 316,
    "start_time": "2022-11-12T10:19:28.201Z"
   },
   {
    "duration": 349,
    "start_time": "2022-11-12T10:19:50.654Z"
   },
   {
    "duration": 170,
    "start_time": "2022-11-12T10:20:59.688Z"
   },
   {
    "duration": 155,
    "start_time": "2022-11-12T10:21:31.060Z"
   },
   {
    "duration": 138,
    "start_time": "2022-11-12T10:21:34.215Z"
   },
   {
    "duration": 14,
    "start_time": "2022-11-12T10:21:36.335Z"
   },
   {
    "duration": 20,
    "start_time": "2022-11-12T10:21:42.467Z"
   },
   {
    "duration": 146,
    "start_time": "2022-11-12T10:22:08.269Z"
   },
   {
    "duration": 10,
    "start_time": "2022-11-12T10:23:20.638Z"
   },
   {
    "duration": 14,
    "start_time": "2022-11-12T10:23:33.506Z"
   },
   {
    "duration": 4,
    "start_time": "2022-11-12T10:25:32.194Z"
   },
   {
    "duration": 145,
    "start_time": "2022-11-12T10:25:35.268Z"
   },
   {
    "duration": 161,
    "start_time": "2022-11-12T10:25:46.296Z"
   },
   {
    "duration": 135,
    "start_time": "2022-11-12T10:26:26.379Z"
   },
   {
    "duration": 11,
    "start_time": "2022-11-12T10:26:48.341Z"
   },
   {
    "duration": 13,
    "start_time": "2022-11-12T10:26:52.413Z"
   },
   {
    "duration": 9,
    "start_time": "2022-11-12T10:26:54.649Z"
   },
   {
    "duration": 6,
    "start_time": "2022-11-12T10:26:58.721Z"
   },
   {
    "duration": 116,
    "start_time": "2022-11-12T10:27:06.010Z"
   },
   {
    "duration": 14,
    "start_time": "2022-11-12T10:27:14.819Z"
   },
   {
    "duration": 127,
    "start_time": "2022-11-12T10:34:02.093Z"
   },
   {
    "duration": 171,
    "start_time": "2022-11-12T10:34:07.790Z"
   },
   {
    "duration": 207,
    "start_time": "2022-11-12T10:34:25.147Z"
   },
   {
    "duration": 150,
    "start_time": "2022-11-12T10:35:14.881Z"
   },
   {
    "duration": 155,
    "start_time": "2022-11-12T10:35:16.656Z"
   },
   {
    "duration": 16,
    "start_time": "2022-11-12T10:35:18.554Z"
   },
   {
    "duration": 120,
    "start_time": "2022-11-12T10:35:23.189Z"
   },
   {
    "duration": 4,
    "start_time": "2022-11-12T10:35:49.830Z"
   },
   {
    "duration": 5,
    "start_time": "2022-11-12T10:35:58.784Z"
   },
   {
    "duration": 205,
    "start_time": "2022-11-12T10:36:23.646Z"
   },
   {
    "duration": 11,
    "start_time": "2022-11-12T10:37:44.019Z"
   },
   {
    "duration": 5,
    "start_time": "2022-11-12T10:39:06.906Z"
   },
   {
    "duration": 17,
    "start_time": "2022-11-12T10:39:25.145Z"
   },
   {
    "duration": 299,
    "start_time": "2022-11-12T10:39:35.236Z"
   },
   {
    "duration": 151,
    "start_time": "2022-11-12T10:41:44.281Z"
   },
   {
    "duration": 159,
    "start_time": "2022-11-12T10:41:46.024Z"
   },
   {
    "duration": 20,
    "start_time": "2022-11-12T10:41:47.757Z"
   },
   {
    "duration": 296,
    "start_time": "2022-11-12T10:41:49.575Z"
   },
   {
    "duration": 335,
    "start_time": "2022-11-12T10:41:52.657Z"
   },
   {
    "duration": 282,
    "start_time": "2022-11-12T10:41:55.453Z"
   },
   {
    "duration": 314,
    "start_time": "2022-11-12T10:41:57.719Z"
   },
   {
    "duration": 298,
    "start_time": "2022-11-12T10:41:59.767Z"
   },
   {
    "duration": 7,
    "start_time": "2022-11-12T10:42:24.182Z"
   },
   {
    "duration": 193,
    "start_time": "2022-11-12T10:42:25.507Z"
   },
   {
    "duration": 257,
    "start_time": "2022-11-12T10:43:15.025Z"
   },
   {
    "duration": 184,
    "start_time": "2022-11-12T10:43:43.251Z"
   },
   {
    "duration": 171,
    "start_time": "2022-11-12T10:44:36.558Z"
   },
   {
    "duration": 157,
    "start_time": "2022-11-12T10:44:38.386Z"
   },
   {
    "duration": 147,
    "start_time": "2022-11-12T10:44:41.709Z"
   },
   {
    "duration": 157,
    "start_time": "2022-11-12T10:45:42.634Z"
   },
   {
    "duration": 182,
    "start_time": "2022-11-12T10:46:10.202Z"
   },
   {
    "duration": 193,
    "start_time": "2022-11-12T10:46:16.669Z"
   },
   {
    "duration": 183,
    "start_time": "2022-11-12T10:46:22.661Z"
   },
   {
    "duration": 15,
    "start_time": "2022-11-12T10:46:39.072Z"
   },
   {
    "duration": 27,
    "start_time": "2022-11-12T10:46:42.512Z"
   },
   {
    "duration": 20,
    "start_time": "2022-11-12T10:46:46.670Z"
   },
   {
    "duration": 182,
    "start_time": "2022-11-12T10:52:39.469Z"
   },
   {
    "duration": 192,
    "start_time": "2022-11-12T10:54:44.218Z"
   }
  ],
  "kernelspec": {
   "display_name": "Python 3 (ipykernel)",
   "language": "python",
   "name": "python3"
  },
  "language_info": {
   "codemirror_mode": {
    "name": "ipython",
    "version": 3
   },
   "file_extension": ".py",
   "mimetype": "text/x-python",
   "name": "python",
   "nbconvert_exporter": "python",
   "pygments_lexer": "ipython3",
   "version": "3.10.9"
  },
  "toc": {
   "base_numbering": 1,
   "nav_menu": {},
   "number_sections": true,
   "sideBar": true,
   "skip_h1_title": true,
   "title_cell": "Table of Contents",
   "title_sidebar": "Contents",
   "toc_cell": false,
   "toc_position": {
    "height": "calc(100% - 180px)",
    "left": "10px",
    "top": "150px",
    "width": "189.188px"
   },
   "toc_section_display": true,
   "toc_window_display": true
  }
 },
 "nbformat": 4,
 "nbformat_minor": 2
}
