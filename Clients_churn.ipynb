{
 "cells": [
  {
   "cell_type": "markdown",
   "metadata": {
    "id": "h8jAtIEgT0V0"
   },
   "source": [
    "# Clients churn"
   ]
  },
  {
   "cell_type": "markdown",
   "metadata": {
    "id": "ZzQKz31tT0V2"
   },
   "source": [
    "## Introduction"
   ]
  },
  {
   "cell_type": "markdown",
   "metadata": {
    "id": "aQpGrnJHT0V2"
   },
   "source": [
    "Customers began to leave \"Beta-Bank\". Every month. A little, but noticeable. Bank marketers have found that it is cheaper to retain current customers than to attract new ones.\n",
    "\n",
    "It is necessary to predict whether the client will leave the bank in the near future or not. There is historical data on the behavior of customers and the termination of contracts with the bank."
   ]
  },
  {
   "cell_type": "markdown",
   "metadata": {
    "id": "eyLI5baWT0V3"
   },
   "source": [
    "**Project objective**"
   ]
  },
  {
   "cell_type": "markdown",
   "metadata": {
    "id": "dzSuO5aDT0V3"
   },
   "source": [
    "To predict the client's churn."
   ]
  },
  {
   "cell_type": "markdown",
   "metadata": {
    "id": "H_PUDj_dT0V3"
   },
   "source": [
    "**Data description**"
   ]
  },
  {
   "cell_type": "markdown",
   "metadata": {
    "id": "-YD0PMYlT0V3"
   },
   "source": [
    "The data is taken from Churn.csv file."
   ]
  },
  {
   "cell_type": "markdown",
   "metadata": {
    "id": "RDDngFXvT0V4"
   },
   "source": [
    "Dependent variables:\n",
    "* `RowNumber` — row index\n",
    "* `CustomerID` — the unique identifier of the customer\n",
    "* `Surname` — last name\n",
    "* `CreditScore` — credit rating\n",
    "* `Geography` — country of residence\n",
    "* `Gender` — gender\n",
    "* `Age` — age\n",
    "* `Tenure` — how many years a person has been a customer of the bank\n",
    "* `Balance` — account balance\n",
    "* `NumOfProducts` — the number of bank products used by the customer\n",
    "* `HasCrCard` — availability of a credit card\n",
    "* `IsActiveMember` — client activity\n",
    "* `EstimatedSalary` — estimated salary\n",
    "\n",
    "Target variable:\n",
    "* `Exited` — the fact of the client's departure"
   ]
  },
  {
   "cell_type": "markdown",
   "metadata": {
    "id": "hmJ9MrupT0V5"
   },
   "source": [
    "<h3>Table of content<span class=\"tocSkip\"></span></h3>\n",
    "\n",
    "<div class=\"toc\"><ul class=\"toc-item\">\n",
    "    <span><a href=\"#Data-preparation\" data-toc-modified-id=\"Data-preparation-1\">\n",
    "            <span class=\"toc-item-num\">1&nbsp;&nbsp;\n",
    "            </span>Data preparation</a></span></li>\n",
    "    <li><span><a href=\"#Task-research\" data-toc-modified-id=\"Task-research-2\">\n",
    "        <span class=\"toc-item-num\">2&nbsp;&nbsp;\n",
    "        </span>Task research</a></span>\n",
    "        <ul class=\"toc-item\">\n",
    "            <span><a href=\"#Data-balance-check\" data-toc-modified-id=\"Data-balance-check-2.1\">\n",
    "        <span class=\"toc-item-num\">2.1&nbsp;&nbsp;\n",
    "        </span>Data balance check</a></span></li>\n",
    "        <li><span><a href=\"#Model-research-before-data-balancing\" data-toc-modified-id=\"Model-research-before-data-balancing-2.2\">\n",
    "    <span class=\"toc-item-num\">2.2&nbsp;&nbsp;\n",
    "    </span>Model research before data balancing</a></span>\n",
    "            <ul class=\"toc-item\">\n",
    "                <li><span><a href=\"#Logistic-regression\" data-toc-modified-id=\"Logistic-regression-2.2.1\">\n",
    "        <span class=\"toc-item-num\">2.2.1&nbsp;&nbsp;</span>Logistic regression</a></span></li>\n",
    "    <li><span><a href=\"#Decision-tree\" data-toc-modified-id=\"Decision-tree-2.2.2\">\n",
    "        <span class=\"toc-item-num\">2.2.2&nbsp;&nbsp;\n",
    "        </span>Decision tree</a></span></li><li>\n",
    "    <span><a href=\"#Random-forest\" data-toc-modified-id=\"Random-forest-2.2.3\">\n",
    "        <span class=\"toc-item-num\">2.2.3&nbsp;&nbsp;\n",
    "        </span>Random forest</a></span></li>\n",
    "            </ul>\n",
    "   <li><span><a href=\"#Fighting-the-imbalance\" data-toc-modified-id=\"Fighting-the-imbalance-3\">\n",
    "        <span class=\"toc-item-num\">3&nbsp;&nbsp;\n",
    "        </span>Fighting the imbalance</a></span>\n",
    "             <ul class=\"toc-item\">\n",
    "        <li><span><a href=\"#Upsampling-method\" data-toc-modified-id=\"Upsampling-method-3.1\">\n",
    "        <span class=\"toc-item-num\">3.1&nbsp;&nbsp;\n",
    "        </span>Upsampling method</a></span></li><li>\n",
    "    <span><a href=\"#Downsampling-method\" data-toc-modified-id=\"Downsampling-method-3.2\">\n",
    "        <span class=\"toc-item-num\">3.2&nbsp;&nbsp;\n",
    "        </span>Downsampling method</a></span></li><li>\n",
    "    <span><a href=\"#SMOTE\" data-toc-modified-id=\"SMOTE-3.3\">\n",
    "        <span class=\"toc-item-num\">3.3&nbsp;&nbsp;</span>SMOTE</a></span></li>\n",
    "                </ul>\n",
    "            </li><li><span><a href=\"#Testing-the-model\" data-toc-modified-id=\"Testing-the-model-4\">\n",
    "        <span class=\"toc-item-num\">4&nbsp;&nbsp;\n",
    "        </span>Testing the model</a></span>\n",
    "            <ul class=\"toc-item\">\n",
    "                <li><span><a href=\"#Decision-tree\" data-toc-modified-id=\"Decision-tree-4.1\">\n",
    "        <span class=\"toc-item-num\">4.1&nbsp;&nbsp;\n",
    "        </span>Decision tree</a></span></li><li>\n",
    "    <span><a href=\"#Random-forest\" data-toc-modified-id=\"Random-forest-4.2\">\n",
    "        <span class=\"toc-item-num\">4.2&nbsp;&nbsp;\n",
    "        </span>Random forest</a></span></li><li>\n",
    "    <span><a href=\"#Extra\" data-toc-modified-id=\"Extra-4.3\">\n",
    "        <span class=\"toc-item-num\">4.3&nbsp;&nbsp;\n",
    "        </span>Extra</a></span>"
   ]
  },
  {
   "cell_type": "markdown",
   "metadata": {
    "id": "71b5LXZlT0V5"
   },
   "source": [
    "## Data preparation"
   ]
  },
  {
   "cell_type": "markdown",
   "metadata": {
    "id": "K0mxP2XfT0V6"
   },
   "source": [
    "Import all necessary libraries."
   ]
  },
  {
   "cell_type": "code",
   "execution_count": 1,
   "metadata": {
    "id": "0zh5SVPeT0V6"
   },
   "outputs": [],
   "source": [
    "import pandas as pd\n",
    "import numpy as np\n",
    "import matplotlib.pyplot as plt\n",
    "from sklearn.model_selection import train_test_split\n",
    "from sklearn.linear_model import LogisticRegression\n",
    "from sklearn.preprocessing import LabelEncoder\n",
    "from sklearn.metrics import precision_recall_curve\n",
    "from sklearn.preprocessing import StandardScaler\n",
    "from sklearn.preprocessing import OrdinalEncoder\n",
    "from sklearn.preprocessing import OneHotEncoder\n",
    "from sklearn.ensemble import RandomForestClassifier\n",
    "from sklearn.tree import DecisionTreeClassifier\n",
    "from sklearn.metrics import accuracy_score\n",
    "from sklearn.metrics import recall_score\n",
    "from sklearn.metrics import precision_score\n",
    "from sklearn.metrics import f1_score\n",
    "from sklearn.metrics import roc_curve\n",
    "from sklearn.metrics import roc_auc_score\n",
    "from matplotlib import pyplot\n",
    "from collections import Counter\n",
    "from sklearn.utils import shuffle"
   ]
  },
  {
   "cell_type": "code",
   "execution_count": null,
   "metadata": {
    "id": "btyc6JJDT0V7"
   },
   "outputs": [],
   "source": [
    "#pip install -U scikit-learn"
   ]
  },
  {
   "cell_type": "code",
   "execution_count": null,
   "metadata": {
    "id": "cpN4xsx6T0V7"
   },
   "outputs": [],
   "source": [
    "#pip install imbalanced-learn"
   ]
  },
  {
   "cell_type": "code",
   "execution_count": 2,
   "metadata": {
    "colab": {
     "base_uri": "https://localhost:8080/"
    },
    "id": "iAu8sJjnT0V7",
    "outputId": "1d058d34-622a-4c86-88f8-e791310333b9"
   },
   "outputs": [
    {
     "name": "stdout",
     "output_type": "stream",
     "text": [
      "Requirement already satisfied: imbalanced-learn in /Users/aasheremeeva/anaconda3/lib/python3.10/site-packages (0.10.1)\n",
      "Collecting imbalanced-learn\n",
      "  Downloading imbalanced_learn-0.11.0-py3-none-any.whl (235 kB)\n",
      "\u001b[2K     \u001b[90m━━━━━━━━━━━━━━━━━━━━━━━━━━━━━━━━━━━━━━━\u001b[0m \u001b[32m235.6/235.6 kB\u001b[0m \u001b[31m9.8 MB/s\u001b[0m eta \u001b[36m0:00:00\u001b[0m\n",
      "\u001b[?25hRequirement already satisfied: joblib>=1.1.1 in /Users/aasheremeeva/anaconda3/lib/python3.10/site-packages (from imbalanced-learn) (1.1.1)\n",
      "Requirement already satisfied: threadpoolctl>=2.0.0 in /Users/aasheremeeva/anaconda3/lib/python3.10/site-packages (from imbalanced-learn) (2.2.0)\n",
      "Requirement already satisfied: scikit-learn>=1.0.2 in /Users/aasheremeeva/anaconda3/lib/python3.10/site-packages (from imbalanced-learn) (1.3.0)\n",
      "Requirement already satisfied: numpy>=1.17.3 in /Users/aasheremeeva/anaconda3/lib/python3.10/site-packages (from imbalanced-learn) (1.23.5)\n",
      "Requirement already satisfied: scipy>=1.5.0 in /Users/aasheremeeva/anaconda3/lib/python3.10/site-packages (from imbalanced-learn) (1.10.0)\n",
      "Installing collected packages: imbalanced-learn\n",
      "  Attempting uninstall: imbalanced-learn\n",
      "    Found existing installation: imbalanced-learn 0.10.1\n",
      "    Uninstalling imbalanced-learn-0.10.1:\n",
      "      Successfully uninstalled imbalanced-learn-0.10.1\n",
      "Successfully installed imbalanced-learn-0.11.0\n",
      "Note: you may need to restart the kernel to use updated packages.\n"
     ]
    }
   ],
   "source": [
    "pip install -U imbalanced-learn"
   ]
  },
  {
   "cell_type": "code",
   "execution_count": null,
   "metadata": {
    "id": "0TPAiaxKT0V7"
   },
   "outputs": [],
   "source": [
    "# !pip3 install imblearn"
   ]
  },
  {
   "cell_type": "code",
   "execution_count": null,
   "metadata": {
    "id": "cg09nz62T0V7"
   },
   "outputs": [],
   "source": [
    "#pip install imblearn"
   ]
  },
  {
   "cell_type": "code",
   "execution_count": 3,
   "metadata": {
    "id": "J4kmr2ssT0V8"
   },
   "outputs": [],
   "source": [
    "from imblearn.over_sampling import SMOTE"
   ]
  },
  {
   "cell_type": "code",
   "execution_count": 4,
   "metadata": {
    "id": "71MaIBG_V67o"
   },
   "outputs": [],
   "source": [
    "data = pd.read_csv('/Users/aasheremeeva/Desktop/All DS Projects/clients churn/Churn.csv')"
   ]
  },
  {
   "cell_type": "markdown",
   "metadata": {
    "id": "n0t1c0eyT0V8"
   },
   "source": [
    "Analysis of the original data."
   ]
  },
  {
   "cell_type": "code",
   "execution_count": 5,
   "metadata": {
    "colab": {
     "base_uri": "https://localhost:8080/"
    },
    "id": "nmUvynbGT0V8",
    "outputId": "a5c65756-fa66-429d-e058-3fc499613f1a"
   },
   "outputs": [
    {
     "name": "stdout",
     "output_type": "stream",
     "text": [
      "<class 'pandas.core.frame.DataFrame'>\n",
      "RangeIndex: 10000 entries, 0 to 9999\n",
      "Data columns (total 14 columns):\n",
      " #   Column           Non-Null Count  Dtype  \n",
      "---  ------           --------------  -----  \n",
      " 0   RowNumber        10000 non-null  int64  \n",
      " 1   CustomerId       10000 non-null  int64  \n",
      " 2   Surname          10000 non-null  object \n",
      " 3   CreditScore      10000 non-null  int64  \n",
      " 4   Geography        10000 non-null  object \n",
      " 5   Gender           10000 non-null  object \n",
      " 6   Age              10000 non-null  int64  \n",
      " 7   Tenure           9091 non-null   float64\n",
      " 8   Balance          10000 non-null  float64\n",
      " 9   NumOfProducts    10000 non-null  int64  \n",
      " 10  HasCrCard        10000 non-null  int64  \n",
      " 11  IsActiveMember   10000 non-null  int64  \n",
      " 12  EstimatedSalary  10000 non-null  float64\n",
      " 13  Exited           10000 non-null  int64  \n",
      "dtypes: float64(3), int64(8), object(3)\n",
      "memory usage: 1.1+ MB\n"
     ]
    }
   ],
   "source": [
    "data.info()"
   ]
  },
  {
   "cell_type": "code",
   "execution_count": 6,
   "metadata": {
    "colab": {
     "base_uri": "https://localhost:8080/",
     "height": 250
    },
    "id": "uVmlDGwCT0V8",
    "outputId": "833127c1-94ba-4c3c-84f4-1a6eaf6a7fa4"
   },
   "outputs": [
    {
     "data": {
      "text/html": [
       "<div>\n",
       "<style scoped>\n",
       "    .dataframe tbody tr th:only-of-type {\n",
       "        vertical-align: middle;\n",
       "    }\n",
       "\n",
       "    .dataframe tbody tr th {\n",
       "        vertical-align: top;\n",
       "    }\n",
       "\n",
       "    .dataframe thead th {\n",
       "        text-align: right;\n",
       "    }\n",
       "</style>\n",
       "<table border=\"1\" class=\"dataframe\">\n",
       "  <thead>\n",
       "    <tr style=\"text-align: right;\">\n",
       "      <th></th>\n",
       "      <th>RowNumber</th>\n",
       "      <th>CustomerId</th>\n",
       "      <th>Surname</th>\n",
       "      <th>CreditScore</th>\n",
       "      <th>Geography</th>\n",
       "      <th>Gender</th>\n",
       "      <th>Age</th>\n",
       "      <th>Tenure</th>\n",
       "      <th>Balance</th>\n",
       "      <th>NumOfProducts</th>\n",
       "      <th>HasCrCard</th>\n",
       "      <th>IsActiveMember</th>\n",
       "      <th>EstimatedSalary</th>\n",
       "      <th>Exited</th>\n",
       "    </tr>\n",
       "  </thead>\n",
       "  <tbody>\n",
       "    <tr>\n",
       "      <th>0</th>\n",
       "      <td>1</td>\n",
       "      <td>15634602</td>\n",
       "      <td>Hargrave</td>\n",
       "      <td>619</td>\n",
       "      <td>France</td>\n",
       "      <td>Female</td>\n",
       "      <td>42</td>\n",
       "      <td>2.0</td>\n",
       "      <td>0.00</td>\n",
       "      <td>1</td>\n",
       "      <td>1</td>\n",
       "      <td>1</td>\n",
       "      <td>101348.88</td>\n",
       "      <td>1</td>\n",
       "    </tr>\n",
       "    <tr>\n",
       "      <th>1</th>\n",
       "      <td>2</td>\n",
       "      <td>15647311</td>\n",
       "      <td>Hill</td>\n",
       "      <td>608</td>\n",
       "      <td>Spain</td>\n",
       "      <td>Female</td>\n",
       "      <td>41</td>\n",
       "      <td>1.0</td>\n",
       "      <td>83807.86</td>\n",
       "      <td>1</td>\n",
       "      <td>0</td>\n",
       "      <td>1</td>\n",
       "      <td>112542.58</td>\n",
       "      <td>0</td>\n",
       "    </tr>\n",
       "    <tr>\n",
       "      <th>2</th>\n",
       "      <td>3</td>\n",
       "      <td>15619304</td>\n",
       "      <td>Onio</td>\n",
       "      <td>502</td>\n",
       "      <td>France</td>\n",
       "      <td>Female</td>\n",
       "      <td>42</td>\n",
       "      <td>8.0</td>\n",
       "      <td>159660.80</td>\n",
       "      <td>3</td>\n",
       "      <td>1</td>\n",
       "      <td>0</td>\n",
       "      <td>113931.57</td>\n",
       "      <td>1</td>\n",
       "    </tr>\n",
       "    <tr>\n",
       "      <th>3</th>\n",
       "      <td>4</td>\n",
       "      <td>15701354</td>\n",
       "      <td>Boni</td>\n",
       "      <td>699</td>\n",
       "      <td>France</td>\n",
       "      <td>Female</td>\n",
       "      <td>39</td>\n",
       "      <td>1.0</td>\n",
       "      <td>0.00</td>\n",
       "      <td>2</td>\n",
       "      <td>0</td>\n",
       "      <td>0</td>\n",
       "      <td>93826.63</td>\n",
       "      <td>0</td>\n",
       "    </tr>\n",
       "    <tr>\n",
       "      <th>4</th>\n",
       "      <td>5</td>\n",
       "      <td>15737888</td>\n",
       "      <td>Mitchell</td>\n",
       "      <td>850</td>\n",
       "      <td>Spain</td>\n",
       "      <td>Female</td>\n",
       "      <td>43</td>\n",
       "      <td>2.0</td>\n",
       "      <td>125510.82</td>\n",
       "      <td>1</td>\n",
       "      <td>1</td>\n",
       "      <td>1</td>\n",
       "      <td>79084.10</td>\n",
       "      <td>0</td>\n",
       "    </tr>\n",
       "  </tbody>\n",
       "</table>\n",
       "</div>"
      ],
      "text/plain": [
       "   RowNumber  CustomerId   Surname  CreditScore Geography  Gender  Age  \\\n",
       "0          1    15634602  Hargrave          619    France  Female   42   \n",
       "1          2    15647311      Hill          608     Spain  Female   41   \n",
       "2          3    15619304      Onio          502    France  Female   42   \n",
       "3          4    15701354      Boni          699    France  Female   39   \n",
       "4          5    15737888  Mitchell          850     Spain  Female   43   \n",
       "\n",
       "   Tenure    Balance  NumOfProducts  HasCrCard  IsActiveMember  \\\n",
       "0     2.0       0.00              1          1               1   \n",
       "1     1.0   83807.86              1          0               1   \n",
       "2     8.0  159660.80              3          1               0   \n",
       "3     1.0       0.00              2          0               0   \n",
       "4     2.0  125510.82              1          1               1   \n",
       "\n",
       "   EstimatedSalary  Exited  \n",
       "0        101348.88       1  \n",
       "1        112542.58       0  \n",
       "2        113931.57       1  \n",
       "3         93826.63       0  \n",
       "4         79084.10       0  "
      ]
     },
     "execution_count": 6,
     "metadata": {},
     "output_type": "execute_result"
    }
   ],
   "source": [
    "data.head(5)"
   ]
  },
  {
   "cell_type": "markdown",
   "metadata": {
    "id": "ewy0r45bT0V8"
   },
   "source": [
    "Variables do we not need:\n",
    "- `Row Number`\n",
    "- `CustomerId`\n",
    "- `Surname`\n",
    "\n",
    "These variables will be removed from the dataset for further analysis, they will not affect the results.\n",
    "\n",
    "Categorical variables (OHE):\n",
    "- `Gender` (categorical/nominal variables)\n",
    "- `Geography` (categorical/nominal variables)\n",
    "\n",
    "Standardization is needed for:\n",
    "- `CreditScore`\n",
    "- `Age`\n",
    "- `Tenure`\n",
    "- `Balance`"
   ]
  },
  {
   "cell_type": "code",
   "execution_count": 7,
   "metadata": {
    "colab": {
     "base_uri": "https://localhost:8080/",
     "height": 424
    },
    "id": "cdHkXbKST0V8",
    "outputId": "3aa04c49-dc21-459d-ad4f-c2d427afa9e8"
   },
   "outputs": [
    {
     "data": {
      "text/html": [
       "<div>\n",
       "<style scoped>\n",
       "    .dataframe tbody tr th:only-of-type {\n",
       "        vertical-align: middle;\n",
       "    }\n",
       "\n",
       "    .dataframe tbody tr th {\n",
       "        vertical-align: top;\n",
       "    }\n",
       "\n",
       "    .dataframe thead th {\n",
       "        text-align: right;\n",
       "    }\n",
       "</style>\n",
       "<table border=\"1\" class=\"dataframe\">\n",
       "  <thead>\n",
       "    <tr style=\"text-align: right;\">\n",
       "      <th></th>\n",
       "      <th>CreditScore</th>\n",
       "      <th>Geography</th>\n",
       "      <th>Gender</th>\n",
       "      <th>Age</th>\n",
       "      <th>Tenure</th>\n",
       "      <th>Balance</th>\n",
       "      <th>NumOfProducts</th>\n",
       "      <th>HasCrCard</th>\n",
       "      <th>IsActiveMember</th>\n",
       "      <th>EstimatedSalary</th>\n",
       "      <th>Exited</th>\n",
       "    </tr>\n",
       "  </thead>\n",
       "  <tbody>\n",
       "    <tr>\n",
       "      <th>0</th>\n",
       "      <td>619</td>\n",
       "      <td>France</td>\n",
       "      <td>Female</td>\n",
       "      <td>42</td>\n",
       "      <td>2.0</td>\n",
       "      <td>0.00</td>\n",
       "      <td>1</td>\n",
       "      <td>1</td>\n",
       "      <td>1</td>\n",
       "      <td>101348.88</td>\n",
       "      <td>1</td>\n",
       "    </tr>\n",
       "    <tr>\n",
       "      <th>1</th>\n",
       "      <td>608</td>\n",
       "      <td>Spain</td>\n",
       "      <td>Female</td>\n",
       "      <td>41</td>\n",
       "      <td>1.0</td>\n",
       "      <td>83807.86</td>\n",
       "      <td>1</td>\n",
       "      <td>0</td>\n",
       "      <td>1</td>\n",
       "      <td>112542.58</td>\n",
       "      <td>0</td>\n",
       "    </tr>\n",
       "    <tr>\n",
       "      <th>2</th>\n",
       "      <td>502</td>\n",
       "      <td>France</td>\n",
       "      <td>Female</td>\n",
       "      <td>42</td>\n",
       "      <td>8.0</td>\n",
       "      <td>159660.80</td>\n",
       "      <td>3</td>\n",
       "      <td>1</td>\n",
       "      <td>0</td>\n",
       "      <td>113931.57</td>\n",
       "      <td>1</td>\n",
       "    </tr>\n",
       "    <tr>\n",
       "      <th>3</th>\n",
       "      <td>699</td>\n",
       "      <td>France</td>\n",
       "      <td>Female</td>\n",
       "      <td>39</td>\n",
       "      <td>1.0</td>\n",
       "      <td>0.00</td>\n",
       "      <td>2</td>\n",
       "      <td>0</td>\n",
       "      <td>0</td>\n",
       "      <td>93826.63</td>\n",
       "      <td>0</td>\n",
       "    </tr>\n",
       "    <tr>\n",
       "      <th>4</th>\n",
       "      <td>850</td>\n",
       "      <td>Spain</td>\n",
       "      <td>Female</td>\n",
       "      <td>43</td>\n",
       "      <td>2.0</td>\n",
       "      <td>125510.82</td>\n",
       "      <td>1</td>\n",
       "      <td>1</td>\n",
       "      <td>1</td>\n",
       "      <td>79084.10</td>\n",
       "      <td>0</td>\n",
       "    </tr>\n",
       "    <tr>\n",
       "      <th>...</th>\n",
       "      <td>...</td>\n",
       "      <td>...</td>\n",
       "      <td>...</td>\n",
       "      <td>...</td>\n",
       "      <td>...</td>\n",
       "      <td>...</td>\n",
       "      <td>...</td>\n",
       "      <td>...</td>\n",
       "      <td>...</td>\n",
       "      <td>...</td>\n",
       "      <td>...</td>\n",
       "    </tr>\n",
       "    <tr>\n",
       "      <th>9995</th>\n",
       "      <td>771</td>\n",
       "      <td>France</td>\n",
       "      <td>Male</td>\n",
       "      <td>39</td>\n",
       "      <td>5.0</td>\n",
       "      <td>0.00</td>\n",
       "      <td>2</td>\n",
       "      <td>1</td>\n",
       "      <td>0</td>\n",
       "      <td>96270.64</td>\n",
       "      <td>0</td>\n",
       "    </tr>\n",
       "    <tr>\n",
       "      <th>9996</th>\n",
       "      <td>516</td>\n",
       "      <td>France</td>\n",
       "      <td>Male</td>\n",
       "      <td>35</td>\n",
       "      <td>10.0</td>\n",
       "      <td>57369.61</td>\n",
       "      <td>1</td>\n",
       "      <td>1</td>\n",
       "      <td>1</td>\n",
       "      <td>101699.77</td>\n",
       "      <td>0</td>\n",
       "    </tr>\n",
       "    <tr>\n",
       "      <th>9997</th>\n",
       "      <td>709</td>\n",
       "      <td>France</td>\n",
       "      <td>Female</td>\n",
       "      <td>36</td>\n",
       "      <td>7.0</td>\n",
       "      <td>0.00</td>\n",
       "      <td>1</td>\n",
       "      <td>0</td>\n",
       "      <td>1</td>\n",
       "      <td>42085.58</td>\n",
       "      <td>1</td>\n",
       "    </tr>\n",
       "    <tr>\n",
       "      <th>9998</th>\n",
       "      <td>772</td>\n",
       "      <td>Germany</td>\n",
       "      <td>Male</td>\n",
       "      <td>42</td>\n",
       "      <td>3.0</td>\n",
       "      <td>75075.31</td>\n",
       "      <td>2</td>\n",
       "      <td>1</td>\n",
       "      <td>0</td>\n",
       "      <td>92888.52</td>\n",
       "      <td>1</td>\n",
       "    </tr>\n",
       "    <tr>\n",
       "      <th>9999</th>\n",
       "      <td>792</td>\n",
       "      <td>France</td>\n",
       "      <td>Female</td>\n",
       "      <td>28</td>\n",
       "      <td>NaN</td>\n",
       "      <td>130142.79</td>\n",
       "      <td>1</td>\n",
       "      <td>1</td>\n",
       "      <td>0</td>\n",
       "      <td>38190.78</td>\n",
       "      <td>0</td>\n",
       "    </tr>\n",
       "  </tbody>\n",
       "</table>\n",
       "<p>10000 rows × 11 columns</p>\n",
       "</div>"
      ],
      "text/plain": [
       "      CreditScore Geography  Gender  Age  Tenure    Balance  NumOfProducts  \\\n",
       "0             619    France  Female   42     2.0       0.00              1   \n",
       "1             608     Spain  Female   41     1.0   83807.86              1   \n",
       "2             502    France  Female   42     8.0  159660.80              3   \n",
       "3             699    France  Female   39     1.0       0.00              2   \n",
       "4             850     Spain  Female   43     2.0  125510.82              1   \n",
       "...           ...       ...     ...  ...     ...        ...            ...   \n",
       "9995          771    France    Male   39     5.0       0.00              2   \n",
       "9996          516    France    Male   35    10.0   57369.61              1   \n",
       "9997          709    France  Female   36     7.0       0.00              1   \n",
       "9998          772   Germany    Male   42     3.0   75075.31              2   \n",
       "9999          792    France  Female   28     NaN  130142.79              1   \n",
       "\n",
       "      HasCrCard  IsActiveMember  EstimatedSalary  Exited  \n",
       "0             1               1        101348.88       1  \n",
       "1             0               1        112542.58       0  \n",
       "2             1               0        113931.57       1  \n",
       "3             0               0         93826.63       0  \n",
       "4             1               1         79084.10       0  \n",
       "...         ...             ...              ...     ...  \n",
       "9995          1               0         96270.64       0  \n",
       "9996          1               1        101699.77       0  \n",
       "9997          0               1         42085.58       1  \n",
       "9998          1               0         92888.52       1  \n",
       "9999          1               0         38190.78       0  \n",
       "\n",
       "[10000 rows x 11 columns]"
      ]
     },
     "execution_count": 7,
     "metadata": {},
     "output_type": "execute_result"
    }
   ],
   "source": [
    "data.drop(columns=data.columns[0:3], axis= 1 , inplace= True)\n",
    "data"
   ]
  },
  {
   "cell_type": "markdown",
   "metadata": {
    "id": "kPuj0l3kT0V8"
   },
   "source": [
    "Checking the data for missing values."
   ]
  },
  {
   "cell_type": "code",
   "execution_count": 8,
   "metadata": {
    "colab": {
     "base_uri": "https://localhost:8080/"
    },
    "id": "mbjPwnL7T0V8",
    "outputId": "fbc568bd-2649-408a-8887-768175b44c33"
   },
   "outputs": [
    {
     "data": {
      "text/plain": [
       "CreditScore          0\n",
       "Geography            0\n",
       "Gender               0\n",
       "Age                  0\n",
       "Tenure             909\n",
       "Balance              0\n",
       "NumOfProducts        0\n",
       "HasCrCard            0\n",
       "IsActiveMember       0\n",
       "EstimatedSalary      0\n",
       "Exited               0\n",
       "dtype: int64"
      ]
     },
     "execution_count": 8,
     "metadata": {},
     "output_type": "execute_result"
    }
   ],
   "source": [
    "data.isna().sum()"
   ]
  },
  {
   "cell_type": "code",
   "execution_count": 9,
   "metadata": {
    "colab": {
     "base_uri": "https://localhost:8080/"
    },
    "id": "1YaXM9txT0V8",
    "outputId": "e643ada2-b8ab-4669-8604-65859d98a6e5"
   },
   "outputs": [
    {
     "name": "stdout",
     "output_type": "stream",
     "text": [
      "5.0\n",
      "4.997690023099769\n"
     ]
    }
   ],
   "source": [
    "print(data['Tenure'].median())\n",
    "print(data['Tenure'].mean())"
   ]
  },
  {
   "cell_type": "markdown",
   "metadata": {
    "id": "LZt9b7_BT0V9"
   },
   "source": [
    "Filling in the missing values of the `Tenure` variable with the median."
   ]
  },
  {
   "cell_type": "code",
   "execution_count": 10,
   "metadata": {
    "colab": {
     "base_uri": "https://localhost:8080/"
    },
    "id": "40MG1WEaT0V9",
    "outputId": "d575f266-3449-43b7-b554-cac4dfa09ef1"
   },
   "outputs": [
    {
     "data": {
      "text/plain": [
       "CreditScore        0\n",
       "Geography          0\n",
       "Gender             0\n",
       "Age                0\n",
       "Tenure             0\n",
       "Balance            0\n",
       "NumOfProducts      0\n",
       "HasCrCard          0\n",
       "IsActiveMember     0\n",
       "EstimatedSalary    0\n",
       "Exited             0\n",
       "dtype: int64"
      ]
     },
     "execution_count": 10,
     "metadata": {},
     "output_type": "execute_result"
    }
   ],
   "source": [
    "data['Tenure'] = data['Tenure'].fillna(data['Tenure'].median())\n",
    "data.isna().sum()"
   ]
  },
  {
   "cell_type": "markdown",
   "metadata": {
    "id": "Z-kj2ZgdT0V9"
   },
   "source": [
    "Preliminary division of data into training, test and validation samples."
   ]
  },
  {
   "cell_type": "code",
   "execution_count": 11,
   "metadata": {
    "id": "3RvWjzBUT0V9"
   },
   "outputs": [],
   "source": [
    "y = data['Exited']\n",
    "X = data.drop('Exited', axis=1)"
   ]
  },
  {
   "cell_type": "code",
   "execution_count": 12,
   "metadata": {
    "id": "OaBJxpVgT0V9"
   },
   "outputs": [],
   "source": [
    "X_train, X_test, y_train, y_test = train_test_split(X, y, test_size=0.2, shuffle = True, random_state = 42)\n",
    "X_train, X_valid, y_train, y_valid = train_test_split(X_train, y_train,  test_size=0.2, random_state= 42)"
   ]
  },
  {
   "cell_type": "code",
   "execution_count": 13,
   "metadata": {
    "colab": {
     "base_uri": "https://localhost:8080/"
    },
    "id": "uxU4YwqAT0V9",
    "outputId": "44509025-7842-4e84-b34c-7617878b621f"
   },
   "outputs": [
    {
     "name": "stdout",
     "output_type": "stream",
     "text": [
      "(6400, 10)\n",
      "(2000, 10)\n",
      "(6400,)\n",
      "(2000,)\n",
      "(6400, 10)\n",
      "(1600, 10)\n",
      "(6400,)\n",
      "(1600,)\n"
     ]
    }
   ],
   "source": [
    "print(X_train.shape)\n",
    "print(X_test.shape)\n",
    "print(y_train.shape)\n",
    "print(y_test.shape)\n",
    "print(X_train.shape)\n",
    "print(X_valid.shape)\n",
    "print(y_train.shape)\n",
    "print(y_valid.shape)"
   ]
  },
  {
   "cell_type": "markdown",
   "metadata": {
    "id": "xm-mBoQGT0V9"
   },
   "source": [
    "Variables standartization:"
   ]
  },
  {
   "cell_type": "code",
   "execution_count": 14,
   "metadata": {
    "id": "tJyRt6i5T0V9"
   },
   "outputs": [],
   "source": [
    "numeric=['CreditScore', 'Age', 'Tenure', 'Balance','NumOfProducts','EstimatedSalary']\n",
    "scaler = StandardScaler()\n",
    "scaler.fit(X_train[numeric])\n",
    "\n",
    "X_train[numeric]=scaler.transform(X_train[numeric])\n",
    "X_train_scaled = pd.DataFrame(X_train[numeric], columns = numeric, index = X_train.index)\n",
    "\n",
    "X_test[numeric]=scaler.transform(X_test[numeric])\n",
    "X_test_scaled = pd.DataFrame(X_test[numeric], columns = numeric, index = X_test.index)\n",
    "\n",
    "X_valid[numeric]=scaler.transform(X_valid[numeric])\n",
    "X_valid_scaled = pd.DataFrame(X_valid[numeric], columns = numeric, index = X_valid.index)"
   ]
  },
  {
   "cell_type": "code",
   "execution_count": 15,
   "metadata": {
    "id": "3pJ_NTlwT0V9"
   },
   "outputs": [],
   "source": [
    "cats=['Geography','Gender']\n",
    "ohs = OneHotEncoder(handle_unknown='ignore', drop='first')\n",
    "X_train_ohs = pd.DataFrame(ohs.fit_transform(X_train[['Geography','Gender']]).toarray(),columns = ohs.get_feature_names_out())\n",
    "X_test_ohs = pd.DataFrame(ohs.transform(X_test[['Geography','Gender']]).toarray(),columns = ohs.get_feature_names_out())\n",
    "X_valid_ohs = pd.DataFrame(ohs.transform(X_valid[['Geography','Gender']]).toarray(),columns = ohs.get_feature_names_out())"
   ]
  },
  {
   "cell_type": "markdown",
   "metadata": {
    "id": "C8Ly-wSxT0V9"
   },
   "source": [
    "Merging all the data."
   ]
  },
  {
   "cell_type": "code",
   "execution_count": 16,
   "metadata": {
    "id": "mE3b6XrET0V-"
   },
   "outputs": [],
   "source": [
    "X_train_final = pd.concat([X_train_scaled.reset_index(), X_train_ohs.reset_index()], axis = 1)\n",
    "X_test_final = pd.concat([X_test_scaled.reset_index(), X_test_ohs.reset_index()], axis = 1)\n",
    "X_valid_final = pd.concat([X_valid_scaled.reset_index(), X_valid_ohs.reset_index()], axis = 1)"
   ]
  },
  {
   "cell_type": "code",
   "execution_count": 17,
   "metadata": {
    "id": "Xm-s0BBMT0V-"
   },
   "outputs": [],
   "source": [
    "X_train_final.isna().sum()\n",
    "X_train_final['Tenure'] = X_train_final['Tenure'].fillna(X_train_final['Tenure'].median())\n",
    "X_test_final['Tenure'] = X_test_final['Tenure'].fillna(X_test_final['Tenure'].median())\n",
    "X_valid_final['Tenure'] = X_valid_final['Tenure'].fillna(X_valid_final['Tenure'].median())"
   ]
  },
  {
   "cell_type": "code",
   "execution_count": 18,
   "metadata": {
    "colab": {
     "base_uri": "https://localhost:8080/"
    },
    "id": "j06wwLDwT0V-",
    "outputId": "501f0fda-30db-4084-beba-a6841edd31f4"
   },
   "outputs": [
    {
     "data": {
      "text/plain": [
       "index                0\n",
       "CreditScore          0\n",
       "Age                  0\n",
       "Tenure               0\n",
       "Balance              0\n",
       "NumOfProducts        0\n",
       "EstimatedSalary      0\n",
       "index                0\n",
       "Geography_Germany    0\n",
       "Geography_Spain      0\n",
       "Gender_Male          0\n",
       "dtype: int64"
      ]
     },
     "execution_count": 18,
     "metadata": {},
     "output_type": "execute_result"
    }
   ],
   "source": [
    "X_train_final.isna().sum()\n",
    "X_test_final.isna().sum()\n",
    "X_valid_final.isna().sum()"
   ]
  },
  {
   "cell_type": "markdown",
   "metadata": {
    "id": "BcEFS_NJT0V-"
   },
   "source": [
    "## Task research"
   ]
  },
  {
   "cell_type": "markdown",
   "metadata": {
    "id": "I9Cvj9-oT0V-"
   },
   "source": [
    "### Data balance check"
   ]
  },
  {
   "cell_type": "code",
   "execution_count": 19,
   "metadata": {
    "colab": {
     "base_uri": "https://localhost:8080/"
    },
    "id": "ovMXqkOaT0V-",
    "outputId": "82bb5993-360a-4c8d-8563-bd431e21c4fe",
    "scrolled": true
   },
   "outputs": [
    {
     "data": {
      "text/plain": [
       "0    5083\n",
       "1    1317\n",
       "Name: Exited, dtype: int64"
      ]
     },
     "execution_count": 19,
     "metadata": {},
     "output_type": "execute_result"
    }
   ],
   "source": [
    "y_train.value_counts()"
   ]
  },
  {
   "cell_type": "markdown",
   "metadata": {
    "id": "z3jNkddZT0V_"
   },
   "source": [
    "The variable shows a strong \"skew\", a clear imbalance is obvious."
   ]
  },
  {
   "cell_type": "markdown",
   "metadata": {
    "id": "NqPy5C3RT0V_"
   },
   "source": [
    "### Model research before data balancing"
   ]
  },
  {
   "cell_type": "markdown",
   "metadata": {
    "id": "9Y9cEjWYT0V_"
   },
   "source": [
    "Since the goal is to predict whether the client will leave the bank in the near future or not, in fact, it is most important to calculate those who will leave (\"Exited\"=1) in the most accurate way. In this case, the focus will be on maximization of precision metric, but at the same time the F1 metric."
   ]
  },
  {
   "cell_type": "markdown",
   "metadata": {
    "id": "nPr-LB4OT0V_"
   },
   "source": [
    "#### Logistic regression"
   ]
  },
  {
   "cell_type": "code",
   "execution_count": 20,
   "metadata": {
    "colab": {
     "base_uri": "https://localhost:8080/"
    },
    "id": "F3CZxV-jT0V_",
    "outputId": "416becc5-82ef-4844-f272-20cbe0819aaf"
   },
   "outputs": [
    {
     "name": "stdout",
     "output_type": "stream",
     "text": [
      "Recall: 0.14678899082568808\n",
      "Precision: 0.4444444444444444\n",
      "F1: 0.22068965517241382\n",
      "ROC_AUC: 0.756540811154272\n"
     ]
    }
   ],
   "source": [
    "model_l = LogisticRegression()\n",
    "model_l.fit(X_train_final, y_train)\n",
    "predict_valid_log = model_l.predict(X_valid_final)\n",
    "\n",
    "\n",
    "probabilities_log = model_l.predict_proba(X_valid_final)\n",
    "probs_log = probabilities_log[:, 1]\n",
    "\n",
    "roc_auc_log = roc_auc_score(y_valid, probs_log)\n",
    "\n",
    "print(\"Recall:\",recall_score(y_valid,predict_valid_log))\n",
    "print(\"Precision:\", precision_score(y_valid,predict_valid_log))\n",
    "print('F1:', f1_score(y_valid,predict_valid_log))\n",
    "print('ROC_AUC:', roc_auc_log)"
   ]
  },
  {
   "cell_type": "markdown",
   "metadata": {
    "id": "qqOgExVdT0V_"
   },
   "source": [
    "#### Decision tree"
   ]
  },
  {
   "cell_type": "code",
   "execution_count": 21,
   "metadata": {
    "colab": {
     "base_uri": "https://localhost:8080/"
    },
    "id": "OMTOrI5WT0V_",
    "outputId": "63ebb50d-217b-4ca4-9a52-259df550964c"
   },
   "outputs": [
    {
     "name": "stdout",
     "output_type": "stream",
     "text": [
      "Recall: 0.4617737003058104\n",
      "Precision: 0.4206128133704735\n",
      "F1: 0.4402332361516035\n",
      "ROC_AUC: 0.6491900708913184\n"
     ]
    }
   ],
   "source": [
    "model_d = DecisionTreeClassifier(random_state=12345)\n",
    "model_d.fit(X_train_final, y_train)\n",
    "predict_valid_d = model_d.predict(X_valid_final)\n",
    "\n",
    "probabilities_d = model_d.predict_proba(X_valid_final)\n",
    "probs_d = probabilities_d[:, 1]\n",
    "\n",
    "roc_auc_d = roc_auc_score(y_valid, probs_d)\n",
    "\n",
    "print(\"Recall:\", recall_score(y_valid, predict_valid_d))\n",
    "print(\"Precision:\", precision_score(y_valid, predict_valid_d))\n",
    "print('F1:', f1_score(y_valid, predict_valid_d))\n",
    "print('ROC_AUC:', roc_auc_d)"
   ]
  },
  {
   "cell_type": "markdown",
   "metadata": {
    "id": "4zc8VEphT0V_"
   },
   "source": [
    "#### Random forest"
   ]
  },
  {
   "cell_type": "code",
   "execution_count": 22,
   "metadata": {
    "colab": {
     "base_uri": "https://localhost:8080/"
    },
    "id": "V8jdJOfwT0V_",
    "outputId": "206ee2e6-f251-4af4-8132-13eec67b60e7"
   },
   "outputs": [
    {
     "name": "stdout",
     "output_type": "stream",
     "text": [
      "Accuracy (best model)on the valid sample: 0.8525\n",
      "RandomForestClassifier(n_estimators=440, random_state=12345)\n"
     ]
    }
   ],
   "source": [
    "best_model_f = None\n",
    "best_result_f = 0.0\n",
    "for est in range(10, 500, 10):\n",
    "    model_forest = RandomForestClassifier(random_state=12345, n_estimators=est)\n",
    "    model_forest.fit(X_train_final, y_train)\n",
    "    result_forest = model_forest.score(X_valid_final, y_valid)\n",
    "    if result_forest > best_result_f:\n",
    "        best_result_f = result_forest\n",
    "        best_model_f = model_forest\n",
    "\n",
    "print(\"Accuracy (best model)on the valid sample:\", best_result_f)\n",
    "print(best_model_f)"
   ]
  },
  {
   "cell_type": "code",
   "execution_count": 23,
   "metadata": {
    "colab": {
     "base_uri": "https://localhost:8080/"
    },
    "id": "p1U0kVJYT0WA",
    "outputId": "f1aacdf9-d7fb-42c5-b0e3-46ae42e9face"
   },
   "outputs": [
    {
     "name": "stdout",
     "output_type": "stream",
     "text": [
      "Recall: 0.42201834862385323\n",
      "Precision: 0.745945945945946\n",
      "F1: 0.5390625\n",
      "ROC_AUC: 0.8433460414009143\n"
     ]
    }
   ],
   "source": [
    "model_rf = RandomForestClassifier(random_state=12345, n_estimators = 440)\n",
    "model_rf.fit(X_train_final, y_train)\n",
    "predict_valid_rf = model_rf.predict(X_valid_final)\n",
    "\n",
    "probabilities_rf = model_rf.predict_proba(X_valid_final)\n",
    "probs_rf = probabilities_rf[:, 1]\n",
    "\n",
    "roc_auc_rf = roc_auc_score(y_valid, probs_rf)\n",
    "\n",
    "print(\"Recall:\",recall_score(y_valid, predict_valid_rf))\n",
    "print(\"Precision:\", precision_score(y_valid, predict_valid_rf))\n",
    "print('F1:', f1_score(y_valid, predict_valid_rf))\n",
    "print('ROC_AUC:', roc_auc_rf)"
   ]
  },
  {
   "cell_type": "markdown",
   "metadata": {
    "id": "CsvtK1LeT0WA"
   },
   "source": [
    "On unbalanced data, the best results in terms of accuracy and F1 are demonstrated by the random forest model. But it will need to be rechecked later on the data after balancing."
   ]
  },
  {
   "cell_type": "markdown",
   "metadata": {
    "id": "fOGHCaCKT0WA"
   },
   "source": [
    "## Fighting the imbalance"
   ]
  },
  {
   "cell_type": "markdown",
   "metadata": {
    "id": "6tQ02WDNT0WA"
   },
   "source": [
    "###  Upsampling method"
   ]
  },
  {
   "cell_type": "markdown",
   "metadata": {
    "id": "ZtZ6RJLnT0WA"
   },
   "source": [
    "Testing the Upsampling method for data balancing. Upsampling consists in manually adding data to the \"minority\" class."
   ]
  },
  {
   "cell_type": "code",
   "execution_count": 24,
   "metadata": {
    "id": "Btq2GFBST0WA",
    "scrolled": true
   },
   "outputs": [],
   "source": [
    "def upsample(features, target, repeat):\n",
    "    features_zeros = features[target.values == 0]\n",
    "    features_ones = features[target.values == 1]\n",
    "    target_zeros = target[target.values == 0]\n",
    "    target_ones = target[target.values == 1]\n",
    "\n",
    "    features_upsampled = pd.concat([features_zeros] + [features_ones]* repeat)\n",
    "    target_upsampled = pd.concat([target_zeros] + [target_ones]* repeat)\n",
    "\n",
    "    features_upsampled, target_upsampled = shuffle(features_upsampled, target_upsampled, random_state=12345)\n",
    "\n",
    "    return features_upsampled, target_upsampled\n",
    "\n",
    "X_train_final_up, y_train_up = upsample(X_train_final, y_train, 10)"
   ]
  },
  {
   "cell_type": "code",
   "execution_count": 25,
   "metadata": {
    "colab": {
     "base_uri": "https://localhost:8080/"
    },
    "id": "vOSd0sBDT0WA",
    "outputId": "ff86f4ca-5a28-47fb-fc43-c87dec19c386"
   },
   "outputs": [
    {
     "name": "stdout",
     "output_type": "stream",
     "text": [
      "(18253, 11)\n",
      "(18253,)\n"
     ]
    }
   ],
   "source": [
    "print(X_train_final_up.shape)\n",
    "print(y_train_up.shape)"
   ]
  },
  {
   "cell_type": "markdown",
   "metadata": {
    "id": "FIjlq1oGT0WA"
   },
   "source": [
    "### Downsampling method"
   ]
  },
  {
   "cell_type": "code",
   "execution_count": 26,
   "metadata": {
    "id": "oq5j495KT0WA"
   },
   "outputs": [],
   "source": [
    "def downsample(features, target, fraction):\n",
    "    features_zeros = features[target.values == 0]\n",
    "    features_ones = features[target.values == 1]\n",
    "    target_zeros = target[target.values == 0]\n",
    "    target_ones = target[target.values == 1]\n",
    "\n",
    "    features_downsampled = pd.concat(\n",
    "        [features_zeros.sample(frac=fraction, random_state=42)] + [features_ones])\n",
    "    target_downsampled = pd.concat(\n",
    "        [target_zeros.sample(frac=fraction, random_state=42)] + [target_ones])\n",
    "\n",
    "    features_downsampled, target_downsampled = shuffle(\n",
    "        features_downsampled, target_downsampled, random_state=42)\n",
    "\n",
    "    return features_downsampled, target_downsampled\n",
    "\n",
    "X_train_final_down, y_train_down = downsample(X_train_final, y_train, 0.1)"
   ]
  },
  {
   "cell_type": "code",
   "execution_count": 27,
   "metadata": {
    "colab": {
     "base_uri": "https://localhost:8080/"
    },
    "id": "LToQtmlKT0WB",
    "outputId": "cb2a12ea-cca5-4a3c-9bcb-f5a51ef7e4ef"
   },
   "outputs": [
    {
     "name": "stdout",
     "output_type": "stream",
     "text": [
      "(1825, 11)\n",
      "(1825,)\n"
     ]
    }
   ],
   "source": [
    "print(X_train_final_down.shape)\n",
    "print(y_train_down.shape)"
   ]
  },
  {
   "cell_type": "markdown",
   "metadata": {
    "id": "rEKP-ur3T0WB"
   },
   "source": [
    "### SMOTE"
   ]
  },
  {
   "cell_type": "markdown",
   "metadata": {
    "id": "qzOmX6OzT0WB"
   },
   "source": [
    "Performing data balancing using the SMOTE method, since SMOTE controls how much we \"reassign\" the \"minority\" class."
   ]
  },
  {
   "cell_type": "code",
   "execution_count": 28,
   "metadata": {
    "colab": {
     "base_uri": "https://localhost:8080/"
    },
    "id": "UBi35csdT0WB",
    "outputId": "558b812e-3146-4326-a606-0d566f6854d6"
   },
   "outputs": [
    {
     "name": "stdout",
     "output_type": "stream",
     "text": [
      "Before OverSampling, counts of label '1': 1317\n",
      "Before OverSampling, counts of label '0': 5083 \n",
      "\n"
     ]
    }
   ],
   "source": [
    "#data before balancing\n",
    "print(\"Before OverSampling, counts of label '1': {}\".format(sum(y_train.values == 1)))\n",
    "print(\"Before OverSampling, counts of label '0': {} \\n\".format(sum(y_train.values == 0)))"
   ]
  },
  {
   "cell_type": "code",
   "execution_count": 29,
   "metadata": {
    "id": "dCcPBF46T0WB"
   },
   "outputs": [],
   "source": [
    "SMOTE = SMOTE(random_state=42)\n",
    "X_train_final_s=np.array(X_train_final)\n",
    "X_train_SMOTE, y_train_SMOTE = SMOTE.fit_resample(X_train_final_s, y_train)"
   ]
  },
  {
   "cell_type": "code",
   "execution_count": 30,
   "metadata": {
    "colab": {
     "base_uri": "https://localhost:8080/"
    },
    "id": "RToF6ORYT0WB",
    "outputId": "7fbf410e-6758-4261-ab63-9e1df57bd03e"
   },
   "outputs": [
    {
     "name": "stdout",
     "output_type": "stream",
     "text": [
      "After OverSampling, counts of label '1': 5083\n",
      "After OverSampling, counts of label '0': 5083\n"
     ]
    }
   ],
   "source": [
    "#data after balancing\n",
    "print(\"After OverSampling, counts of label '1': {}\".format(sum(y_train_SMOTE.values == 1)))\n",
    "print(\"After OverSampling, counts of label '0': {}\".format(sum(y_train_SMOTE.values == 0)))"
   ]
  },
  {
   "cell_type": "markdown",
   "metadata": {
    "id": "AFfb2dnrT0WB"
   },
   "source": [
    "Balancing was successful. Next: training models on balanced data and testing on a test sample."
   ]
  },
  {
   "cell_type": "markdown",
   "metadata": {
    "id": "gvTIPYCPT0WB"
   },
   "source": [
    "## Testing the model"
   ]
  },
  {
   "cell_type": "markdown",
   "metadata": {
    "id": "eI4BOo8BT0WB"
   },
   "source": [
    "The logistic model showed too poor result at the research stage. Next, we will leave the decision tree and random forest models to check on the test sample."
   ]
  },
  {
   "cell_type": "markdown",
   "metadata": {
    "id": "f_FbiMLsT0WC"
   },
   "source": [
    "### Decision tree"
   ]
  },
  {
   "cell_type": "code",
   "execution_count": 31,
   "metadata": {
    "colab": {
     "base_uri": "https://localhost:8080/"
    },
    "id": "VLgUIy4YT0WC",
    "outputId": "420895c7-66a3-484d-c7ae-b0274c803ad3"
   },
   "outputs": [
    {
     "name": "stdout",
     "output_type": "stream",
     "text": [
      "Recall before SMOTE: 0.4617737003058104\n",
      "Recall after SMOTE: 0.5038167938931297\n",
      "\n",
      "Precision before SMOTE: 0.4206128133704735\n",
      "Precision after SMOTE: 0.42217484008528783\n",
      "\n",
      "F1 before SMOTE: 0.4402332361516035\n",
      "F1 after SMOTE: 0.4593967517401392\n"
     ]
    },
    {
     "name": "stderr",
     "output_type": "stream",
     "text": [
      "/Users/aasheremeeva/anaconda3/lib/python3.10/site-packages/sklearn/base.py:457: UserWarning: X has feature names, but DecisionTreeClassifier was fitted without feature names\n",
      "  warnings.warn(\n"
     ]
    }
   ],
   "source": [
    "model_d = DecisionTreeClassifier(random_state=12345)\n",
    "model_d.fit(X_train_SMOTE, y_train_SMOTE)\n",
    "predict_test_d = model_d.predict(X_test_final)\n",
    "\n",
    "print(\"Recall before SMOTE:\", recall_score(y_valid, predict_valid_d))\n",
    "print(\"Recall after SMOTE:\", recall_score(y_test, predict_test_d))\n",
    "print()\n",
    "print(\"Precision before SMOTE:\", precision_score(y_valid, predict_valid_d))\n",
    "print(\"Precision after SMOTE:\", precision_score(y_test, predict_test_d))\n",
    "print()\n",
    "print('F1 before SMOTE:', f1_score(y_valid, predict_valid_d))\n",
    "print('F1 after SMOTE:', f1_score(y_test, predict_test_d))"
   ]
  },
  {
   "cell_type": "markdown",
   "metadata": {
    "id": "cED_ZW6jT0WC"
   },
   "source": [
    "### Random forest"
   ]
  },
  {
   "cell_type": "code",
   "execution_count": 32,
   "metadata": {
    "colab": {
     "base_uri": "https://localhost:8080/"
    },
    "id": "sGooM5vaT0WC",
    "outputId": "979acb2c-a1c5-43c5-9ca4-3b22f927c988"
   },
   "outputs": [
    {
     "name": "stdout",
     "output_type": "stream",
     "text": [
      "Recall before SMOTE: 0.42201834862385323\n",
      "Recall after SMOTE: 0.5089058524173028\n",
      "\n",
      "Precision before SMOTE: 0.745945945945946\n",
      "Precision after SMOTE: 0.6230529595015576\n",
      "\n",
      "F1 before SMOTE: 0.4402332361516035\n",
      "F1 after SMOTE: 0.5390625\n"
     ]
    },
    {
     "name": "stderr",
     "output_type": "stream",
     "text": [
      "/Users/aasheremeeva/anaconda3/lib/python3.10/site-packages/sklearn/base.py:457: UserWarning: X has feature names, but RandomForestClassifier was fitted without feature names\n",
      "  warnings.warn(\n"
     ]
    }
   ],
   "source": [
    "model_rf = RandomForestClassifier(random_state=12345, n_estimators = 440)\n",
    "model_rf.fit(X_train_SMOTE, y_train_SMOTE)\n",
    "predict_test_rf = model_rf.predict(X_test_final)\n",
    "\n",
    "print(\"Recall before SMOTE:\", recall_score(y_valid, predict_valid_rf))\n",
    "print(\"Recall after SMOTE:\", recall_score(y_test, predict_test_rf))\n",
    "print()\n",
    "print(\"Precision before SMOTE:\", precision_score(y_valid, predict_valid_rf))\n",
    "print(\"Precision after SMOTE:\", precision_score(y_test, predict_test_rf))\n",
    "print()\n",
    "print('F1 before SMOTE:', f1_score(y_valid, predict_valid_d))\n",
    "print('F1 after SMOTE:', f1_score(y_valid, predict_valid_rf))"
   ]
  },
  {
   "cell_type": "markdown",
   "metadata": {
    "id": "vaQLJZNLT0WC"
   },
   "source": [
    "As a result, the random forest model shows the best metrics after balancing. Now the threshold value change is needed to check how the metrics will change."
   ]
  },
  {
   "cell_type": "code",
   "execution_count": 33,
   "metadata": {
    "colab": {
     "base_uri": "https://localhost:8080/"
    },
    "id": "W8Iy0-oyT0WC",
    "outputId": "67e6871b-4203-40ca-b413-b165f7e7adb5"
   },
   "outputs": [
    {
     "name": "stderr",
     "output_type": "stream",
     "text": [
      "/Users/aasheremeeva/anaconda3/lib/python3.10/site-packages/sklearn/base.py:457: UserWarning: X has feature names, but RandomForestClassifier was fitted without feature names\n",
      "  warnings.warn(\n"
     ]
    },
    {
     "name": "stdout",
     "output_type": "stream",
     "text": [
      "ROC_AUC: 0.8336357633825298\n",
      "Threshold=0.350, F-Score=0.60687\n"
     ]
    }
   ],
   "source": [
    "probabilities_test = model_rf.predict_proba(X_test_final)\n",
    "probs = probabilities_test[:, 1]\n",
    "\n",
    "roc_auc = roc_auc_score(y_test, probs)\n",
    "print('ROC_AUC:', roc_auc)\n",
    "\n",
    "def marks(probs, threshold):\n",
    " return (probs >= threshold).astype('int')\n",
    "\n",
    "thresholds = np.arange(0, 1, 0.01)\n",
    "scores = [f1_score(y_test, marks(probs, t)) for t in thresholds]\n",
    "ix = np.argmax(scores)\n",
    "print('Threshold=%.3f, F-Score=%.5f' % (thresholds[ix], scores[ix]))"
   ]
  },
  {
   "cell_type": "code",
   "execution_count": 34,
   "metadata": {
    "colab": {
     "base_uri": "https://localhost:8080/",
     "height": 449
    },
    "id": "SguwO86FT0WC",
    "outputId": "09b86c5e-3148-4806-faf5-3709eb1198fa"
   },
   "outputs": [
    {
     "data": {
      "image/png": "[encoded data removed]",
      "text/plain": [
       "<Figure size 640x480 with 1 Axes>"
      ]
     },
     "metadata": {},
     "output_type": "display_data"
    }
   ],
   "source": [
    "fpr, tpr, thresholds = roc_curve(y_test, probs)\n",
    "pyplot.plot([0,1], [0,1], linestyle='--', label='No Skill')\n",
    "pyplot.plot(fpr, tpr, marker='.', label='Logistic')\n",
    "pyplot.xlabel('False Positive Rate')\n",
    "pyplot.ylabel('True Positive Rate')\n",
    "pyplot.legend()\n",
    "pyplot.show()"
   ]
  },
  {
   "cell_type": "markdown",
   "metadata": {
    "id": "oEF0ywlqT0WC"
   },
   "source": [
    "The threshold (0.35) was found at which the F1 metric has grown to 0.6, as well as the ROC-AUC parameter is still much higher than that of the random model(0.5)."
   ]
  },
  {
   "cell_type": "markdown",
   "metadata": {
    "id": "YACeqPEHT0WD"
   },
   "source": [
    "### Extra"
   ]
  },
  {
   "cell_type": "markdown",
   "metadata": {
    "id": "QwKEawqgT0WD"
   },
   "source": [
    "Additionally, a random forest model was performed on combined training and validation samples."
   ]
  },
  {
   "cell_type": "code",
   "execution_count": 35,
   "metadata": {
    "id": "MdmsUp7pT0WD"
   },
   "outputs": [],
   "source": [
    "X_train_valid = pd.concat([X_train_final, X_valid_final])\n",
    "y_train_valid = pd.concat([y_train, y_valid])"
   ]
  },
  {
   "cell_type": "code",
   "execution_count": 36,
   "metadata": {
    "colab": {
     "base_uri": "https://localhost:8080/"
    },
    "id": "LDcTIJ3bT0WD",
    "outputId": "59be5c93-e109-4eb4-8175-ad682af86262"
   },
   "outputs": [
    {
     "name": "stdout",
     "output_type": "stream",
     "text": [
      "Accuracy (best model), valid sample: 1.0\n",
      "RandomForestClassifier(n_estimators=70, random_state=12345)\n"
     ]
    }
   ],
   "source": [
    "best_model_f = None\n",
    "best_result_f = 0.0\n",
    "for est in range(10, 700, 10):\n",
    "    model_forest = RandomForestClassifier(random_state=12345, n_estimators=est)\n",
    "    model_forest.fit(X_train_valid, y_train_valid)\n",
    "    result_forest = model_forest.score(X_train_valid, y_train_valid)\n",
    "    if result_forest > best_result_f:\n",
    "        best_result_f = result_forest\n",
    "        best_model_f = model_forest\n",
    "\n",
    "print(\"Accuracy (best model), valid sample:\", best_result_f)\n",
    "print(best_model_f)"
   ]
  },
  {
   "cell_type": "markdown",
   "metadata": {
    "id": "W__Q3N8HT0WD"
   },
   "source": [
    "Data balancing:"
   ]
  },
  {
   "cell_type": "code",
   "execution_count": 37,
   "metadata": {
    "colab": {
     "base_uri": "https://localhost:8080/"
    },
    "id": "M7V-CDWcT0WD",
    "outputId": "768bf7f3-96d3-4667-fa2f-b4e6485637fc"
   },
   "outputs": [
    {
     "name": "stdout",
     "output_type": "stream",
     "text": [
      "Before OverSampling, counts of label '1': 1644\n",
      "Before OverSampling, counts of label '0': 6356 \n",
      "\n"
     ]
    }
   ],
   "source": [
    "print(\"Before OverSampling, counts of label '1': {}\".format(sum(y_train_valid.values == 1)))\n",
    "print(\"Before OverSampling, counts of label '0': {} \\n\".format(sum(y_train_valid.values == 0)))"
   ]
  },
  {
   "cell_type": "code",
   "execution_count": 38,
   "metadata": {
    "colab": {
     "base_uri": "https://localhost:8080/"
    },
    "id": "fxi8mAS5T0WD",
    "outputId": "0cfb9d72-c4f4-4bd2-848b-2f5e76f9cadc"
   },
   "outputs": [
    {
     "name": "stdout",
     "output_type": "stream",
     "text": [
      "After OverSampling, counts of label '1': 6356\n",
      "After OverSampling, counts of label '0': 6356\n"
     ]
    }
   ],
   "source": [
    "X_train_valid_final_s=np.array(X_train_valid)\n",
    "X_train_valid_SMOTE, y_train_valid_SMOTE = SMOTE.fit_resample(X_train_valid_final_s, y_train_valid)\n",
    "\n",
    "print(\"After OverSampling, counts of label '1': {}\".format(sum(y_train_valid_SMOTE.values == 1)))\n",
    "print(\"After OverSampling, counts of label '0': {}\".format(sum(y_train_valid_SMOTE.values == 0)))"
   ]
  },
  {
   "cell_type": "code",
   "execution_count": 39,
   "metadata": {
    "colab": {
     "base_uri": "https://localhost:8080/"
    },
    "id": "exJiXhG1T0WD",
    "outputId": "59b25493-8724-47d2-d3fc-d000685db295"
   },
   "outputs": [
    {
     "name": "stdout",
     "output_type": "stream",
     "text": [
      "Recall: 0.5139949109414759\n",
      "Precision: 0.6412698412698413\n",
      "F1: 0.5706214689265539\n",
      "ROC_AUC: 0.8354764698337901\n"
     ]
    },
    {
     "name": "stderr",
     "output_type": "stream",
     "text": [
      "/Users/aasheremeeva/anaconda3/lib/python3.10/site-packages/sklearn/base.py:457: UserWarning: X has feature names, but RandomForestClassifier was fitted without feature names\n",
      "  warnings.warn(\n",
      "/Users/aasheremeeva/anaconda3/lib/python3.10/site-packages/sklearn/base.py:457: UserWarning: X has feature names, but RandomForestClassifier was fitted without feature names\n",
      "  warnings.warn(\n"
     ]
    }
   ],
   "source": [
    "model_rf2 = RandomForestClassifier(random_state=12345, n_estimators = 70)\n",
    "model_rf2.fit(X_train_valid_SMOTE, y_train_valid_SMOTE)\n",
    "predict_rf2 = model_rf2.predict(X_test_final)\n",
    "\n",
    "probabilities_rf2 = model_rf2.predict_proba(X_test_final)\n",
    "probs_rf2 = probabilities_rf2[:, 1]\n",
    "\n",
    "roc_auc_rf2 = roc_auc_score(y_test, probs_rf2)\n",
    "\n",
    "print(\"Recall:\",recall_score(y_test, predict_rf2))\n",
    "print(\"Precision:\", precision_score(y_test, predict_rf2))\n",
    "print('F1:', f1_score(y_test, predict_rf2))\n",
    "print('ROC_AUC:', roc_auc_rf2)"
   ]
  },
  {
   "cell_type": "markdown",
   "metadata": {
    "id": "Qr8g7KX1T0WD"
   },
   "source": [
    "When testing a random forest model on a combined test and validation sample, as a result, the F1 value is still slightly below the threshold (0.57 vs. 0.59). There is potential for improving the model."
   ]
  },
  {
   "cell_type": "markdown",
   "metadata": {
    "id": "HlETFD-3T0WD"
   },
   "source": [
    " # Conclusion"
   ]
  },
  {
   "cell_type": "markdown",
   "metadata": {
    "id": "jDtbufljT0WE"
   },
   "source": [
    "Before predicting the target variable, a number of steps were carried out to obtain the final result:\n",
    "- data preprocession (got rid of unnecessary variables, converted categorical ones, filled in the gaps, standardized);\n",
    "- several types of models were studied, the best of which turned out to be a random forest model;\n",
    "- considered data balancing by different methods\n",
    "- random forest model was tested on balanced data and the highest values of key parameters were obtained.\n",
    "\n",
    "As a result, using a random forest model with balanced data with the SMOTE method, a sufficient level of the F1 metric and the AUC-ROC parameter were achieved in order to use the model to predict customer churn. At the same time, there is a potential for improving the model, since with deeper testing (training the model on combined validation and test samples), key metrics do not show the highest indicators."
   ]
  }
 ],
 "metadata": {
  "ExecuteTimeLog": [
   {
    "duration": 45,
    "start_time": "2022-12-14T22:03:26.444Z"
   },
   {
    "duration": 1485,
    "start_time": "2022-12-14T22:03:28.779Z"
   },
   {
    "duration": 203,
    "start_time": "2022-12-14T22:03:31.005Z"
   },
   {
    "duration": 48,
    "start_time": "2022-12-14T22:04:08.999Z"
   },
   {
    "duration": 44,
    "start_time": "2022-12-14T22:04:18.614Z"
   },
   {
    "duration": 1470,
    "start_time": "2022-12-16T11:12:31.108Z"
   },
   {
    "duration": 93,
    "start_time": "2022-12-16T11:12:33.696Z"
   },
   {
    "duration": 17,
    "start_time": "2022-12-16T11:12:46.880Z"
   },
   {
    "duration": 18,
    "start_time": "2022-12-16T11:17:44.370Z"
   },
   {
    "duration": 9,
    "start_time": "2022-12-16T11:17:49.432Z"
   },
   {
    "duration": 10,
    "start_time": "2022-12-16T11:25:10.722Z"
   },
   {
    "duration": 7,
    "start_time": "2022-12-16T11:25:19.611Z"
   },
   {
    "duration": 11,
    "start_time": "2022-12-16T11:25:26.561Z"
   },
   {
    "duration": 6,
    "start_time": "2022-12-16T11:46:29.011Z"
   },
   {
    "duration": 11,
    "start_time": "2022-12-16T11:47:04.725Z"
   },
   {
    "duration": 214,
    "start_time": "2022-12-16T11:48:21.547Z"
   },
   {
    "duration": 10,
    "start_time": "2022-12-16T11:48:57.562Z"
   },
   {
    "duration": 1210,
    "start_time": "2022-12-16T11:49:15.548Z"
   },
   {
    "duration": 47,
    "start_time": "2022-12-16T11:49:16.759Z"
   },
   {
    "duration": 16,
    "start_time": "2022-12-16T11:49:16.807Z"
   },
   {
    "duration": 13,
    "start_time": "2022-12-16T11:49:16.825Z"
   },
   {
    "duration": 20,
    "start_time": "2022-12-16T11:49:16.840Z"
   },
   {
    "duration": 60,
    "start_time": "2022-12-16T11:56:16.423Z"
   },
   {
    "duration": 1565,
    "start_time": "2022-12-16T11:56:21.609Z"
   },
   {
    "duration": 115,
    "start_time": "2022-12-16T11:56:24.545Z"
   },
   {
    "duration": 22,
    "start_time": "2022-12-16T11:56:26.702Z"
   },
   {
    "duration": 85,
    "start_time": "2022-12-16T11:56:29.770Z"
   },
   {
    "duration": 21,
    "start_time": "2022-12-16T11:56:44.576Z"
   },
   {
    "duration": 21,
    "start_time": "2022-12-16T11:56:49.652Z"
   },
   {
    "duration": 25,
    "start_time": "2022-12-16T11:57:07.028Z"
   },
   {
    "duration": 1395,
    "start_time": "2022-12-16T11:57:18.281Z"
   },
   {
    "duration": 54,
    "start_time": "2022-12-16T11:57:19.678Z"
   },
   {
    "duration": 22,
    "start_time": "2022-12-16T11:57:19.734Z"
   },
   {
    "duration": 20,
    "start_time": "2022-12-16T11:57:25.049Z"
   },
   {
    "duration": 118,
    "start_time": "2022-12-16T12:01:21.661Z"
   },
   {
    "duration": 16,
    "start_time": "2022-12-16T12:01:31.739Z"
   },
   {
    "duration": 23,
    "start_time": "2022-12-16T12:02:13.351Z"
   },
   {
    "duration": 22,
    "start_time": "2022-12-16T12:12:23.824Z"
   },
   {
    "duration": 23,
    "start_time": "2022-12-16T12:13:30.319Z"
   },
   {
    "duration": 23,
    "start_time": "2022-12-16T12:13:31.100Z"
   },
   {
    "duration": 21,
    "start_time": "2022-12-16T12:13:31.464Z"
   },
   {
    "duration": 23,
    "start_time": "2022-12-16T12:13:31.902Z"
   },
   {
    "duration": 1460,
    "start_time": "2022-12-16T12:14:11.700Z"
   },
   {
    "duration": 51,
    "start_time": "2022-12-16T12:14:13.162Z"
   },
   {
    "duration": 17,
    "start_time": "2022-12-16T12:14:13.215Z"
   },
   {
    "duration": 22,
    "start_time": "2022-12-16T12:14:21.240Z"
   },
   {
    "duration": 24,
    "start_time": "2022-12-16T12:14:31.921Z"
   },
   {
    "duration": 16,
    "start_time": "2022-12-16T12:15:04.902Z"
   },
   {
    "duration": 16,
    "start_time": "2022-12-16T12:19:41.770Z"
   },
   {
    "duration": 16,
    "start_time": "2022-12-16T12:19:50.750Z"
   },
   {
    "duration": 7,
    "start_time": "2022-12-16T12:25:11.041Z"
   },
   {
    "duration": 5,
    "start_time": "2022-12-16T12:27:23.854Z"
   },
   {
    "duration": 1639,
    "start_time": "2022-12-16T16:51:45.129Z"
   },
   {
    "duration": 132,
    "start_time": "2022-12-16T16:57:44.368Z"
   },
   {
    "duration": 1494,
    "start_time": "2022-12-16T16:58:05.118Z"
   },
   {
    "duration": 115,
    "start_time": "2022-12-16T16:58:06.616Z"
   },
   {
    "duration": 26,
    "start_time": "2022-12-16T16:58:06.733Z"
   },
   {
    "duration": 43,
    "start_time": "2022-12-16T16:58:06.762Z"
   },
   {
    "duration": 8,
    "start_time": "2022-12-16T16:58:06.808Z"
   },
   {
    "duration": 159,
    "start_time": "2022-12-16T16:58:12.425Z"
   },
   {
    "duration": 8,
    "start_time": "2022-12-16T16:58:24.082Z"
   },
   {
    "duration": 8,
    "start_time": "2022-12-16T17:00:07.710Z"
   },
   {
    "duration": 8,
    "start_time": "2022-12-16T17:00:22.810Z"
   },
   {
    "duration": 10,
    "start_time": "2022-12-16T17:22:11.450Z"
   },
   {
    "duration": 6,
    "start_time": "2022-12-16T17:22:13.376Z"
   },
   {
    "duration": 10,
    "start_time": "2022-12-16T17:22:15.164Z"
   },
   {
    "duration": 3,
    "start_time": "2022-12-16T17:41:01.346Z"
   },
   {
    "duration": 9,
    "start_time": "2022-12-16T17:43:58.876Z"
   },
   {
    "duration": 11,
    "start_time": "2022-12-16T17:44:01.760Z"
   },
   {
    "duration": 6,
    "start_time": "2022-12-16T17:44:03.152Z"
   },
   {
    "duration": 17,
    "start_time": "2022-12-16T17:44:04.376Z"
   },
   {
    "duration": 1427,
    "start_time": "2022-12-16T17:44:19.422Z"
   },
   {
    "duration": 54,
    "start_time": "2022-12-16T17:44:20.851Z"
   },
   {
    "duration": 26,
    "start_time": "2022-12-16T17:44:20.908Z"
   },
   {
    "duration": 24,
    "start_time": "2022-12-16T17:44:20.936Z"
   },
   {
    "duration": 7,
    "start_time": "2022-12-16T17:44:20.962Z"
   },
   {
    "duration": 6,
    "start_time": "2022-12-16T17:44:25.560Z"
   },
   {
    "duration": 9,
    "start_time": "2022-12-16T17:45:06.300Z"
   },
   {
    "duration": 136,
    "start_time": "2022-12-16T17:45:08.368Z"
   },
   {
    "duration": 5,
    "start_time": "2022-12-16T17:45:15.067Z"
   },
   {
    "duration": 11,
    "start_time": "2022-12-16T17:45:38.596Z"
   },
   {
    "duration": 31,
    "start_time": "2022-12-16T17:45:42.186Z"
   },
   {
    "duration": 9,
    "start_time": "2022-12-16T17:46:09.697Z"
   },
   {
    "duration": 4,
    "start_time": "2022-12-16T17:46:12.653Z"
   },
   {
    "duration": 5,
    "start_time": "2022-12-16T17:46:24.622Z"
   },
   {
    "duration": 12,
    "start_time": "2022-12-16T17:46:41.184Z"
   },
   {
    "duration": 13,
    "start_time": "2022-12-16T17:47:02.044Z"
   },
   {
    "duration": 16,
    "start_time": "2022-12-16T17:47:06.372Z"
   },
   {
    "duration": 9,
    "start_time": "2022-12-16T17:47:09.432Z"
   },
   {
    "duration": 18,
    "start_time": "2022-12-16T17:47:22.131Z"
   },
   {
    "duration": 9,
    "start_time": "2022-12-16T17:47:32.934Z"
   },
   {
    "duration": 12,
    "start_time": "2022-12-16T17:53:41.154Z"
   },
   {
    "duration": 5,
    "start_time": "2022-12-16T17:53:49.738Z"
   },
   {
    "duration": 1505,
    "start_time": "2022-12-16T18:01:31.995Z"
   },
   {
    "duration": 54,
    "start_time": "2022-12-16T18:01:33.502Z"
   },
   {
    "duration": 21,
    "start_time": "2022-12-16T18:01:33.558Z"
   },
   {
    "duration": 22,
    "start_time": "2022-12-16T18:01:33.581Z"
   },
   {
    "duration": 22,
    "start_time": "2022-12-16T18:01:33.606Z"
   },
   {
    "duration": 14,
    "start_time": "2022-12-16T18:01:33.630Z"
   },
   {
    "duration": 12,
    "start_time": "2022-12-16T18:01:33.646Z"
   },
   {
    "duration": 111,
    "start_time": "2022-12-16T18:01:38.560Z"
   },
   {
    "duration": 13,
    "start_time": "2022-12-16T18:02:31.975Z"
   },
   {
    "duration": 15,
    "start_time": "2022-12-16T18:05:19.893Z"
   },
   {
    "duration": 36,
    "start_time": "2022-12-16T18:05:31.770Z"
   },
   {
    "duration": 9,
    "start_time": "2022-12-16T18:06:31.878Z"
   },
   {
    "duration": 8,
    "start_time": "2022-12-16T18:06:36.164Z"
   },
   {
    "duration": 17,
    "start_time": "2022-12-16T18:09:41.677Z"
   },
   {
    "duration": 1512,
    "start_time": "2022-12-16T18:09:55.933Z"
   },
   {
    "duration": 52,
    "start_time": "2022-12-16T18:09:57.448Z"
   },
   {
    "duration": 26,
    "start_time": "2022-12-16T18:09:57.502Z"
   },
   {
    "duration": 42,
    "start_time": "2022-12-16T18:09:57.530Z"
   },
   {
    "duration": 14,
    "start_time": "2022-12-16T18:09:57.576Z"
   },
   {
    "duration": 6,
    "start_time": "2022-12-16T18:10:04.285Z"
   },
   {
    "duration": 10,
    "start_time": "2022-12-16T18:10:12.330Z"
   },
   {
    "duration": 10,
    "start_time": "2022-12-16T18:10:32.241Z"
   },
   {
    "duration": 22,
    "start_time": "2022-12-16T18:10:34.431Z"
   },
   {
    "duration": 6,
    "start_time": "2022-12-16T18:10:41.528Z"
   },
   {
    "duration": 118,
    "start_time": "2022-12-16T18:10:44.947Z"
   },
   {
    "duration": 11,
    "start_time": "2022-12-16T18:10:47.388Z"
   },
   {
    "duration": 11,
    "start_time": "2022-12-16T18:10:51.144Z"
   },
   {
    "duration": 4,
    "start_time": "2022-12-16T18:11:01.377Z"
   },
   {
    "duration": 3,
    "start_time": "2022-12-16T18:11:02.389Z"
   },
   {
    "duration": 11,
    "start_time": "2022-12-16T18:11:06.900Z"
   },
   {
    "duration": 5,
    "start_time": "2022-12-16T18:11:13.021Z"
   },
   {
    "duration": 6,
    "start_time": "2022-12-16T18:11:20.321Z"
   },
   {
    "duration": 14,
    "start_time": "2022-12-16T18:11:26.632Z"
   },
   {
    "duration": 4,
    "start_time": "2022-12-16T18:11:29.962Z"
   },
   {
    "duration": 10,
    "start_time": "2022-12-16T18:12:41.042Z"
   },
   {
    "duration": 13,
    "start_time": "2022-12-16T18:12:46.548Z"
   },
   {
    "duration": 14,
    "start_time": "2022-12-16T18:16:23.105Z"
   },
   {
    "duration": 16,
    "start_time": "2022-12-16T18:16:32.786Z"
   },
   {
    "duration": 20,
    "start_time": "2022-12-16T18:17:14.651Z"
   },
   {
    "duration": 15,
    "start_time": "2022-12-16T18:18:43.012Z"
   },
   {
    "duration": 14,
    "start_time": "2022-12-16T18:18:44.449Z"
   },
   {
    "duration": 1456,
    "start_time": "2022-12-16T18:23:03.270Z"
   },
   {
    "duration": 84,
    "start_time": "2022-12-16T18:23:06.412Z"
   },
   {
    "duration": 25,
    "start_time": "2022-12-16T18:23:08.796Z"
   },
   {
    "duration": 6807,
    "start_time": "2022-12-16T18:24:42.335Z"
   },
   {
    "duration": 4,
    "start_time": "2022-12-16T18:25:08.796Z"
   },
   {
    "duration": 65,
    "start_time": "2022-12-16T18:25:11.134Z"
   },
   {
    "duration": 21,
    "start_time": "2022-12-16T18:25:13.139Z"
   },
   {
    "duration": 49,
    "start_time": "2022-12-16T18:25:48.321Z"
   },
   {
    "duration": 21,
    "start_time": "2022-12-16T18:25:49.913Z"
   },
   {
    "duration": 21,
    "start_time": "2022-12-16T18:25:51.379Z"
   },
   {
    "duration": 8,
    "start_time": "2022-12-16T18:25:53.504Z"
   },
   {
    "duration": 5,
    "start_time": "2022-12-16T18:25:57.276Z"
   },
   {
    "duration": 9,
    "start_time": "2022-12-16T18:26:16.331Z"
   },
   {
    "duration": 15,
    "start_time": "2022-12-16T18:27:30.613Z"
   },
   {
    "duration": 8,
    "start_time": "2022-12-16T18:27:39.995Z"
   },
   {
    "duration": 51,
    "start_time": "2022-12-16T18:34:00.317Z"
   },
   {
    "duration": 789,
    "start_time": "2022-12-16T18:34:16.949Z"
   },
   {
    "duration": 21,
    "start_time": "2022-12-16T18:34:55.609Z"
   },
   {
    "duration": 15,
    "start_time": "2022-12-16T18:35:13.609Z"
   },
   {
    "duration": 16,
    "start_time": "2022-12-16T18:35:21.244Z"
   },
   {
    "duration": 14,
    "start_time": "2022-12-16T18:35:25.176Z"
   },
   {
    "duration": 1453,
    "start_time": "2022-12-16T18:40:29.157Z"
   },
   {
    "duration": 2685,
    "start_time": "2022-12-16T18:40:30.612Z"
   },
   {
    "duration": 57,
    "start_time": "2022-12-16T18:40:33.300Z"
   },
   {
    "duration": 28,
    "start_time": "2022-12-16T18:40:33.360Z"
   },
   {
    "duration": 33,
    "start_time": "2022-12-16T18:40:33.390Z"
   },
   {
    "duration": 13,
    "start_time": "2022-12-16T18:40:33.425Z"
   },
   {
    "duration": 5,
    "start_time": "2022-12-16T18:40:33.440Z"
   },
   {
    "duration": 11,
    "start_time": "2022-12-16T18:40:33.447Z"
   },
   {
    "duration": 6,
    "start_time": "2022-12-16T18:40:38.975Z"
   },
   {
    "duration": 8,
    "start_time": "2022-12-16T18:40:40.018Z"
   },
   {
    "duration": 18,
    "start_time": "2022-12-16T19:13:05.992Z"
   },
   {
    "duration": 797,
    "start_time": "2022-12-16T19:14:28.192Z"
   },
   {
    "duration": 9,
    "start_time": "2022-12-16T19:14:38.956Z"
   },
   {
    "duration": 5,
    "start_time": "2022-12-16T19:15:01.727Z"
   },
   {
    "duration": 18,
    "start_time": "2022-12-16T19:15:04.930Z"
   },
   {
    "duration": 4,
    "start_time": "2022-12-16T19:17:47.700Z"
   },
   {
    "duration": 32,
    "start_time": "2022-12-16T19:21:03.515Z"
   },
   {
    "duration": 10,
    "start_time": "2022-12-16T19:21:40.415Z"
   },
   {
    "duration": 14,
    "start_time": "2022-12-16T19:26:52.109Z"
   },
   {
    "duration": 15,
    "start_time": "2022-12-16T19:26:56.907Z"
   },
   {
    "duration": 14,
    "start_time": "2022-12-16T19:27:16.921Z"
   },
   {
    "duration": 22,
    "start_time": "2022-12-16T19:27:36.532Z"
   },
   {
    "duration": 15,
    "start_time": "2022-12-16T19:28:22.454Z"
   },
   {
    "duration": 30,
    "start_time": "2022-12-16T19:28:26.755Z"
   },
   {
    "duration": 1185,
    "start_time": "2022-12-16T19:29:31.782Z"
   },
   {
    "duration": 2542,
    "start_time": "2022-12-16T19:29:32.969Z"
   },
   {
    "duration": 56,
    "start_time": "2022-12-16T19:29:35.513Z"
   },
   {
    "duration": 19,
    "start_time": "2022-12-16T19:29:35.570Z"
   },
   {
    "duration": 22,
    "start_time": "2022-12-16T19:29:35.591Z"
   },
   {
    "duration": 18,
    "start_time": "2022-12-16T19:29:35.615Z"
   },
   {
    "duration": 11,
    "start_time": "2022-12-16T19:29:35.635Z"
   },
   {
    "duration": 17,
    "start_time": "2022-12-16T19:29:35.648Z"
   },
   {
    "duration": 121,
    "start_time": "2022-12-16T19:33:51.677Z"
   },
   {
    "duration": 14,
    "start_time": "2022-12-16T19:34:13.515Z"
   },
   {
    "duration": 37,
    "start_time": "2022-12-16T19:34:16.475Z"
   },
   {
    "duration": 1122,
    "start_time": "2022-12-16T19:35:22.272Z"
   },
   {
    "duration": 2464,
    "start_time": "2022-12-16T19:35:23.396Z"
   },
   {
    "duration": 53,
    "start_time": "2022-12-16T19:35:25.861Z"
   },
   {
    "duration": 18,
    "start_time": "2022-12-16T19:35:25.916Z"
   },
   {
    "duration": 26,
    "start_time": "2022-12-16T19:35:25.935Z"
   },
   {
    "duration": 10,
    "start_time": "2022-12-16T19:35:25.963Z"
   },
   {
    "duration": 9,
    "start_time": "2022-12-16T19:35:25.975Z"
   },
   {
    "duration": 38,
    "start_time": "2022-12-16T19:35:25.985Z"
   },
   {
    "duration": 297,
    "start_time": "2022-12-16T19:35:34.659Z"
   },
   {
    "duration": 19,
    "start_time": "2022-12-16T19:37:23.408Z"
   },
   {
    "duration": 18,
    "start_time": "2022-12-16T19:37:30.836Z"
   },
   {
    "duration": 23,
    "start_time": "2022-12-16T19:37:51.308Z"
   },
   {
    "duration": 21,
    "start_time": "2022-12-16T19:37:54.282Z"
   },
   {
    "duration": 17,
    "start_time": "2022-12-16T19:38:31.738Z"
   },
   {
    "duration": 15,
    "start_time": "2022-12-16T19:40:40.972Z"
   },
   {
    "duration": 188,
    "start_time": "2022-12-16T19:40:51.406Z"
   },
   {
    "duration": 180,
    "start_time": "2022-12-16T19:40:57.110Z"
   },
   {
    "duration": 188,
    "start_time": "2022-12-16T19:41:16.844Z"
   },
   {
    "duration": 26,
    "start_time": "2022-12-16T19:41:28.373Z"
   },
   {
    "duration": 1211,
    "start_time": "2022-12-16T19:49:54.472Z"
   },
   {
    "duration": 2531,
    "start_time": "2022-12-16T19:49:55.685Z"
   },
   {
    "duration": 57,
    "start_time": "2022-12-16T19:49:58.218Z"
   },
   {
    "duration": 17,
    "start_time": "2022-12-16T19:49:58.277Z"
   },
   {
    "duration": 20,
    "start_time": "2022-12-16T19:49:58.296Z"
   },
   {
    "duration": 22,
    "start_time": "2022-12-16T19:49:58.317Z"
   },
   {
    "duration": 23,
    "start_time": "2022-12-16T19:49:58.341Z"
   },
   {
    "duration": 30,
    "start_time": "2022-12-16T19:49:58.365Z"
   },
   {
    "duration": 137,
    "start_time": "2022-12-16T19:52:44.135Z"
   },
   {
    "duration": 720,
    "start_time": "2022-12-16T19:52:54.978Z"
   },
   {
    "duration": 761,
    "start_time": "2022-12-16T19:53:55.911Z"
   },
   {
    "duration": 18,
    "start_time": "2022-12-16T19:54:06.915Z"
   },
   {
    "duration": 442,
    "start_time": "2022-12-16T19:54:29.704Z"
   },
   {
    "duration": 45,
    "start_time": "2022-12-16T19:54:43.794Z"
   },
   {
    "duration": 41,
    "start_time": "2022-12-16T19:56:26.756Z"
   },
   {
    "duration": 42,
    "start_time": "2022-12-16T19:56:39.421Z"
   },
   {
    "duration": 10,
    "start_time": "2022-12-16T19:56:48.891Z"
   },
   {
    "duration": 13,
    "start_time": "2022-12-16T19:57:33.562Z"
   },
   {
    "duration": 48,
    "start_time": "2022-12-16T19:58:06.947Z"
   },
   {
    "duration": 16,
    "start_time": "2022-12-16T19:58:11.052Z"
   },
   {
    "duration": 12,
    "start_time": "2022-12-16T19:58:17.673Z"
   },
   {
    "duration": 15,
    "start_time": "2022-12-16T19:58:23.132Z"
   },
   {
    "duration": 12,
    "start_time": "2022-12-16T19:58:36.217Z"
   },
   {
    "duration": 29,
    "start_time": "2022-12-16T20:00:28.868Z"
   },
   {
    "duration": 32,
    "start_time": "2022-12-16T20:01:28.654Z"
   },
   {
    "duration": 22,
    "start_time": "2022-12-16T20:01:44.174Z"
   },
   {
    "duration": 18,
    "start_time": "2022-12-16T20:02:01.963Z"
   },
   {
    "duration": 19,
    "start_time": "2022-12-16T20:02:07.412Z"
   },
   {
    "duration": 14,
    "start_time": "2022-12-16T20:02:53.525Z"
   },
   {
    "duration": 10,
    "start_time": "2022-12-16T20:03:02.338Z"
   },
   {
    "duration": 13,
    "start_time": "2022-12-16T20:03:11.461Z"
   },
   {
    "duration": 13,
    "start_time": "2022-12-16T20:03:17.859Z"
   },
   {
    "duration": 14,
    "start_time": "2022-12-16T20:05:37.241Z"
   },
   {
    "duration": 13,
    "start_time": "2022-12-16T20:06:18.992Z"
   },
   {
    "duration": 14,
    "start_time": "2022-12-16T20:06:22.375Z"
   },
   {
    "duration": 15,
    "start_time": "2022-12-16T20:06:44.819Z"
   },
   {
    "duration": 14,
    "start_time": "2022-12-16T20:06:53.504Z"
   },
   {
    "duration": 12,
    "start_time": "2022-12-16T20:06:57.343Z"
   },
   {
    "duration": 14,
    "start_time": "2022-12-16T20:07:28.226Z"
   },
   {
    "duration": 4,
    "start_time": "2022-12-16T20:08:25.974Z"
   },
   {
    "duration": 6,
    "start_time": "2022-12-16T20:08:27.276Z"
   },
   {
    "duration": 8,
    "start_time": "2022-12-16T20:08:47.786Z"
   },
   {
    "duration": 11,
    "start_time": "2022-12-16T20:09:01.956Z"
   },
   {
    "duration": 20,
    "start_time": "2022-12-16T20:09:07.951Z"
   },
   {
    "duration": 1536,
    "start_time": "2022-12-17T06:26:44.182Z"
   },
   {
    "duration": 6195,
    "start_time": "2022-12-17T06:26:45.721Z"
   },
   {
    "duration": 184,
    "start_time": "2022-12-17T06:26:51.919Z"
   },
   {
    "duration": 18,
    "start_time": "2022-12-17T06:26:52.105Z"
   },
   {
    "duration": 25,
    "start_time": "2022-12-17T06:26:52.125Z"
   },
   {
    "duration": 11,
    "start_time": "2022-12-17T06:26:52.152Z"
   },
   {
    "duration": 13,
    "start_time": "2022-12-17T06:26:52.164Z"
   },
   {
    "duration": 12,
    "start_time": "2022-12-17T06:26:52.178Z"
   },
   {
    "duration": 106,
    "start_time": "2022-12-17T06:28:58.346Z"
   },
   {
    "duration": 15,
    "start_time": "2022-12-17T06:33:24.232Z"
   },
   {
    "duration": 1107,
    "start_time": "2022-12-17T06:33:51.645Z"
   },
   {
    "duration": 2386,
    "start_time": "2022-12-17T06:33:52.754Z"
   },
   {
    "duration": 51,
    "start_time": "2022-12-17T06:33:55.142Z"
   },
   {
    "duration": 16,
    "start_time": "2022-12-17T06:33:55.196Z"
   },
   {
    "duration": 23,
    "start_time": "2022-12-17T06:33:55.213Z"
   },
   {
    "duration": 12,
    "start_time": "2022-12-17T06:33:55.238Z"
   },
   {
    "duration": 7,
    "start_time": "2022-12-17T06:33:55.252Z"
   },
   {
    "duration": 12,
    "start_time": "2022-12-17T06:33:55.260Z"
   },
   {
    "duration": 16,
    "start_time": "2022-12-17T06:35:22.046Z"
   },
   {
    "duration": 3,
    "start_time": "2022-12-17T07:01:02.831Z"
   },
   {
    "duration": 2453,
    "start_time": "2022-12-17T07:01:02.836Z"
   },
   {
    "duration": 50,
    "start_time": "2022-12-17T07:01:05.292Z"
   },
   {
    "duration": 13,
    "start_time": "2022-12-17T07:01:05.343Z"
   },
   {
    "duration": 34,
    "start_time": "2022-12-17T07:01:05.360Z"
   },
   {
    "duration": 22,
    "start_time": "2022-12-17T07:01:05.396Z"
   },
   {
    "duration": 33,
    "start_time": "2022-12-17T07:01:05.420Z"
   },
   {
    "duration": 23,
    "start_time": "2022-12-17T07:01:05.455Z"
   },
   {
    "duration": 33,
    "start_time": "2022-12-17T07:01:10.177Z"
   },
   {
    "duration": 17,
    "start_time": "2022-12-17T07:01:12.870Z"
   },
   {
    "duration": 28,
    "start_time": "2022-12-17T07:05:37.368Z"
   },
   {
    "duration": 6,
    "start_time": "2022-12-17T07:07:08.242Z"
   },
   {
    "duration": 17,
    "start_time": "2022-12-17T07:07:14.571Z"
   },
   {
    "duration": 13,
    "start_time": "2022-12-17T07:07:49.685Z"
   },
   {
    "duration": 7,
    "start_time": "2022-12-17T07:12:40.549Z"
   },
   {
    "duration": 18,
    "start_time": "2022-12-17T07:12:42.263Z"
   },
   {
    "duration": 7,
    "start_time": "2022-12-17T07:12:52.916Z"
   },
   {
    "duration": 18,
    "start_time": "2022-12-17T07:12:54.229Z"
   },
   {
    "duration": 6,
    "start_time": "2022-12-17T07:13:12.579Z"
   },
   {
    "duration": 3,
    "start_time": "2022-12-17T07:13:15.788Z"
   },
   {
    "duration": 3,
    "start_time": "2022-12-17T07:13:18.839Z"
   },
   {
    "duration": 3,
    "start_time": "2022-12-17T07:13:24.499Z"
   },
   {
    "duration": 7,
    "start_time": "2022-12-17T07:13:32.798Z"
   },
   {
    "duration": 17,
    "start_time": "2022-12-17T07:13:36.467Z"
   },
   {
    "duration": 1188,
    "start_time": "2022-12-17T07:14:36.848Z"
   },
   {
    "duration": 2320,
    "start_time": "2022-12-17T07:14:38.038Z"
   },
   {
    "duration": 59,
    "start_time": "2022-12-17T07:14:40.361Z"
   },
   {
    "duration": 23,
    "start_time": "2022-12-17T07:14:40.422Z"
   },
   {
    "duration": 26,
    "start_time": "2022-12-17T07:14:40.447Z"
   },
   {
    "duration": 12,
    "start_time": "2022-12-17T07:14:40.475Z"
   },
   {
    "duration": 33,
    "start_time": "2022-12-17T07:14:40.488Z"
   },
   {
    "duration": 12,
    "start_time": "2022-12-17T07:14:40.523Z"
   },
   {
    "duration": 29,
    "start_time": "2022-12-17T07:14:40.536Z"
   },
   {
    "duration": 14,
    "start_time": "2022-12-17T07:14:40.567Z"
   },
   {
    "duration": 8,
    "start_time": "2022-12-17T07:14:42.829Z"
   },
   {
    "duration": 18,
    "start_time": "2022-12-17T07:14:45.669Z"
   },
   {
    "duration": 12,
    "start_time": "2022-12-17T07:14:59.307Z"
   },
   {
    "duration": 6,
    "start_time": "2022-12-17T07:15:12.206Z"
   },
   {
    "duration": 16,
    "start_time": "2022-12-17T07:15:13.419Z"
   },
   {
    "duration": 5,
    "start_time": "2022-12-17T07:15:22.689Z"
   },
   {
    "duration": 16,
    "start_time": "2022-12-17T07:15:24.089Z"
   },
   {
    "duration": 6,
    "start_time": "2022-12-17T07:15:32.371Z"
   },
   {
    "duration": 21,
    "start_time": "2022-12-17T07:15:34.594Z"
   },
   {
    "duration": 6,
    "start_time": "2022-12-17T07:18:09.297Z"
   },
   {
    "duration": 20,
    "start_time": "2022-12-17T07:18:10.537Z"
   },
   {
    "duration": 1408,
    "start_time": "2022-12-20T05:04:11.809Z"
   },
   {
    "duration": 6345,
    "start_time": "2022-12-20T05:04:13.220Z"
   },
   {
    "duration": 163,
    "start_time": "2022-12-20T05:04:19.567Z"
   },
   {
    "duration": 24,
    "start_time": "2022-12-20T05:04:19.732Z"
   },
   {
    "duration": 20,
    "start_time": "2022-12-20T05:04:19.759Z"
   },
   {
    "duration": 9,
    "start_time": "2022-12-20T05:04:19.780Z"
   },
   {
    "duration": 7,
    "start_time": "2022-12-20T05:04:19.790Z"
   },
   {
    "duration": 10,
    "start_time": "2022-12-20T05:04:19.798Z"
   },
   {
    "duration": 33,
    "start_time": "2022-12-20T05:04:19.810Z"
   },
   {
    "duration": 126,
    "start_time": "2022-12-20T05:04:19.845Z"
   },
   {
    "duration": 0,
    "start_time": "2022-12-20T05:04:19.973Z"
   },
   {
    "duration": 18,
    "start_time": "2022-12-20T05:04:42.356Z"
   },
   {
    "duration": 1084,
    "start_time": "2022-12-20T05:09:15.809Z"
   },
   {
    "duration": 2227,
    "start_time": "2022-12-20T05:09:16.895Z"
   },
   {
    "duration": 49,
    "start_time": "2022-12-20T05:09:19.124Z"
   },
   {
    "duration": 16,
    "start_time": "2022-12-20T05:09:19.175Z"
   },
   {
    "duration": 18,
    "start_time": "2022-12-20T05:09:19.193Z"
   },
   {
    "duration": 8,
    "start_time": "2022-12-20T05:09:19.213Z"
   },
   {
    "duration": 9,
    "start_time": "2022-12-20T05:09:19.222Z"
   },
   {
    "duration": 12,
    "start_time": "2022-12-20T05:09:19.232Z"
   },
   {
    "duration": 47,
    "start_time": "2022-12-20T05:09:19.246Z"
   },
   {
    "duration": 5,
    "start_time": "2022-12-20T05:09:49.993Z"
   },
   {
    "duration": 2317,
    "start_time": "2022-12-20T05:09:50.000Z"
   },
   {
    "duration": 49,
    "start_time": "2022-12-20T05:09:52.319Z"
   },
   {
    "duration": 13,
    "start_time": "2022-12-20T05:09:52.369Z"
   },
   {
    "duration": 27,
    "start_time": "2022-12-20T05:09:52.385Z"
   },
   {
    "duration": 22,
    "start_time": "2022-12-20T05:09:52.413Z"
   },
   {
    "duration": 32,
    "start_time": "2022-12-20T05:09:52.436Z"
   },
   {
    "duration": 28,
    "start_time": "2022-12-20T05:09:52.470Z"
   },
   {
    "duration": 31,
    "start_time": "2022-12-20T05:10:14.254Z"
   },
   {
    "duration": 16,
    "start_time": "2022-12-20T05:10:27.998Z"
   },
   {
    "duration": 6,
    "start_time": "2022-12-20T05:11:26.047Z"
   },
   {
    "duration": 18,
    "start_time": "2022-12-20T05:11:27.985Z"
   },
   {
    "duration": 10,
    "start_time": "2022-12-20T05:31:17.344Z"
   },
   {
    "duration": 41,
    "start_time": "2022-12-20T05:50:25.030Z"
   },
   {
    "duration": 4,
    "start_time": "2022-12-20T05:57:29.051Z"
   },
   {
    "duration": 4,
    "start_time": "2022-12-20T05:57:37.775Z"
   },
   {
    "duration": 130,
    "start_time": "2022-12-20T06:00:32.989Z"
   },
   {
    "duration": 4,
    "start_time": "2022-12-20T06:01:08.356Z"
   },
   {
    "duration": 8,
    "start_time": "2022-12-20T06:01:35.698Z"
   },
   {
    "duration": 58,
    "start_time": "2022-12-20T19:31:41.036Z"
   },
   {
    "duration": 1663,
    "start_time": "2022-12-20T19:31:46.808Z"
   },
   {
    "duration": 6251,
    "start_time": "2022-12-20T19:31:48.474Z"
   },
   {
    "duration": 90,
    "start_time": "2022-12-20T19:31:54.727Z"
   },
   {
    "duration": 19,
    "start_time": "2022-12-20T19:31:54.820Z"
   },
   {
    "duration": 38,
    "start_time": "2022-12-20T19:31:54.841Z"
   },
   {
    "duration": 13,
    "start_time": "2022-12-20T19:31:54.882Z"
   },
   {
    "duration": 6,
    "start_time": "2022-12-20T19:31:54.897Z"
   },
   {
    "duration": 13,
    "start_time": "2022-12-20T19:31:54.905Z"
   },
   {
    "duration": 71,
    "start_time": "2022-12-20T19:31:54.921Z"
   },
   {
    "duration": 90,
    "start_time": "2022-12-20T19:31:54.994Z"
   },
   {
    "duration": 0,
    "start_time": "2022-12-20T19:31:55.086Z"
   },
   {
    "duration": 1,
    "start_time": "2022-12-20T19:31:55.087Z"
   },
   {
    "duration": 10,
    "start_time": "2022-12-20T19:31:57.577Z"
   },
   {
    "duration": 1272,
    "start_time": "2022-12-20T19:32:18.586Z"
   },
   {
    "duration": 2514,
    "start_time": "2022-12-20T19:32:19.860Z"
   },
   {
    "duration": 54,
    "start_time": "2022-12-20T19:32:22.376Z"
   },
   {
    "duration": 18,
    "start_time": "2022-12-20T19:32:22.431Z"
   },
   {
    "duration": 37,
    "start_time": "2022-12-20T19:32:22.451Z"
   },
   {
    "duration": 13,
    "start_time": "2022-12-20T19:32:22.490Z"
   },
   {
    "duration": 6,
    "start_time": "2022-12-20T19:32:22.505Z"
   },
   {
    "duration": 16,
    "start_time": "2022-12-20T19:32:22.513Z"
   },
   {
    "duration": 32,
    "start_time": "2022-12-20T19:32:48.261Z"
   },
   {
    "duration": 19,
    "start_time": "2022-12-20T19:32:52.238Z"
   },
   {
    "duration": 9,
    "start_time": "2022-12-20T19:32:54.333Z"
   },
   {
    "duration": 6,
    "start_time": "2022-12-20T19:32:55.763Z"
   },
   {
    "duration": 131,
    "start_time": "2022-12-20T19:32:57.404Z"
   },
   {
    "duration": 21,
    "start_time": "2022-12-20T19:33:27.038Z"
   },
   {
    "duration": 6,
    "start_time": "2022-12-20T19:33:31.565Z"
   },
   {
    "duration": 7,
    "start_time": "2022-12-20T19:33:40.199Z"
   },
   {
    "duration": 7,
    "start_time": "2022-12-20T19:33:59.552Z"
   },
   {
    "duration": 11,
    "start_time": "2022-12-20T19:34:15.439Z"
   },
   {
    "duration": 8,
    "start_time": "2022-12-20T19:34:28.293Z"
   },
   {
    "duration": 8,
    "start_time": "2022-12-20T19:34:35.836Z"
   },
   {
    "duration": 7,
    "start_time": "2022-12-20T19:34:43.157Z"
   },
   {
    "duration": 6,
    "start_time": "2022-12-20T19:34:45.999Z"
   },
   {
    "duration": 8,
    "start_time": "2022-12-20T19:34:53.312Z"
   },
   {
    "duration": 45,
    "start_time": "2022-12-20T19:40:51.204Z"
   },
   {
    "duration": 10,
    "start_time": "2022-12-20T19:40:54.629Z"
   },
   {
    "duration": 7,
    "start_time": "2022-12-20T19:40:57.468Z"
   },
   {
    "duration": 20,
    "start_time": "2022-12-20T19:41:19.673Z"
   },
   {
    "duration": 7,
    "start_time": "2022-12-20T19:41:23.007Z"
   },
   {
    "duration": 10,
    "start_time": "2022-12-20T19:44:24.374Z"
   },
   {
    "duration": 6,
    "start_time": "2022-12-20T19:44:26.095Z"
   },
   {
    "duration": 10,
    "start_time": "2022-12-20T19:45:06.994Z"
   },
   {
    "duration": 8,
    "start_time": "2022-12-20T19:45:08.624Z"
   },
   {
    "duration": 6,
    "start_time": "2022-12-20T19:45:11.939Z"
   },
   {
    "duration": 643,
    "start_time": "2022-12-20T19:45:14.635Z"
   },
   {
    "duration": 10,
    "start_time": "2022-12-20T19:45:39.166Z"
   },
   {
    "duration": 7,
    "start_time": "2022-12-20T19:45:51.541Z"
   },
   {
    "duration": 1156,
    "start_time": "2022-12-20T19:45:54.223Z"
   },
   {
    "duration": 4,
    "start_time": "2022-12-20T19:47:22.589Z"
   },
   {
    "duration": 428,
    "start_time": "2022-12-20T19:47:25.551Z"
   },
   {
    "duration": 549,
    "start_time": "2022-12-20T19:47:33.233Z"
   },
   {
    "duration": 479,
    "start_time": "2022-12-20T19:47:38.904Z"
   },
   {
    "duration": 506,
    "start_time": "2022-12-20T19:47:49.572Z"
   },
   {
    "duration": 668,
    "start_time": "2022-12-20T19:58:55.110Z"
   },
   {
    "duration": 4,
    "start_time": "2022-12-20T20:03:56.804Z"
   },
   {
    "duration": 886,
    "start_time": "2022-12-20T20:10:50.192Z"
   },
   {
    "duration": 507,
    "start_time": "2022-12-20T20:11:02.871Z"
   },
   {
    "duration": 6,
    "start_time": "2022-12-20T20:24:05.753Z"
   },
   {
    "duration": 1088,
    "start_time": "2022-12-20T20:25:14.891Z"
   },
   {
    "duration": 9,
    "start_time": "2022-12-20T20:26:06.861Z"
   },
   {
    "duration": 8,
    "start_time": "2022-12-20T20:26:23.557Z"
   },
   {
    "duration": 11,
    "start_time": "2022-12-20T20:27:23.193Z"
   },
   {
    "duration": 9,
    "start_time": "2022-12-20T20:27:24.588Z"
   },
   {
    "duration": 506,
    "start_time": "2022-12-20T20:28:07.175Z"
   },
   {
    "duration": 415,
    "start_time": "2022-12-20T20:28:12.270Z"
   },
   {
    "duration": 4,
    "start_time": "2022-12-20T20:28:42.369Z"
   },
   {
    "duration": 567,
    "start_time": "2022-12-20T20:28:53.913Z"
   },
   {
    "duration": 531,
    "start_time": "2022-12-20T20:29:04.948Z"
   },
   {
    "duration": 54,
    "start_time": "2022-12-20T20:30:48.121Z"
   },
   {
    "duration": 58,
    "start_time": "2022-12-20T20:30:51.804Z"
   },
   {
    "duration": 54,
    "start_time": "2022-12-20T20:31:07.997Z"
   },
   {
    "duration": 5164,
    "start_time": "2022-12-20T20:38:46.351Z"
   },
   {
    "duration": 19738,
    "start_time": "2022-12-20T20:39:06.951Z"
   },
   {
    "duration": 45700,
    "start_time": "2022-12-20T20:39:35.518Z"
   },
   {
    "duration": 11,
    "start_time": "2022-12-20T20:43:43.965Z"
   },
   {
    "duration": 223,
    "start_time": "2022-12-20T20:44:34.707Z"
   },
   {
    "duration": 222,
    "start_time": "2022-12-20T20:44:44.605Z"
   },
   {
    "duration": 11,
    "start_time": "2022-12-20T20:56:49.197Z"
   },
   {
    "duration": 10,
    "start_time": "2022-12-20T20:56:57.746Z"
   },
   {
    "duration": 68,
    "start_time": "2022-12-21T20:04:25.079Z"
   },
   {
    "duration": 1665,
    "start_time": "2022-12-21T20:04:29.782Z"
   },
   {
    "duration": 9106,
    "start_time": "2022-12-21T20:04:31.449Z"
   },
   {
    "duration": 93,
    "start_time": "2022-12-21T20:04:40.557Z"
   },
   {
    "duration": 22,
    "start_time": "2022-12-21T20:04:40.652Z"
   },
   {
    "duration": 22,
    "start_time": "2022-12-21T20:04:40.676Z"
   },
   {
    "duration": 9,
    "start_time": "2022-12-21T20:04:40.700Z"
   },
   {
    "duration": 6,
    "start_time": "2022-12-21T20:04:40.710Z"
   },
   {
    "duration": 11,
    "start_time": "2022-12-21T20:04:40.717Z"
   },
   {
    "duration": 72,
    "start_time": "2022-12-21T20:04:40.730Z"
   },
   {
    "duration": 93,
    "start_time": "2022-12-21T20:04:40.804Z"
   },
   {
    "duration": 0,
    "start_time": "2022-12-21T20:04:40.899Z"
   },
   {
    "duration": 0,
    "start_time": "2022-12-21T20:04:40.900Z"
   },
   {
    "duration": 0,
    "start_time": "2022-12-21T20:04:40.902Z"
   },
   {
    "duration": 0,
    "start_time": "2022-12-21T20:04:40.903Z"
   },
   {
    "duration": 0,
    "start_time": "2022-12-21T20:04:40.904Z"
   },
   {
    "duration": 0,
    "start_time": "2022-12-21T20:04:40.907Z"
   },
   {
    "duration": 0,
    "start_time": "2022-12-21T20:04:40.908Z"
   },
   {
    "duration": 0,
    "start_time": "2022-12-21T20:04:40.910Z"
   },
   {
    "duration": 0,
    "start_time": "2022-12-21T20:04:40.911Z"
   },
   {
    "duration": 5,
    "start_time": "2022-12-21T20:05:04.373Z"
   },
   {
    "duration": 27,
    "start_time": "2022-12-21T20:15:50.623Z"
   },
   {
    "duration": 50,
    "start_time": "2022-12-21T20:17:01.689Z"
   },
   {
    "duration": 4,
    "start_time": "2022-12-21T20:21:41.193Z"
   },
   {
    "duration": 47,
    "start_time": "2022-12-21T20:21:43.110Z"
   },
   {
    "duration": 2873,
    "start_time": "2022-12-21T20:21:47.276Z"
   },
   {
    "duration": 23,
    "start_time": "2022-12-21T20:22:09.499Z"
   },
   {
    "duration": 20,
    "start_time": "2022-12-21T20:22:50.015Z"
   },
   {
    "duration": 3,
    "start_time": "2022-12-21T20:22:53.949Z"
   },
   {
    "duration": 1266,
    "start_time": "2022-12-21T20:23:17.726Z"
   },
   {
    "duration": 2053,
    "start_time": "2022-12-21T20:23:21.183Z"
   },
   {
    "duration": 43,
    "start_time": "2022-12-21T20:23:25.280Z"
   },
   {
    "duration": 52,
    "start_time": "2022-12-21T20:23:29.482Z"
   },
   {
    "duration": 18,
    "start_time": "2022-12-21T20:23:31.311Z"
   },
   {
    "duration": 23,
    "start_time": "2022-12-21T20:23:33.274Z"
   },
   {
    "duration": 10,
    "start_time": "2022-12-21T20:23:34.889Z"
   },
   {
    "duration": 4,
    "start_time": "2022-12-21T20:23:36.588Z"
   },
   {
    "duration": 10,
    "start_time": "2022-12-21T20:23:38.346Z"
   },
   {
    "duration": 33,
    "start_time": "2022-12-21T20:23:39.633Z"
   },
   {
    "duration": 17,
    "start_time": "2022-12-21T20:23:41.055Z"
   },
   {
    "duration": 9,
    "start_time": "2022-12-21T20:23:42.615Z"
   },
   {
    "duration": 15,
    "start_time": "2022-12-21T20:23:44.151Z"
   },
   {
    "duration": 8,
    "start_time": "2022-12-21T20:23:45.591Z"
   },
   {
    "duration": 5,
    "start_time": "2022-12-21T20:23:47.134Z"
   },
   {
    "duration": 627,
    "start_time": "2022-12-21T20:23:48.869Z"
   },
   {
    "duration": 115,
    "start_time": "2022-12-21T20:23:50.609Z"
   },
   {
    "duration": 55,
    "start_time": "2022-12-21T20:24:08.680Z"
   },
   {
    "duration": 47303,
    "start_time": "2022-12-21T20:24:10.130Z"
   },
   {
    "duration": 241,
    "start_time": "2022-12-21T20:25:00.218Z"
   },
   {
    "duration": 3,
    "start_time": "2022-12-21T20:26:17.135Z"
   },
   {
    "duration": 30,
    "start_time": "2022-12-21T20:27:17.484Z"
   },
   {
    "duration": 9,
    "start_time": "2022-12-21T20:27:41.437Z"
   },
   {
    "duration": 10,
    "start_time": "2022-12-21T20:27:56.009Z"
   },
   {
    "duration": 2,
    "start_time": "2022-12-21T20:28:06.046Z"
   },
   {
    "duration": 2,
    "start_time": "2022-12-21T20:28:12.541Z"
   },
   {
    "duration": 9,
    "start_time": "2022-12-21T20:28:15.030Z"
   },
   {
    "duration": 10,
    "start_time": "2022-12-21T20:30:38.419Z"
   },
   {
    "duration": 9,
    "start_time": "2022-12-21T20:31:19.002Z"
   },
   {
    "duration": 10,
    "start_time": "2022-12-21T20:31:20.516Z"
   },
   {
    "duration": 3,
    "start_time": "2022-12-21T20:31:37.246Z"
   },
   {
    "duration": 11,
    "start_time": "2022-12-21T20:31:40.370Z"
   },
   {
    "duration": 27,
    "start_time": "2022-12-21T20:32:06.960Z"
   },
   {
    "duration": 14,
    "start_time": "2022-12-21T20:34:18.629Z"
   },
   {
    "duration": 3,
    "start_time": "2022-12-21T20:34:21.558Z"
   },
   {
    "duration": 32,
    "start_time": "2022-12-21T20:34:22.675Z"
   },
   {
    "duration": 12,
    "start_time": "2022-12-21T20:35:31.586Z"
   },
   {
    "duration": 3,
    "start_time": "2022-12-21T20:35:34.647Z"
   },
   {
    "duration": 29,
    "start_time": "2022-12-21T20:35:35.604Z"
   },
   {
    "duration": 15,
    "start_time": "2022-12-21T20:36:40.338Z"
   },
   {
    "duration": 3,
    "start_time": "2022-12-21T20:36:43.329Z"
   },
   {
    "duration": 28,
    "start_time": "2022-12-21T20:36:45.223Z"
   },
   {
    "duration": 11,
    "start_time": "2022-12-21T20:37:11.727Z"
   },
   {
    "duration": 13,
    "start_time": "2022-12-21T20:37:16.293Z"
   },
   {
    "duration": 9,
    "start_time": "2022-12-21T20:37:21.542Z"
   },
   {
    "duration": 5,
    "start_time": "2022-12-21T20:37:46.751Z"
   },
   {
    "duration": 33,
    "start_time": "2022-12-21T20:38:06.398Z"
   },
   {
    "duration": 17,
    "start_time": "2022-12-21T20:40:36.611Z"
   },
   {
    "duration": 3,
    "start_time": "2022-12-21T20:42:17.667Z"
   },
   {
    "duration": 28,
    "start_time": "2022-12-21T20:42:28.621Z"
   },
   {
    "duration": 29,
    "start_time": "2022-12-21T20:42:46.822Z"
   },
   {
    "duration": 29,
    "start_time": "2022-12-21T20:42:53.339Z"
   },
   {
    "duration": 1292,
    "start_time": "2022-12-21T20:43:14.054Z"
   },
   {
    "duration": 2183,
    "start_time": "2022-12-21T20:43:15.348Z"
   },
   {
    "duration": 44,
    "start_time": "2022-12-21T20:43:17.533Z"
   },
   {
    "duration": 3,
    "start_time": "2022-12-21T20:43:17.579Z"
   },
   {
    "duration": 58,
    "start_time": "2022-12-21T20:43:17.584Z"
   },
   {
    "duration": 17,
    "start_time": "2022-12-21T20:43:17.643Z"
   },
   {
    "duration": 20,
    "start_time": "2022-12-21T20:43:17.661Z"
   },
   {
    "duration": 9,
    "start_time": "2022-12-21T20:43:17.682Z"
   },
   {
    "duration": 6,
    "start_time": "2022-12-21T20:43:17.692Z"
   },
   {
    "duration": 25,
    "start_time": "2022-12-21T20:43:17.700Z"
   },
   {
    "duration": 30,
    "start_time": "2022-12-21T20:43:17.728Z"
   },
   {
    "duration": 16,
    "start_time": "2022-12-21T20:43:17.759Z"
   },
   {
    "duration": 31,
    "start_time": "2022-12-21T20:43:17.777Z"
   },
   {
    "duration": 16,
    "start_time": "2022-12-21T20:43:17.812Z"
   },
   {
    "duration": 7,
    "start_time": "2022-12-21T20:43:17.830Z"
   },
   {
    "duration": 10,
    "start_time": "2022-12-21T20:43:17.839Z"
   },
   {
    "duration": 1166,
    "start_time": "2022-12-21T20:43:17.851Z"
   },
   {
    "duration": 140,
    "start_time": "2022-12-21T20:43:19.019Z"
   },
   {
    "duration": 47474,
    "start_time": "2022-12-21T20:43:19.160Z"
   },
   {
    "duration": 234,
    "start_time": "2022-12-21T20:44:06.636Z"
   },
   {
    "duration": 3,
    "start_time": "2022-12-21T20:44:06.871Z"
   },
   {
    "duration": 135,
    "start_time": "2022-12-21T20:44:19.935Z"
   },
   {
    "duration": 32,
    "start_time": "2022-12-21T20:44:26.044Z"
   },
   {
    "duration": 14,
    "start_time": "2022-12-21T20:44:57.260Z"
   },
   {
    "duration": 12,
    "start_time": "2022-12-21T20:45:01.450Z"
   },
   {
    "duration": 18,
    "start_time": "2022-12-21T20:49:01.455Z"
   },
   {
    "duration": 30,
    "start_time": "2022-12-21T20:49:14.063Z"
   },
   {
    "duration": 37,
    "start_time": "2022-12-21T20:51:00.341Z"
   },
   {
    "duration": 17,
    "start_time": "2022-12-21T20:51:04.142Z"
   },
   {
    "duration": 18,
    "start_time": "2022-12-21T20:53:51.044Z"
   },
   {
    "duration": 13,
    "start_time": "2022-12-21T20:54:33.804Z"
   },
   {
    "duration": 48,
    "start_time": "2022-12-21T20:54:37.964Z"
   },
   {
    "duration": 48,
    "start_time": "2022-12-21T20:54:45.822Z"
   },
   {
    "duration": 17,
    "start_time": "2022-12-21T20:54:50.880Z"
   },
   {
    "duration": 10,
    "start_time": "2022-12-21T20:55:25.343Z"
   },
   {
    "duration": 3,
    "start_time": "2022-12-21T20:55:28.645Z"
   },
   {
    "duration": 22,
    "start_time": "2022-12-21T20:56:03.411Z"
   },
   {
    "duration": 9,
    "start_time": "2022-12-21T20:56:48.985Z"
   },
   {
    "duration": 7,
    "start_time": "2022-12-21T20:56:59.158Z"
   },
   {
    "duration": 33,
    "start_time": "2022-12-21T20:58:07.894Z"
   },
   {
    "duration": 1309,
    "start_time": "2022-12-21T20:58:38.849Z"
   },
   {
    "duration": 2312,
    "start_time": "2022-12-21T20:58:40.160Z"
   },
   {
    "duration": 75,
    "start_time": "2022-12-21T20:58:42.474Z"
   },
   {
    "duration": 3,
    "start_time": "2022-12-21T20:58:42.551Z"
   },
   {
    "duration": 67,
    "start_time": "2022-12-21T20:58:42.557Z"
   },
   {
    "duration": 22,
    "start_time": "2022-12-21T20:58:42.626Z"
   },
   {
    "duration": 21,
    "start_time": "2022-12-21T20:58:42.650Z"
   },
   {
    "duration": 28,
    "start_time": "2022-12-21T20:58:42.672Z"
   },
   {
    "duration": 9,
    "start_time": "2022-12-21T20:58:42.703Z"
   },
   {
    "duration": 21,
    "start_time": "2022-12-21T20:58:42.716Z"
   },
   {
    "duration": 41,
    "start_time": "2022-12-21T20:58:42.740Z"
   },
   {
    "duration": 29,
    "start_time": "2022-12-21T20:58:42.783Z"
   },
   {
    "duration": 15,
    "start_time": "2022-12-21T20:58:42.814Z"
   },
   {
    "duration": 15,
    "start_time": "2022-12-21T20:58:42.834Z"
   },
   {
    "duration": 8,
    "start_time": "2022-12-21T20:58:42.851Z"
   },
   {
    "duration": 36,
    "start_time": "2022-12-21T20:58:42.860Z"
   },
   {
    "duration": 8,
    "start_time": "2022-12-21T20:58:42.899Z"
   },
   {
    "duration": 2397,
    "start_time": "2022-12-21T20:58:42.909Z"
   },
   {
    "duration": 139,
    "start_time": "2022-12-21T20:58:45.395Z"
   },
   {
    "duration": 50868,
    "start_time": "2022-12-21T20:58:45.536Z"
   },
   {
    "duration": 279,
    "start_time": "2022-12-21T20:59:36.407Z"
   },
   {
    "duration": 11,
    "start_time": "2022-12-21T20:59:36.688Z"
   },
   {
    "duration": 6,
    "start_time": "2022-12-21T20:59:39.240Z"
   },
   {
    "duration": 10,
    "start_time": "2022-12-21T21:00:13.721Z"
   },
   {
    "duration": 148,
    "start_time": "2022-12-21T21:00:41.492Z"
   },
   {
    "duration": 4,
    "start_time": "2022-12-21T21:00:47.088Z"
   },
   {
    "duration": 19,
    "start_time": "2022-12-21T21:02:04.181Z"
   },
   {
    "duration": 1428,
    "start_time": "2022-12-22T13:43:28.989Z"
   },
   {
    "duration": 99,
    "start_time": "2022-12-22T13:43:32.887Z"
   },
   {
    "duration": 99,
    "start_time": "2022-12-22T13:43:38.618Z"
   },
   {
    "duration": 16,
    "start_time": "2022-12-22T13:43:40.583Z"
   },
   {
    "duration": 18,
    "start_time": "2022-12-22T13:43:42.381Z"
   },
   {
    "duration": 8,
    "start_time": "2022-12-22T13:43:44.780Z"
   },
   {
    "duration": 5,
    "start_time": "2022-12-22T13:43:46.707Z"
   },
   {
    "duration": 8,
    "start_time": "2022-12-22T13:43:47.973Z"
   },
   {
    "duration": 31,
    "start_time": "2022-12-22T13:43:49.200Z"
   },
   {
    "duration": 13,
    "start_time": "2022-12-22T13:43:51.221Z"
   },
   {
    "duration": 1303,
    "start_time": "2022-12-22T13:44:20.391Z"
   },
   {
    "duration": 3,
    "start_time": "2022-12-22T13:44:21.696Z"
   },
   {
    "duration": 107,
    "start_time": "2022-12-22T13:44:21.700Z"
   },
   {
    "duration": 0,
    "start_time": "2022-12-22T13:44:21.809Z"
   },
   {
    "duration": 0,
    "start_time": "2022-12-22T13:44:21.811Z"
   },
   {
    "duration": 0,
    "start_time": "2022-12-22T13:44:21.812Z"
   },
   {
    "duration": 0,
    "start_time": "2022-12-22T13:44:21.813Z"
   },
   {
    "duration": 0,
    "start_time": "2022-12-22T13:44:21.814Z"
   },
   {
    "duration": 0,
    "start_time": "2022-12-22T13:44:21.821Z"
   },
   {
    "duration": 0,
    "start_time": "2022-12-22T13:44:21.822Z"
   },
   {
    "duration": 0,
    "start_time": "2022-12-22T13:44:21.823Z"
   },
   {
    "duration": 0,
    "start_time": "2022-12-22T13:44:21.824Z"
   },
   {
    "duration": 0,
    "start_time": "2022-12-22T13:44:21.824Z"
   },
   {
    "duration": 0,
    "start_time": "2022-12-22T13:44:21.825Z"
   },
   {
    "duration": 0,
    "start_time": "2022-12-22T13:44:21.826Z"
   },
   {
    "duration": 0,
    "start_time": "2022-12-22T13:44:21.828Z"
   },
   {
    "duration": 0,
    "start_time": "2022-12-22T13:44:21.828Z"
   },
   {
    "duration": 0,
    "start_time": "2022-12-22T13:44:21.829Z"
   },
   {
    "duration": 0,
    "start_time": "2022-12-22T13:44:21.830Z"
   },
   {
    "duration": 0,
    "start_time": "2022-12-22T13:44:21.831Z"
   },
   {
    "duration": 9,
    "start_time": "2022-12-22T13:44:46.221Z"
   },
   {
    "duration": 3,
    "start_time": "2022-12-22T13:44:51.036Z"
   },
   {
    "duration": 43,
    "start_time": "2022-12-22T13:44:51.041Z"
   },
   {
    "duration": 23,
    "start_time": "2022-12-22T13:44:51.086Z"
   },
   {
    "duration": 0,
    "start_time": "2022-12-22T13:44:51.111Z"
   },
   {
    "duration": 0,
    "start_time": "2022-12-22T13:44:51.112Z"
   },
   {
    "duration": 0,
    "start_time": "2022-12-22T13:44:51.113Z"
   },
   {
    "duration": 0,
    "start_time": "2022-12-22T13:44:51.114Z"
   },
   {
    "duration": 0,
    "start_time": "2022-12-22T13:44:51.115Z"
   },
   {
    "duration": 0,
    "start_time": "2022-12-22T13:44:51.116Z"
   },
   {
    "duration": 0,
    "start_time": "2022-12-22T13:44:51.117Z"
   },
   {
    "duration": 0,
    "start_time": "2022-12-22T13:44:51.118Z"
   },
   {
    "duration": 0,
    "start_time": "2022-12-22T13:44:51.119Z"
   },
   {
    "duration": 0,
    "start_time": "2022-12-22T13:44:51.120Z"
   },
   {
    "duration": 0,
    "start_time": "2022-12-22T13:44:51.120Z"
   },
   {
    "duration": 0,
    "start_time": "2022-12-22T13:44:51.121Z"
   },
   {
    "duration": 0,
    "start_time": "2022-12-22T13:44:51.122Z"
   },
   {
    "duration": 0,
    "start_time": "2022-12-22T13:44:51.123Z"
   },
   {
    "duration": 0,
    "start_time": "2022-12-22T13:44:51.124Z"
   },
   {
    "duration": 0,
    "start_time": "2022-12-22T13:44:51.125Z"
   },
   {
    "duration": 0,
    "start_time": "2022-12-22T13:44:51.126Z"
   },
   {
    "duration": 1304,
    "start_time": "2022-12-22T13:45:05.620Z"
   },
   {
    "duration": 3,
    "start_time": "2022-12-22T13:45:06.926Z"
   },
   {
    "duration": 119,
    "start_time": "2022-12-22T13:45:06.930Z"
   },
   {
    "duration": 0,
    "start_time": "2022-12-22T13:45:07.051Z"
   },
   {
    "duration": 0,
    "start_time": "2022-12-22T13:45:07.052Z"
   },
   {
    "duration": 0,
    "start_time": "2022-12-22T13:45:07.053Z"
   },
   {
    "duration": 0,
    "start_time": "2022-12-22T13:45:07.055Z"
   },
   {
    "duration": 0,
    "start_time": "2022-12-22T13:45:07.056Z"
   },
   {
    "duration": 0,
    "start_time": "2022-12-22T13:45:07.057Z"
   },
   {
    "duration": 0,
    "start_time": "2022-12-22T13:45:07.057Z"
   },
   {
    "duration": 0,
    "start_time": "2022-12-22T13:45:07.058Z"
   },
   {
    "duration": 0,
    "start_time": "2022-12-22T13:45:07.060Z"
   },
   {
    "duration": 0,
    "start_time": "2022-12-22T13:45:07.061Z"
   },
   {
    "duration": 0,
    "start_time": "2022-12-22T13:45:07.062Z"
   },
   {
    "duration": 0,
    "start_time": "2022-12-22T13:45:07.063Z"
   },
   {
    "duration": 0,
    "start_time": "2022-12-22T13:45:07.064Z"
   },
   {
    "duration": 0,
    "start_time": "2022-12-22T13:45:07.065Z"
   },
   {
    "duration": 0,
    "start_time": "2022-12-22T13:45:07.066Z"
   },
   {
    "duration": 0,
    "start_time": "2022-12-22T13:45:07.067Z"
   },
   {
    "duration": 0,
    "start_time": "2022-12-22T13:45:07.069Z"
   },
   {
    "duration": 0,
    "start_time": "2022-12-22T13:45:07.069Z"
   },
   {
    "duration": 3,
    "start_time": "2022-12-22T13:45:28.285Z"
   },
   {
    "duration": 15,
    "start_time": "2022-12-22T13:45:28.290Z"
   },
   {
    "duration": 5,
    "start_time": "2022-12-22T13:45:28.307Z"
   },
   {
    "duration": 13,
    "start_time": "2022-12-22T13:45:28.314Z"
   },
   {
    "duration": 50,
    "start_time": "2022-12-22T13:45:28.329Z"
   },
   {
    "duration": 14,
    "start_time": "2022-12-22T13:45:28.381Z"
   },
   {
    "duration": 21,
    "start_time": "2022-12-22T13:45:28.397Z"
   },
   {
    "duration": 8,
    "start_time": "2022-12-22T13:45:28.419Z"
   },
   {
    "duration": 7,
    "start_time": "2022-12-22T13:45:28.429Z"
   },
   {
    "duration": 14,
    "start_time": "2022-12-22T13:45:28.437Z"
   },
   {
    "duration": 29,
    "start_time": "2022-12-22T13:45:28.452Z"
   },
   {
    "duration": 12,
    "start_time": "2022-12-22T13:45:28.483Z"
   },
   {
    "duration": 0,
    "start_time": "2022-12-22T13:45:28.497Z"
   },
   {
    "duration": 0,
    "start_time": "2022-12-22T13:45:28.498Z"
   },
   {
    "duration": 0,
    "start_time": "2022-12-22T13:45:28.499Z"
   },
   {
    "duration": 0,
    "start_time": "2022-12-22T13:45:28.521Z"
   },
   {
    "duration": 0,
    "start_time": "2022-12-22T13:45:28.522Z"
   },
   {
    "duration": 0,
    "start_time": "2022-12-22T13:45:28.523Z"
   },
   {
    "duration": 0,
    "start_time": "2022-12-22T13:45:28.524Z"
   },
   {
    "duration": 0,
    "start_time": "2022-12-22T13:45:28.525Z"
   },
   {
    "duration": 0,
    "start_time": "2022-12-22T13:45:28.527Z"
   },
   {
    "duration": 13,
    "start_time": "2022-12-22T13:45:43.209Z"
   },
   {
    "duration": 1236,
    "start_time": "2022-12-22T13:45:58.552Z"
   },
   {
    "duration": 3,
    "start_time": "2022-12-22T13:45:59.790Z"
   },
   {
    "duration": 17,
    "start_time": "2022-12-22T13:45:59.794Z"
   },
   {
    "duration": 7,
    "start_time": "2022-12-22T13:45:59.813Z"
   },
   {
    "duration": 55,
    "start_time": "2022-12-22T13:45:59.821Z"
   },
   {
    "duration": 16,
    "start_time": "2022-12-22T13:45:59.877Z"
   },
   {
    "duration": 18,
    "start_time": "2022-12-22T13:45:59.894Z"
   },
   {
    "duration": 8,
    "start_time": "2022-12-22T13:45:59.913Z"
   },
   {
    "duration": 9,
    "start_time": "2022-12-22T13:45:59.923Z"
   },
   {
    "duration": 12,
    "start_time": "2022-12-22T13:45:59.933Z"
   },
   {
    "duration": 31,
    "start_time": "2022-12-22T13:45:59.946Z"
   },
   {
    "duration": 118,
    "start_time": "2022-12-22T13:45:59.979Z"
   },
   {
    "duration": 0,
    "start_time": "2022-12-22T13:46:00.099Z"
   },
   {
    "duration": 0,
    "start_time": "2022-12-22T13:46:00.100Z"
   },
   {
    "duration": 0,
    "start_time": "2022-12-22T13:46:00.101Z"
   },
   {
    "duration": 0,
    "start_time": "2022-12-22T13:46:00.104Z"
   },
   {
    "duration": 0,
    "start_time": "2022-12-22T13:46:00.105Z"
   },
   {
    "duration": 9,
    "start_time": "2022-12-22T13:46:02.658Z"
   },
   {
    "duration": 4,
    "start_time": "2022-12-22T13:46:30.121Z"
   },
   {
    "duration": 16,
    "start_time": "2022-12-22T13:46:30.127Z"
   },
   {
    "duration": 6,
    "start_time": "2022-12-22T13:46:30.145Z"
   },
   {
    "duration": 16,
    "start_time": "2022-12-22T13:46:30.153Z"
   },
   {
    "duration": 67,
    "start_time": "2022-12-22T13:46:30.172Z"
   },
   {
    "duration": 12,
    "start_time": "2022-12-22T13:46:30.241Z"
   },
   {
    "duration": 29,
    "start_time": "2022-12-22T13:46:30.254Z"
   },
   {
    "duration": 12,
    "start_time": "2022-12-22T13:46:30.285Z"
   },
   {
    "duration": 23,
    "start_time": "2022-12-22T13:46:30.298Z"
   },
   {
    "duration": 38,
    "start_time": "2022-12-22T13:46:30.323Z"
   },
   {
    "duration": 62,
    "start_time": "2022-12-22T13:46:30.362Z"
   },
   {
    "duration": 49,
    "start_time": "2022-12-22T13:46:30.426Z"
   },
   {
    "duration": 0,
    "start_time": "2022-12-22T13:46:30.477Z"
   },
   {
    "duration": 0,
    "start_time": "2022-12-22T13:46:30.478Z"
   },
   {
    "duration": 0,
    "start_time": "2022-12-22T13:46:30.479Z"
   },
   {
    "duration": 0,
    "start_time": "2022-12-22T13:46:30.480Z"
   },
   {
    "duration": 0,
    "start_time": "2022-12-22T13:46:30.481Z"
   },
   {
    "duration": 0,
    "start_time": "2022-12-22T13:46:30.482Z"
   },
   {
    "duration": 0,
    "start_time": "2022-12-22T13:46:30.484Z"
   },
   {
    "duration": 0,
    "start_time": "2022-12-22T13:46:30.485Z"
   },
   {
    "duration": 0,
    "start_time": "2022-12-22T13:46:30.486Z"
   },
   {
    "duration": 13,
    "start_time": "2022-12-22T13:46:39.162Z"
   },
   {
    "duration": 1279,
    "start_time": "2022-12-22T13:47:20.014Z"
   },
   {
    "duration": 52,
    "start_time": "2022-12-22T13:47:23.327Z"
   },
   {
    "duration": 15,
    "start_time": "2022-12-22T13:47:25.104Z"
   },
   {
    "duration": 20,
    "start_time": "2022-12-22T13:47:27.430Z"
   },
   {
    "duration": 8,
    "start_time": "2022-12-22T13:47:29.134Z"
   },
   {
    "duration": 4,
    "start_time": "2022-12-22T13:47:31.150Z"
   },
   {
    "duration": 9,
    "start_time": "2022-12-22T13:47:32.365Z"
   },
   {
    "duration": 30,
    "start_time": "2022-12-22T13:47:37.805Z"
   },
   {
    "duration": 102,
    "start_time": "2022-12-22T13:47:43.292Z"
   },
   {
    "duration": 16,
    "start_time": "2022-12-22T13:47:52.206Z"
   },
   {
    "duration": 1231,
    "start_time": "2022-12-22T13:48:19.871Z"
   },
   {
    "duration": 2,
    "start_time": "2022-12-22T13:48:21.104Z"
   },
   {
    "duration": 23,
    "start_time": "2022-12-22T13:48:21.108Z"
   },
   {
    "duration": 5342,
    "start_time": "2022-12-22T13:48:21.132Z"
   },
   {
    "duration": 51,
    "start_time": "2022-12-22T13:48:26.476Z"
   },
   {
    "duration": 15,
    "start_time": "2022-12-22T13:48:26.529Z"
   },
   {
    "duration": 33,
    "start_time": "2022-12-22T13:48:26.546Z"
   },
   {
    "duration": 59,
    "start_time": "2022-12-22T13:48:26.581Z"
   },
   {
    "duration": 12,
    "start_time": "2022-12-22T13:48:26.641Z"
   },
   {
    "duration": 29,
    "start_time": "2022-12-22T13:48:26.654Z"
   },
   {
    "duration": 42,
    "start_time": "2022-12-22T13:48:26.684Z"
   },
   {
    "duration": 108,
    "start_time": "2022-12-22T13:48:26.728Z"
   },
   {
    "duration": 0,
    "start_time": "2022-12-22T13:48:26.837Z"
   },
   {
    "duration": 0,
    "start_time": "2022-12-22T13:48:26.838Z"
   },
   {
    "duration": 0,
    "start_time": "2022-12-22T13:48:26.839Z"
   },
   {
    "duration": 0,
    "start_time": "2022-12-22T13:48:26.840Z"
   },
   {
    "duration": 0,
    "start_time": "2022-12-22T13:48:26.842Z"
   },
   {
    "duration": 0,
    "start_time": "2022-12-22T13:48:26.843Z"
   },
   {
    "duration": 0,
    "start_time": "2022-12-22T13:48:26.844Z"
   },
   {
    "duration": 1,
    "start_time": "2022-12-22T13:48:26.844Z"
   },
   {
    "duration": 0,
    "start_time": "2022-12-22T13:48:26.846Z"
   },
   {
    "duration": 4,
    "start_time": "2022-12-22T13:50:20.529Z"
   },
   {
    "duration": 40,
    "start_time": "2022-12-22T13:50:20.534Z"
   },
   {
    "duration": 16,
    "start_time": "2022-12-22T13:50:20.576Z"
   },
   {
    "duration": 2288,
    "start_time": "2022-12-22T13:50:20.594Z"
   },
   {
    "duration": 51,
    "start_time": "2022-12-22T13:50:22.884Z"
   },
   {
    "duration": 11,
    "start_time": "2022-12-22T13:50:22.936Z"
   },
   {
    "duration": 21,
    "start_time": "2022-12-22T13:50:22.949Z"
   },
   {
    "duration": 9,
    "start_time": "2022-12-22T13:50:22.971Z"
   },
   {
    "duration": 6,
    "start_time": "2022-12-22T13:50:22.981Z"
   },
   {
    "duration": 9,
    "start_time": "2022-12-22T13:50:22.989Z"
   },
   {
    "duration": 44,
    "start_time": "2022-12-22T13:50:23.000Z"
   },
   {
    "duration": 16,
    "start_time": "2022-12-22T13:50:23.045Z"
   },
   {
    "duration": 0,
    "start_time": "2022-12-22T13:50:23.063Z"
   },
   {
    "duration": 0,
    "start_time": "2022-12-22T13:50:23.064Z"
   },
   {
    "duration": 0,
    "start_time": "2022-12-22T13:50:23.065Z"
   },
   {
    "duration": 0,
    "start_time": "2022-12-22T13:50:23.066Z"
   },
   {
    "duration": 0,
    "start_time": "2022-12-22T13:50:23.067Z"
   },
   {
    "duration": 0,
    "start_time": "2022-12-22T13:50:23.067Z"
   },
   {
    "duration": 0,
    "start_time": "2022-12-22T13:50:23.069Z"
   },
   {
    "duration": 0,
    "start_time": "2022-12-22T13:50:23.069Z"
   },
   {
    "duration": 1095,
    "start_time": "2022-12-22T13:50:38.074Z"
   },
   {
    "duration": 49,
    "start_time": "2022-12-22T13:50:42.218Z"
   },
   {
    "duration": 16,
    "start_time": "2022-12-22T13:50:44.468Z"
   },
   {
    "duration": 19,
    "start_time": "2022-12-22T13:50:46.625Z"
   },
   {
    "duration": 9,
    "start_time": "2022-12-22T13:50:48.383Z"
   },
   {
    "duration": 4,
    "start_time": "2022-12-22T13:50:50.028Z"
   },
   {
    "duration": 9,
    "start_time": "2022-12-22T13:50:51.988Z"
   },
   {
    "duration": 28,
    "start_time": "2022-12-22T13:50:53.828Z"
   },
   {
    "duration": 1118,
    "start_time": "2022-12-22T13:56:41.864Z"
   },
   {
    "duration": 2,
    "start_time": "2022-12-22T13:56:42.984Z"
   },
   {
    "duration": 13,
    "start_time": "2022-12-22T13:56:42.987Z"
   },
   {
    "duration": 2453,
    "start_time": "2022-12-22T13:56:43.002Z"
   },
   {
    "duration": 54,
    "start_time": "2022-12-22T13:56:45.458Z"
   },
   {
    "duration": 16,
    "start_time": "2022-12-22T13:56:45.514Z"
   },
   {
    "duration": 20,
    "start_time": "2022-12-22T13:56:45.531Z"
   },
   {
    "duration": 10,
    "start_time": "2022-12-22T13:56:45.552Z"
   },
   {
    "duration": 5,
    "start_time": "2022-12-22T13:56:45.563Z"
   },
   {
    "duration": 11,
    "start_time": "2022-12-22T13:56:45.570Z"
   },
   {
    "duration": 43,
    "start_time": "2022-12-22T13:56:45.583Z"
   },
   {
    "duration": 14,
    "start_time": "2022-12-22T13:56:45.627Z"
   },
   {
    "duration": 8,
    "start_time": "2022-12-22T13:56:45.642Z"
   },
   {
    "duration": 12,
    "start_time": "2022-12-22T13:56:45.651Z"
   },
   {
    "duration": 7,
    "start_time": "2022-12-22T13:56:45.665Z"
   },
   {
    "duration": 11,
    "start_time": "2022-12-22T13:56:45.673Z"
   },
   {
    "duration": 9,
    "start_time": "2022-12-22T13:56:45.686Z"
   },
   {
    "duration": 725,
    "start_time": "2022-12-22T13:56:45.697Z"
   },
   {
    "duration": 135,
    "start_time": "2022-12-22T13:56:46.424Z"
   },
   {
    "duration": 1123,
    "start_time": "2022-12-22T13:57:01.563Z"
   },
   {
    "duration": 50,
    "start_time": "2022-12-22T13:57:03.543Z"
   },
   {
    "duration": 15,
    "start_time": "2022-12-22T13:57:05.576Z"
   },
   {
    "duration": 17,
    "start_time": "2022-12-22T13:57:07.607Z"
   },
   {
    "duration": 9,
    "start_time": "2022-12-22T13:57:09.534Z"
   },
   {
    "duration": 4,
    "start_time": "2022-12-22T13:57:11.139Z"
   },
   {
    "duration": 9,
    "start_time": "2022-12-22T13:57:12.197Z"
   },
   {
    "duration": 30,
    "start_time": "2022-12-22T13:57:13.630Z"
   },
   {
    "duration": 14,
    "start_time": "2022-12-22T13:57:15.663Z"
   },
   {
    "duration": 9,
    "start_time": "2022-12-22T13:57:21.189Z"
   },
   {
    "duration": 12,
    "start_time": "2022-12-22T13:57:22.621Z"
   },
   {
    "duration": 8,
    "start_time": "2022-12-22T13:57:24.198Z"
   },
   {
    "duration": 5,
    "start_time": "2022-12-22T13:57:25.958Z"
   },
   {
    "duration": 6,
    "start_time": "2022-12-22T13:57:32.305Z"
   },
   {
    "duration": 526,
    "start_time": "2022-12-22T13:57:39.496Z"
   },
   {
    "duration": 50,
    "start_time": "2022-12-22T13:57:41.880Z"
   },
   {
    "duration": 41778,
    "start_time": "2022-12-22T13:57:43.906Z"
   },
   {
    "duration": 208,
    "start_time": "2022-12-22T13:58:29.330Z"
   },
   {
    "duration": 112,
    "start_time": "2022-12-22T13:58:41.890Z"
   },
   {
    "duration": 2753,
    "start_time": "2022-12-22T13:58:58.233Z"
   },
   {
    "duration": 43,
    "start_time": "2022-12-22T13:59:08.106Z"
   },
   {
    "duration": 6,
    "start_time": "2022-12-22T13:59:17.606Z"
   },
   {
    "duration": 8,
    "start_time": "2022-12-22T14:03:19.608Z"
   },
   {
    "duration": 15,
    "start_time": "2022-12-22T14:08:04.408Z"
   },
   {
    "duration": 29,
    "start_time": "2022-12-22T14:08:42.024Z"
   },
   {
    "duration": 3,
    "start_time": "2022-12-22T14:09:08.284Z"
   },
   {
    "duration": 9,
    "start_time": "2022-12-22T14:09:10.936Z"
   },
   {
    "duration": 3,
    "start_time": "2022-12-22T14:09:18.464Z"
   },
   {
    "duration": 15,
    "start_time": "2022-12-22T14:09:20.633Z"
   },
   {
    "duration": 10,
    "start_time": "2022-12-22T14:09:35.080Z"
   },
   {
    "duration": 9,
    "start_time": "2022-12-22T14:09:40.152Z"
   },
   {
    "duration": 2,
    "start_time": "2022-12-22T14:09:44.264Z"
   },
   {
    "duration": 29,
    "start_time": "2022-12-22T14:09:46.027Z"
   },
   {
    "duration": 10,
    "start_time": "2022-12-22T14:10:05.496Z"
   },
   {
    "duration": 2,
    "start_time": "2022-12-22T14:10:08.137Z"
   },
   {
    "duration": 14,
    "start_time": "2022-12-22T14:10:09.583Z"
   },
   {
    "duration": 20,
    "start_time": "2022-12-22T14:10:26.977Z"
   },
   {
    "duration": 87,
    "start_time": "2022-12-23T17:52:19.319Z"
   },
   {
    "duration": 538,
    "start_time": "2022-12-23T17:53:17.568Z"
   },
   {
    "duration": 55,
    "start_time": "2022-12-23T17:53:57.196Z"
   },
   {
    "duration": 8,
    "start_time": "2022-12-23T17:54:13.889Z"
   },
   {
    "duration": 8,
    "start_time": "2022-12-23T17:54:18.934Z"
   },
   {
    "duration": 1473,
    "start_time": "2022-12-23T17:54:33.864Z"
   },
   {
    "duration": 352,
    "start_time": "2022-12-23T17:54:38.322Z"
   },
   {
    "duration": 17,
    "start_time": "2022-12-23T17:54:40.600Z"
   },
   {
    "duration": 22,
    "start_time": "2022-12-23T17:54:42.895Z"
   },
   {
    "duration": 8,
    "start_time": "2022-12-23T17:54:44.803Z"
   },
   {
    "duration": 6,
    "start_time": "2022-12-23T17:54:47.061Z"
   },
   {
    "duration": 10,
    "start_time": "2022-12-23T17:54:48.770Z"
   },
   {
    "duration": 33,
    "start_time": "2022-12-23T17:54:50.360Z"
   },
   {
    "duration": 111,
    "start_time": "2022-12-23T17:54:53.844Z"
   },
   {
    "duration": 39,
    "start_time": "2022-12-23T17:55:00.311Z"
   },
   {
    "duration": 16,
    "start_time": "2022-12-23T17:55:02.243Z"
   },
   {
    "duration": 18,
    "start_time": "2022-12-23T17:55:06.418Z"
   },
   {
    "duration": 7252,
    "start_time": "2022-12-23T17:55:27.251Z"
   },
   {
    "duration": 1226,
    "start_time": "2022-12-23T17:55:44.910Z"
   },
   {
    "duration": 47,
    "start_time": "2022-12-23T17:55:49.347Z"
   },
   {
    "duration": 18,
    "start_time": "2022-12-23T17:55:51.047Z"
   },
   {
    "duration": 21,
    "start_time": "2022-12-23T17:55:52.861Z"
   },
   {
    "duration": 11,
    "start_time": "2022-12-23T17:55:56.139Z"
   },
   {
    "duration": 6,
    "start_time": "2022-12-23T17:55:59.737Z"
   },
   {
    "duration": 12,
    "start_time": "2022-12-23T17:56:01.929Z"
   },
   {
    "duration": 33,
    "start_time": "2022-12-23T17:56:04.400Z"
   },
   {
    "duration": 16,
    "start_time": "2022-12-23T17:56:06.244Z"
   },
   {
    "duration": 16,
    "start_time": "2022-12-23T17:56:15.556Z"
   },
   {
    "duration": 9,
    "start_time": "2022-12-23T17:56:17.147Z"
   },
   {
    "duration": 13,
    "start_time": "2022-12-23T17:56:18.504Z"
   },
   {
    "duration": 15,
    "start_time": "2022-12-23T17:56:20.731Z"
   },
   {
    "duration": 5,
    "start_time": "2022-12-23T17:56:23.500Z"
   },
   {
    "duration": 6,
    "start_time": "2022-12-23T17:56:50.552Z"
   },
   {
    "duration": 300,
    "start_time": "2022-12-23T17:57:40.348Z"
   },
   {
    "duration": 691,
    "start_time": "2022-12-23T17:59:27.414Z"
   },
   {
    "duration": 4,
    "start_time": "2022-12-23T17:59:43.118Z"
   },
   {
    "duration": 490,
    "start_time": "2022-12-23T17:59:47.134Z"
   },
   {
    "duration": 498,
    "start_time": "2022-12-23T18:00:14.525Z"
   },
   {
    "duration": 75,
    "start_time": "2022-12-23T18:00:49.971Z"
   },
   {
    "duration": 752,
    "start_time": "2022-12-23T18:00:55.171Z"
   },
   {
    "duration": 56,
    "start_time": "2022-12-23T18:01:49.503Z"
   },
   {
    "duration": 224,
    "start_time": "2022-12-23T18:02:27.110Z"
   },
   {
    "duration": 3520,
    "start_time": "2022-12-23T18:33:32.556Z"
   },
   {
    "duration": 53,
    "start_time": "2022-12-23T18:33:39.622Z"
   },
   {
    "duration": 3,
    "start_time": "2022-12-23T18:33:41.140Z"
   },
   {
    "duration": 17,
    "start_time": "2022-12-23T18:33:46.440Z"
   },
   {
    "duration": 18,
    "start_time": "2022-12-23T18:33:48.746Z"
   },
   {
    "duration": 20,
    "start_time": "2022-12-23T18:33:51.353Z"
   },
   {
    "duration": 91,
    "start_time": "2022-12-23T18:53:26.337Z"
   },
   {
    "duration": 103,
    "start_time": "2022-12-23T18:53:41.149Z"
   },
   {
    "duration": 100,
    "start_time": "2022-12-23T18:53:48.023Z"
   },
   {
    "duration": 111,
    "start_time": "2022-12-23T18:54:00.820Z"
   },
   {
    "duration": 52058,
    "start_time": "2022-12-23T18:56:36.507Z"
   },
   {
    "duration": 139203,
    "start_time": "2022-12-23T18:57:53.060Z"
   },
   {
    "duration": 4714,
    "start_time": "2022-12-23T19:01:09.759Z"
   },
   {
    "duration": 7077,
    "start_time": "2022-12-23T19:04:12.467Z"
   },
   {
    "duration": 262,
    "start_time": "2022-12-23T19:37:31.204Z"
   },
   {
    "duration": 242,
    "start_time": "2022-12-23T19:37:41.170Z"
   },
   {
    "duration": 220,
    "start_time": "2022-12-23T19:40:27.588Z"
   },
   {
    "duration": 236,
    "start_time": "2022-12-23T19:40:42.706Z"
   },
   {
    "duration": 227,
    "start_time": "2022-12-23T19:45:05.962Z"
   },
   {
    "duration": 225,
    "start_time": "2022-12-23T19:49:11.939Z"
   },
   {
    "duration": 230,
    "start_time": "2022-12-23T19:49:28.557Z"
   },
   {
    "duration": 230,
    "start_time": "2022-12-23T19:49:53.064Z"
   },
   {
    "duration": 233,
    "start_time": "2022-12-23T19:49:56.707Z"
   },
   {
    "duration": 230,
    "start_time": "2022-12-23T19:50:00.839Z"
   },
   {
    "duration": 237,
    "start_time": "2022-12-23T19:50:08.319Z"
   },
   {
    "duration": 229,
    "start_time": "2022-12-23T19:50:28.811Z"
   },
   {
    "duration": 229,
    "start_time": "2022-12-23T19:50:34.511Z"
   },
   {
    "duration": 257,
    "start_time": "2022-12-23T19:56:26.032Z"
   },
   {
    "duration": 358,
    "start_time": "2022-12-23T19:57:47.303Z"
   },
   {
    "duration": 300,
    "start_time": "2022-12-23T19:58:11.823Z"
   },
   {
    "duration": 351,
    "start_time": "2022-12-23T20:01:36.706Z"
   },
   {
    "duration": 226,
    "start_time": "2022-12-23T20:04:01.840Z"
   },
   {
    "duration": 230,
    "start_time": "2022-12-23T20:04:10.839Z"
   },
   {
    "duration": 327,
    "start_time": "2022-12-23T20:05:58.171Z"
   },
   {
    "duration": 388,
    "start_time": "2022-12-23T20:07:31.606Z"
   },
   {
    "duration": 362,
    "start_time": "2022-12-23T20:07:45.939Z"
   },
   {
    "duration": 58,
    "start_time": "2022-12-24T09:23:13.974Z"
   },
   {
    "duration": 1888,
    "start_time": "2022-12-24T09:23:32.585Z"
   },
   {
    "duration": 1601,
    "start_time": "2022-12-24T09:25:27.917Z"
   },
   {
    "duration": 4,
    "start_time": "2022-12-24T09:25:54.087Z"
   },
   {
    "duration": 9023,
    "start_time": "2022-12-24T09:26:09.657Z"
   },
   {
    "duration": 3520,
    "start_time": "2022-12-24T09:26:22.447Z"
   },
   {
    "duration": 23,
    "start_time": "2022-12-24T09:26:28.849Z"
   },
   {
    "duration": 14,
    "start_time": "2022-12-24T09:26:43.451Z"
   },
   {
    "duration": 2304,
    "start_time": "2022-12-24T09:26:51.310Z"
   },
   {
    "duration": 860,
    "start_time": "2022-12-24T09:27:02.523Z"
   },
   {
    "duration": 2,
    "start_time": "2022-12-24T09:27:06.468Z"
   },
   {
    "duration": 108,
    "start_time": "2022-12-24T09:27:08.454Z"
   },
   {
    "duration": 490,
    "start_time": "2022-12-24T09:27:12.576Z"
   },
   {
    "duration": 3,
    "start_time": "2022-12-24T09:27:15.212Z"
   },
   {
    "duration": 109,
    "start_time": "2022-12-24T09:27:16.952Z"
   },
   {
    "duration": 22,
    "start_time": "2022-12-24T09:27:18.605Z"
   },
   {
    "duration": 19,
    "start_time": "2022-12-24T09:27:22.481Z"
   },
   {
    "duration": 8,
    "start_time": "2022-12-24T09:27:24.158Z"
   },
   {
    "duration": 5,
    "start_time": "2022-12-24T09:27:34.387Z"
   },
   {
    "duration": 9,
    "start_time": "2022-12-24T09:27:35.974Z"
   },
   {
    "duration": 33,
    "start_time": "2022-12-24T09:27:38.235Z"
   },
   {
    "duration": 14,
    "start_time": "2022-12-24T09:27:43.070Z"
   },
   {
    "duration": 10,
    "start_time": "2022-12-24T09:27:45.285Z"
   },
   {
    "duration": 13,
    "start_time": "2022-12-24T09:27:47.369Z"
   },
   {
    "duration": 8,
    "start_time": "2022-12-24T09:27:48.471Z"
   },
   {
    "duration": 5,
    "start_time": "2022-12-24T09:27:50.373Z"
   },
   {
    "duration": 6,
    "start_time": "2022-12-24T09:27:52.293Z"
   },
   {
    "duration": 2129,
    "start_time": "2022-12-24T09:27:55.727Z"
   },
   {
    "duration": 66,
    "start_time": "2022-12-24T09:27:59.604Z"
   },
   {
    "duration": 127740,
    "start_time": "2022-12-24T09:28:02.155Z"
   },
   {
    "duration": 4640,
    "start_time": "2022-12-24T09:30:09.897Z"
   },
   {
    "duration": 14,
    "start_time": "2022-12-24T09:30:24.363Z"
   },
   {
    "duration": 16,
    "start_time": "2022-12-24T09:30:27.495Z"
   },
   {
    "duration": 20,
    "start_time": "2022-12-24T09:30:35.967Z"
   },
   {
    "duration": 88,
    "start_time": "2022-12-24T09:30:39.509Z"
   },
   {
    "duration": 6960,
    "start_time": "2022-12-24T09:30:47.671Z"
   },
   {
    "duration": 252,
    "start_time": "2022-12-24T10:14:32.877Z"
   },
   {
    "duration": 5,
    "start_time": "2022-12-24T10:14:58.682Z"
   },
   {
    "duration": 419,
    "start_time": "2022-12-24T10:15:05.243Z"
   },
   {
    "duration": 153,
    "start_time": "2022-12-24T10:15:10.091Z"
   },
   {
    "duration": 223,
    "start_time": "2022-12-24T10:27:23.052Z"
   },
   {
    "duration": 473,
    "start_time": "2022-12-24T10:28:25.106Z"
   },
   {
    "duration": 376,
    "start_time": "2022-12-24T10:28:34.141Z"
   },
   {
    "duration": 1243,
    "start_time": "2022-12-24T14:49:31.801Z"
   },
   {
    "duration": 2578,
    "start_time": "2022-12-24T14:49:36.155Z"
   },
   {
    "duration": 2152,
    "start_time": "2022-12-24T14:49:42.890Z"
   },
   {
    "duration": 784,
    "start_time": "2022-12-24T14:49:52.177Z"
   },
   {
    "duration": 125,
    "start_time": "2022-12-24T14:49:55.103Z"
   },
   {
    "duration": 400,
    "start_time": "2022-12-24T14:49:57.784Z"
   },
   {
    "duration": 72,
    "start_time": "2022-12-24T14:50:01.656Z"
   },
   {
    "duration": 17,
    "start_time": "2022-12-24T15:01:06.387Z"
   },
   {
    "duration": 30,
    "start_time": "2022-12-24T15:01:43.139Z"
   },
   {
    "duration": 5,
    "start_time": "2022-12-24T15:26:42.352Z"
   },
   {
    "duration": 11,
    "start_time": "2022-12-24T15:26:43.774Z"
   },
   {
    "duration": 36,
    "start_time": "2022-12-24T15:26:47.248Z"
   },
   {
    "duration": 21,
    "start_time": "2022-12-24T15:26:52.948Z"
   },
   {
    "duration": 13,
    "start_time": "2022-12-24T15:26:55.331Z"
   },
   {
    "duration": 22,
    "start_time": "2022-12-24T15:26:57.416Z"
   },
   {
    "duration": 10,
    "start_time": "2022-12-24T15:26:59.108Z"
   },
   {
    "duration": 5,
    "start_time": "2022-12-24T15:29:36.679Z"
   },
   {
    "duration": 8,
    "start_time": "2022-12-24T15:29:58.571Z"
   },
   {
    "duration": 911,
    "start_time": "2022-12-24T15:37:04.313Z"
   },
   {
    "duration": 55,
    "start_time": "2022-12-24T15:37:07.719Z"
   },
   {
    "duration": 120866,
    "start_time": "2022-12-24T15:37:09.378Z"
   },
   {
    "duration": 4493,
    "start_time": "2022-12-24T15:39:47.363Z"
   },
   {
    "duration": 14,
    "start_time": "2022-12-24T15:44:51.343Z"
   },
   {
    "duration": 14,
    "start_time": "2022-12-24T15:44:56.612Z"
   },
   {
    "duration": 15,
    "start_time": "2022-12-24T15:45:12.097Z"
   },
   {
    "duration": 17,
    "start_time": "2022-12-24T15:45:39.649Z"
   },
   {
    "duration": 64,
    "start_time": "2022-12-24T15:46:42.105Z"
   },
   {
    "duration": 3,
    "start_time": "2022-12-24T15:47:14.981Z"
   },
   {
    "duration": 17,
    "start_time": "2022-12-24T15:47:22.795Z"
   },
   {
    "duration": 22,
    "start_time": "2022-12-24T15:47:24.933Z"
   },
   {
    "duration": 27,
    "start_time": "2022-12-24T15:47:37.029Z"
   },
   {
    "duration": 92,
    "start_time": "2022-12-24T15:51:40.460Z"
   },
   {
    "duration": 6773,
    "start_time": "2022-12-24T15:51:43.036Z"
   },
   {
    "duration": 58,
    "start_time": "2022-12-24T15:52:28.003Z"
   },
   {
    "duration": 6361,
    "start_time": "2022-12-24T15:52:36.681Z"
   },
   {
    "duration": 58,
    "start_time": "2022-12-24T16:00:58.841Z"
   },
   {
    "duration": 345,
    "start_time": "2022-12-24T16:01:04.358Z"
   },
   {
    "duration": 355,
    "start_time": "2022-12-24T16:01:11.073Z"
   },
   {
    "duration": 133,
    "start_time": "2022-12-24T16:01:47.857Z"
   },
   {
    "duration": 51,
    "start_time": "2022-12-24T16:11:56.432Z"
   },
   {
    "duration": 47,
    "start_time": "2022-12-27T12:26:20.379Z"
   },
   {
    "duration": 1463,
    "start_time": "2022-12-27T12:26:46.768Z"
   },
   {
    "duration": 6455,
    "start_time": "2022-12-27T12:26:48.234Z"
   },
   {
    "duration": 2754,
    "start_time": "2022-12-27T12:26:54.691Z"
   },
   {
    "duration": 99,
    "start_time": "2022-12-27T12:26:57.447Z"
   },
   {
    "duration": 0,
    "start_time": "2022-12-27T12:26:57.548Z"
   },
   {
    "duration": 0,
    "start_time": "2022-12-27T12:26:57.550Z"
   },
   {
    "duration": 0,
    "start_time": "2022-12-27T12:26:57.551Z"
   },
   {
    "duration": 0,
    "start_time": "2022-12-27T12:26:57.552Z"
   },
   {
    "duration": 0,
    "start_time": "2022-12-27T12:26:57.554Z"
   },
   {
    "duration": 0,
    "start_time": "2022-12-27T12:26:57.555Z"
   },
   {
    "duration": 0,
    "start_time": "2022-12-27T12:26:57.556Z"
   },
   {
    "duration": 0,
    "start_time": "2022-12-27T12:26:57.557Z"
   },
   {
    "duration": 0,
    "start_time": "2022-12-27T12:26:57.559Z"
   },
   {
    "duration": 0,
    "start_time": "2022-12-27T12:26:57.560Z"
   },
   {
    "duration": 0,
    "start_time": "2022-12-27T12:26:57.561Z"
   },
   {
    "duration": 0,
    "start_time": "2022-12-27T12:26:57.562Z"
   },
   {
    "duration": 0,
    "start_time": "2022-12-27T12:26:57.565Z"
   },
   {
    "duration": 0,
    "start_time": "2022-12-27T12:26:57.567Z"
   },
   {
    "duration": 0,
    "start_time": "2022-12-27T12:26:57.568Z"
   },
   {
    "duration": 0,
    "start_time": "2022-12-27T12:26:57.569Z"
   },
   {
    "duration": 1158,
    "start_time": "2022-12-27T12:27:13.208Z"
   },
   {
    "duration": 41,
    "start_time": "2022-12-27T12:27:15.406Z"
   },
   {
    "duration": 357,
    "start_time": "2022-12-27T12:27:18.886Z"
   },
   {
    "duration": 1587,
    "start_time": "2022-12-27T18:37:15.544Z"
   },
   {
    "duration": 7595,
    "start_time": "2022-12-27T18:37:20.039Z"
   },
   {
    "duration": 3071,
    "start_time": "2022-12-27T18:37:33.473Z"
   },
   {
    "duration": 1320,
    "start_time": "2022-12-27T18:37:53.276Z"
   },
   {
    "duration": 57,
    "start_time": "2022-12-27T18:37:58.686Z"
   },
   {
    "duration": 410,
    "start_time": "2022-12-27T18:38:08.816Z"
   },
   {
    "duration": 20,
    "start_time": "2022-12-27T18:38:13.404Z"
   },
   {
    "duration": 25,
    "start_time": "2022-12-27T18:38:22.153Z"
   },
   {
    "duration": 6,
    "start_time": "2022-12-27T18:38:25.804Z"
   },
   {
    "duration": 11,
    "start_time": "2022-12-27T18:38:27.442Z"
   },
   {
    "duration": 32,
    "start_time": "2022-12-27T18:38:29.837Z"
   },
   {
    "duration": 15,
    "start_time": "2022-12-27T18:38:32.205Z"
   },
   {
    "duration": 13,
    "start_time": "2022-12-27T18:38:34.572Z"
   },
   {
    "duration": 8,
    "start_time": "2022-12-27T18:39:11.835Z"
   },
   {
    "duration": 11,
    "start_time": "2022-12-27T18:39:13.208Z"
   },
   {
    "duration": 9,
    "start_time": "2022-12-27T18:39:15.095Z"
   },
   {
    "duration": 6,
    "start_time": "2022-12-27T18:39:17.536Z"
   },
   {
    "duration": 7,
    "start_time": "2022-12-27T18:39:28.802Z"
   },
   {
    "duration": 7,
    "start_time": "2022-12-27T18:39:41.435Z"
   },
   {
    "duration": 132,
    "start_time": "2022-12-27T18:39:56.097Z"
   },
   {
    "duration": 67,
    "start_time": "2022-12-27T18:40:07.221Z"
   },
   {
    "duration": 2891,
    "start_time": "2022-12-27T18:44:05.301Z"
   },
   {
    "duration": 69,
    "start_time": "2022-12-27T18:44:44.920Z"
   },
   {
    "duration": 128917,
    "start_time": "2022-12-27T18:44:47.856Z"
   },
   {
    "duration": 4460,
    "start_time": "2022-12-27T18:47:28.007Z"
   },
   {
    "duration": 1676,
    "start_time": "2022-12-27T19:00:43.973Z"
   },
   {
    "duration": 931,
    "start_time": "2022-12-27T19:01:57.614Z"
   },
   {
    "duration": 791,
    "start_time": "2022-12-27T19:06:03.989Z"
   },
   {
    "duration": 58,
    "start_time": "2022-12-27T19:06:46.397Z"
   },
   {
    "duration": 4740,
    "start_time": "2022-12-27T19:07:40.505Z"
   },
   {
    "duration": 76,
    "start_time": "2022-12-27T19:31:57.043Z"
   },
   {
    "duration": 69,
    "start_time": "2022-12-27T19:37:11.055Z"
   },
   {
    "duration": 54,
    "start_time": "2022-12-27T20:02:44.318Z"
   },
   {
    "duration": 81,
    "start_time": "2022-12-27T20:11:54.069Z"
   },
   {
    "duration": 81,
    "start_time": "2022-12-27T20:12:24.022Z"
   },
   {
    "duration": 61,
    "start_time": "2022-12-27T20:26:07.146Z"
   },
   {
    "duration": 60,
    "start_time": "2022-12-27T20:28:12.862Z"
   },
   {
    "duration": 59,
    "start_time": "2022-12-27T20:28:35.404Z"
   },
   {
    "duration": 72,
    "start_time": "2022-12-27T20:28:53.034Z"
   },
   {
    "duration": 60,
    "start_time": "2022-12-27T20:29:55.004Z"
   },
   {
    "duration": 20,
    "start_time": "2022-12-27T20:37:38.678Z"
   },
   {
    "duration": 18,
    "start_time": "2022-12-27T20:37:57.323Z"
   },
   {
    "duration": 54,
    "start_time": "2022-12-27T20:47:38.021Z"
   },
   {
    "duration": 83,
    "start_time": "2022-12-27T20:47:59.796Z"
   },
   {
    "duration": 15,
    "start_time": "2022-12-27T20:52:25.202Z"
   },
   {
    "duration": 8,
    "start_time": "2022-12-27T20:54:11.117Z"
   },
   {
    "duration": 16,
    "start_time": "2022-12-27T20:54:45.535Z"
   },
   {
    "duration": 20,
    "start_time": "2022-12-27T20:54:51.307Z"
   },
   {
    "duration": 32,
    "start_time": "2022-12-27T20:55:53.265Z"
   },
   {
    "duration": 37,
    "start_time": "2022-12-27T20:56:18.065Z"
   },
   {
    "duration": 31,
    "start_time": "2022-12-27T20:56:28.193Z"
   },
   {
    "duration": 14,
    "start_time": "2022-12-27T20:57:53.234Z"
   },
   {
    "duration": 79,
    "start_time": "2022-12-27T20:58:06.636Z"
   },
   {
    "duration": 303,
    "start_time": "2022-12-27T20:58:09.422Z"
   },
   {
    "duration": 1689,
    "start_time": "2022-12-27T21:05:01.409Z"
   },
   {
    "duration": 122,
    "start_time": "2022-12-27T21:05:05.584Z"
   },
   {
    "duration": 8078,
    "start_time": "2022-12-27T21:05:09.594Z"
   },
   {
    "duration": 2601,
    "start_time": "2022-12-27T21:05:17.675Z"
   },
   {
    "duration": 1283,
    "start_time": "2022-12-27T21:05:26.573Z"
   },
   {
    "duration": 49,
    "start_time": "2022-12-27T21:05:29.014Z"
   },
   {
    "duration": 132,
    "start_time": "2022-12-27T21:05:31.523Z"
   },
   {
    "duration": 16,
    "start_time": "2022-12-27T21:05:33.463Z"
   },
   {
    "duration": 31,
    "start_time": "2022-12-27T21:05:35.947Z"
   },
   {
    "duration": 6,
    "start_time": "2022-12-27T21:05:37.941Z"
   },
   {
    "duration": 10,
    "start_time": "2022-12-27T21:05:39.144Z"
   },
   {
    "duration": 33,
    "start_time": "2022-12-27T21:05:40.841Z"
   },
   {
    "duration": 19,
    "start_time": "2022-12-27T21:05:42.747Z"
   },
   {
    "duration": 10,
    "start_time": "2022-12-27T21:05:45.010Z"
   },
   {
    "duration": 18,
    "start_time": "2022-12-27T21:05:46.060Z"
   },
   {
    "duration": 8,
    "start_time": "2022-12-27T21:05:47.780Z"
   },
   {
    "duration": 5,
    "start_time": "2022-12-27T21:05:49.407Z"
   },
   {
    "duration": 7,
    "start_time": "2022-12-27T21:05:52.267Z"
   },
   {
    "duration": 682,
    "start_time": "2022-12-27T21:05:57.915Z"
   },
   {
    "duration": 61,
    "start_time": "2022-12-27T21:05:59.854Z"
   },
   {
    "duration": 11,
    "start_time": "2022-12-27T21:06:27.991Z"
   },
   {
    "duration": 12,
    "start_time": "2022-12-27T21:07:43.515Z"
   },
   {
    "duration": 5,
    "start_time": "2022-12-27T21:13:30.670Z"
   },
   {
    "duration": 166,
    "start_time": "2022-12-27T21:13:47.447Z"
   },
   {
    "duration": 57,
    "start_time": "2022-12-27T21:14:31.441Z"
   },
   {
    "duration": 12,
    "start_time": "2022-12-27T21:18:38.982Z"
   },
   {
    "duration": 19,
    "start_time": "2022-12-27T21:19:00.150Z"
   },
   {
    "duration": 1484,
    "start_time": "2022-12-28T06:36:19.811Z"
   },
   {
    "duration": 6467,
    "start_time": "2022-12-28T06:36:22.298Z"
   },
   {
    "duration": 2825,
    "start_time": "2022-12-28T06:36:30.524Z"
   },
   {
    "duration": 5,
    "start_time": "2022-12-28T06:36:36.539Z"
   },
   {
    "duration": 1119,
    "start_time": "2022-12-28T06:36:48.574Z"
   },
   {
    "duration": 42,
    "start_time": "2022-12-28T06:36:51.746Z"
   },
   {
    "duration": 86,
    "start_time": "2022-12-28T06:36:54.629Z"
   },
   {
    "duration": 17,
    "start_time": "2022-12-28T06:36:57.650Z"
   },
   {
    "duration": 19,
    "start_time": "2022-12-28T06:37:00.138Z"
   },
   {
    "duration": 5,
    "start_time": "2022-12-28T06:37:02.300Z"
   },
   {
    "duration": 9,
    "start_time": "2022-12-28T06:37:04.327Z"
   },
   {
    "duration": 30,
    "start_time": "2022-12-28T06:37:06.838Z"
   },
   {
    "duration": 16,
    "start_time": "2022-12-28T06:37:10.253Z"
   },
   {
    "duration": 9,
    "start_time": "2022-12-28T06:37:13.073Z"
   },
   {
    "duration": 12,
    "start_time": "2022-12-28T06:37:16.837Z"
   },
   {
    "duration": 10,
    "start_time": "2022-12-28T06:37:18.724Z"
   },
   {
    "duration": 5,
    "start_time": "2022-12-28T06:37:20.654Z"
   },
   {
    "duration": 6,
    "start_time": "2022-12-28T06:37:25.101Z"
   },
   {
    "duration": 808,
    "start_time": "2022-12-28T06:37:28.412Z"
   },
   {
    "duration": 61,
    "start_time": "2022-12-28T06:37:31.641Z"
   },
   {
    "duration": 123807,
    "start_time": "2022-12-28T06:37:34.328Z"
   },
   {
    "duration": 4612,
    "start_time": "2022-12-28T06:39:38.137Z"
   },
   {
    "duration": 30,
    "start_time": "2022-12-28T06:40:13.612Z"
   },
   {
    "duration": 78,
    "start_time": "2022-12-28T06:41:09.506Z"
   },
   {
    "duration": 1117,
    "start_time": "2022-12-28T06:45:11.673Z"
   },
   {
    "duration": 39,
    "start_time": "2022-12-28T06:45:14.607Z"
   },
   {
    "duration": 51,
    "start_time": "2022-12-28T06:45:24.963Z"
   },
   {
    "duration": 16,
    "start_time": "2022-12-28T06:45:27.957Z"
   },
   {
    "duration": 19,
    "start_time": "2022-12-28T06:45:31.495Z"
   },
   {
    "duration": 5,
    "start_time": "2022-12-28T06:45:34.594Z"
   },
   {
    "duration": 10,
    "start_time": "2022-12-28T06:45:36.233Z"
   },
   {
    "duration": 30,
    "start_time": "2022-12-28T06:45:37.619Z"
   },
   {
    "duration": 16,
    "start_time": "2022-12-28T06:45:41.058Z"
   },
   {
    "duration": 9,
    "start_time": "2022-12-28T06:45:44.536Z"
   },
   {
    "duration": 12,
    "start_time": "2022-12-28T06:45:48.843Z"
   },
   {
    "duration": 12,
    "start_time": "2022-12-28T06:45:50.372Z"
   },
   {
    "duration": 6,
    "start_time": "2022-12-28T06:45:52.218Z"
   },
   {
    "duration": 8,
    "start_time": "2022-12-28T06:45:55.135Z"
   },
   {
    "duration": 808,
    "start_time": "2022-12-28T06:46:00.510Z"
   },
   {
    "duration": 70,
    "start_time": "2022-12-28T06:46:13.465Z"
   },
   {
    "duration": 123938,
    "start_time": "2022-12-28T06:46:28.219Z"
   },
   {
    "duration": 4669,
    "start_time": "2022-12-28T06:49:25.971Z"
   },
   {
    "duration": 15,
    "start_time": "2022-12-28T06:49:40.717Z"
   },
   {
    "duration": 32,
    "start_time": "2022-12-28T06:49:44.126Z"
   },
   {
    "duration": 3,
    "start_time": "2022-12-28T12:45:32.823Z"
   },
   {
    "duration": 10,
    "start_time": "2022-12-28T14:04:20.408Z"
   },
   {
    "duration": 10,
    "start_time": "2022-12-28T14:04:58.121Z"
   },
   {
    "duration": 3,
    "start_time": "2022-12-28T14:05:10.114Z"
   },
   {
    "duration": 111,
    "start_time": "2022-12-28T15:24:46.609Z"
   },
   {
    "duration": 6,
    "start_time": "2022-12-28T15:25:16.965Z"
   },
   {
    "duration": 19,
    "start_time": "2022-12-28T15:27:10.467Z"
   },
   {
    "duration": 41,
    "start_time": "2022-12-28T15:28:22.966Z"
   },
   {
    "duration": 10,
    "start_time": "2022-12-28T15:34:36.619Z"
   },
   {
    "duration": 10,
    "start_time": "2022-12-28T15:34:40.675Z"
   },
   {
    "duration": 1390,
    "start_time": "2022-12-28T19:39:57.118Z"
   },
   {
    "duration": 5669,
    "start_time": "2022-12-28T19:40:00.927Z"
   },
   {
    "duration": 2540,
    "start_time": "2022-12-28T19:40:08.534Z"
   },
   {
    "duration": 108,
    "start_time": "2022-12-28T19:40:14.238Z"
   },
   {
    "duration": 1130,
    "start_time": "2022-12-28T19:40:29.653Z"
   },
   {
    "duration": 43,
    "start_time": "2022-12-28T19:40:34.184Z"
   },
   {
    "duration": 87,
    "start_time": "2022-12-28T19:40:40.715Z"
   },
   {
    "duration": 16,
    "start_time": "2022-12-28T19:40:43.546Z"
   },
   {
    "duration": 18,
    "start_time": "2022-12-28T19:40:46.391Z"
   },
   {
    "duration": 5,
    "start_time": "2022-12-28T19:40:48.940Z"
   },
   {
    "duration": 8,
    "start_time": "2022-12-28T19:40:49.983Z"
   },
   {
    "duration": 35,
    "start_time": "2022-12-28T19:40:51.408Z"
   },
   {
    "duration": 18,
    "start_time": "2022-12-28T19:40:53.573Z"
   },
   {
    "duration": 9,
    "start_time": "2022-12-28T19:40:55.418Z"
   },
   {
    "duration": 13,
    "start_time": "2022-12-28T19:40:57.100Z"
   },
   {
    "duration": 9,
    "start_time": "2022-12-28T19:40:58.754Z"
   },
   {
    "duration": 5,
    "start_time": "2022-12-28T19:41:00.451Z"
   },
   {
    "duration": 7,
    "start_time": "2022-12-28T19:41:02.730Z"
   },
   {
    "duration": 490,
    "start_time": "2022-12-28T19:41:04.730Z"
   },
   {
    "duration": 56,
    "start_time": "2022-12-28T19:41:07.073Z"
   },
   {
    "duration": 116858,
    "start_time": "2022-12-28T19:41:10.828Z"
   },
   {
    "duration": 4325,
    "start_time": "2022-12-28T20:14:41.415Z"
   },
   {
    "duration": 15,
    "start_time": "2022-12-28T20:16:12.982Z"
   },
   {
    "duration": 7,
    "start_time": "2022-12-28T20:16:16.159Z"
   },
   {
    "duration": 6,
    "start_time": "2022-12-28T20:18:19.278Z"
   },
   {
    "duration": 5,
    "start_time": "2022-12-28T20:18:51.176Z"
   },
   {
    "duration": 8,
    "start_time": "2022-12-28T20:19:52.240Z"
   },
   {
    "duration": 4,
    "start_time": "2022-12-28T20:19:56.803Z"
   },
   {
    "duration": 8,
    "start_time": "2022-12-28T20:20:14.191Z"
   },
   {
    "duration": 104,
    "start_time": "2022-12-28T20:22:24.243Z"
   },
   {
    "duration": 5,
    "start_time": "2022-12-28T20:23:01.659Z"
   },
   {
    "duration": 36,
    "start_time": "2022-12-28T20:23:56.503Z"
   },
   {
    "duration": 15,
    "start_time": "2022-12-28T20:24:04.336Z"
   },
   {
    "duration": 17,
    "start_time": "2022-12-28T20:24:17.574Z"
   },
   {
    "duration": 8,
    "start_time": "2022-12-28T20:24:19.345Z"
   },
   {
    "duration": 12,
    "start_time": "2022-12-28T20:24:21.076Z"
   },
   {
    "duration": 10,
    "start_time": "2022-12-28T20:24:24.934Z"
   },
   {
    "duration": 6,
    "start_time": "2022-12-28T20:24:47.268Z"
   },
   {
    "duration": 44,
    "start_time": "2022-12-28T20:35:54.660Z"
   },
   {
    "duration": 9,
    "start_time": "2022-12-28T20:36:22.035Z"
   },
   {
    "duration": 11,
    "start_time": "2022-12-28T20:36:25.578Z"
   },
   {
    "duration": 9,
    "start_time": "2022-12-28T20:36:26.988Z"
   },
   {
    "duration": 6,
    "start_time": "2022-12-28T21:06:24.818Z"
   },
   {
    "duration": 7,
    "start_time": "2022-12-28T21:09:01.317Z"
   },
   {
    "duration": 522,
    "start_time": "2022-12-28T21:09:05.691Z"
   },
   {
    "duration": 57,
    "start_time": "2022-12-28T21:09:07.427Z"
   },
   {
    "duration": 4364,
    "start_time": "2022-12-28T21:09:11.265Z"
   },
   {
    "duration": 14,
    "start_time": "2022-12-28T21:11:18.823Z"
   },
   {
    "duration": 3,
    "start_time": "2022-12-28T21:11:20.659Z"
   },
   {
    "duration": 10,
    "start_time": "2022-12-28T21:11:22.130Z"
   },
   {
    "duration": 4,
    "start_time": "2022-12-28T21:11:23.605Z"
   },
   {
    "duration": 15,
    "start_time": "2022-12-28T21:11:25.309Z"
   },
   {
    "duration": 14,
    "start_time": "2022-12-28T21:11:26.727Z"
   },
   {
    "duration": 18,
    "start_time": "2022-12-28T21:11:28.458Z"
   },
   {
    "duration": 79,
    "start_time": "2022-12-28T21:11:41.050Z"
   },
   {
    "duration": 6457,
    "start_time": "2022-12-28T21:11:46.912Z"
   },
   {
    "duration": 355,
    "start_time": "2022-12-28T21:11:55.115Z"
   },
   {
    "duration": 141,
    "start_time": "2022-12-28T21:11:58.556Z"
   },
   {
    "duration": 7,
    "start_time": "2022-12-28T21:12:42.144Z"
   },
   {
    "duration": 18,
    "start_time": "2022-12-28T21:13:02.458Z"
   },
   {
    "duration": 12,
    "start_time": "2022-12-28T21:13:08.740Z"
   },
   {
    "duration": 9,
    "start_time": "2022-12-28T21:13:10.903Z"
   },
   {
    "duration": 3,
    "start_time": "2022-12-28T21:13:20.927Z"
   },
   {
    "duration": 44,
    "start_time": "2022-12-28T21:13:28.522Z"
   },
   {
    "duration": 160490,
    "start_time": "2022-12-28T21:14:53.915Z"
   },
   {
    "duration": 1286,
    "start_time": "2022-12-28T21:25:49.593Z"
   },
   {
    "duration": 315070,
    "start_time": "2022-12-28T21:26:30.509Z"
   },
   {
    "duration": 18,
    "start_time": "2022-12-28T21:32:03.259Z"
   },
   {
    "duration": 10,
    "start_time": "2022-12-28T21:32:05.799Z"
   },
   {
    "duration": 3,
    "start_time": "2022-12-28T21:32:14.453Z"
   },
   {
    "duration": 39,
    "start_time": "2022-12-28T21:32:23.184Z"
   },
   {
    "duration": 1328,
    "start_time": "2022-12-28T21:32:27.914Z"
   },
   {
    "duration": 7491,
    "start_time": "2022-12-28T21:32:35.787Z"
   },
   {
    "duration": 1301,
    "start_time": "2022-12-28T21:34:38.490Z"
   }
  ],
  "colab": {
   "provenance": []
  },
  "kernelspec": {
   "display_name": "Python 3 (ipykernel)",
   "language": "python",
   "name": "python3"
  },
  "language_info": {
   "codemirror_mode": {
    "name": "ipython",
    "version": 3
   },
   "file_extension": ".py",
   "mimetype": "text/x-python",
   "name": "python",
   "nbconvert_exporter": "python",
   "pygments_lexer": "ipython3",
   "version": "3.10.9"
  },
  "toc": {
   "base_numbering": 1,
   "nav_menu": {},
   "number_sections": true,
   "sideBar": true,
   "skip_h1_title": true,
   "title_cell": "Содержание",
   "title_sidebar": "Contents",
   "toc_cell": true,
   "toc_position": {
    "height": "calc(100% - 180px)",
    "left": "10px",
    "top": "150px",
    "width": "236px"
   },
   "toc_section_display": true,
   "toc_window_display": true
  }
 },
 "nbformat": 4,
 "nbformat_minor": 1
}
